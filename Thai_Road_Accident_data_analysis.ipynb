{
  "nbformat": 4,
  "nbformat_minor": 0,
  "metadata": {
    "colab": {
      "provenance": [],
      "collapsed_sections": [
        "TVvQUhPS7s73"
      ],
      "toc_visible": true,
      "authorship_tag": "ABX9TyO2+uBQroeGtXbxECoDU1Qh",
      "include_colab_link": true
    },
    "kernelspec": {
      "name": "python3",
      "display_name": "Python 3"
    },
    "language_info": {
      "name": "python"
    }
  },
  "cells": [
    {
      "cell_type": "markdown",
      "metadata": {
        "id": "view-in-github",
        "colab_type": "text"
      },
      "source": [
        "<a href=\"https://colab.research.google.com/github/LegendSeyi/Thai_Road_Accident_Data_Analysis/blob/main/Thai_Road_Accident_data_analysis.ipynb\" target=\"_parent\"><img src=\"https://colab.research.google.com/assets/colab-badge.svg\" alt=\"Open In Colab\"/></a>"
      ]
    },
    {
      "cell_type": "markdown",
      "source": [
        "# **THAI ROAD ACCIDENT ANALYSIS**\n",
        "#### **_By Adeyemi Oluwaseyi Emmanuel_**\n",
        "\n",
        "[Click here to check Linkedin profile](https://www.linkedin.com/in/oluwaseyi-adeyemi-33b1ab197/)\n",
        "\n",
        "[Twitter link](https://twitter.com/AmLegendseyi)"
      ],
      "metadata": {
        "id": "r0WJ0fFVU1bE"
      }
    },
    {
      "cell_type": "markdown",
      "source": [
        "## **INTRODUCTION**"
      ],
      "metadata": {
        "id": "EgciNOtgVaji"
      }
    },
    {
      "cell_type": "markdown",
      "source": [
        "This dataset provides comprehensive statistics on recorded road accidents in Thailand, spanning from approximately 2019 to 2022. The data was sourced from raw information provided by the Office of the Permanent Secretary, Ministry of Transport, which is also utilized in this public dashboard for easier access and visualization. The dataset encompasses various aspects of road accidents and aims to shed light on the trends and patterns within this critical area of concern, analysis of this data could be crucial in guiding road safety policies and measures👍."
      ],
      "metadata": {
        "id": "_WnK4RPzVhVq"
      }
    },
    {
      "cell_type": "markdown",
      "source": [
        "We import our required libraries"
      ],
      "metadata": {
        "id": "jefhjhFeWWfB"
      }
    },
    {
      "cell_type": "code",
      "source": [
        "import pandas as pd\n",
        "import numpy as np\n",
        "import matplotlib.pyplot as plt\n",
        "import seaborn as sns"
      ],
      "metadata": {
        "id": "_z-VHq4HWMAR"
      },
      "execution_count": 316,
      "outputs": []
    },
    {
      "cell_type": "code",
      "source": [
        "## creating a dictionary in python and converting it to a dataframe\n",
        "tb = {'Column':['acc_code',\n",
        "    'incident_datetime',\n",
        "    'report_datetime',\n",
        "    'province_th',\n",
        "    'province_en',\n",
        "    'agency',\n",
        "    'route',\n",
        "    'vehicle_type',\n",
        "    'presumed_cause',\n",
        "    'accident_type',\n",
        "    'number_of_vehicles_involved',\n",
        "    'number_of_fatalities',\n",
        "    'number_of_injuries',\n",
        "    'weather_condition',\n",
        "    'latitude',\n",
        "    'longitude',\n",
        "    'road_description',\n",
        "    'slope_description'],\n",
        "    'Description':['The accident code or identifier',\n",
        "    'The date and time of the accident occurrence',\n",
        "    'The date and time when the accident was reported',\n",
        "    'The name of the province in Thailand, written in Thai',\n",
        "    'The name of the province in Thailand, written in English',\n",
        "    'The government agency responsible for the road and traffic management',\n",
        "    'The route or road segment where the accident occurred',\n",
        "    'The type of vehicle involved in the accident',\n",
        "    'The presumed cause or reason for the accident',\n",
        "    'The type or nature of the accident',\n",
        "    'The number of vehicles involved in the accident',\n",
        "    'The number of fatalities resulting from the accident',\n",
        "    'The number of injuries resulting from the accident',\n",
        "    'The weather condition at the time of the accident',\n",
        "    'The latitude coordinate of the accident location',\n",
        "    'The longitude coordinate of the accident location',\n",
        "    'The description of the road type or configuration where the accident occurred',\n",
        "    'The description of the slope condition at the accident location']\n",
        "     }"
      ],
      "metadata": {
        "id": "KgPtFp6CVody"
      },
      "execution_count": 317,
      "outputs": []
    },
    {
      "cell_type": "code",
      "source": [
        "## Converting the dictionary to a data frame\n",
        "dico = pd.DataFrame(tb)"
      ],
      "metadata": {
        "id": "SSyRBg_UWDUX"
      },
      "execution_count": 318,
      "outputs": []
    },
    {
      "cell_type": "code",
      "source": [
        "dico"
      ],
      "metadata": {
        "id": "S-9NAzx1WrYW",
        "colab": {
          "base_uri": "https://localhost:8080/",
          "height": 613
        },
        "outputId": "b04dd9a1-2922-4923-8507-37b5f91c50c9"
      },
      "execution_count": 319,
      "outputs": [
        {
          "output_type": "execute_result",
          "data": {
            "text/plain": [
              "                         Column  \\\n",
              "0                      acc_code   \n",
              "1             incident_datetime   \n",
              "2               report_datetime   \n",
              "3                   province_th   \n",
              "4                   province_en   \n",
              "5                        agency   \n",
              "6                         route   \n",
              "7                  vehicle_type   \n",
              "8                presumed_cause   \n",
              "9                 accident_type   \n",
              "10  number_of_vehicles_involved   \n",
              "11         number_of_fatalities   \n",
              "12           number_of_injuries   \n",
              "13            weather_condition   \n",
              "14                     latitude   \n",
              "15                    longitude   \n",
              "16             road_description   \n",
              "17            slope_description   \n",
              "\n",
              "                                          Description  \n",
              "0                     The accident code or identifier  \n",
              "1        The date and time of the accident occurrence  \n",
              "2    The date and time when the accident was reported  \n",
              "3   The name of the province in Thailand, written ...  \n",
              "4   The name of the province in Thailand, written ...  \n",
              "5   The government agency responsible for the road...  \n",
              "6   The route or road segment where the accident o...  \n",
              "7        The type of vehicle involved in the accident  \n",
              "8       The presumed cause or reason for the accident  \n",
              "9                  The type or nature of the accident  \n",
              "10    The number of vehicles involved in the accident  \n",
              "11  The number of fatalities resulting from the ac...  \n",
              "12  The number of injuries resulting from the acci...  \n",
              "13  The weather condition at the time of the accident  \n",
              "14   The latitude coordinate of the accident location  \n",
              "15  The longitude coordinate of the accident location  \n",
              "16  The description of the road type or configurat...  \n",
              "17  The description of the slope condition at the ...  "
            ],
            "text/html": [
              "\n",
              "  <div id=\"df-5b8309e5-8df4-4206-a7a0-4d644afdd8b1\" class=\"colab-df-container\">\n",
              "    <div>\n",
              "<style scoped>\n",
              "    .dataframe tbody tr th:only-of-type {\n",
              "        vertical-align: middle;\n",
              "    }\n",
              "\n",
              "    .dataframe tbody tr th {\n",
              "        vertical-align: top;\n",
              "    }\n",
              "\n",
              "    .dataframe thead th {\n",
              "        text-align: right;\n",
              "    }\n",
              "</style>\n",
              "<table border=\"1\" class=\"dataframe\">\n",
              "  <thead>\n",
              "    <tr style=\"text-align: right;\">\n",
              "      <th></th>\n",
              "      <th>Column</th>\n",
              "      <th>Description</th>\n",
              "    </tr>\n",
              "  </thead>\n",
              "  <tbody>\n",
              "    <tr>\n",
              "      <th>0</th>\n",
              "      <td>acc_code</td>\n",
              "      <td>The accident code or identifier</td>\n",
              "    </tr>\n",
              "    <tr>\n",
              "      <th>1</th>\n",
              "      <td>incident_datetime</td>\n",
              "      <td>The date and time of the accident occurrence</td>\n",
              "    </tr>\n",
              "    <tr>\n",
              "      <th>2</th>\n",
              "      <td>report_datetime</td>\n",
              "      <td>The date and time when the accident was reported</td>\n",
              "    </tr>\n",
              "    <tr>\n",
              "      <th>3</th>\n",
              "      <td>province_th</td>\n",
              "      <td>The name of the province in Thailand, written ...</td>\n",
              "    </tr>\n",
              "    <tr>\n",
              "      <th>4</th>\n",
              "      <td>province_en</td>\n",
              "      <td>The name of the province in Thailand, written ...</td>\n",
              "    </tr>\n",
              "    <tr>\n",
              "      <th>5</th>\n",
              "      <td>agency</td>\n",
              "      <td>The government agency responsible for the road...</td>\n",
              "    </tr>\n",
              "    <tr>\n",
              "      <th>6</th>\n",
              "      <td>route</td>\n",
              "      <td>The route or road segment where the accident o...</td>\n",
              "    </tr>\n",
              "    <tr>\n",
              "      <th>7</th>\n",
              "      <td>vehicle_type</td>\n",
              "      <td>The type of vehicle involved in the accident</td>\n",
              "    </tr>\n",
              "    <tr>\n",
              "      <th>8</th>\n",
              "      <td>presumed_cause</td>\n",
              "      <td>The presumed cause or reason for the accident</td>\n",
              "    </tr>\n",
              "    <tr>\n",
              "      <th>9</th>\n",
              "      <td>accident_type</td>\n",
              "      <td>The type or nature of the accident</td>\n",
              "    </tr>\n",
              "    <tr>\n",
              "      <th>10</th>\n",
              "      <td>number_of_vehicles_involved</td>\n",
              "      <td>The number of vehicles involved in the accident</td>\n",
              "    </tr>\n",
              "    <tr>\n",
              "      <th>11</th>\n",
              "      <td>number_of_fatalities</td>\n",
              "      <td>The number of fatalities resulting from the ac...</td>\n",
              "    </tr>\n",
              "    <tr>\n",
              "      <th>12</th>\n",
              "      <td>number_of_injuries</td>\n",
              "      <td>The number of injuries resulting from the acci...</td>\n",
              "    </tr>\n",
              "    <tr>\n",
              "      <th>13</th>\n",
              "      <td>weather_condition</td>\n",
              "      <td>The weather condition at the time of the accident</td>\n",
              "    </tr>\n",
              "    <tr>\n",
              "      <th>14</th>\n",
              "      <td>latitude</td>\n",
              "      <td>The latitude coordinate of the accident location</td>\n",
              "    </tr>\n",
              "    <tr>\n",
              "      <th>15</th>\n",
              "      <td>longitude</td>\n",
              "      <td>The longitude coordinate of the accident location</td>\n",
              "    </tr>\n",
              "    <tr>\n",
              "      <th>16</th>\n",
              "      <td>road_description</td>\n",
              "      <td>The description of the road type or configurat...</td>\n",
              "    </tr>\n",
              "    <tr>\n",
              "      <th>17</th>\n",
              "      <td>slope_description</td>\n",
              "      <td>The description of the slope condition at the ...</td>\n",
              "    </tr>\n",
              "  </tbody>\n",
              "</table>\n",
              "</div>\n",
              "    <div class=\"colab-df-buttons\">\n",
              "\n",
              "  <div class=\"colab-df-container\">\n",
              "    <button class=\"colab-df-convert\" onclick=\"convertToInteractive('df-5b8309e5-8df4-4206-a7a0-4d644afdd8b1')\"\n",
              "            title=\"Convert this dataframe to an interactive table.\"\n",
              "            style=\"display:none;\">\n",
              "\n",
              "  <svg xmlns=\"http://www.w3.org/2000/svg\" height=\"24px\" viewBox=\"0 -960 960 960\">\n",
              "    <path d=\"M120-120v-720h720v720H120Zm60-500h600v-160H180v160Zm220 220h160v-160H400v160Zm0 220h160v-160H400v160ZM180-400h160v-160H180v160Zm440 0h160v-160H620v160ZM180-180h160v-160H180v160Zm440 0h160v-160H620v160Z\"/>\n",
              "  </svg>\n",
              "    </button>\n",
              "\n",
              "  <style>\n",
              "    .colab-df-container {\n",
              "      display:flex;\n",
              "      gap: 12px;\n",
              "    }\n",
              "\n",
              "    .colab-df-convert {\n",
              "      background-color: #E8F0FE;\n",
              "      border: none;\n",
              "      border-radius: 50%;\n",
              "      cursor: pointer;\n",
              "      display: none;\n",
              "      fill: #1967D2;\n",
              "      height: 32px;\n",
              "      padding: 0 0 0 0;\n",
              "      width: 32px;\n",
              "    }\n",
              "\n",
              "    .colab-df-convert:hover {\n",
              "      background-color: #E2EBFA;\n",
              "      box-shadow: 0px 1px 2px rgba(60, 64, 67, 0.3), 0px 1px 3px 1px rgba(60, 64, 67, 0.15);\n",
              "      fill: #174EA6;\n",
              "    }\n",
              "\n",
              "    .colab-df-buttons div {\n",
              "      margin-bottom: 4px;\n",
              "    }\n",
              "\n",
              "    [theme=dark] .colab-df-convert {\n",
              "      background-color: #3B4455;\n",
              "      fill: #D2E3FC;\n",
              "    }\n",
              "\n",
              "    [theme=dark] .colab-df-convert:hover {\n",
              "      background-color: #434B5C;\n",
              "      box-shadow: 0px 1px 3px 1px rgba(0, 0, 0, 0.15);\n",
              "      filter: drop-shadow(0px 1px 2px rgba(0, 0, 0, 0.3));\n",
              "      fill: #FFFFFF;\n",
              "    }\n",
              "  </style>\n",
              "\n",
              "    <script>\n",
              "      const buttonEl =\n",
              "        document.querySelector('#df-5b8309e5-8df4-4206-a7a0-4d644afdd8b1 button.colab-df-convert');\n",
              "      buttonEl.style.display =\n",
              "        google.colab.kernel.accessAllowed ? 'block' : 'none';\n",
              "\n",
              "      async function convertToInteractive(key) {\n",
              "        const element = document.querySelector('#df-5b8309e5-8df4-4206-a7a0-4d644afdd8b1');\n",
              "        const dataTable =\n",
              "          await google.colab.kernel.invokeFunction('convertToInteractive',\n",
              "                                                    [key], {});\n",
              "        if (!dataTable) return;\n",
              "\n",
              "        const docLinkHtml = 'Like what you see? Visit the ' +\n",
              "          '<a target=\"_blank\" href=https://colab.research.google.com/notebooks/data_table.ipynb>data table notebook</a>'\n",
              "          + ' to learn more about interactive tables.';\n",
              "        element.innerHTML = '';\n",
              "        dataTable['output_type'] = 'display_data';\n",
              "        await google.colab.output.renderOutput(dataTable, element);\n",
              "        const docLink = document.createElement('div');\n",
              "        docLink.innerHTML = docLinkHtml;\n",
              "        element.appendChild(docLink);\n",
              "      }\n",
              "    </script>\n",
              "  </div>\n",
              "\n",
              "\n",
              "<div id=\"df-e6a37909-9fcc-45e6-aa85-76899089790e\">\n",
              "  <button class=\"colab-df-quickchart\" onclick=\"quickchart('df-e6a37909-9fcc-45e6-aa85-76899089790e')\"\n",
              "            title=\"Suggest charts.\"\n",
              "            style=\"display:none;\">\n",
              "\n",
              "<svg xmlns=\"http://www.w3.org/2000/svg\" height=\"24px\"viewBox=\"0 0 24 24\"\n",
              "     width=\"24px\">\n",
              "    <g>\n",
              "        <path d=\"M19 3H5c-1.1 0-2 .9-2 2v14c0 1.1.9 2 2 2h14c1.1 0 2-.9 2-2V5c0-1.1-.9-2-2-2zM9 17H7v-7h2v7zm4 0h-2V7h2v10zm4 0h-2v-4h2v4z\"/>\n",
              "    </g>\n",
              "</svg>\n",
              "  </button>\n",
              "\n",
              "<style>\n",
              "  .colab-df-quickchart {\n",
              "      --bg-color: #E8F0FE;\n",
              "      --fill-color: #1967D2;\n",
              "      --hover-bg-color: #E2EBFA;\n",
              "      --hover-fill-color: #174EA6;\n",
              "      --disabled-fill-color: #AAA;\n",
              "      --disabled-bg-color: #DDD;\n",
              "  }\n",
              "\n",
              "  [theme=dark] .colab-df-quickchart {\n",
              "      --bg-color: #3B4455;\n",
              "      --fill-color: #D2E3FC;\n",
              "      --hover-bg-color: #434B5C;\n",
              "      --hover-fill-color: #FFFFFF;\n",
              "      --disabled-bg-color: #3B4455;\n",
              "      --disabled-fill-color: #666;\n",
              "  }\n",
              "\n",
              "  .colab-df-quickchart {\n",
              "    background-color: var(--bg-color);\n",
              "    border: none;\n",
              "    border-radius: 50%;\n",
              "    cursor: pointer;\n",
              "    display: none;\n",
              "    fill: var(--fill-color);\n",
              "    height: 32px;\n",
              "    padding: 0;\n",
              "    width: 32px;\n",
              "  }\n",
              "\n",
              "  .colab-df-quickchart:hover {\n",
              "    background-color: var(--hover-bg-color);\n",
              "    box-shadow: 0 1px 2px rgba(60, 64, 67, 0.3), 0 1px 3px 1px rgba(60, 64, 67, 0.15);\n",
              "    fill: var(--button-hover-fill-color);\n",
              "  }\n",
              "\n",
              "  .colab-df-quickchart-complete:disabled,\n",
              "  .colab-df-quickchart-complete:disabled:hover {\n",
              "    background-color: var(--disabled-bg-color);\n",
              "    fill: var(--disabled-fill-color);\n",
              "    box-shadow: none;\n",
              "  }\n",
              "\n",
              "  .colab-df-spinner {\n",
              "    border: 2px solid var(--fill-color);\n",
              "    border-color: transparent;\n",
              "    border-bottom-color: var(--fill-color);\n",
              "    animation:\n",
              "      spin 1s steps(1) infinite;\n",
              "  }\n",
              "\n",
              "  @keyframes spin {\n",
              "    0% {\n",
              "      border-color: transparent;\n",
              "      border-bottom-color: var(--fill-color);\n",
              "      border-left-color: var(--fill-color);\n",
              "    }\n",
              "    20% {\n",
              "      border-color: transparent;\n",
              "      border-left-color: var(--fill-color);\n",
              "      border-top-color: var(--fill-color);\n",
              "    }\n",
              "    30% {\n",
              "      border-color: transparent;\n",
              "      border-left-color: var(--fill-color);\n",
              "      border-top-color: var(--fill-color);\n",
              "      border-right-color: var(--fill-color);\n",
              "    }\n",
              "    40% {\n",
              "      border-color: transparent;\n",
              "      border-right-color: var(--fill-color);\n",
              "      border-top-color: var(--fill-color);\n",
              "    }\n",
              "    60% {\n",
              "      border-color: transparent;\n",
              "      border-right-color: var(--fill-color);\n",
              "    }\n",
              "    80% {\n",
              "      border-color: transparent;\n",
              "      border-right-color: var(--fill-color);\n",
              "      border-bottom-color: var(--fill-color);\n",
              "    }\n",
              "    90% {\n",
              "      border-color: transparent;\n",
              "      border-bottom-color: var(--fill-color);\n",
              "    }\n",
              "  }\n",
              "</style>\n",
              "\n",
              "  <script>\n",
              "    async function quickchart(key) {\n",
              "      const quickchartButtonEl =\n",
              "        document.querySelector('#' + key + ' button');\n",
              "      quickchartButtonEl.disabled = true;  // To prevent multiple clicks.\n",
              "      quickchartButtonEl.classList.add('colab-df-spinner');\n",
              "      try {\n",
              "        const charts = await google.colab.kernel.invokeFunction(\n",
              "            'suggestCharts', [key], {});\n",
              "      } catch (error) {\n",
              "        console.error('Error during call to suggestCharts:', error);\n",
              "      }\n",
              "      quickchartButtonEl.classList.remove('colab-df-spinner');\n",
              "      quickchartButtonEl.classList.add('colab-df-quickchart-complete');\n",
              "    }\n",
              "    (() => {\n",
              "      let quickchartButtonEl =\n",
              "        document.querySelector('#df-e6a37909-9fcc-45e6-aa85-76899089790e button');\n",
              "      quickchartButtonEl.style.display =\n",
              "        google.colab.kernel.accessAllowed ? 'block' : 'none';\n",
              "    })();\n",
              "  </script>\n",
              "</div>\n",
              "    </div>\n",
              "  </div>\n"
            ]
          },
          "metadata": {},
          "execution_count": 319
        }
      ]
    },
    {
      "cell_type": "markdown",
      "source": [
        "The above table is the description of each columns in the dataset...."
      ],
      "metadata": {
        "id": "-vMy40v1Wx62"
      }
    },
    {
      "cell_type": "markdown",
      "source": [
        "With this information, we can now import our daraset for the analysis"
      ],
      "metadata": {
        "id": "Q6hIWNdYXBi-"
      }
    },
    {
      "cell_type": "markdown",
      "source": [
        "## **UNDERSTANDING THE DATASET**"
      ],
      "metadata": {
        "id": "ENoPZHcNTAfu"
      }
    },
    {
      "cell_type": "code",
      "source": [
        "# We will use the pandas library to import our dataset"
      ],
      "metadata": {
        "id": "Bz5-keWth28u"
      },
      "execution_count": 320,
      "outputs": []
    },
    {
      "cell_type": "code",
      "source": [
        "# We can import our dataset from github\n",
        "\n",
        "\n",
        "url = 'https://raw.githubusercontent.com/LegendSeyi/Dataset/main/thai_road_accident_2019_2022.csv'\n",
        "\n",
        "pd.set_option('display.max_columns', None)\n",
        "data = pd.read_csv(url, encoding= 'utf-8')"
      ],
      "metadata": {
        "id": "a957jsfTjbJj"
      },
      "execution_count": 321,
      "outputs": []
    },
    {
      "cell_type": "code",
      "source": [
        "data.head()"
      ],
      "metadata": {
        "id": "Q4j26rM2mMR_",
        "colab": {
          "base_uri": "https://localhost:8080/",
          "height": 521
        },
        "outputId": "48d9f939-34f0-4cd3-be46-e4dfc7615f07"
      },
      "execution_count": 322,
      "outputs": [
        {
          "output_type": "execute_result",
          "data": {
            "text/plain": [
              "   acc_code    incident_datetime      report_datetime      province_th  \\\n",
              "0    571905  2019-01-01 00:00:00  2019-01-02 06:11:00           ลพบุรี   \n",
              "1   3790870  2019-01-01 00:03:00  2020-02-20 13:48:00      อุบลราชธานี   \n",
              "2    599075  2019-01-01 00:05:00  2019-01-01 10:35:00  ประจวบคีรีขันธ์   \n",
              "3    571924  2019-01-01 00:20:00  2019-01-02 05:12:00        เชียงใหม่   \n",
              "4    599523  2019-01-01 00:25:00  2019-01-04 09:42:00        นครสวรรค์   \n",
              "\n",
              "           province_en                     agency  \\\n",
              "0               Loburi  department of rural roads   \n",
              "1     Ubon Ratchathani     department of highways   \n",
              "2  Prachuap Khiri Khan     department of highways   \n",
              "3           Chiang Mai  department of rural roads   \n",
              "4         Nakhon Sawan     department of highways   \n",
              "\n",
              "                                               route           vehicle_type  \\\n",
              "0  แยกทางหลวงหมายเลข 21 (กม.ที่ 31+000) - บ้านวัง...             motorcycle   \n",
              "1                              เดชอุดม - อุบลราชธานี  private/passenger car   \n",
              "2                              ปราณบุรี - ปากน้ำปราณ             motorcycle   \n",
              "3  เชื่อมทางหลวงหมายเลข 1013 (กม.ที่ 8+200) - บ้า...             motorcycle   \n",
              "4                                   เกยไชย - ศรีมงคล  private/passenger car   \n",
              "\n",
              "                                  presumed_cause  \\\n",
              "0         driving under the influence of alcohol   \n",
              "1                                       speeding   \n",
              "2                                       speeding   \n",
              "3         driving under the influence of alcohol   \n",
              "4  cutting in closely by people/vehicles/animals   \n",
              "\n",
              "                        accident_type  number_of_vehicles_involved  \\\n",
              "0                               other                            1   \n",
              "1    rollover/fallen on straight road                            1   \n",
              "2  head-on collision (not overtaking)                            2   \n",
              "3                               other                            1   \n",
              "4    rollover/fallen on straight road                            1   \n",
              "\n",
              "   number_of_fatalities  number_of_injuries weather_condition   latitude  \\\n",
              "0                     0                   2             clear  14.959105   \n",
              "1                     0                   2             clear  15.210738   \n",
              "2                     1                   0             clear  12.374259   \n",
              "3                     0                   1             clear  18.601721   \n",
              "4                     0                   0             clear  15.866389   \n",
              "\n",
              "    longitude road_description slope_description  \n",
              "0  100.873463    straight road          no slope  \n",
              "1  104.862689    straight road          no slope  \n",
              "2   99.907949       wide curve        slope area  \n",
              "3   98.804204    straight road          no slope  \n",
              "4  100.590010    straight road          no slope  "
            ],
            "text/html": [
              "\n",
              "  <div id=\"df-05dddaf1-93ee-4660-b69f-9e0c5efcc65f\" class=\"colab-df-container\">\n",
              "    <div>\n",
              "<style scoped>\n",
              "    .dataframe tbody tr th:only-of-type {\n",
              "        vertical-align: middle;\n",
              "    }\n",
              "\n",
              "    .dataframe tbody tr th {\n",
              "        vertical-align: top;\n",
              "    }\n",
              "\n",
              "    .dataframe thead th {\n",
              "        text-align: right;\n",
              "    }\n",
              "</style>\n",
              "<table border=\"1\" class=\"dataframe\">\n",
              "  <thead>\n",
              "    <tr style=\"text-align: right;\">\n",
              "      <th></th>\n",
              "      <th>acc_code</th>\n",
              "      <th>incident_datetime</th>\n",
              "      <th>report_datetime</th>\n",
              "      <th>province_th</th>\n",
              "      <th>province_en</th>\n",
              "      <th>agency</th>\n",
              "      <th>route</th>\n",
              "      <th>vehicle_type</th>\n",
              "      <th>presumed_cause</th>\n",
              "      <th>accident_type</th>\n",
              "      <th>number_of_vehicles_involved</th>\n",
              "      <th>number_of_fatalities</th>\n",
              "      <th>number_of_injuries</th>\n",
              "      <th>weather_condition</th>\n",
              "      <th>latitude</th>\n",
              "      <th>longitude</th>\n",
              "      <th>road_description</th>\n",
              "      <th>slope_description</th>\n",
              "    </tr>\n",
              "  </thead>\n",
              "  <tbody>\n",
              "    <tr>\n",
              "      <th>0</th>\n",
              "      <td>571905</td>\n",
              "      <td>2019-01-01 00:00:00</td>\n",
              "      <td>2019-01-02 06:11:00</td>\n",
              "      <td>ลพบุรี</td>\n",
              "      <td>Loburi</td>\n",
              "      <td>department of rural roads</td>\n",
              "      <td>แยกทางหลวงหมายเลข 21 (กม.ที่ 31+000) - บ้านวัง...</td>\n",
              "      <td>motorcycle</td>\n",
              "      <td>driving under the influence of alcohol</td>\n",
              "      <td>other</td>\n",
              "      <td>1</td>\n",
              "      <td>0</td>\n",
              "      <td>2</td>\n",
              "      <td>clear</td>\n",
              "      <td>14.959105</td>\n",
              "      <td>100.873463</td>\n",
              "      <td>straight road</td>\n",
              "      <td>no slope</td>\n",
              "    </tr>\n",
              "    <tr>\n",
              "      <th>1</th>\n",
              "      <td>3790870</td>\n",
              "      <td>2019-01-01 00:03:00</td>\n",
              "      <td>2020-02-20 13:48:00</td>\n",
              "      <td>อุบลราชธานี</td>\n",
              "      <td>Ubon Ratchathani</td>\n",
              "      <td>department of highways</td>\n",
              "      <td>เดชอุดม - อุบลราชธานี</td>\n",
              "      <td>private/passenger car</td>\n",
              "      <td>speeding</td>\n",
              "      <td>rollover/fallen on straight road</td>\n",
              "      <td>1</td>\n",
              "      <td>0</td>\n",
              "      <td>2</td>\n",
              "      <td>clear</td>\n",
              "      <td>15.210738</td>\n",
              "      <td>104.862689</td>\n",
              "      <td>straight road</td>\n",
              "      <td>no slope</td>\n",
              "    </tr>\n",
              "    <tr>\n",
              "      <th>2</th>\n",
              "      <td>599075</td>\n",
              "      <td>2019-01-01 00:05:00</td>\n",
              "      <td>2019-01-01 10:35:00</td>\n",
              "      <td>ประจวบคีรีขันธ์</td>\n",
              "      <td>Prachuap Khiri Khan</td>\n",
              "      <td>department of highways</td>\n",
              "      <td>ปราณบุรี - ปากน้ำปราณ</td>\n",
              "      <td>motorcycle</td>\n",
              "      <td>speeding</td>\n",
              "      <td>head-on collision (not overtaking)</td>\n",
              "      <td>2</td>\n",
              "      <td>1</td>\n",
              "      <td>0</td>\n",
              "      <td>clear</td>\n",
              "      <td>12.374259</td>\n",
              "      <td>99.907949</td>\n",
              "      <td>wide curve</td>\n",
              "      <td>slope area</td>\n",
              "    </tr>\n",
              "    <tr>\n",
              "      <th>3</th>\n",
              "      <td>571924</td>\n",
              "      <td>2019-01-01 00:20:00</td>\n",
              "      <td>2019-01-02 05:12:00</td>\n",
              "      <td>เชียงใหม่</td>\n",
              "      <td>Chiang Mai</td>\n",
              "      <td>department of rural roads</td>\n",
              "      <td>เชื่อมทางหลวงหมายเลข 1013 (กม.ที่ 8+200) - บ้า...</td>\n",
              "      <td>motorcycle</td>\n",
              "      <td>driving under the influence of alcohol</td>\n",
              "      <td>other</td>\n",
              "      <td>1</td>\n",
              "      <td>0</td>\n",
              "      <td>1</td>\n",
              "      <td>clear</td>\n",
              "      <td>18.601721</td>\n",
              "      <td>98.804204</td>\n",
              "      <td>straight road</td>\n",
              "      <td>no slope</td>\n",
              "    </tr>\n",
              "    <tr>\n",
              "      <th>4</th>\n",
              "      <td>599523</td>\n",
              "      <td>2019-01-01 00:25:00</td>\n",
              "      <td>2019-01-04 09:42:00</td>\n",
              "      <td>นครสวรรค์</td>\n",
              "      <td>Nakhon Sawan</td>\n",
              "      <td>department of highways</td>\n",
              "      <td>เกยไชย - ศรีมงคล</td>\n",
              "      <td>private/passenger car</td>\n",
              "      <td>cutting in closely by people/vehicles/animals</td>\n",
              "      <td>rollover/fallen on straight road</td>\n",
              "      <td>1</td>\n",
              "      <td>0</td>\n",
              "      <td>0</td>\n",
              "      <td>clear</td>\n",
              "      <td>15.866389</td>\n",
              "      <td>100.590010</td>\n",
              "      <td>straight road</td>\n",
              "      <td>no slope</td>\n",
              "    </tr>\n",
              "  </tbody>\n",
              "</table>\n",
              "</div>\n",
              "    <div class=\"colab-df-buttons\">\n",
              "\n",
              "  <div class=\"colab-df-container\">\n",
              "    <button class=\"colab-df-convert\" onclick=\"convertToInteractive('df-05dddaf1-93ee-4660-b69f-9e0c5efcc65f')\"\n",
              "            title=\"Convert this dataframe to an interactive table.\"\n",
              "            style=\"display:none;\">\n",
              "\n",
              "  <svg xmlns=\"http://www.w3.org/2000/svg\" height=\"24px\" viewBox=\"0 -960 960 960\">\n",
              "    <path d=\"M120-120v-720h720v720H120Zm60-500h600v-160H180v160Zm220 220h160v-160H400v160Zm0 220h160v-160H400v160ZM180-400h160v-160H180v160Zm440 0h160v-160H620v160ZM180-180h160v-160H180v160Zm440 0h160v-160H620v160Z\"/>\n",
              "  </svg>\n",
              "    </button>\n",
              "\n",
              "  <style>\n",
              "    .colab-df-container {\n",
              "      display:flex;\n",
              "      gap: 12px;\n",
              "    }\n",
              "\n",
              "    .colab-df-convert {\n",
              "      background-color: #E8F0FE;\n",
              "      border: none;\n",
              "      border-radius: 50%;\n",
              "      cursor: pointer;\n",
              "      display: none;\n",
              "      fill: #1967D2;\n",
              "      height: 32px;\n",
              "      padding: 0 0 0 0;\n",
              "      width: 32px;\n",
              "    }\n",
              "\n",
              "    .colab-df-convert:hover {\n",
              "      background-color: #E2EBFA;\n",
              "      box-shadow: 0px 1px 2px rgba(60, 64, 67, 0.3), 0px 1px 3px 1px rgba(60, 64, 67, 0.15);\n",
              "      fill: #174EA6;\n",
              "    }\n",
              "\n",
              "    .colab-df-buttons div {\n",
              "      margin-bottom: 4px;\n",
              "    }\n",
              "\n",
              "    [theme=dark] .colab-df-convert {\n",
              "      background-color: #3B4455;\n",
              "      fill: #D2E3FC;\n",
              "    }\n",
              "\n",
              "    [theme=dark] .colab-df-convert:hover {\n",
              "      background-color: #434B5C;\n",
              "      box-shadow: 0px 1px 3px 1px rgba(0, 0, 0, 0.15);\n",
              "      filter: drop-shadow(0px 1px 2px rgba(0, 0, 0, 0.3));\n",
              "      fill: #FFFFFF;\n",
              "    }\n",
              "  </style>\n",
              "\n",
              "    <script>\n",
              "      const buttonEl =\n",
              "        document.querySelector('#df-05dddaf1-93ee-4660-b69f-9e0c5efcc65f button.colab-df-convert');\n",
              "      buttonEl.style.display =\n",
              "        google.colab.kernel.accessAllowed ? 'block' : 'none';\n",
              "\n",
              "      async function convertToInteractive(key) {\n",
              "        const element = document.querySelector('#df-05dddaf1-93ee-4660-b69f-9e0c5efcc65f');\n",
              "        const dataTable =\n",
              "          await google.colab.kernel.invokeFunction('convertToInteractive',\n",
              "                                                    [key], {});\n",
              "        if (!dataTable) return;\n",
              "\n",
              "        const docLinkHtml = 'Like what you see? Visit the ' +\n",
              "          '<a target=\"_blank\" href=https://colab.research.google.com/notebooks/data_table.ipynb>data table notebook</a>'\n",
              "          + ' to learn more about interactive tables.';\n",
              "        element.innerHTML = '';\n",
              "        dataTable['output_type'] = 'display_data';\n",
              "        await google.colab.output.renderOutput(dataTable, element);\n",
              "        const docLink = document.createElement('div');\n",
              "        docLink.innerHTML = docLinkHtml;\n",
              "        element.appendChild(docLink);\n",
              "      }\n",
              "    </script>\n",
              "  </div>\n",
              "\n",
              "\n",
              "<div id=\"df-6028d755-34b1-4b31-b73f-a43c8fca0b69\">\n",
              "  <button class=\"colab-df-quickchart\" onclick=\"quickchart('df-6028d755-34b1-4b31-b73f-a43c8fca0b69')\"\n",
              "            title=\"Suggest charts.\"\n",
              "            style=\"display:none;\">\n",
              "\n",
              "<svg xmlns=\"http://www.w3.org/2000/svg\" height=\"24px\"viewBox=\"0 0 24 24\"\n",
              "     width=\"24px\">\n",
              "    <g>\n",
              "        <path d=\"M19 3H5c-1.1 0-2 .9-2 2v14c0 1.1.9 2 2 2h14c1.1 0 2-.9 2-2V5c0-1.1-.9-2-2-2zM9 17H7v-7h2v7zm4 0h-2V7h2v10zm4 0h-2v-4h2v4z\"/>\n",
              "    </g>\n",
              "</svg>\n",
              "  </button>\n",
              "\n",
              "<style>\n",
              "  .colab-df-quickchart {\n",
              "      --bg-color: #E8F0FE;\n",
              "      --fill-color: #1967D2;\n",
              "      --hover-bg-color: #E2EBFA;\n",
              "      --hover-fill-color: #174EA6;\n",
              "      --disabled-fill-color: #AAA;\n",
              "      --disabled-bg-color: #DDD;\n",
              "  }\n",
              "\n",
              "  [theme=dark] .colab-df-quickchart {\n",
              "      --bg-color: #3B4455;\n",
              "      --fill-color: #D2E3FC;\n",
              "      --hover-bg-color: #434B5C;\n",
              "      --hover-fill-color: #FFFFFF;\n",
              "      --disabled-bg-color: #3B4455;\n",
              "      --disabled-fill-color: #666;\n",
              "  }\n",
              "\n",
              "  .colab-df-quickchart {\n",
              "    background-color: var(--bg-color);\n",
              "    border: none;\n",
              "    border-radius: 50%;\n",
              "    cursor: pointer;\n",
              "    display: none;\n",
              "    fill: var(--fill-color);\n",
              "    height: 32px;\n",
              "    padding: 0;\n",
              "    width: 32px;\n",
              "  }\n",
              "\n",
              "  .colab-df-quickchart:hover {\n",
              "    background-color: var(--hover-bg-color);\n",
              "    box-shadow: 0 1px 2px rgba(60, 64, 67, 0.3), 0 1px 3px 1px rgba(60, 64, 67, 0.15);\n",
              "    fill: var(--button-hover-fill-color);\n",
              "  }\n",
              "\n",
              "  .colab-df-quickchart-complete:disabled,\n",
              "  .colab-df-quickchart-complete:disabled:hover {\n",
              "    background-color: var(--disabled-bg-color);\n",
              "    fill: var(--disabled-fill-color);\n",
              "    box-shadow: none;\n",
              "  }\n",
              "\n",
              "  .colab-df-spinner {\n",
              "    border: 2px solid var(--fill-color);\n",
              "    border-color: transparent;\n",
              "    border-bottom-color: var(--fill-color);\n",
              "    animation:\n",
              "      spin 1s steps(1) infinite;\n",
              "  }\n",
              "\n",
              "  @keyframes spin {\n",
              "    0% {\n",
              "      border-color: transparent;\n",
              "      border-bottom-color: var(--fill-color);\n",
              "      border-left-color: var(--fill-color);\n",
              "    }\n",
              "    20% {\n",
              "      border-color: transparent;\n",
              "      border-left-color: var(--fill-color);\n",
              "      border-top-color: var(--fill-color);\n",
              "    }\n",
              "    30% {\n",
              "      border-color: transparent;\n",
              "      border-left-color: var(--fill-color);\n",
              "      border-top-color: var(--fill-color);\n",
              "      border-right-color: var(--fill-color);\n",
              "    }\n",
              "    40% {\n",
              "      border-color: transparent;\n",
              "      border-right-color: var(--fill-color);\n",
              "      border-top-color: var(--fill-color);\n",
              "    }\n",
              "    60% {\n",
              "      border-color: transparent;\n",
              "      border-right-color: var(--fill-color);\n",
              "    }\n",
              "    80% {\n",
              "      border-color: transparent;\n",
              "      border-right-color: var(--fill-color);\n",
              "      border-bottom-color: var(--fill-color);\n",
              "    }\n",
              "    90% {\n",
              "      border-color: transparent;\n",
              "      border-bottom-color: var(--fill-color);\n",
              "    }\n",
              "  }\n",
              "</style>\n",
              "\n",
              "  <script>\n",
              "    async function quickchart(key) {\n",
              "      const quickchartButtonEl =\n",
              "        document.querySelector('#' + key + ' button');\n",
              "      quickchartButtonEl.disabled = true;  // To prevent multiple clicks.\n",
              "      quickchartButtonEl.classList.add('colab-df-spinner');\n",
              "      try {\n",
              "        const charts = await google.colab.kernel.invokeFunction(\n",
              "            'suggestCharts', [key], {});\n",
              "      } catch (error) {\n",
              "        console.error('Error during call to suggestCharts:', error);\n",
              "      }\n",
              "      quickchartButtonEl.classList.remove('colab-df-spinner');\n",
              "      quickchartButtonEl.classList.add('colab-df-quickchart-complete');\n",
              "    }\n",
              "    (() => {\n",
              "      let quickchartButtonEl =\n",
              "        document.querySelector('#df-6028d755-34b1-4b31-b73f-a43c8fca0b69 button');\n",
              "      quickchartButtonEl.style.display =\n",
              "        google.colab.kernel.accessAllowed ? 'block' : 'none';\n",
              "    })();\n",
              "  </script>\n",
              "</div>\n",
              "    </div>\n",
              "  </div>\n"
            ]
          },
          "metadata": {},
          "execution_count": 322
        }
      ]
    },
    {
      "cell_type": "markdown",
      "source": [
        "We have imported our data, so we can check the size of the dataset"
      ],
      "metadata": {
        "id": "DA3v_2PQmnOR"
      }
    },
    {
      "cell_type": "code",
      "source": [
        "data.shape"
      ],
      "metadata": {
        "id": "9aSEmJtknrMl",
        "colab": {
          "base_uri": "https://localhost:8080/"
        },
        "outputId": "21c37fc7-2189-42ad-ba9f-5663febc4546"
      },
      "execution_count": 323,
      "outputs": [
        {
          "output_type": "execute_result",
          "data": {
            "text/plain": [
              "(81735, 18)"
            ]
          },
          "metadata": {},
          "execution_count": 323
        }
      ]
    },
    {
      "cell_type": "markdown",
      "source": [
        "We have 81735 row and 18 columns in the dataset"
      ],
      "metadata": {
        "id": "G-B0U2OToQNn"
      }
    },
    {
      "cell_type": "code",
      "source": [
        "data.columns"
      ],
      "metadata": {
        "id": "lAb_qu__oZ8P",
        "colab": {
          "base_uri": "https://localhost:8080/"
        },
        "outputId": "d27c9a2a-c958-4fa3-b2ab-2c9a1e8695ef"
      },
      "execution_count": 324,
      "outputs": [
        {
          "output_type": "execute_result",
          "data": {
            "text/plain": [
              "Index(['acc_code', 'incident_datetime', 'report_datetime', 'province_th',\n",
              "       'province_en', 'agency', 'route', 'vehicle_type', 'presumed_cause',\n",
              "       'accident_type', 'number_of_vehicles_involved', 'number_of_fatalities',\n",
              "       'number_of_injuries', 'weather_condition', 'latitude', 'longitude',\n",
              "       'road_description', 'slope_description'],\n",
              "      dtype='object')"
            ]
          },
          "metadata": {},
          "execution_count": 324
        }
      ]
    },
    {
      "cell_type": "markdown",
      "source": [
        "we generated the list of columns available, but out first column is not properly named.."
      ],
      "metadata": {
        "id": "mHuNrwGfohFi"
      }
    },
    {
      "cell_type": "markdown",
      "source": [
        "So we have successfully renamed the column"
      ],
      "metadata": {
        "id": "SCnbmHt2pZ9Z"
      }
    },
    {
      "cell_type": "markdown",
      "source": [
        "Generate the information of the dataset"
      ],
      "metadata": {
        "id": "uG6R2yfbpivE"
      }
    },
    {
      "cell_type": "code",
      "source": [
        "data.info()"
      ],
      "metadata": {
        "id": "aj7HRxpypskg",
        "colab": {
          "base_uri": "https://localhost:8080/"
        },
        "outputId": "a45fe510-058c-44fb-ebaf-df86739fed15"
      },
      "execution_count": 325,
      "outputs": [
        {
          "output_type": "stream",
          "name": "stdout",
          "text": [
            "<class 'pandas.core.frame.DataFrame'>\n",
            "RangeIndex: 81735 entries, 0 to 81734\n",
            "Data columns (total 18 columns):\n",
            " #   Column                       Non-Null Count  Dtype  \n",
            "---  ------                       --------------  -----  \n",
            " 0   acc_code                     81735 non-null  int64  \n",
            " 1   incident_datetime            81735 non-null  object \n",
            " 2   report_datetime              81735 non-null  object \n",
            " 3   province_th                  81735 non-null  object \n",
            " 4   province_en                  81735 non-null  object \n",
            " 5   agency                       81735 non-null  object \n",
            " 6   route                        81735 non-null  object \n",
            " 7   vehicle_type                 81735 non-null  object \n",
            " 8   presumed_cause               81735 non-null  object \n",
            " 9   accident_type                81735 non-null  object \n",
            " 10  number_of_vehicles_involved  81735 non-null  int64  \n",
            " 11  number_of_fatalities         81735 non-null  int64  \n",
            " 12  number_of_injuries           81735 non-null  int64  \n",
            " 13  weather_condition            81735 non-null  object \n",
            " 14  latitude                     81376 non-null  float64\n",
            " 15  longitude                    81376 non-null  float64\n",
            " 16  road_description             81735 non-null  object \n",
            " 17  slope_description            81735 non-null  object \n",
            "dtypes: float64(2), int64(4), object(12)\n",
            "memory usage: 11.2+ MB\n"
          ]
        }
      ]
    },
    {
      "cell_type": "markdown",
      "source": [
        "We can observe that we have different data types such ad float, int, object"
      ],
      "metadata": {
        "id": "cgRrmOHgp4LJ"
      }
    },
    {
      "cell_type": "code",
      "source": [
        "# code to generate the number of null values present in the columns\n",
        "data.isnull().sum()"
      ],
      "metadata": {
        "id": "uiXu0JTbpxPs",
        "colab": {
          "base_uri": "https://localhost:8080/"
        },
        "outputId": "6fe02ae1-4002-4a51-f487-083e3b1203c2"
      },
      "execution_count": 326,
      "outputs": [
        {
          "output_type": "execute_result",
          "data": {
            "text/plain": [
              "acc_code                         0\n",
              "incident_datetime                0\n",
              "report_datetime                  0\n",
              "province_th                      0\n",
              "province_en                      0\n",
              "agency                           0\n",
              "route                            0\n",
              "vehicle_type                     0\n",
              "presumed_cause                   0\n",
              "accident_type                    0\n",
              "number_of_vehicles_involved      0\n",
              "number_of_fatalities             0\n",
              "number_of_injuries               0\n",
              "weather_condition                0\n",
              "latitude                       359\n",
              "longitude                      359\n",
              "road_description                 0\n",
              "slope_description                0\n",
              "dtype: int64"
            ]
          },
          "metadata": {},
          "execution_count": 326
        }
      ]
    },
    {
      "cell_type": "markdown",
      "source": [
        "we can observe that column latitude and longitude contain the same number of missing values"
      ],
      "metadata": {
        "id": "IHoxBZW7qSIw"
      }
    },
    {
      "cell_type": "markdown",
      "source": [
        "## **DATA CLEANING**"
      ],
      "metadata": {
        "id": "TsreToknqegX"
      }
    },
    {
      "cell_type": "markdown",
      "source": [
        "### **Incident_datetime column**"
      ],
      "metadata": {
        "id": "gUOgGJ7PM-WC"
      }
    },
    {
      "cell_type": "code",
      "source": [
        "# We start by analysing the 'incident datetime' column , we convert the type of column into a datetime\n",
        "#data['incident_datetime'] = pd.to_datetime(data['incident_datetime'])"
      ],
      "metadata": {
        "id": "pk3mlPfEXL7A"
      },
      "execution_count": 327,
      "outputs": []
    },
    {
      "cell_type": "code",
      "source": [
        "data['incident_datetime'].info()"
      ],
      "metadata": {
        "id": "xjtKd8rjaRd6",
        "colab": {
          "base_uri": "https://localhost:8080/"
        },
        "outputId": "b3403dd7-600d-4bf7-d37a-a95ead36efdd"
      },
      "execution_count": 328,
      "outputs": [
        {
          "output_type": "stream",
          "name": "stdout",
          "text": [
            "<class 'pandas.core.series.Series'>\n",
            "RangeIndex: 81735 entries, 0 to 81734\n",
            "Series name: incident_datetime\n",
            "Non-Null Count  Dtype \n",
            "--------------  ----- \n",
            "81735 non-null  object\n",
            "dtypes: object(1)\n",
            "memory usage: 638.7+ KB\n"
          ]
        }
      ]
    },
    {
      "cell_type": "markdown",
      "source": [
        "The column has been converted to a datetime column. so lets check if there are no null values in the dataset"
      ],
      "metadata": {
        "id": "4dCYcucOazDJ"
      }
    },
    {
      "cell_type": "code",
      "source": [
        "data['incident_datetime'].isnull().sum()"
      ],
      "metadata": {
        "id": "6cebyD7-a9ll",
        "colab": {
          "base_uri": "https://localhost:8080/"
        },
        "outputId": "1ef69042-16ca-4099-805a-3b5419ee54c8"
      },
      "execution_count": 329,
      "outputs": [
        {
          "output_type": "execute_result",
          "data": {
            "text/plain": [
              "0"
            ]
          },
          "metadata": {},
          "execution_count": 329
        }
      ]
    },
    {
      "cell_type": "markdown",
      "source": [
        "We can confirm that there are no null values."
      ],
      "metadata": {
        "id": "RCRyg0H_bDOM"
      }
    },
    {
      "cell_type": "markdown",
      "source": [
        "We can sort the data set with the incident datetime column"
      ],
      "metadata": {
        "id": "8sgmMMCubXq6"
      }
    },
    {
      "cell_type": "code",
      "source": [
        "data.sort_values(by='incident_datetime', inplace=True)"
      ],
      "metadata": {
        "id": "fEAimci_bpjE"
      },
      "execution_count": 330,
      "outputs": []
    },
    {
      "cell_type": "markdown",
      "source": [
        "Now we can be sure that the dataset has been sorted"
      ],
      "metadata": {
        "id": "-6o6GKqxb2Ra"
      }
    },
    {
      "cell_type": "markdown",
      "source": [
        "**Now we want to create two different column from the datetime column, one of the date (Year-Month-Day) and another for the time zone (Hour-minute-Seconds)**"
      ],
      "metadata": {
        "id": "WVSzsjzO5dQt"
      }
    },
    {
      "cell_type": "code",
      "source": [
        "# Creating a new column of just the date\n",
        "# Creating a new column of just the time\n",
        "data['incident_date'] = data['incident_datetime'].str[:10]\n",
        "data['incident_time'] = data['incident_datetime'].str[10:]\n"
      ],
      "metadata": {
        "id": "cr7cwr94_xkE"
      },
      "execution_count": 331,
      "outputs": []
    },
    {
      "cell_type": "markdown",
      "source": [
        "Now we can drop/del the incident_datetime column and also rearrange the data bring the newly created columns to the front"
      ],
      "metadata": {
        "id": "2j9xhbXzAXbk"
      }
    },
    {
      "cell_type": "code",
      "source": [
        "\n",
        "# we use the pop function\n",
        "first_col = data.pop('incident_date')\n",
        "second_col = data.pop('incident_time')\n",
        "\n",
        "# then we insert it the column number position, the name of the columns, and the coloumn we popped\n",
        "data.insert(1, 'Incident_date', first_col)\n",
        "data.insert(2, 'Incident_time', second_col)\n"
      ],
      "metadata": {
        "id": "yhqMGkIIw_Qi"
      },
      "execution_count": 332,
      "outputs": []
    },
    {
      "cell_type": "markdown",
      "source": [
        "### **Report_datetime column**"
      ],
      "metadata": {
        "id": "LpdpgB5sM6sZ"
      }
    },
    {
      "cell_type": "markdown",
      "source": [
        "Now we want to create two different column from the datetime column, one of the date (Year-Month-Day) and another for the time zone (Hour-minute-Seconds)"
      ],
      "metadata": {
        "id": "rXOAyhdJGycd"
      }
    },
    {
      "cell_type": "code",
      "source": [
        "# Creating a new column of just the date\n",
        "# Creating a new column of just the time\n",
        "data['report_date'] = data['report_datetime'].str[:10]\n",
        "data['report_time'] = data['report_datetime'].str[10:]"
      ],
      "metadata": {
        "id": "MZxeWnRVG-I6"
      },
      "execution_count": 333,
      "outputs": []
    },
    {
      "cell_type": "markdown",
      "source": [
        "Now we can drop/del the incident_datetime column and also rearrange the data bring the newly created columns to the front\n",
        "\n",
        "i use Ctrl + shift + L to multiple select a repeated string after highlighting of of it"
      ],
      "metadata": {
        "id": "vSy5blnBHPMy"
      }
    },
    {
      "cell_type": "code",
      "source": [
        "# we use the pop function\n",
        "first_col = data.pop('report_date')\n",
        "second_col = data.pop('report_time')\n",
        "\n",
        "# then we insert it the column number position, the name of the columns, and the coloumn we popped\n",
        "data.insert(3, 'report_date', first_col)\n",
        "data.insert(4, 'report_time', second_col)\n",
        "\n"
      ],
      "metadata": {
        "id": "WREgLxMDHUdS"
      },
      "execution_count": 334,
      "outputs": []
    },
    {
      "cell_type": "code",
      "source": [
        "# we can use the drop function to delete the report datetime column\n",
        "data.drop(['report_datetime','incident_datetime'], axis=1, inplace=True)\n",
        "data.head()\n"
      ],
      "metadata": {
        "id": "9iT74RiH9WK-",
        "colab": {
          "base_uri": "https://localhost:8080/",
          "height": 521
        },
        "outputId": "d87544f7-f947-42d8-c4a0-42625b70e56e"
      },
      "execution_count": 335,
      "outputs": [
        {
          "output_type": "execute_result",
          "data": {
            "text/plain": [
              "   acc_code Incident_date Incident_time report_date report_time  \\\n",
              "0    571905    2019-01-01      00:00:00  2019-01-02    06:11:00   \n",
              "1   3790870    2019-01-01      00:03:00  2020-02-20    13:48:00   \n",
              "2    599075    2019-01-01      00:05:00  2019-01-01    10:35:00   \n",
              "3    571924    2019-01-01      00:20:00  2019-01-02    05:12:00   \n",
              "4    599523    2019-01-01      00:25:00  2019-01-04    09:42:00   \n",
              "\n",
              "       province_th          province_en                     agency  \\\n",
              "0           ลพบุรี               Loburi  department of rural roads   \n",
              "1      อุบลราชธานี     Ubon Ratchathani     department of highways   \n",
              "2  ประจวบคีรีขันธ์  Prachuap Khiri Khan     department of highways   \n",
              "3        เชียงใหม่           Chiang Mai  department of rural roads   \n",
              "4        นครสวรรค์         Nakhon Sawan     department of highways   \n",
              "\n",
              "                                               route           vehicle_type  \\\n",
              "0  แยกทางหลวงหมายเลข 21 (กม.ที่ 31+000) - บ้านวัง...             motorcycle   \n",
              "1                              เดชอุดม - อุบลราชธานี  private/passenger car   \n",
              "2                              ปราณบุรี - ปากน้ำปราณ             motorcycle   \n",
              "3  เชื่อมทางหลวงหมายเลข 1013 (กม.ที่ 8+200) - บ้า...             motorcycle   \n",
              "4                                   เกยไชย - ศรีมงคล  private/passenger car   \n",
              "\n",
              "                                  presumed_cause  \\\n",
              "0         driving under the influence of alcohol   \n",
              "1                                       speeding   \n",
              "2                                       speeding   \n",
              "3         driving under the influence of alcohol   \n",
              "4  cutting in closely by people/vehicles/animals   \n",
              "\n",
              "                        accident_type  number_of_vehicles_involved  \\\n",
              "0                               other                            1   \n",
              "1    rollover/fallen on straight road                            1   \n",
              "2  head-on collision (not overtaking)                            2   \n",
              "3                               other                            1   \n",
              "4    rollover/fallen on straight road                            1   \n",
              "\n",
              "   number_of_fatalities  number_of_injuries weather_condition   latitude  \\\n",
              "0                     0                   2             clear  14.959105   \n",
              "1                     0                   2             clear  15.210738   \n",
              "2                     1                   0             clear  12.374259   \n",
              "3                     0                   1             clear  18.601721   \n",
              "4                     0                   0             clear  15.866389   \n",
              "\n",
              "    longitude road_description slope_description  \n",
              "0  100.873463    straight road          no slope  \n",
              "1  104.862689    straight road          no slope  \n",
              "2   99.907949       wide curve        slope area  \n",
              "3   98.804204    straight road          no slope  \n",
              "4  100.590010    straight road          no slope  "
            ],
            "text/html": [
              "\n",
              "  <div id=\"df-6735bc77-b632-4fbc-a288-c100e748ba32\" class=\"colab-df-container\">\n",
              "    <div>\n",
              "<style scoped>\n",
              "    .dataframe tbody tr th:only-of-type {\n",
              "        vertical-align: middle;\n",
              "    }\n",
              "\n",
              "    .dataframe tbody tr th {\n",
              "        vertical-align: top;\n",
              "    }\n",
              "\n",
              "    .dataframe thead th {\n",
              "        text-align: right;\n",
              "    }\n",
              "</style>\n",
              "<table border=\"1\" class=\"dataframe\">\n",
              "  <thead>\n",
              "    <tr style=\"text-align: right;\">\n",
              "      <th></th>\n",
              "      <th>acc_code</th>\n",
              "      <th>Incident_date</th>\n",
              "      <th>Incident_time</th>\n",
              "      <th>report_date</th>\n",
              "      <th>report_time</th>\n",
              "      <th>province_th</th>\n",
              "      <th>province_en</th>\n",
              "      <th>agency</th>\n",
              "      <th>route</th>\n",
              "      <th>vehicle_type</th>\n",
              "      <th>presumed_cause</th>\n",
              "      <th>accident_type</th>\n",
              "      <th>number_of_vehicles_involved</th>\n",
              "      <th>number_of_fatalities</th>\n",
              "      <th>number_of_injuries</th>\n",
              "      <th>weather_condition</th>\n",
              "      <th>latitude</th>\n",
              "      <th>longitude</th>\n",
              "      <th>road_description</th>\n",
              "      <th>slope_description</th>\n",
              "    </tr>\n",
              "  </thead>\n",
              "  <tbody>\n",
              "    <tr>\n",
              "      <th>0</th>\n",
              "      <td>571905</td>\n",
              "      <td>2019-01-01</td>\n",
              "      <td>00:00:00</td>\n",
              "      <td>2019-01-02</td>\n",
              "      <td>06:11:00</td>\n",
              "      <td>ลพบุรี</td>\n",
              "      <td>Loburi</td>\n",
              "      <td>department of rural roads</td>\n",
              "      <td>แยกทางหลวงหมายเลข 21 (กม.ที่ 31+000) - บ้านวัง...</td>\n",
              "      <td>motorcycle</td>\n",
              "      <td>driving under the influence of alcohol</td>\n",
              "      <td>other</td>\n",
              "      <td>1</td>\n",
              "      <td>0</td>\n",
              "      <td>2</td>\n",
              "      <td>clear</td>\n",
              "      <td>14.959105</td>\n",
              "      <td>100.873463</td>\n",
              "      <td>straight road</td>\n",
              "      <td>no slope</td>\n",
              "    </tr>\n",
              "    <tr>\n",
              "      <th>1</th>\n",
              "      <td>3790870</td>\n",
              "      <td>2019-01-01</td>\n",
              "      <td>00:03:00</td>\n",
              "      <td>2020-02-20</td>\n",
              "      <td>13:48:00</td>\n",
              "      <td>อุบลราชธานี</td>\n",
              "      <td>Ubon Ratchathani</td>\n",
              "      <td>department of highways</td>\n",
              "      <td>เดชอุดม - อุบลราชธานี</td>\n",
              "      <td>private/passenger car</td>\n",
              "      <td>speeding</td>\n",
              "      <td>rollover/fallen on straight road</td>\n",
              "      <td>1</td>\n",
              "      <td>0</td>\n",
              "      <td>2</td>\n",
              "      <td>clear</td>\n",
              "      <td>15.210738</td>\n",
              "      <td>104.862689</td>\n",
              "      <td>straight road</td>\n",
              "      <td>no slope</td>\n",
              "    </tr>\n",
              "    <tr>\n",
              "      <th>2</th>\n",
              "      <td>599075</td>\n",
              "      <td>2019-01-01</td>\n",
              "      <td>00:05:00</td>\n",
              "      <td>2019-01-01</td>\n",
              "      <td>10:35:00</td>\n",
              "      <td>ประจวบคีรีขันธ์</td>\n",
              "      <td>Prachuap Khiri Khan</td>\n",
              "      <td>department of highways</td>\n",
              "      <td>ปราณบุรี - ปากน้ำปราณ</td>\n",
              "      <td>motorcycle</td>\n",
              "      <td>speeding</td>\n",
              "      <td>head-on collision (not overtaking)</td>\n",
              "      <td>2</td>\n",
              "      <td>1</td>\n",
              "      <td>0</td>\n",
              "      <td>clear</td>\n",
              "      <td>12.374259</td>\n",
              "      <td>99.907949</td>\n",
              "      <td>wide curve</td>\n",
              "      <td>slope area</td>\n",
              "    </tr>\n",
              "    <tr>\n",
              "      <th>3</th>\n",
              "      <td>571924</td>\n",
              "      <td>2019-01-01</td>\n",
              "      <td>00:20:00</td>\n",
              "      <td>2019-01-02</td>\n",
              "      <td>05:12:00</td>\n",
              "      <td>เชียงใหม่</td>\n",
              "      <td>Chiang Mai</td>\n",
              "      <td>department of rural roads</td>\n",
              "      <td>เชื่อมทางหลวงหมายเลข 1013 (กม.ที่ 8+200) - บ้า...</td>\n",
              "      <td>motorcycle</td>\n",
              "      <td>driving under the influence of alcohol</td>\n",
              "      <td>other</td>\n",
              "      <td>1</td>\n",
              "      <td>0</td>\n",
              "      <td>1</td>\n",
              "      <td>clear</td>\n",
              "      <td>18.601721</td>\n",
              "      <td>98.804204</td>\n",
              "      <td>straight road</td>\n",
              "      <td>no slope</td>\n",
              "    </tr>\n",
              "    <tr>\n",
              "      <th>4</th>\n",
              "      <td>599523</td>\n",
              "      <td>2019-01-01</td>\n",
              "      <td>00:25:00</td>\n",
              "      <td>2019-01-04</td>\n",
              "      <td>09:42:00</td>\n",
              "      <td>นครสวรรค์</td>\n",
              "      <td>Nakhon Sawan</td>\n",
              "      <td>department of highways</td>\n",
              "      <td>เกยไชย - ศรีมงคล</td>\n",
              "      <td>private/passenger car</td>\n",
              "      <td>cutting in closely by people/vehicles/animals</td>\n",
              "      <td>rollover/fallen on straight road</td>\n",
              "      <td>1</td>\n",
              "      <td>0</td>\n",
              "      <td>0</td>\n",
              "      <td>clear</td>\n",
              "      <td>15.866389</td>\n",
              "      <td>100.590010</td>\n",
              "      <td>straight road</td>\n",
              "      <td>no slope</td>\n",
              "    </tr>\n",
              "  </tbody>\n",
              "</table>\n",
              "</div>\n",
              "    <div class=\"colab-df-buttons\">\n",
              "\n",
              "  <div class=\"colab-df-container\">\n",
              "    <button class=\"colab-df-convert\" onclick=\"convertToInteractive('df-6735bc77-b632-4fbc-a288-c100e748ba32')\"\n",
              "            title=\"Convert this dataframe to an interactive table.\"\n",
              "            style=\"display:none;\">\n",
              "\n",
              "  <svg xmlns=\"http://www.w3.org/2000/svg\" height=\"24px\" viewBox=\"0 -960 960 960\">\n",
              "    <path d=\"M120-120v-720h720v720H120Zm60-500h600v-160H180v160Zm220 220h160v-160H400v160Zm0 220h160v-160H400v160ZM180-400h160v-160H180v160Zm440 0h160v-160H620v160ZM180-180h160v-160H180v160Zm440 0h160v-160H620v160Z\"/>\n",
              "  </svg>\n",
              "    </button>\n",
              "\n",
              "  <style>\n",
              "    .colab-df-container {\n",
              "      display:flex;\n",
              "      gap: 12px;\n",
              "    }\n",
              "\n",
              "    .colab-df-convert {\n",
              "      background-color: #E8F0FE;\n",
              "      border: none;\n",
              "      border-radius: 50%;\n",
              "      cursor: pointer;\n",
              "      display: none;\n",
              "      fill: #1967D2;\n",
              "      height: 32px;\n",
              "      padding: 0 0 0 0;\n",
              "      width: 32px;\n",
              "    }\n",
              "\n",
              "    .colab-df-convert:hover {\n",
              "      background-color: #E2EBFA;\n",
              "      box-shadow: 0px 1px 2px rgba(60, 64, 67, 0.3), 0px 1px 3px 1px rgba(60, 64, 67, 0.15);\n",
              "      fill: #174EA6;\n",
              "    }\n",
              "\n",
              "    .colab-df-buttons div {\n",
              "      margin-bottom: 4px;\n",
              "    }\n",
              "\n",
              "    [theme=dark] .colab-df-convert {\n",
              "      background-color: #3B4455;\n",
              "      fill: #D2E3FC;\n",
              "    }\n",
              "\n",
              "    [theme=dark] .colab-df-convert:hover {\n",
              "      background-color: #434B5C;\n",
              "      box-shadow: 0px 1px 3px 1px rgba(0, 0, 0, 0.15);\n",
              "      filter: drop-shadow(0px 1px 2px rgba(0, 0, 0, 0.3));\n",
              "      fill: #FFFFFF;\n",
              "    }\n",
              "  </style>\n",
              "\n",
              "    <script>\n",
              "      const buttonEl =\n",
              "        document.querySelector('#df-6735bc77-b632-4fbc-a288-c100e748ba32 button.colab-df-convert');\n",
              "      buttonEl.style.display =\n",
              "        google.colab.kernel.accessAllowed ? 'block' : 'none';\n",
              "\n",
              "      async function convertToInteractive(key) {\n",
              "        const element = document.querySelector('#df-6735bc77-b632-4fbc-a288-c100e748ba32');\n",
              "        const dataTable =\n",
              "          await google.colab.kernel.invokeFunction('convertToInteractive',\n",
              "                                                    [key], {});\n",
              "        if (!dataTable) return;\n",
              "\n",
              "        const docLinkHtml = 'Like what you see? Visit the ' +\n",
              "          '<a target=\"_blank\" href=https://colab.research.google.com/notebooks/data_table.ipynb>data table notebook</a>'\n",
              "          + ' to learn more about interactive tables.';\n",
              "        element.innerHTML = '';\n",
              "        dataTable['output_type'] = 'display_data';\n",
              "        await google.colab.output.renderOutput(dataTable, element);\n",
              "        const docLink = document.createElement('div');\n",
              "        docLink.innerHTML = docLinkHtml;\n",
              "        element.appendChild(docLink);\n",
              "      }\n",
              "    </script>\n",
              "  </div>\n",
              "\n",
              "\n",
              "<div id=\"df-339fd021-7ed9-4198-8f9a-8e9d9a2b1fdd\">\n",
              "  <button class=\"colab-df-quickchart\" onclick=\"quickchart('df-339fd021-7ed9-4198-8f9a-8e9d9a2b1fdd')\"\n",
              "            title=\"Suggest charts.\"\n",
              "            style=\"display:none;\">\n",
              "\n",
              "<svg xmlns=\"http://www.w3.org/2000/svg\" height=\"24px\"viewBox=\"0 0 24 24\"\n",
              "     width=\"24px\">\n",
              "    <g>\n",
              "        <path d=\"M19 3H5c-1.1 0-2 .9-2 2v14c0 1.1.9 2 2 2h14c1.1 0 2-.9 2-2V5c0-1.1-.9-2-2-2zM9 17H7v-7h2v7zm4 0h-2V7h2v10zm4 0h-2v-4h2v4z\"/>\n",
              "    </g>\n",
              "</svg>\n",
              "  </button>\n",
              "\n",
              "<style>\n",
              "  .colab-df-quickchart {\n",
              "      --bg-color: #E8F0FE;\n",
              "      --fill-color: #1967D2;\n",
              "      --hover-bg-color: #E2EBFA;\n",
              "      --hover-fill-color: #174EA6;\n",
              "      --disabled-fill-color: #AAA;\n",
              "      --disabled-bg-color: #DDD;\n",
              "  }\n",
              "\n",
              "  [theme=dark] .colab-df-quickchart {\n",
              "      --bg-color: #3B4455;\n",
              "      --fill-color: #D2E3FC;\n",
              "      --hover-bg-color: #434B5C;\n",
              "      --hover-fill-color: #FFFFFF;\n",
              "      --disabled-bg-color: #3B4455;\n",
              "      --disabled-fill-color: #666;\n",
              "  }\n",
              "\n",
              "  .colab-df-quickchart {\n",
              "    background-color: var(--bg-color);\n",
              "    border: none;\n",
              "    border-radius: 50%;\n",
              "    cursor: pointer;\n",
              "    display: none;\n",
              "    fill: var(--fill-color);\n",
              "    height: 32px;\n",
              "    padding: 0;\n",
              "    width: 32px;\n",
              "  }\n",
              "\n",
              "  .colab-df-quickchart:hover {\n",
              "    background-color: var(--hover-bg-color);\n",
              "    box-shadow: 0 1px 2px rgba(60, 64, 67, 0.3), 0 1px 3px 1px rgba(60, 64, 67, 0.15);\n",
              "    fill: var(--button-hover-fill-color);\n",
              "  }\n",
              "\n",
              "  .colab-df-quickchart-complete:disabled,\n",
              "  .colab-df-quickchart-complete:disabled:hover {\n",
              "    background-color: var(--disabled-bg-color);\n",
              "    fill: var(--disabled-fill-color);\n",
              "    box-shadow: none;\n",
              "  }\n",
              "\n",
              "  .colab-df-spinner {\n",
              "    border: 2px solid var(--fill-color);\n",
              "    border-color: transparent;\n",
              "    border-bottom-color: var(--fill-color);\n",
              "    animation:\n",
              "      spin 1s steps(1) infinite;\n",
              "  }\n",
              "\n",
              "  @keyframes spin {\n",
              "    0% {\n",
              "      border-color: transparent;\n",
              "      border-bottom-color: var(--fill-color);\n",
              "      border-left-color: var(--fill-color);\n",
              "    }\n",
              "    20% {\n",
              "      border-color: transparent;\n",
              "      border-left-color: var(--fill-color);\n",
              "      border-top-color: var(--fill-color);\n",
              "    }\n",
              "    30% {\n",
              "      border-color: transparent;\n",
              "      border-left-color: var(--fill-color);\n",
              "      border-top-color: var(--fill-color);\n",
              "      border-right-color: var(--fill-color);\n",
              "    }\n",
              "    40% {\n",
              "      border-color: transparent;\n",
              "      border-right-color: var(--fill-color);\n",
              "      border-top-color: var(--fill-color);\n",
              "    }\n",
              "    60% {\n",
              "      border-color: transparent;\n",
              "      border-right-color: var(--fill-color);\n",
              "    }\n",
              "    80% {\n",
              "      border-color: transparent;\n",
              "      border-right-color: var(--fill-color);\n",
              "      border-bottom-color: var(--fill-color);\n",
              "    }\n",
              "    90% {\n",
              "      border-color: transparent;\n",
              "      border-bottom-color: var(--fill-color);\n",
              "    }\n",
              "  }\n",
              "</style>\n",
              "\n",
              "  <script>\n",
              "    async function quickchart(key) {\n",
              "      const quickchartButtonEl =\n",
              "        document.querySelector('#' + key + ' button');\n",
              "      quickchartButtonEl.disabled = true;  // To prevent multiple clicks.\n",
              "      quickchartButtonEl.classList.add('colab-df-spinner');\n",
              "      try {\n",
              "        const charts = await google.colab.kernel.invokeFunction(\n",
              "            'suggestCharts', [key], {});\n",
              "      } catch (error) {\n",
              "        console.error('Error during call to suggestCharts:', error);\n",
              "      }\n",
              "      quickchartButtonEl.classList.remove('colab-df-spinner');\n",
              "      quickchartButtonEl.classList.add('colab-df-quickchart-complete');\n",
              "    }\n",
              "    (() => {\n",
              "      let quickchartButtonEl =\n",
              "        document.querySelector('#df-339fd021-7ed9-4198-8f9a-8e9d9a2b1fdd button');\n",
              "      quickchartButtonEl.style.display =\n",
              "        google.colab.kernel.accessAllowed ? 'block' : 'none';\n",
              "    })();\n",
              "  </script>\n",
              "</div>\n",
              "    </div>\n",
              "  </div>\n"
            ]
          },
          "metadata": {},
          "execution_count": 335
        }
      ]
    },
    {
      "cell_type": "markdown",
      "source": [
        "**From our observation of the datetime columns, we noticed that in some rows there are difference in the reported  date/time and when the inccident occurred.... we can get some insight by analysing this as to why the delay occurred**"
      ],
      "metadata": {
        "id": "YLeDBZshIXmC"
      }
    },
    {
      "cell_type": "markdown",
      "source": [
        "### **Province_th Column**"
      ],
      "metadata": {
        "id": "ooZir5_SOXuo"
      }
    },
    {
      "cell_type": "code",
      "source": [
        "# preview the column\n",
        "data['province_th']"
      ],
      "metadata": {
        "id": "VpXo7BbSPVgR",
        "colab": {
          "base_uri": "https://localhost:8080/"
        },
        "outputId": "d755fa67-9c87-4774-f825-81c466f8ccc1"
      },
      "execution_count": 336,
      "outputs": [
        {
          "output_type": "execute_result",
          "data": {
            "text/plain": [
              "0                 ลพบุรี\n",
              "1            อุบลราชธานี\n",
              "2        ประจวบคีรีขันธ์\n",
              "3              เชียงใหม่\n",
              "4              นครสวรรค์\n",
              "              ...       \n",
              "81730            นนทบุรี\n",
              "81731               ตราด\n",
              "81732          มหาสารคาม\n",
              "81733          กำแพงเพชร\n",
              "81734           เชียงราย\n",
              "Name: province_th, Length: 81735, dtype: object"
            ]
          },
          "metadata": {},
          "execution_count": 336
        }
      ]
    },
    {
      "cell_type": "markdown",
      "source": [
        "From the description, this column is the names of the provinces the incidents occurred.."
      ],
      "metadata": {
        "id": "UR1hZNFsPdgj"
      }
    },
    {
      "cell_type": "markdown",
      "source": [
        "I decided to drop to column, the texts were not well represented.."
      ],
      "metadata": {
        "id": "x5VMdUIo6_uR"
      }
    },
    {
      "cell_type": "code",
      "source": [
        "data.drop('province_th', axis=1, inplace=True)"
      ],
      "metadata": {
        "id": "wd5dWJMP7OT5"
      },
      "execution_count": 337,
      "outputs": []
    },
    {
      "cell_type": "markdown",
      "source": [
        "### **Province_en Column**"
      ],
      "metadata": {
        "id": "4k3gqgs_P_AZ"
      }
    },
    {
      "cell_type": "code",
      "source": [
        "#preview the column\n",
        "data['province_en']"
      ],
      "metadata": {
        "id": "Y5ok0prBQO8d",
        "colab": {
          "base_uri": "https://localhost:8080/"
        },
        "outputId": "68c85244-24f8-4d51-80fc-71aee6980e8d"
      },
      "execution_count": 338,
      "outputs": [
        {
          "output_type": "execute_result",
          "data": {
            "text/plain": [
              "0                     Loburi\n",
              "1           Ubon Ratchathani\n",
              "2        Prachuap Khiri Khan\n",
              "3                 Chiang Mai\n",
              "4               Nakhon Sawan\n",
              "                ...         \n",
              "81730             Nonthaburi\n",
              "81731                   Trat\n",
              "81732          Maha Sarakham\n",
              "81733         Kamphaeng Phet\n",
              "81734             Chiang Rai\n",
              "Name: province_en, Length: 81735, dtype: object"
            ]
          },
          "metadata": {},
          "execution_count": 338
        }
      ]
    },
    {
      "cell_type": "markdown",
      "source": [
        "Lets check the number of province involved"
      ],
      "metadata": {
        "id": "XYaHM2HeQZOG"
      }
    },
    {
      "cell_type": "code",
      "source": [
        "# LIst of the unique province in the dataset\n",
        "data['province_en'].unique()"
      ],
      "metadata": {
        "id": "2a1PCMQjQfpB",
        "colab": {
          "base_uri": "https://localhost:8080/"
        },
        "outputId": "6b555017-4795-487c-bf2c-7622e58b9103"
      },
      "execution_count": 339,
      "outputs": [
        {
          "output_type": "execute_result",
          "data": {
            "text/plain": [
              "array(['Loburi', 'Ubon Ratchathani', 'Prachuap Khiri Khan', 'Chiang Mai',\n",
              "       'Nakhon Sawan', 'Mae Hong Son', 'Chumphon', 'Sing Buri',\n",
              "       'Songkhla', 'Lamphun', 'Trat', 'Phuket', 'Saraburi', 'Ratchaburi',\n",
              "       'Phra Nakhon Si Ayutthaya', 'Nakhon Ratchasima',\n",
              "       'Nakhon Si Thammarat', 'Chaiyaphum', 'Kalasin', 'Suphan Buri',\n",
              "       'Phetchaburi', 'Phrae', 'Chai Nat', 'Prachin Buri',\n",
              "       'Nakhon Pathom', 'Kanchanaburi', 'Phetchabun', 'Ang Thong',\n",
              "       'Nonthaburi', 'Samut Prakan', 'Bangkok', 'Phayao', 'Phatthalung',\n",
              "       'Yala', 'Maha Sarakham', 'Surat Thani', 'Amnat Charoen',\n",
              "       'Nong Khai', 'Nan', 'Phangnga', 'Narathiwat', 'Samut Sakhon',\n",
              "       'Chanthaburi', 'Samut Songkhram', 'Phitsanulok', 'Pathum Thani',\n",
              "       'Tak', 'Loei', 'Chiang Rai', 'Chachoengsao', 'Buri Ram',\n",
              "       'Uthai Thani', 'Krabi', 'Surin', 'Udon Thani', 'Si Sa Ket',\n",
              "       'Uttaradit', 'Khon Kaen', 'Kamphaeng Phet', 'Yasothon', 'Satun',\n",
              "       'Nakhon Nayok', 'Chon Buri', 'Rayong', 'buogkan', 'Sa Kaeo',\n",
              "       'Nong Bua Lam Phu', 'Roi Et', 'Sakon Nakhon', 'Mukdahan',\n",
              "       'Nakhon Phanom', 'Phichit', 'Pattani', 'Sukhothai', 'Trang',\n",
              "       'unknown', 'Lampang', 'Ranong'], dtype=object)"
            ]
          },
          "metadata": {},
          "execution_count": 339
        }
      ]
    },
    {
      "cell_type": "markdown",
      "source": [
        "Let convert this column to a categorical column"
      ],
      "metadata": {
        "id": "--x6bkLOVPmv"
      }
    },
    {
      "cell_type": "code",
      "source": [
        "data['province_en'] = data['province_en'].astype('category')"
      ],
      "metadata": {
        "id": "6cidun-7VV-8"
      },
      "execution_count": 340,
      "outputs": []
    },
    {
      "cell_type": "code",
      "source": [
        "data['province_en'].info()"
      ],
      "metadata": {
        "id": "i2y-_7uZVe1C",
        "colab": {
          "base_uri": "https://localhost:8080/"
        },
        "outputId": "320f1b52-8092-4657-f371-bb649df39018"
      },
      "execution_count": 341,
      "outputs": [
        {
          "output_type": "stream",
          "name": "stdout",
          "text": [
            "<class 'pandas.core.series.Series'>\n",
            "Int64Index: 81735 entries, 0 to 81734\n",
            "Series name: province_en\n",
            "Non-Null Count  Dtype   \n",
            "--------------  -----   \n",
            "81735 non-null  category\n",
            "dtypes: category(1)\n",
            "memory usage: 721.0 KB\n"
          ]
        }
      ]
    },
    {
      "cell_type": "markdown",
      "source": [
        "Renaming the province_en to province since we dropped the thai-meanning"
      ],
      "metadata": {
        "id": "b0xb5jJflzwB"
      }
    },
    {
      "cell_type": "code",
      "source": [
        "data.columns = [col.replace(\"_en\", \"\") for col in data.columns]"
      ],
      "metadata": {
        "id": "Gmv7GWcdlqTw"
      },
      "execution_count": 342,
      "outputs": []
    },
    {
      "cell_type": "code",
      "source": [
        "data.head(3)"
      ],
      "metadata": {
        "id": "Wrzo1tm7-Pxt",
        "colab": {
          "base_uri": "https://localhost:8080/",
          "height": 319
        },
        "outputId": "62620b25-c9ca-4bd4-f471-8842cbce65c1"
      },
      "execution_count": 343,
      "outputs": [
        {
          "output_type": "execute_result",
          "data": {
            "text/plain": [
              "   acc_code Incident_date Incident_time report_date report_time  \\\n",
              "0    571905    2019-01-01      00:00:00  2019-01-02    06:11:00   \n",
              "1   3790870    2019-01-01      00:03:00  2020-02-20    13:48:00   \n",
              "2    599075    2019-01-01      00:05:00  2019-01-01    10:35:00   \n",
              "\n",
              "              province                     agency  \\\n",
              "0               Loburi  department of rural roads   \n",
              "1     Ubon Ratchathani     department of highways   \n",
              "2  Prachuap Khiri Khan     department of highways   \n",
              "\n",
              "                                               route           vehicle_type  \\\n",
              "0  แยกทางหลวงหมายเลข 21 (กม.ที่ 31+000) - บ้านวัง...             motorcycle   \n",
              "1                              เดชอุดม - อุบลราชธานี  private/passenger car   \n",
              "2                              ปราณบุรี - ปากน้ำปราณ             motorcycle   \n",
              "\n",
              "                           presumed_cause                       accident_type  \\\n",
              "0  driving under the influence of alcohol                               other   \n",
              "1                                speeding    rollover/fallen on straight road   \n",
              "2                                speeding  head-on collision (not overtaking)   \n",
              "\n",
              "   number_of_vehicles_involved  number_of_fatalities  number_of_injuries  \\\n",
              "0                            1                     0                   2   \n",
              "1                            1                     0                   2   \n",
              "2                            2                     1                   0   \n",
              "\n",
              "  weather_condition   latitude   longitude road_description slope_description  \n",
              "0             clear  14.959105  100.873463    straight road          no slope  \n",
              "1             clear  15.210738  104.862689    straight road          no slope  \n",
              "2             clear  12.374259   99.907949       wide curve        slope area  "
            ],
            "text/html": [
              "\n",
              "  <div id=\"df-bcbe7d02-65fe-47c0-95b5-f826065bac6d\" class=\"colab-df-container\">\n",
              "    <div>\n",
              "<style scoped>\n",
              "    .dataframe tbody tr th:only-of-type {\n",
              "        vertical-align: middle;\n",
              "    }\n",
              "\n",
              "    .dataframe tbody tr th {\n",
              "        vertical-align: top;\n",
              "    }\n",
              "\n",
              "    .dataframe thead th {\n",
              "        text-align: right;\n",
              "    }\n",
              "</style>\n",
              "<table border=\"1\" class=\"dataframe\">\n",
              "  <thead>\n",
              "    <tr style=\"text-align: right;\">\n",
              "      <th></th>\n",
              "      <th>acc_code</th>\n",
              "      <th>Incident_date</th>\n",
              "      <th>Incident_time</th>\n",
              "      <th>report_date</th>\n",
              "      <th>report_time</th>\n",
              "      <th>province</th>\n",
              "      <th>agency</th>\n",
              "      <th>route</th>\n",
              "      <th>vehicle_type</th>\n",
              "      <th>presumed_cause</th>\n",
              "      <th>accident_type</th>\n",
              "      <th>number_of_vehicles_involved</th>\n",
              "      <th>number_of_fatalities</th>\n",
              "      <th>number_of_injuries</th>\n",
              "      <th>weather_condition</th>\n",
              "      <th>latitude</th>\n",
              "      <th>longitude</th>\n",
              "      <th>road_description</th>\n",
              "      <th>slope_description</th>\n",
              "    </tr>\n",
              "  </thead>\n",
              "  <tbody>\n",
              "    <tr>\n",
              "      <th>0</th>\n",
              "      <td>571905</td>\n",
              "      <td>2019-01-01</td>\n",
              "      <td>00:00:00</td>\n",
              "      <td>2019-01-02</td>\n",
              "      <td>06:11:00</td>\n",
              "      <td>Loburi</td>\n",
              "      <td>department of rural roads</td>\n",
              "      <td>แยกทางหลวงหมายเลข 21 (กม.ที่ 31+000) - บ้านวัง...</td>\n",
              "      <td>motorcycle</td>\n",
              "      <td>driving under the influence of alcohol</td>\n",
              "      <td>other</td>\n",
              "      <td>1</td>\n",
              "      <td>0</td>\n",
              "      <td>2</td>\n",
              "      <td>clear</td>\n",
              "      <td>14.959105</td>\n",
              "      <td>100.873463</td>\n",
              "      <td>straight road</td>\n",
              "      <td>no slope</td>\n",
              "    </tr>\n",
              "    <tr>\n",
              "      <th>1</th>\n",
              "      <td>3790870</td>\n",
              "      <td>2019-01-01</td>\n",
              "      <td>00:03:00</td>\n",
              "      <td>2020-02-20</td>\n",
              "      <td>13:48:00</td>\n",
              "      <td>Ubon Ratchathani</td>\n",
              "      <td>department of highways</td>\n",
              "      <td>เดชอุดม - อุบลราชธานี</td>\n",
              "      <td>private/passenger car</td>\n",
              "      <td>speeding</td>\n",
              "      <td>rollover/fallen on straight road</td>\n",
              "      <td>1</td>\n",
              "      <td>0</td>\n",
              "      <td>2</td>\n",
              "      <td>clear</td>\n",
              "      <td>15.210738</td>\n",
              "      <td>104.862689</td>\n",
              "      <td>straight road</td>\n",
              "      <td>no slope</td>\n",
              "    </tr>\n",
              "    <tr>\n",
              "      <th>2</th>\n",
              "      <td>599075</td>\n",
              "      <td>2019-01-01</td>\n",
              "      <td>00:05:00</td>\n",
              "      <td>2019-01-01</td>\n",
              "      <td>10:35:00</td>\n",
              "      <td>Prachuap Khiri Khan</td>\n",
              "      <td>department of highways</td>\n",
              "      <td>ปราณบุรี - ปากน้ำปราณ</td>\n",
              "      <td>motorcycle</td>\n",
              "      <td>speeding</td>\n",
              "      <td>head-on collision (not overtaking)</td>\n",
              "      <td>2</td>\n",
              "      <td>1</td>\n",
              "      <td>0</td>\n",
              "      <td>clear</td>\n",
              "      <td>12.374259</td>\n",
              "      <td>99.907949</td>\n",
              "      <td>wide curve</td>\n",
              "      <td>slope area</td>\n",
              "    </tr>\n",
              "  </tbody>\n",
              "</table>\n",
              "</div>\n",
              "    <div class=\"colab-df-buttons\">\n",
              "\n",
              "  <div class=\"colab-df-container\">\n",
              "    <button class=\"colab-df-convert\" onclick=\"convertToInteractive('df-bcbe7d02-65fe-47c0-95b5-f826065bac6d')\"\n",
              "            title=\"Convert this dataframe to an interactive table.\"\n",
              "            style=\"display:none;\">\n",
              "\n",
              "  <svg xmlns=\"http://www.w3.org/2000/svg\" height=\"24px\" viewBox=\"0 -960 960 960\">\n",
              "    <path d=\"M120-120v-720h720v720H120Zm60-500h600v-160H180v160Zm220 220h160v-160H400v160Zm0 220h160v-160H400v160ZM180-400h160v-160H180v160Zm440 0h160v-160H620v160ZM180-180h160v-160H180v160Zm440 0h160v-160H620v160Z\"/>\n",
              "  </svg>\n",
              "    </button>\n",
              "\n",
              "  <style>\n",
              "    .colab-df-container {\n",
              "      display:flex;\n",
              "      gap: 12px;\n",
              "    }\n",
              "\n",
              "    .colab-df-convert {\n",
              "      background-color: #E8F0FE;\n",
              "      border: none;\n",
              "      border-radius: 50%;\n",
              "      cursor: pointer;\n",
              "      display: none;\n",
              "      fill: #1967D2;\n",
              "      height: 32px;\n",
              "      padding: 0 0 0 0;\n",
              "      width: 32px;\n",
              "    }\n",
              "\n",
              "    .colab-df-convert:hover {\n",
              "      background-color: #E2EBFA;\n",
              "      box-shadow: 0px 1px 2px rgba(60, 64, 67, 0.3), 0px 1px 3px 1px rgba(60, 64, 67, 0.15);\n",
              "      fill: #174EA6;\n",
              "    }\n",
              "\n",
              "    .colab-df-buttons div {\n",
              "      margin-bottom: 4px;\n",
              "    }\n",
              "\n",
              "    [theme=dark] .colab-df-convert {\n",
              "      background-color: #3B4455;\n",
              "      fill: #D2E3FC;\n",
              "    }\n",
              "\n",
              "    [theme=dark] .colab-df-convert:hover {\n",
              "      background-color: #434B5C;\n",
              "      box-shadow: 0px 1px 3px 1px rgba(0, 0, 0, 0.15);\n",
              "      filter: drop-shadow(0px 1px 2px rgba(0, 0, 0, 0.3));\n",
              "      fill: #FFFFFF;\n",
              "    }\n",
              "  </style>\n",
              "\n",
              "    <script>\n",
              "      const buttonEl =\n",
              "        document.querySelector('#df-bcbe7d02-65fe-47c0-95b5-f826065bac6d button.colab-df-convert');\n",
              "      buttonEl.style.display =\n",
              "        google.colab.kernel.accessAllowed ? 'block' : 'none';\n",
              "\n",
              "      async function convertToInteractive(key) {\n",
              "        const element = document.querySelector('#df-bcbe7d02-65fe-47c0-95b5-f826065bac6d');\n",
              "        const dataTable =\n",
              "          await google.colab.kernel.invokeFunction('convertToInteractive',\n",
              "                                                    [key], {});\n",
              "        if (!dataTable) return;\n",
              "\n",
              "        const docLinkHtml = 'Like what you see? Visit the ' +\n",
              "          '<a target=\"_blank\" href=https://colab.research.google.com/notebooks/data_table.ipynb>data table notebook</a>'\n",
              "          + ' to learn more about interactive tables.';\n",
              "        element.innerHTML = '';\n",
              "        dataTable['output_type'] = 'display_data';\n",
              "        await google.colab.output.renderOutput(dataTable, element);\n",
              "        const docLink = document.createElement('div');\n",
              "        docLink.innerHTML = docLinkHtml;\n",
              "        element.appendChild(docLink);\n",
              "      }\n",
              "    </script>\n",
              "  </div>\n",
              "\n",
              "\n",
              "<div id=\"df-d1f90f30-1144-4b63-b87b-961d08159e58\">\n",
              "  <button class=\"colab-df-quickchart\" onclick=\"quickchart('df-d1f90f30-1144-4b63-b87b-961d08159e58')\"\n",
              "            title=\"Suggest charts.\"\n",
              "            style=\"display:none;\">\n",
              "\n",
              "<svg xmlns=\"http://www.w3.org/2000/svg\" height=\"24px\"viewBox=\"0 0 24 24\"\n",
              "     width=\"24px\">\n",
              "    <g>\n",
              "        <path d=\"M19 3H5c-1.1 0-2 .9-2 2v14c0 1.1.9 2 2 2h14c1.1 0 2-.9 2-2V5c0-1.1-.9-2-2-2zM9 17H7v-7h2v7zm4 0h-2V7h2v10zm4 0h-2v-4h2v4z\"/>\n",
              "    </g>\n",
              "</svg>\n",
              "  </button>\n",
              "\n",
              "<style>\n",
              "  .colab-df-quickchart {\n",
              "      --bg-color: #E8F0FE;\n",
              "      --fill-color: #1967D2;\n",
              "      --hover-bg-color: #E2EBFA;\n",
              "      --hover-fill-color: #174EA6;\n",
              "      --disabled-fill-color: #AAA;\n",
              "      --disabled-bg-color: #DDD;\n",
              "  }\n",
              "\n",
              "  [theme=dark] .colab-df-quickchart {\n",
              "      --bg-color: #3B4455;\n",
              "      --fill-color: #D2E3FC;\n",
              "      --hover-bg-color: #434B5C;\n",
              "      --hover-fill-color: #FFFFFF;\n",
              "      --disabled-bg-color: #3B4455;\n",
              "      --disabled-fill-color: #666;\n",
              "  }\n",
              "\n",
              "  .colab-df-quickchart {\n",
              "    background-color: var(--bg-color);\n",
              "    border: none;\n",
              "    border-radius: 50%;\n",
              "    cursor: pointer;\n",
              "    display: none;\n",
              "    fill: var(--fill-color);\n",
              "    height: 32px;\n",
              "    padding: 0;\n",
              "    width: 32px;\n",
              "  }\n",
              "\n",
              "  .colab-df-quickchart:hover {\n",
              "    background-color: var(--hover-bg-color);\n",
              "    box-shadow: 0 1px 2px rgba(60, 64, 67, 0.3), 0 1px 3px 1px rgba(60, 64, 67, 0.15);\n",
              "    fill: var(--button-hover-fill-color);\n",
              "  }\n",
              "\n",
              "  .colab-df-quickchart-complete:disabled,\n",
              "  .colab-df-quickchart-complete:disabled:hover {\n",
              "    background-color: var(--disabled-bg-color);\n",
              "    fill: var(--disabled-fill-color);\n",
              "    box-shadow: none;\n",
              "  }\n",
              "\n",
              "  .colab-df-spinner {\n",
              "    border: 2px solid var(--fill-color);\n",
              "    border-color: transparent;\n",
              "    border-bottom-color: var(--fill-color);\n",
              "    animation:\n",
              "      spin 1s steps(1) infinite;\n",
              "  }\n",
              "\n",
              "  @keyframes spin {\n",
              "    0% {\n",
              "      border-color: transparent;\n",
              "      border-bottom-color: var(--fill-color);\n",
              "      border-left-color: var(--fill-color);\n",
              "    }\n",
              "    20% {\n",
              "      border-color: transparent;\n",
              "      border-left-color: var(--fill-color);\n",
              "      border-top-color: var(--fill-color);\n",
              "    }\n",
              "    30% {\n",
              "      border-color: transparent;\n",
              "      border-left-color: var(--fill-color);\n",
              "      border-top-color: var(--fill-color);\n",
              "      border-right-color: var(--fill-color);\n",
              "    }\n",
              "    40% {\n",
              "      border-color: transparent;\n",
              "      border-right-color: var(--fill-color);\n",
              "      border-top-color: var(--fill-color);\n",
              "    }\n",
              "    60% {\n",
              "      border-color: transparent;\n",
              "      border-right-color: var(--fill-color);\n",
              "    }\n",
              "    80% {\n",
              "      border-color: transparent;\n",
              "      border-right-color: var(--fill-color);\n",
              "      border-bottom-color: var(--fill-color);\n",
              "    }\n",
              "    90% {\n",
              "      border-color: transparent;\n",
              "      border-bottom-color: var(--fill-color);\n",
              "    }\n",
              "  }\n",
              "</style>\n",
              "\n",
              "  <script>\n",
              "    async function quickchart(key) {\n",
              "      const quickchartButtonEl =\n",
              "        document.querySelector('#' + key + ' button');\n",
              "      quickchartButtonEl.disabled = true;  // To prevent multiple clicks.\n",
              "      quickchartButtonEl.classList.add('colab-df-spinner');\n",
              "      try {\n",
              "        const charts = await google.colab.kernel.invokeFunction(\n",
              "            'suggestCharts', [key], {});\n",
              "      } catch (error) {\n",
              "        console.error('Error during call to suggestCharts:', error);\n",
              "      }\n",
              "      quickchartButtonEl.classList.remove('colab-df-spinner');\n",
              "      quickchartButtonEl.classList.add('colab-df-quickchart-complete');\n",
              "    }\n",
              "    (() => {\n",
              "      let quickchartButtonEl =\n",
              "        document.querySelector('#df-d1f90f30-1144-4b63-b87b-961d08159e58 button');\n",
              "      quickchartButtonEl.style.display =\n",
              "        google.colab.kernel.accessAllowed ? 'block' : 'none';\n",
              "    })();\n",
              "  </script>\n",
              "</div>\n",
              "    </div>\n",
              "  </div>\n"
            ]
          },
          "metadata": {},
          "execution_count": 343
        }
      ]
    },
    {
      "cell_type": "markdown",
      "source": [
        "### **Agency Column**"
      ],
      "metadata": {
        "id": "gyAZkQS9_Z1i"
      }
    },
    {
      "cell_type": "code",
      "source": [
        "## Getting the categories of the column\n",
        "data['agency'].unique()"
      ],
      "metadata": {
        "id": "CWbAHCVG_l2h",
        "colab": {
          "base_uri": "https://localhost:8080/"
        },
        "outputId": "3948996c-fcdf-4ee4-f8b3-d3e3ce8e089e"
      },
      "execution_count": 344,
      "outputs": [
        {
          "output_type": "execute_result",
          "data": {
            "text/plain": [
              "array(['department of rural roads', 'department of highways',\n",
              "       'expressway authority of thailand'], dtype=object)"
            ]
          },
          "metadata": {},
          "execution_count": 344
        }
      ]
    },
    {
      "cell_type": "markdown",
      "source": [
        "We have three government agency involved :\n",
        "\n",
        "*   department of rural roads  \n",
        "*   department of highways\n",
        "*   expressway authority of thailand\n",
        "\n",
        "\n"
      ],
      "metadata": {
        "id": "4WNrDDoi_6C1"
      }
    },
    {
      "cell_type": "markdown",
      "source": [
        "### **Route Column**"
      ],
      "metadata": {
        "id": "RLgmMM68AmXn"
      }
    },
    {
      "cell_type": "code",
      "source": [
        "data['route'].head()"
      ],
      "metadata": {
        "id": "o6IA1Tm_AxTR",
        "colab": {
          "base_uri": "https://localhost:8080/"
        },
        "outputId": "4d581429-e870-4bd4-a495-dbe02af66030"
      },
      "execution_count": 345,
      "outputs": [
        {
          "output_type": "execute_result",
          "data": {
            "text/plain": [
              "0    แยกทางหลวงหมายเลข 21 (กม.ที่ 31+000) - บ้านวัง...\n",
              "1                                เดชอุดม - อุบลราชธานี\n",
              "2                                ปราณบุรี - ปากน้ำปราณ\n",
              "3    เชื่อมทางหลวงหมายเลข 1013 (กม.ที่ 8+200) - บ้า...\n",
              "4                                     เกยไชย - ศรีมงคล\n",
              "Name: route, dtype: object"
            ]
          },
          "metadata": {},
          "execution_count": 345
        }
      ]
    },
    {
      "cell_type": "markdown",
      "source": [
        "From the list above, we noticed the route was recorded in thai language. so we will translate the language from thai to english."
      ],
      "metadata": {
        "id": "1seGn-d8kzDu"
      }
    },
    {
      "cell_type": "code",
      "source": [
        "# getting the unique route in the coulmn\n",
        "data['route'].nunique()"
      ],
      "metadata": {
        "id": "dAW0I2P9A-Zi",
        "colab": {
          "base_uri": "https://localhost:8080/"
        },
        "outputId": "043e5b9a-d184-4313-a241-e22b677ef720"
      },
      "execution_count": 346,
      "outputs": [
        {
          "output_type": "execute_result",
          "data": {
            "text/plain": [
              "3882"
            ]
          },
          "metadata": {},
          "execution_count": 346
        }
      ]
    },
    {
      "cell_type": "markdown",
      "source": [
        "there are 3882 unique route in the column, we will translate this unique routes to english and use it as a dictionary to interprete the entire route column"
      ],
      "metadata": {
        "id": "TI39YdH0lMpa"
      }
    },
    {
      "cell_type": "code",
      "source": [
        "# importing the csv file that has the translation of the route unique value\n",
        "route_dic = pd.read_csv('https://raw.githubusercontent.com/LegendSeyi/Dataset/main/tranlated_thai_routes.csv', encoding='utf-8')\n",
        "route_dic"
      ],
      "metadata": {
        "id": "ysNlppI-fFWG",
        "colab": {
          "base_uri": "https://localhost:8080/",
          "height": 423
        },
        "outputId": "2f15e377-70bd-4c51-f9d2-63eb80116e36"
      },
      "execution_count": 347,
      "outputs": [
        {
          "output_type": "execute_result",
          "data": {
            "text/plain": [
              "                                                   Thai  \\\n",
              "0     แยกทางหลวงหมายเลข 21 (กม.ที่ 31+000) - บ้านวัง...   \n",
              "1                                 เดชอุดม - อุบลราชธานี   \n",
              "2                                 ปราณบุรี - ปากน้ำปราณ   \n",
              "3     เชื่อมทางหลวงหมายเลข 1013 (กม.ที่ 8+200) - บ้า...   \n",
              "4                                      เกยไชย - ศรีมงคล   \n",
              "...                                                 ...   \n",
              "3877  แยกทางหลวงหมายเลข 3204 (กม.ที่ 16+940) - บ้านขลู่   \n",
              "3878  แยกทางหลวงหมายเลข 3 (กม.ที่ 452+700) - บ้านตาหนึก   \n",
              "3879  แยกทางหลวง 3329 (กม.ที่ 16+720) -บ้านนิคมเขาบ่...   \n",
              "3880    แยกทางหลวงหมายเลข 347 (กม.ที่ 21+700) - บ้านรุน   \n",
              "3881  แยกทางหลวงหมายเลข 35 (กม.ที่ 76+070) - บ้านสี่แยก   \n",
              "\n",
              "                                                English  \n",
              "0             Highway 21 (km 31+000) - Ban Wang Phloeng  \n",
              "1                           Dej Udom - Ubon Ratchathani  \n",
              "2                               Pranburi - Pak Nam Pran  \n",
              "3      Connect Highway 1013 (km 8+200) - Ban Khun Klang  \n",
              "4                                Kayachai -Sri Mongkhon  \n",
              "...                                                 ...  \n",
              "3877  Highway intersection number 3204 (km 16+940) -...  \n",
              "3878                Highway 3 (Km. 452+700) - Ban Ta Nu  \n",
              "3879  Highway 3329 (Km 16+720) -Ban Nikhom Khao Bo Kaeo  \n",
              "3880  Highway intersection number 347 (Km. 21+700) -...  \n",
              "3881          Highway 35 (km 76+070) - Ban intersection  \n",
              "\n",
              "[3882 rows x 2 columns]"
            ],
            "text/html": [
              "\n",
              "  <div id=\"df-4ed940a7-95fd-430e-bbf2-640f752a9818\" class=\"colab-df-container\">\n",
              "    <div>\n",
              "<style scoped>\n",
              "    .dataframe tbody tr th:only-of-type {\n",
              "        vertical-align: middle;\n",
              "    }\n",
              "\n",
              "    .dataframe tbody tr th {\n",
              "        vertical-align: top;\n",
              "    }\n",
              "\n",
              "    .dataframe thead th {\n",
              "        text-align: right;\n",
              "    }\n",
              "</style>\n",
              "<table border=\"1\" class=\"dataframe\">\n",
              "  <thead>\n",
              "    <tr style=\"text-align: right;\">\n",
              "      <th></th>\n",
              "      <th>Thai</th>\n",
              "      <th>English</th>\n",
              "    </tr>\n",
              "  </thead>\n",
              "  <tbody>\n",
              "    <tr>\n",
              "      <th>0</th>\n",
              "      <td>แยกทางหลวงหมายเลข 21 (กม.ที่ 31+000) - บ้านวัง...</td>\n",
              "      <td>Highway 21 (km 31+000) - Ban Wang Phloeng</td>\n",
              "    </tr>\n",
              "    <tr>\n",
              "      <th>1</th>\n",
              "      <td>เดชอุดม - อุบลราชธานี</td>\n",
              "      <td>Dej Udom - Ubon Ratchathani</td>\n",
              "    </tr>\n",
              "    <tr>\n",
              "      <th>2</th>\n",
              "      <td>ปราณบุรี - ปากน้ำปราณ</td>\n",
              "      <td>Pranburi - Pak Nam Pran</td>\n",
              "    </tr>\n",
              "    <tr>\n",
              "      <th>3</th>\n",
              "      <td>เชื่อมทางหลวงหมายเลข 1013 (กม.ที่ 8+200) - บ้า...</td>\n",
              "      <td>Connect Highway 1013 (km 8+200) - Ban Khun Klang</td>\n",
              "    </tr>\n",
              "    <tr>\n",
              "      <th>4</th>\n",
              "      <td>เกยไชย - ศรีมงคล</td>\n",
              "      <td>Kayachai -Sri Mongkhon</td>\n",
              "    </tr>\n",
              "    <tr>\n",
              "      <th>...</th>\n",
              "      <td>...</td>\n",
              "      <td>...</td>\n",
              "    </tr>\n",
              "    <tr>\n",
              "      <th>3877</th>\n",
              "      <td>แยกทางหลวงหมายเลข 3204 (กม.ที่ 16+940) - บ้านขลู่</td>\n",
              "      <td>Highway intersection number 3204 (km 16+940) -...</td>\n",
              "    </tr>\n",
              "    <tr>\n",
              "      <th>3878</th>\n",
              "      <td>แยกทางหลวงหมายเลข 3 (กม.ที่ 452+700) - บ้านตาหนึก</td>\n",
              "      <td>Highway 3 (Km. 452+700) - Ban Ta Nu</td>\n",
              "    </tr>\n",
              "    <tr>\n",
              "      <th>3879</th>\n",
              "      <td>แยกทางหลวง 3329 (กม.ที่ 16+720) -บ้านนิคมเขาบ่...</td>\n",
              "      <td>Highway 3329 (Km 16+720) -Ban Nikhom Khao Bo Kaeo</td>\n",
              "    </tr>\n",
              "    <tr>\n",
              "      <th>3880</th>\n",
              "      <td>แยกทางหลวงหมายเลข 347 (กม.ที่ 21+700) - บ้านรุน</td>\n",
              "      <td>Highway intersection number 347 (Km. 21+700) -...</td>\n",
              "    </tr>\n",
              "    <tr>\n",
              "      <th>3881</th>\n",
              "      <td>แยกทางหลวงหมายเลข 35 (กม.ที่ 76+070) - บ้านสี่แยก</td>\n",
              "      <td>Highway 35 (km 76+070) - Ban intersection</td>\n",
              "    </tr>\n",
              "  </tbody>\n",
              "</table>\n",
              "<p>3882 rows × 2 columns</p>\n",
              "</div>\n",
              "    <div class=\"colab-df-buttons\">\n",
              "\n",
              "  <div class=\"colab-df-container\">\n",
              "    <button class=\"colab-df-convert\" onclick=\"convertToInteractive('df-4ed940a7-95fd-430e-bbf2-640f752a9818')\"\n",
              "            title=\"Convert this dataframe to an interactive table.\"\n",
              "            style=\"display:none;\">\n",
              "\n",
              "  <svg xmlns=\"http://www.w3.org/2000/svg\" height=\"24px\" viewBox=\"0 -960 960 960\">\n",
              "    <path d=\"M120-120v-720h720v720H120Zm60-500h600v-160H180v160Zm220 220h160v-160H400v160Zm0 220h160v-160H400v160ZM180-400h160v-160H180v160Zm440 0h160v-160H620v160ZM180-180h160v-160H180v160Zm440 0h160v-160H620v160Z\"/>\n",
              "  </svg>\n",
              "    </button>\n",
              "\n",
              "  <style>\n",
              "    .colab-df-container {\n",
              "      display:flex;\n",
              "      gap: 12px;\n",
              "    }\n",
              "\n",
              "    .colab-df-convert {\n",
              "      background-color: #E8F0FE;\n",
              "      border: none;\n",
              "      border-radius: 50%;\n",
              "      cursor: pointer;\n",
              "      display: none;\n",
              "      fill: #1967D2;\n",
              "      height: 32px;\n",
              "      padding: 0 0 0 0;\n",
              "      width: 32px;\n",
              "    }\n",
              "\n",
              "    .colab-df-convert:hover {\n",
              "      background-color: #E2EBFA;\n",
              "      box-shadow: 0px 1px 2px rgba(60, 64, 67, 0.3), 0px 1px 3px 1px rgba(60, 64, 67, 0.15);\n",
              "      fill: #174EA6;\n",
              "    }\n",
              "\n",
              "    .colab-df-buttons div {\n",
              "      margin-bottom: 4px;\n",
              "    }\n",
              "\n",
              "    [theme=dark] .colab-df-convert {\n",
              "      background-color: #3B4455;\n",
              "      fill: #D2E3FC;\n",
              "    }\n",
              "\n",
              "    [theme=dark] .colab-df-convert:hover {\n",
              "      background-color: #434B5C;\n",
              "      box-shadow: 0px 1px 3px 1px rgba(0, 0, 0, 0.15);\n",
              "      filter: drop-shadow(0px 1px 2px rgba(0, 0, 0, 0.3));\n",
              "      fill: #FFFFFF;\n",
              "    }\n",
              "  </style>\n",
              "\n",
              "    <script>\n",
              "      const buttonEl =\n",
              "        document.querySelector('#df-4ed940a7-95fd-430e-bbf2-640f752a9818 button.colab-df-convert');\n",
              "      buttonEl.style.display =\n",
              "        google.colab.kernel.accessAllowed ? 'block' : 'none';\n",
              "\n",
              "      async function convertToInteractive(key) {\n",
              "        const element = document.querySelector('#df-4ed940a7-95fd-430e-bbf2-640f752a9818');\n",
              "        const dataTable =\n",
              "          await google.colab.kernel.invokeFunction('convertToInteractive',\n",
              "                                                    [key], {});\n",
              "        if (!dataTable) return;\n",
              "\n",
              "        const docLinkHtml = 'Like what you see? Visit the ' +\n",
              "          '<a target=\"_blank\" href=https://colab.research.google.com/notebooks/data_table.ipynb>data table notebook</a>'\n",
              "          + ' to learn more about interactive tables.';\n",
              "        element.innerHTML = '';\n",
              "        dataTable['output_type'] = 'display_data';\n",
              "        await google.colab.output.renderOutput(dataTable, element);\n",
              "        const docLink = document.createElement('div');\n",
              "        docLink.innerHTML = docLinkHtml;\n",
              "        element.appendChild(docLink);\n",
              "      }\n",
              "    </script>\n",
              "  </div>\n",
              "\n",
              "\n",
              "<div id=\"df-f9c7f417-5879-474e-9f74-05d924be3c0d\">\n",
              "  <button class=\"colab-df-quickchart\" onclick=\"quickchart('df-f9c7f417-5879-474e-9f74-05d924be3c0d')\"\n",
              "            title=\"Suggest charts.\"\n",
              "            style=\"display:none;\">\n",
              "\n",
              "<svg xmlns=\"http://www.w3.org/2000/svg\" height=\"24px\"viewBox=\"0 0 24 24\"\n",
              "     width=\"24px\">\n",
              "    <g>\n",
              "        <path d=\"M19 3H5c-1.1 0-2 .9-2 2v14c0 1.1.9 2 2 2h14c1.1 0 2-.9 2-2V5c0-1.1-.9-2-2-2zM9 17H7v-7h2v7zm4 0h-2V7h2v10zm4 0h-2v-4h2v4z\"/>\n",
              "    </g>\n",
              "</svg>\n",
              "  </button>\n",
              "\n",
              "<style>\n",
              "  .colab-df-quickchart {\n",
              "      --bg-color: #E8F0FE;\n",
              "      --fill-color: #1967D2;\n",
              "      --hover-bg-color: #E2EBFA;\n",
              "      --hover-fill-color: #174EA6;\n",
              "      --disabled-fill-color: #AAA;\n",
              "      --disabled-bg-color: #DDD;\n",
              "  }\n",
              "\n",
              "  [theme=dark] .colab-df-quickchart {\n",
              "      --bg-color: #3B4455;\n",
              "      --fill-color: #D2E3FC;\n",
              "      --hover-bg-color: #434B5C;\n",
              "      --hover-fill-color: #FFFFFF;\n",
              "      --disabled-bg-color: #3B4455;\n",
              "      --disabled-fill-color: #666;\n",
              "  }\n",
              "\n",
              "  .colab-df-quickchart {\n",
              "    background-color: var(--bg-color);\n",
              "    border: none;\n",
              "    border-radius: 50%;\n",
              "    cursor: pointer;\n",
              "    display: none;\n",
              "    fill: var(--fill-color);\n",
              "    height: 32px;\n",
              "    padding: 0;\n",
              "    width: 32px;\n",
              "  }\n",
              "\n",
              "  .colab-df-quickchart:hover {\n",
              "    background-color: var(--hover-bg-color);\n",
              "    box-shadow: 0 1px 2px rgba(60, 64, 67, 0.3), 0 1px 3px 1px rgba(60, 64, 67, 0.15);\n",
              "    fill: var(--button-hover-fill-color);\n",
              "  }\n",
              "\n",
              "  .colab-df-quickchart-complete:disabled,\n",
              "  .colab-df-quickchart-complete:disabled:hover {\n",
              "    background-color: var(--disabled-bg-color);\n",
              "    fill: var(--disabled-fill-color);\n",
              "    box-shadow: none;\n",
              "  }\n",
              "\n",
              "  .colab-df-spinner {\n",
              "    border: 2px solid var(--fill-color);\n",
              "    border-color: transparent;\n",
              "    border-bottom-color: var(--fill-color);\n",
              "    animation:\n",
              "      spin 1s steps(1) infinite;\n",
              "  }\n",
              "\n",
              "  @keyframes spin {\n",
              "    0% {\n",
              "      border-color: transparent;\n",
              "      border-bottom-color: var(--fill-color);\n",
              "      border-left-color: var(--fill-color);\n",
              "    }\n",
              "    20% {\n",
              "      border-color: transparent;\n",
              "      border-left-color: var(--fill-color);\n",
              "      border-top-color: var(--fill-color);\n",
              "    }\n",
              "    30% {\n",
              "      border-color: transparent;\n",
              "      border-left-color: var(--fill-color);\n",
              "      border-top-color: var(--fill-color);\n",
              "      border-right-color: var(--fill-color);\n",
              "    }\n",
              "    40% {\n",
              "      border-color: transparent;\n",
              "      border-right-color: var(--fill-color);\n",
              "      border-top-color: var(--fill-color);\n",
              "    }\n",
              "    60% {\n",
              "      border-color: transparent;\n",
              "      border-right-color: var(--fill-color);\n",
              "    }\n",
              "    80% {\n",
              "      border-color: transparent;\n",
              "      border-right-color: var(--fill-color);\n",
              "      border-bottom-color: var(--fill-color);\n",
              "    }\n",
              "    90% {\n",
              "      border-color: transparent;\n",
              "      border-bottom-color: var(--fill-color);\n",
              "    }\n",
              "  }\n",
              "</style>\n",
              "\n",
              "  <script>\n",
              "    async function quickchart(key) {\n",
              "      const quickchartButtonEl =\n",
              "        document.querySelector('#' + key + ' button');\n",
              "      quickchartButtonEl.disabled = true;  // To prevent multiple clicks.\n",
              "      quickchartButtonEl.classList.add('colab-df-spinner');\n",
              "      try {\n",
              "        const charts = await google.colab.kernel.invokeFunction(\n",
              "            'suggestCharts', [key], {});\n",
              "      } catch (error) {\n",
              "        console.error('Error during call to suggestCharts:', error);\n",
              "      }\n",
              "      quickchartButtonEl.classList.remove('colab-df-spinner');\n",
              "      quickchartButtonEl.classList.add('colab-df-quickchart-complete');\n",
              "    }\n",
              "    (() => {\n",
              "      let quickchartButtonEl =\n",
              "        document.querySelector('#df-f9c7f417-5879-474e-9f74-05d924be3c0d button');\n",
              "      quickchartButtonEl.style.display =\n",
              "        google.colab.kernel.accessAllowed ? 'block' : 'none';\n",
              "    })();\n",
              "  </script>\n",
              "</div>\n",
              "    </div>\n",
              "  </div>\n"
            ]
          },
          "metadata": {},
          "execution_count": 347
        }
      ]
    },
    {
      "cell_type": "code",
      "source": [
        "\n",
        "# Create a mapping dictionary from the CSV file\n",
        "mapping_dict = dict(zip(route_dic['Thai'], route_dic['English']))\n",
        "\n",
        "data['route'] = data['route'].map(mapping_dict)\n",
        "data.head()"
      ],
      "metadata": {
        "id": "CnyvWy1bG62f",
        "colab": {
          "base_uri": "https://localhost:8080/",
          "height": 486
        },
        "outputId": "47cda77c-1d4a-45a3-d54a-db968a34f583"
      },
      "execution_count": 348,
      "outputs": [
        {
          "output_type": "execute_result",
          "data": {
            "text/plain": [
              "   acc_code Incident_date Incident_time report_date report_time  \\\n",
              "0    571905    2019-01-01      00:00:00  2019-01-02    06:11:00   \n",
              "1   3790870    2019-01-01      00:03:00  2020-02-20    13:48:00   \n",
              "2    599075    2019-01-01      00:05:00  2019-01-01    10:35:00   \n",
              "3    571924    2019-01-01      00:20:00  2019-01-02    05:12:00   \n",
              "4    599523    2019-01-01      00:25:00  2019-01-04    09:42:00   \n",
              "\n",
              "              province                     agency  \\\n",
              "0               Loburi  department of rural roads   \n",
              "1     Ubon Ratchathani     department of highways   \n",
              "2  Prachuap Khiri Khan     department of highways   \n",
              "3           Chiang Mai  department of rural roads   \n",
              "4         Nakhon Sawan     department of highways   \n",
              "\n",
              "                                              route           vehicle_type  \\\n",
              "0         Highway 21 (km 31+000) - Ban Wang Phloeng             motorcycle   \n",
              "1                       Dej Udom - Ubon Ratchathani  private/passenger car   \n",
              "2                           Pranburi - Pak Nam Pran             motorcycle   \n",
              "3  Connect Highway 1013 (km 8+200) - Ban Khun Klang             motorcycle   \n",
              "4                            Kayachai -Sri Mongkhon  private/passenger car   \n",
              "\n",
              "                                  presumed_cause  \\\n",
              "0         driving under the influence of alcohol   \n",
              "1                                       speeding   \n",
              "2                                       speeding   \n",
              "3         driving under the influence of alcohol   \n",
              "4  cutting in closely by people/vehicles/animals   \n",
              "\n",
              "                        accident_type  number_of_vehicles_involved  \\\n",
              "0                               other                            1   \n",
              "1    rollover/fallen on straight road                            1   \n",
              "2  head-on collision (not overtaking)                            2   \n",
              "3                               other                            1   \n",
              "4    rollover/fallen on straight road                            1   \n",
              "\n",
              "   number_of_fatalities  number_of_injuries weather_condition   latitude  \\\n",
              "0                     0                   2             clear  14.959105   \n",
              "1                     0                   2             clear  15.210738   \n",
              "2                     1                   0             clear  12.374259   \n",
              "3                     0                   1             clear  18.601721   \n",
              "4                     0                   0             clear  15.866389   \n",
              "\n",
              "    longitude road_description slope_description  \n",
              "0  100.873463    straight road          no slope  \n",
              "1  104.862689    straight road          no slope  \n",
              "2   99.907949       wide curve        slope area  \n",
              "3   98.804204    straight road          no slope  \n",
              "4  100.590010    straight road          no slope  "
            ],
            "text/html": [
              "\n",
              "  <div id=\"df-438db4ab-b356-43a3-9ccb-f33b14dccd98\" class=\"colab-df-container\">\n",
              "    <div>\n",
              "<style scoped>\n",
              "    .dataframe tbody tr th:only-of-type {\n",
              "        vertical-align: middle;\n",
              "    }\n",
              "\n",
              "    .dataframe tbody tr th {\n",
              "        vertical-align: top;\n",
              "    }\n",
              "\n",
              "    .dataframe thead th {\n",
              "        text-align: right;\n",
              "    }\n",
              "</style>\n",
              "<table border=\"1\" class=\"dataframe\">\n",
              "  <thead>\n",
              "    <tr style=\"text-align: right;\">\n",
              "      <th></th>\n",
              "      <th>acc_code</th>\n",
              "      <th>Incident_date</th>\n",
              "      <th>Incident_time</th>\n",
              "      <th>report_date</th>\n",
              "      <th>report_time</th>\n",
              "      <th>province</th>\n",
              "      <th>agency</th>\n",
              "      <th>route</th>\n",
              "      <th>vehicle_type</th>\n",
              "      <th>presumed_cause</th>\n",
              "      <th>accident_type</th>\n",
              "      <th>number_of_vehicles_involved</th>\n",
              "      <th>number_of_fatalities</th>\n",
              "      <th>number_of_injuries</th>\n",
              "      <th>weather_condition</th>\n",
              "      <th>latitude</th>\n",
              "      <th>longitude</th>\n",
              "      <th>road_description</th>\n",
              "      <th>slope_description</th>\n",
              "    </tr>\n",
              "  </thead>\n",
              "  <tbody>\n",
              "    <tr>\n",
              "      <th>0</th>\n",
              "      <td>571905</td>\n",
              "      <td>2019-01-01</td>\n",
              "      <td>00:00:00</td>\n",
              "      <td>2019-01-02</td>\n",
              "      <td>06:11:00</td>\n",
              "      <td>Loburi</td>\n",
              "      <td>department of rural roads</td>\n",
              "      <td>Highway 21 (km 31+000) - Ban Wang Phloeng</td>\n",
              "      <td>motorcycle</td>\n",
              "      <td>driving under the influence of alcohol</td>\n",
              "      <td>other</td>\n",
              "      <td>1</td>\n",
              "      <td>0</td>\n",
              "      <td>2</td>\n",
              "      <td>clear</td>\n",
              "      <td>14.959105</td>\n",
              "      <td>100.873463</td>\n",
              "      <td>straight road</td>\n",
              "      <td>no slope</td>\n",
              "    </tr>\n",
              "    <tr>\n",
              "      <th>1</th>\n",
              "      <td>3790870</td>\n",
              "      <td>2019-01-01</td>\n",
              "      <td>00:03:00</td>\n",
              "      <td>2020-02-20</td>\n",
              "      <td>13:48:00</td>\n",
              "      <td>Ubon Ratchathani</td>\n",
              "      <td>department of highways</td>\n",
              "      <td>Dej Udom - Ubon Ratchathani</td>\n",
              "      <td>private/passenger car</td>\n",
              "      <td>speeding</td>\n",
              "      <td>rollover/fallen on straight road</td>\n",
              "      <td>1</td>\n",
              "      <td>0</td>\n",
              "      <td>2</td>\n",
              "      <td>clear</td>\n",
              "      <td>15.210738</td>\n",
              "      <td>104.862689</td>\n",
              "      <td>straight road</td>\n",
              "      <td>no slope</td>\n",
              "    </tr>\n",
              "    <tr>\n",
              "      <th>2</th>\n",
              "      <td>599075</td>\n",
              "      <td>2019-01-01</td>\n",
              "      <td>00:05:00</td>\n",
              "      <td>2019-01-01</td>\n",
              "      <td>10:35:00</td>\n",
              "      <td>Prachuap Khiri Khan</td>\n",
              "      <td>department of highways</td>\n",
              "      <td>Pranburi - Pak Nam Pran</td>\n",
              "      <td>motorcycle</td>\n",
              "      <td>speeding</td>\n",
              "      <td>head-on collision (not overtaking)</td>\n",
              "      <td>2</td>\n",
              "      <td>1</td>\n",
              "      <td>0</td>\n",
              "      <td>clear</td>\n",
              "      <td>12.374259</td>\n",
              "      <td>99.907949</td>\n",
              "      <td>wide curve</td>\n",
              "      <td>slope area</td>\n",
              "    </tr>\n",
              "    <tr>\n",
              "      <th>3</th>\n",
              "      <td>571924</td>\n",
              "      <td>2019-01-01</td>\n",
              "      <td>00:20:00</td>\n",
              "      <td>2019-01-02</td>\n",
              "      <td>05:12:00</td>\n",
              "      <td>Chiang Mai</td>\n",
              "      <td>department of rural roads</td>\n",
              "      <td>Connect Highway 1013 (km 8+200) - Ban Khun Klang</td>\n",
              "      <td>motorcycle</td>\n",
              "      <td>driving under the influence of alcohol</td>\n",
              "      <td>other</td>\n",
              "      <td>1</td>\n",
              "      <td>0</td>\n",
              "      <td>1</td>\n",
              "      <td>clear</td>\n",
              "      <td>18.601721</td>\n",
              "      <td>98.804204</td>\n",
              "      <td>straight road</td>\n",
              "      <td>no slope</td>\n",
              "    </tr>\n",
              "    <tr>\n",
              "      <th>4</th>\n",
              "      <td>599523</td>\n",
              "      <td>2019-01-01</td>\n",
              "      <td>00:25:00</td>\n",
              "      <td>2019-01-04</td>\n",
              "      <td>09:42:00</td>\n",
              "      <td>Nakhon Sawan</td>\n",
              "      <td>department of highways</td>\n",
              "      <td>Kayachai -Sri Mongkhon</td>\n",
              "      <td>private/passenger car</td>\n",
              "      <td>cutting in closely by people/vehicles/animals</td>\n",
              "      <td>rollover/fallen on straight road</td>\n",
              "      <td>1</td>\n",
              "      <td>0</td>\n",
              "      <td>0</td>\n",
              "      <td>clear</td>\n",
              "      <td>15.866389</td>\n",
              "      <td>100.590010</td>\n",
              "      <td>straight road</td>\n",
              "      <td>no slope</td>\n",
              "    </tr>\n",
              "  </tbody>\n",
              "</table>\n",
              "</div>\n",
              "    <div class=\"colab-df-buttons\">\n",
              "\n",
              "  <div class=\"colab-df-container\">\n",
              "    <button class=\"colab-df-convert\" onclick=\"convertToInteractive('df-438db4ab-b356-43a3-9ccb-f33b14dccd98')\"\n",
              "            title=\"Convert this dataframe to an interactive table.\"\n",
              "            style=\"display:none;\">\n",
              "\n",
              "  <svg xmlns=\"http://www.w3.org/2000/svg\" height=\"24px\" viewBox=\"0 -960 960 960\">\n",
              "    <path d=\"M120-120v-720h720v720H120Zm60-500h600v-160H180v160Zm220 220h160v-160H400v160Zm0 220h160v-160H400v160ZM180-400h160v-160H180v160Zm440 0h160v-160H620v160ZM180-180h160v-160H180v160Zm440 0h160v-160H620v160Z\"/>\n",
              "  </svg>\n",
              "    </button>\n",
              "\n",
              "  <style>\n",
              "    .colab-df-container {\n",
              "      display:flex;\n",
              "      gap: 12px;\n",
              "    }\n",
              "\n",
              "    .colab-df-convert {\n",
              "      background-color: #E8F0FE;\n",
              "      border: none;\n",
              "      border-radius: 50%;\n",
              "      cursor: pointer;\n",
              "      display: none;\n",
              "      fill: #1967D2;\n",
              "      height: 32px;\n",
              "      padding: 0 0 0 0;\n",
              "      width: 32px;\n",
              "    }\n",
              "\n",
              "    .colab-df-convert:hover {\n",
              "      background-color: #E2EBFA;\n",
              "      box-shadow: 0px 1px 2px rgba(60, 64, 67, 0.3), 0px 1px 3px 1px rgba(60, 64, 67, 0.15);\n",
              "      fill: #174EA6;\n",
              "    }\n",
              "\n",
              "    .colab-df-buttons div {\n",
              "      margin-bottom: 4px;\n",
              "    }\n",
              "\n",
              "    [theme=dark] .colab-df-convert {\n",
              "      background-color: #3B4455;\n",
              "      fill: #D2E3FC;\n",
              "    }\n",
              "\n",
              "    [theme=dark] .colab-df-convert:hover {\n",
              "      background-color: #434B5C;\n",
              "      box-shadow: 0px 1px 3px 1px rgba(0, 0, 0, 0.15);\n",
              "      filter: drop-shadow(0px 1px 2px rgba(0, 0, 0, 0.3));\n",
              "      fill: #FFFFFF;\n",
              "    }\n",
              "  </style>\n",
              "\n",
              "    <script>\n",
              "      const buttonEl =\n",
              "        document.querySelector('#df-438db4ab-b356-43a3-9ccb-f33b14dccd98 button.colab-df-convert');\n",
              "      buttonEl.style.display =\n",
              "        google.colab.kernel.accessAllowed ? 'block' : 'none';\n",
              "\n",
              "      async function convertToInteractive(key) {\n",
              "        const element = document.querySelector('#df-438db4ab-b356-43a3-9ccb-f33b14dccd98');\n",
              "        const dataTable =\n",
              "          await google.colab.kernel.invokeFunction('convertToInteractive',\n",
              "                                                    [key], {});\n",
              "        if (!dataTable) return;\n",
              "\n",
              "        const docLinkHtml = 'Like what you see? Visit the ' +\n",
              "          '<a target=\"_blank\" href=https://colab.research.google.com/notebooks/data_table.ipynb>data table notebook</a>'\n",
              "          + ' to learn more about interactive tables.';\n",
              "        element.innerHTML = '';\n",
              "        dataTable['output_type'] = 'display_data';\n",
              "        await google.colab.output.renderOutput(dataTable, element);\n",
              "        const docLink = document.createElement('div');\n",
              "        docLink.innerHTML = docLinkHtml;\n",
              "        element.appendChild(docLink);\n",
              "      }\n",
              "    </script>\n",
              "  </div>\n",
              "\n",
              "\n",
              "<div id=\"df-c67e8171-8eda-41e9-ad32-99df62df2cb3\">\n",
              "  <button class=\"colab-df-quickchart\" onclick=\"quickchart('df-c67e8171-8eda-41e9-ad32-99df62df2cb3')\"\n",
              "            title=\"Suggest charts.\"\n",
              "            style=\"display:none;\">\n",
              "\n",
              "<svg xmlns=\"http://www.w3.org/2000/svg\" height=\"24px\"viewBox=\"0 0 24 24\"\n",
              "     width=\"24px\">\n",
              "    <g>\n",
              "        <path d=\"M19 3H5c-1.1 0-2 .9-2 2v14c0 1.1.9 2 2 2h14c1.1 0 2-.9 2-2V5c0-1.1-.9-2-2-2zM9 17H7v-7h2v7zm4 0h-2V7h2v10zm4 0h-2v-4h2v4z\"/>\n",
              "    </g>\n",
              "</svg>\n",
              "  </button>\n",
              "\n",
              "<style>\n",
              "  .colab-df-quickchart {\n",
              "      --bg-color: #E8F0FE;\n",
              "      --fill-color: #1967D2;\n",
              "      --hover-bg-color: #E2EBFA;\n",
              "      --hover-fill-color: #174EA6;\n",
              "      --disabled-fill-color: #AAA;\n",
              "      --disabled-bg-color: #DDD;\n",
              "  }\n",
              "\n",
              "  [theme=dark] .colab-df-quickchart {\n",
              "      --bg-color: #3B4455;\n",
              "      --fill-color: #D2E3FC;\n",
              "      --hover-bg-color: #434B5C;\n",
              "      --hover-fill-color: #FFFFFF;\n",
              "      --disabled-bg-color: #3B4455;\n",
              "      --disabled-fill-color: #666;\n",
              "  }\n",
              "\n",
              "  .colab-df-quickchart {\n",
              "    background-color: var(--bg-color);\n",
              "    border: none;\n",
              "    border-radius: 50%;\n",
              "    cursor: pointer;\n",
              "    display: none;\n",
              "    fill: var(--fill-color);\n",
              "    height: 32px;\n",
              "    padding: 0;\n",
              "    width: 32px;\n",
              "  }\n",
              "\n",
              "  .colab-df-quickchart:hover {\n",
              "    background-color: var(--hover-bg-color);\n",
              "    box-shadow: 0 1px 2px rgba(60, 64, 67, 0.3), 0 1px 3px 1px rgba(60, 64, 67, 0.15);\n",
              "    fill: var(--button-hover-fill-color);\n",
              "  }\n",
              "\n",
              "  .colab-df-quickchart-complete:disabled,\n",
              "  .colab-df-quickchart-complete:disabled:hover {\n",
              "    background-color: var(--disabled-bg-color);\n",
              "    fill: var(--disabled-fill-color);\n",
              "    box-shadow: none;\n",
              "  }\n",
              "\n",
              "  .colab-df-spinner {\n",
              "    border: 2px solid var(--fill-color);\n",
              "    border-color: transparent;\n",
              "    border-bottom-color: var(--fill-color);\n",
              "    animation:\n",
              "      spin 1s steps(1) infinite;\n",
              "  }\n",
              "\n",
              "  @keyframes spin {\n",
              "    0% {\n",
              "      border-color: transparent;\n",
              "      border-bottom-color: var(--fill-color);\n",
              "      border-left-color: var(--fill-color);\n",
              "    }\n",
              "    20% {\n",
              "      border-color: transparent;\n",
              "      border-left-color: var(--fill-color);\n",
              "      border-top-color: var(--fill-color);\n",
              "    }\n",
              "    30% {\n",
              "      border-color: transparent;\n",
              "      border-left-color: var(--fill-color);\n",
              "      border-top-color: var(--fill-color);\n",
              "      border-right-color: var(--fill-color);\n",
              "    }\n",
              "    40% {\n",
              "      border-color: transparent;\n",
              "      border-right-color: var(--fill-color);\n",
              "      border-top-color: var(--fill-color);\n",
              "    }\n",
              "    60% {\n",
              "      border-color: transparent;\n",
              "      border-right-color: var(--fill-color);\n",
              "    }\n",
              "    80% {\n",
              "      border-color: transparent;\n",
              "      border-right-color: var(--fill-color);\n",
              "      border-bottom-color: var(--fill-color);\n",
              "    }\n",
              "    90% {\n",
              "      border-color: transparent;\n",
              "      border-bottom-color: var(--fill-color);\n",
              "    }\n",
              "  }\n",
              "</style>\n",
              "\n",
              "  <script>\n",
              "    async function quickchart(key) {\n",
              "      const quickchartButtonEl =\n",
              "        document.querySelector('#' + key + ' button');\n",
              "      quickchartButtonEl.disabled = true;  // To prevent multiple clicks.\n",
              "      quickchartButtonEl.classList.add('colab-df-spinner');\n",
              "      try {\n",
              "        const charts = await google.colab.kernel.invokeFunction(\n",
              "            'suggestCharts', [key], {});\n",
              "      } catch (error) {\n",
              "        console.error('Error during call to suggestCharts:', error);\n",
              "      }\n",
              "      quickchartButtonEl.classList.remove('colab-df-spinner');\n",
              "      quickchartButtonEl.classList.add('colab-df-quickchart-complete');\n",
              "    }\n",
              "    (() => {\n",
              "      let quickchartButtonEl =\n",
              "        document.querySelector('#df-c67e8171-8eda-41e9-ad32-99df62df2cb3 button');\n",
              "      quickchartButtonEl.style.display =\n",
              "        google.colab.kernel.accessAllowed ? 'block' : 'none';\n",
              "    })();\n",
              "  </script>\n",
              "</div>\n",
              "    </div>\n",
              "  </div>\n"
            ]
          },
          "metadata": {},
          "execution_count": 348
        }
      ]
    },
    {
      "cell_type": "code",
      "source": [
        "data['route'].nunique()"
      ],
      "metadata": {
        "id": "lVUkoK8Xhz8t",
        "colab": {
          "base_uri": "https://localhost:8080/"
        },
        "outputId": "3fe8b4c7-61cb-4576-a024-22219703c7ea"
      },
      "execution_count": 349,
      "outputs": [
        {
          "output_type": "execute_result",
          "data": {
            "text/plain": [
              "3872"
            ]
          },
          "metadata": {},
          "execution_count": 349
        }
      ]
    },
    {
      "cell_type": "code",
      "source": [
        "#Checking if the change is applied\n",
        "data.head(3)"
      ],
      "metadata": {
        "id": "jHpEJvenBFHw",
        "colab": {
          "base_uri": "https://localhost:8080/",
          "height": 302
        },
        "outputId": "f713e290-99b0-4614-9592-9207b22ed937"
      },
      "execution_count": 350,
      "outputs": [
        {
          "output_type": "execute_result",
          "data": {
            "text/plain": [
              "   acc_code Incident_date Incident_time report_date report_time  \\\n",
              "0    571905    2019-01-01      00:00:00  2019-01-02    06:11:00   \n",
              "1   3790870    2019-01-01      00:03:00  2020-02-20    13:48:00   \n",
              "2    599075    2019-01-01      00:05:00  2019-01-01    10:35:00   \n",
              "\n",
              "              province                     agency  \\\n",
              "0               Loburi  department of rural roads   \n",
              "1     Ubon Ratchathani     department of highways   \n",
              "2  Prachuap Khiri Khan     department of highways   \n",
              "\n",
              "                                       route           vehicle_type  \\\n",
              "0  Highway 21 (km 31+000) - Ban Wang Phloeng             motorcycle   \n",
              "1                Dej Udom - Ubon Ratchathani  private/passenger car   \n",
              "2                    Pranburi - Pak Nam Pran             motorcycle   \n",
              "\n",
              "                           presumed_cause                       accident_type  \\\n",
              "0  driving under the influence of alcohol                               other   \n",
              "1                                speeding    rollover/fallen on straight road   \n",
              "2                                speeding  head-on collision (not overtaking)   \n",
              "\n",
              "   number_of_vehicles_involved  number_of_fatalities  number_of_injuries  \\\n",
              "0                            1                     0                   2   \n",
              "1                            1                     0                   2   \n",
              "2                            2                     1                   0   \n",
              "\n",
              "  weather_condition   latitude   longitude road_description slope_description  \n",
              "0             clear  14.959105  100.873463    straight road          no slope  \n",
              "1             clear  15.210738  104.862689    straight road          no slope  \n",
              "2             clear  12.374259   99.907949       wide curve        slope area  "
            ],
            "text/html": [
              "\n",
              "  <div id=\"df-78fec819-5002-4409-b36e-b1a7b71c605d\" class=\"colab-df-container\">\n",
              "    <div>\n",
              "<style scoped>\n",
              "    .dataframe tbody tr th:only-of-type {\n",
              "        vertical-align: middle;\n",
              "    }\n",
              "\n",
              "    .dataframe tbody tr th {\n",
              "        vertical-align: top;\n",
              "    }\n",
              "\n",
              "    .dataframe thead th {\n",
              "        text-align: right;\n",
              "    }\n",
              "</style>\n",
              "<table border=\"1\" class=\"dataframe\">\n",
              "  <thead>\n",
              "    <tr style=\"text-align: right;\">\n",
              "      <th></th>\n",
              "      <th>acc_code</th>\n",
              "      <th>Incident_date</th>\n",
              "      <th>Incident_time</th>\n",
              "      <th>report_date</th>\n",
              "      <th>report_time</th>\n",
              "      <th>province</th>\n",
              "      <th>agency</th>\n",
              "      <th>route</th>\n",
              "      <th>vehicle_type</th>\n",
              "      <th>presumed_cause</th>\n",
              "      <th>accident_type</th>\n",
              "      <th>number_of_vehicles_involved</th>\n",
              "      <th>number_of_fatalities</th>\n",
              "      <th>number_of_injuries</th>\n",
              "      <th>weather_condition</th>\n",
              "      <th>latitude</th>\n",
              "      <th>longitude</th>\n",
              "      <th>road_description</th>\n",
              "      <th>slope_description</th>\n",
              "    </tr>\n",
              "  </thead>\n",
              "  <tbody>\n",
              "    <tr>\n",
              "      <th>0</th>\n",
              "      <td>571905</td>\n",
              "      <td>2019-01-01</td>\n",
              "      <td>00:00:00</td>\n",
              "      <td>2019-01-02</td>\n",
              "      <td>06:11:00</td>\n",
              "      <td>Loburi</td>\n",
              "      <td>department of rural roads</td>\n",
              "      <td>Highway 21 (km 31+000) - Ban Wang Phloeng</td>\n",
              "      <td>motorcycle</td>\n",
              "      <td>driving under the influence of alcohol</td>\n",
              "      <td>other</td>\n",
              "      <td>1</td>\n",
              "      <td>0</td>\n",
              "      <td>2</td>\n",
              "      <td>clear</td>\n",
              "      <td>14.959105</td>\n",
              "      <td>100.873463</td>\n",
              "      <td>straight road</td>\n",
              "      <td>no slope</td>\n",
              "    </tr>\n",
              "    <tr>\n",
              "      <th>1</th>\n",
              "      <td>3790870</td>\n",
              "      <td>2019-01-01</td>\n",
              "      <td>00:03:00</td>\n",
              "      <td>2020-02-20</td>\n",
              "      <td>13:48:00</td>\n",
              "      <td>Ubon Ratchathani</td>\n",
              "      <td>department of highways</td>\n",
              "      <td>Dej Udom - Ubon Ratchathani</td>\n",
              "      <td>private/passenger car</td>\n",
              "      <td>speeding</td>\n",
              "      <td>rollover/fallen on straight road</td>\n",
              "      <td>1</td>\n",
              "      <td>0</td>\n",
              "      <td>2</td>\n",
              "      <td>clear</td>\n",
              "      <td>15.210738</td>\n",
              "      <td>104.862689</td>\n",
              "      <td>straight road</td>\n",
              "      <td>no slope</td>\n",
              "    </tr>\n",
              "    <tr>\n",
              "      <th>2</th>\n",
              "      <td>599075</td>\n",
              "      <td>2019-01-01</td>\n",
              "      <td>00:05:00</td>\n",
              "      <td>2019-01-01</td>\n",
              "      <td>10:35:00</td>\n",
              "      <td>Prachuap Khiri Khan</td>\n",
              "      <td>department of highways</td>\n",
              "      <td>Pranburi - Pak Nam Pran</td>\n",
              "      <td>motorcycle</td>\n",
              "      <td>speeding</td>\n",
              "      <td>head-on collision (not overtaking)</td>\n",
              "      <td>2</td>\n",
              "      <td>1</td>\n",
              "      <td>0</td>\n",
              "      <td>clear</td>\n",
              "      <td>12.374259</td>\n",
              "      <td>99.907949</td>\n",
              "      <td>wide curve</td>\n",
              "      <td>slope area</td>\n",
              "    </tr>\n",
              "  </tbody>\n",
              "</table>\n",
              "</div>\n",
              "    <div class=\"colab-df-buttons\">\n",
              "\n",
              "  <div class=\"colab-df-container\">\n",
              "    <button class=\"colab-df-convert\" onclick=\"convertToInteractive('df-78fec819-5002-4409-b36e-b1a7b71c605d')\"\n",
              "            title=\"Convert this dataframe to an interactive table.\"\n",
              "            style=\"display:none;\">\n",
              "\n",
              "  <svg xmlns=\"http://www.w3.org/2000/svg\" height=\"24px\" viewBox=\"0 -960 960 960\">\n",
              "    <path d=\"M120-120v-720h720v720H120Zm60-500h600v-160H180v160Zm220 220h160v-160H400v160Zm0 220h160v-160H400v160ZM180-400h160v-160H180v160Zm440 0h160v-160H620v160ZM180-180h160v-160H180v160Zm440 0h160v-160H620v160Z\"/>\n",
              "  </svg>\n",
              "    </button>\n",
              "\n",
              "  <style>\n",
              "    .colab-df-container {\n",
              "      display:flex;\n",
              "      gap: 12px;\n",
              "    }\n",
              "\n",
              "    .colab-df-convert {\n",
              "      background-color: #E8F0FE;\n",
              "      border: none;\n",
              "      border-radius: 50%;\n",
              "      cursor: pointer;\n",
              "      display: none;\n",
              "      fill: #1967D2;\n",
              "      height: 32px;\n",
              "      padding: 0 0 0 0;\n",
              "      width: 32px;\n",
              "    }\n",
              "\n",
              "    .colab-df-convert:hover {\n",
              "      background-color: #E2EBFA;\n",
              "      box-shadow: 0px 1px 2px rgba(60, 64, 67, 0.3), 0px 1px 3px 1px rgba(60, 64, 67, 0.15);\n",
              "      fill: #174EA6;\n",
              "    }\n",
              "\n",
              "    .colab-df-buttons div {\n",
              "      margin-bottom: 4px;\n",
              "    }\n",
              "\n",
              "    [theme=dark] .colab-df-convert {\n",
              "      background-color: #3B4455;\n",
              "      fill: #D2E3FC;\n",
              "    }\n",
              "\n",
              "    [theme=dark] .colab-df-convert:hover {\n",
              "      background-color: #434B5C;\n",
              "      box-shadow: 0px 1px 3px 1px rgba(0, 0, 0, 0.15);\n",
              "      filter: drop-shadow(0px 1px 2px rgba(0, 0, 0, 0.3));\n",
              "      fill: #FFFFFF;\n",
              "    }\n",
              "  </style>\n",
              "\n",
              "    <script>\n",
              "      const buttonEl =\n",
              "        document.querySelector('#df-78fec819-5002-4409-b36e-b1a7b71c605d button.colab-df-convert');\n",
              "      buttonEl.style.display =\n",
              "        google.colab.kernel.accessAllowed ? 'block' : 'none';\n",
              "\n",
              "      async function convertToInteractive(key) {\n",
              "        const element = document.querySelector('#df-78fec819-5002-4409-b36e-b1a7b71c605d');\n",
              "        const dataTable =\n",
              "          await google.colab.kernel.invokeFunction('convertToInteractive',\n",
              "                                                    [key], {});\n",
              "        if (!dataTable) return;\n",
              "\n",
              "        const docLinkHtml = 'Like what you see? Visit the ' +\n",
              "          '<a target=\"_blank\" href=https://colab.research.google.com/notebooks/data_table.ipynb>data table notebook</a>'\n",
              "          + ' to learn more about interactive tables.';\n",
              "        element.innerHTML = '';\n",
              "        dataTable['output_type'] = 'display_data';\n",
              "        await google.colab.output.renderOutput(dataTable, element);\n",
              "        const docLink = document.createElement('div');\n",
              "        docLink.innerHTML = docLinkHtml;\n",
              "        element.appendChild(docLink);\n",
              "      }\n",
              "    </script>\n",
              "  </div>\n",
              "\n",
              "\n",
              "<div id=\"df-85d10e80-744f-4def-bbf1-7257807863c7\">\n",
              "  <button class=\"colab-df-quickchart\" onclick=\"quickchart('df-85d10e80-744f-4def-bbf1-7257807863c7')\"\n",
              "            title=\"Suggest charts.\"\n",
              "            style=\"display:none;\">\n",
              "\n",
              "<svg xmlns=\"http://www.w3.org/2000/svg\" height=\"24px\"viewBox=\"0 0 24 24\"\n",
              "     width=\"24px\">\n",
              "    <g>\n",
              "        <path d=\"M19 3H5c-1.1 0-2 .9-2 2v14c0 1.1.9 2 2 2h14c1.1 0 2-.9 2-2V5c0-1.1-.9-2-2-2zM9 17H7v-7h2v7zm4 0h-2V7h2v10zm4 0h-2v-4h2v4z\"/>\n",
              "    </g>\n",
              "</svg>\n",
              "  </button>\n",
              "\n",
              "<style>\n",
              "  .colab-df-quickchart {\n",
              "      --bg-color: #E8F0FE;\n",
              "      --fill-color: #1967D2;\n",
              "      --hover-bg-color: #E2EBFA;\n",
              "      --hover-fill-color: #174EA6;\n",
              "      --disabled-fill-color: #AAA;\n",
              "      --disabled-bg-color: #DDD;\n",
              "  }\n",
              "\n",
              "  [theme=dark] .colab-df-quickchart {\n",
              "      --bg-color: #3B4455;\n",
              "      --fill-color: #D2E3FC;\n",
              "      --hover-bg-color: #434B5C;\n",
              "      --hover-fill-color: #FFFFFF;\n",
              "      --disabled-bg-color: #3B4455;\n",
              "      --disabled-fill-color: #666;\n",
              "  }\n",
              "\n",
              "  .colab-df-quickchart {\n",
              "    background-color: var(--bg-color);\n",
              "    border: none;\n",
              "    border-radius: 50%;\n",
              "    cursor: pointer;\n",
              "    display: none;\n",
              "    fill: var(--fill-color);\n",
              "    height: 32px;\n",
              "    padding: 0;\n",
              "    width: 32px;\n",
              "  }\n",
              "\n",
              "  .colab-df-quickchart:hover {\n",
              "    background-color: var(--hover-bg-color);\n",
              "    box-shadow: 0 1px 2px rgba(60, 64, 67, 0.3), 0 1px 3px 1px rgba(60, 64, 67, 0.15);\n",
              "    fill: var(--button-hover-fill-color);\n",
              "  }\n",
              "\n",
              "  .colab-df-quickchart-complete:disabled,\n",
              "  .colab-df-quickchart-complete:disabled:hover {\n",
              "    background-color: var(--disabled-bg-color);\n",
              "    fill: var(--disabled-fill-color);\n",
              "    box-shadow: none;\n",
              "  }\n",
              "\n",
              "  .colab-df-spinner {\n",
              "    border: 2px solid var(--fill-color);\n",
              "    border-color: transparent;\n",
              "    border-bottom-color: var(--fill-color);\n",
              "    animation:\n",
              "      spin 1s steps(1) infinite;\n",
              "  }\n",
              "\n",
              "  @keyframes spin {\n",
              "    0% {\n",
              "      border-color: transparent;\n",
              "      border-bottom-color: var(--fill-color);\n",
              "      border-left-color: var(--fill-color);\n",
              "    }\n",
              "    20% {\n",
              "      border-color: transparent;\n",
              "      border-left-color: var(--fill-color);\n",
              "      border-top-color: var(--fill-color);\n",
              "    }\n",
              "    30% {\n",
              "      border-color: transparent;\n",
              "      border-left-color: var(--fill-color);\n",
              "      border-top-color: var(--fill-color);\n",
              "      border-right-color: var(--fill-color);\n",
              "    }\n",
              "    40% {\n",
              "      border-color: transparent;\n",
              "      border-right-color: var(--fill-color);\n",
              "      border-top-color: var(--fill-color);\n",
              "    }\n",
              "    60% {\n",
              "      border-color: transparent;\n",
              "      border-right-color: var(--fill-color);\n",
              "    }\n",
              "    80% {\n",
              "      border-color: transparent;\n",
              "      border-right-color: var(--fill-color);\n",
              "      border-bottom-color: var(--fill-color);\n",
              "    }\n",
              "    90% {\n",
              "      border-color: transparent;\n",
              "      border-bottom-color: var(--fill-color);\n",
              "    }\n",
              "  }\n",
              "</style>\n",
              "\n",
              "  <script>\n",
              "    async function quickchart(key) {\n",
              "      const quickchartButtonEl =\n",
              "        document.querySelector('#' + key + ' button');\n",
              "      quickchartButtonEl.disabled = true;  // To prevent multiple clicks.\n",
              "      quickchartButtonEl.classList.add('colab-df-spinner');\n",
              "      try {\n",
              "        const charts = await google.colab.kernel.invokeFunction(\n",
              "            'suggestCharts', [key], {});\n",
              "      } catch (error) {\n",
              "        console.error('Error during call to suggestCharts:', error);\n",
              "      }\n",
              "      quickchartButtonEl.classList.remove('colab-df-spinner');\n",
              "      quickchartButtonEl.classList.add('colab-df-quickchart-complete');\n",
              "    }\n",
              "    (() => {\n",
              "      let quickchartButtonEl =\n",
              "        document.querySelector('#df-85d10e80-744f-4def-bbf1-7257807863c7 button');\n",
              "      quickchartButtonEl.style.display =\n",
              "        google.colab.kernel.accessAllowed ? 'block' : 'none';\n",
              "    })();\n",
              "  </script>\n",
              "</div>\n",
              "    </div>\n",
              "  </div>\n"
            ]
          },
          "metadata": {},
          "execution_count": 350
        }
      ]
    },
    {
      "cell_type": "markdown",
      "source": [
        "### **Vehicle Type Column**"
      ],
      "metadata": {
        "id": "CwyiLDWnBKug"
      }
    },
    {
      "cell_type": "code",
      "source": [
        "data['vehicle_type'].head()"
      ],
      "metadata": {
        "id": "W1SAIQTrBhJa",
        "colab": {
          "base_uri": "https://localhost:8080/"
        },
        "outputId": "b97a4354-71a8-470a-8356-98689194cef0"
      },
      "execution_count": 351,
      "outputs": [
        {
          "output_type": "execute_result",
          "data": {
            "text/plain": [
              "0               motorcycle\n",
              "1    private/passenger car\n",
              "2               motorcycle\n",
              "3               motorcycle\n",
              "4    private/passenger car\n",
              "Name: vehicle_type, dtype: object"
            ]
          },
          "metadata": {},
          "execution_count": 351
        }
      ]
    },
    {
      "cell_type": "code",
      "source": [
        "## checking if there is no null value\n",
        "data['vehicle_type'].isnull().sum()"
      ],
      "metadata": {
        "id": "vQ1kkY18BlwK",
        "colab": {
          "base_uri": "https://localhost:8080/"
        },
        "outputId": "daa6d50b-a9dc-4286-a7c2-6ca2085c424a"
      },
      "execution_count": 352,
      "outputs": [
        {
          "output_type": "execute_result",
          "data": {
            "text/plain": [
              "0"
            ]
          },
          "metadata": {},
          "execution_count": 352
        }
      ]
    },
    {
      "cell_type": "markdown",
      "source": [
        "we have no null values"
      ],
      "metadata": {
        "id": "vokIdomVBwft"
      }
    },
    {
      "cell_type": "code",
      "source": [
        "# Checking the catergory of vehicle involved in the accident\n",
        "data['vehicle_type'].nunique()"
      ],
      "metadata": {
        "id": "mPO7m1zfKXpf",
        "colab": {
          "base_uri": "https://localhost:8080/"
        },
        "outputId": "980f6085-e2df-4767-d393-ce76e19c25b2"
      },
      "execution_count": 353,
      "outputs": [
        {
          "output_type": "execute_result",
          "data": {
            "text/plain": [
              "15"
            ]
          },
          "metadata": {},
          "execution_count": 353
        }
      ]
    },
    {
      "cell_type": "markdown",
      "source": [
        "15 different vehicle type was involved"
      ],
      "metadata": {
        "id": "k3snf6WAKqTw"
      }
    },
    {
      "cell_type": "markdown",
      "source": [
        "### **Presumed Cause Column**"
      ],
      "metadata": {
        "id": "SbSy2kKVB3K9"
      }
    },
    {
      "cell_type": "code",
      "source": [
        "data['presumed_cause'].head()"
      ],
      "metadata": {
        "id": "SZArPlIxCB88",
        "colab": {
          "base_uri": "https://localhost:8080/"
        },
        "outputId": "bf50b054-ddea-497b-a494-060efd67a983"
      },
      "execution_count": 354,
      "outputs": [
        {
          "output_type": "execute_result",
          "data": {
            "text/plain": [
              "0           driving under the influence of alcohol\n",
              "1                                         speeding\n",
              "2                                         speeding\n",
              "3           driving under the influence of alcohol\n",
              "4    cutting in closely by people/vehicles/animals\n",
              "Name: presumed_cause, dtype: object"
            ]
          },
          "metadata": {},
          "execution_count": 354
        }
      ]
    },
    {
      "cell_type": "code",
      "source": [
        "#checking if we have null values\n",
        "data['presumed_cause'].isnull().sum()"
      ],
      "metadata": {
        "id": "FzVUKUOpKzR6",
        "colab": {
          "base_uri": "https://localhost:8080/"
        },
        "outputId": "f94e5860-babb-45ac-e732-a877da4f8c8d"
      },
      "execution_count": 355,
      "outputs": [
        {
          "output_type": "execute_result",
          "data": {
            "text/plain": [
              "0"
            ]
          },
          "metadata": {},
          "execution_count": 355
        }
      ]
    },
    {
      "cell_type": "markdown",
      "source": [
        "**Checking the presumed cause of accident uniqueness**"
      ],
      "metadata": {
        "id": "iBMl4zmNL7Fj"
      }
    },
    {
      "cell_type": "code",
      "source": [
        "data['presumed_cause'].unique()"
      ],
      "metadata": {
        "id": "WQIG_i0sLNHg",
        "colab": {
          "base_uri": "https://localhost:8080/"
        },
        "outputId": "22b2cb73-0462-421c-de63-190ab2f2e7a0"
      },
      "execution_count": 356,
      "outputs": [
        {
          "output_type": "execute_result",
          "data": {
            "text/plain": [
              "array(['driving under the influence of alcohol', 'speeding',\n",
              "       'cutting in closely by people/vehicles/animals',\n",
              "       'failure to yield right of way', 'failure to yield/signal',\n",
              "       'falling asleep', 'running red lights/traffic signals', 'other',\n",
              "       'unfamiliarity with the route/unskilled driving',\n",
              "       'vehicle equipment failure', 'illegal overtaking', 'tailgating',\n",
              "       'ignoring stop sign while leaving intersection',\n",
              "       'overloaded vehicle', 'insufficient light',\n",
              "       'disabled vehicle without proper signals', 'abrupt lane change',\n",
              "       'debris/obstruction on the road', 'reversing vehicle',\n",
              "       'brake/anti-lock brake system failure', 'medical condition',\n",
              "       'vehicle electrical system failure', 'driving in the wrong lane',\n",
              "       'straddling lanes', 'dangerous curve',\n",
              "       'failure to signal enter/exit parking', 'slippery road',\n",
              "       'no traffic signs', 'sudden stop',\n",
              "       'using mobile phone while driving',\n",
              "       'driving without headlights/illumination', 'worn-out/tire blowout',\n",
              "       'obstruction in sight', 'traffic light system failure',\n",
              "       'disabled vehicle without proper signals/signs', 'narrow road',\n",
              "       'turn signal system failure', 'navigation equipment failure',\n",
              "       'inadequate visibility', 'road in poor condition',\n",
              "       'ป้ายจราจรชำรุด', 'เส้นแบ่งทิศทางจราจรชำรุด',\n",
              "       'repair/construction on the road',\n",
              "       'no presumed cause related to driver', 'external disturbance',\n",
              "       'no presumed cause related to vehicle conditions',\n",
              "       'no presumed cause related to road conditions',\n",
              "       'no road divider lines', 'loss of control',\n",
              "       'using psychoactive substances', 'no traffic light system',\n",
              "       'aggressive driving/overtaking', 'internal disturbance',\n",
              "       'มึนเมาจากแอลกอฮอล์'], dtype=object)"
            ]
          },
          "metadata": {},
          "execution_count": 356
        }
      ]
    },
    {
      "cell_type": "code",
      "source": [
        "data['presumed_cause'].nunique()"
      ],
      "metadata": {
        "id": "9DeE3mwdekRt",
        "colab": {
          "base_uri": "https://localhost:8080/"
        },
        "outputId": "c1902918-8f3a-445b-aeaf-11d2ac080cb8"
      },
      "execution_count": 357,
      "outputs": [
        {
          "output_type": "execute_result",
          "data": {
            "text/plain": [
              "54"
            ]
          },
          "metadata": {},
          "execution_count": 357
        }
      ]
    },
    {
      "cell_type": "markdown",
      "source": [
        "**We have 54 unique presumed cause of accident**"
      ],
      "metadata": {
        "id": "JDbLZwSuevfW"
      }
    },
    {
      "cell_type": "markdown",
      "source": [
        "**From the above list, we can observe that some causes are not properly represented. The text format is not well represented in english language. so it is best to change it to english**"
      ],
      "metadata": {
        "id": "lt9Xfo_PLzy6"
      }
    },
    {
      "cell_type": "markdown",
      "source": [
        "**We have 3 unique presumed causes that are not well represented**"
      ],
      "metadata": {
        "id": "_STR0aiUflts"
      }
    },
    {
      "cell_type": "code",
      "source": [
        "# Using the googletrans library to translate the Thai text to english\n",
        "!pip install googletrans==4.0.0-rc1"
      ],
      "metadata": {
        "colab": {
          "base_uri": "https://localhost:8080/"
        },
        "id": "feANyXwZvQiX",
        "outputId": "689c0de1-59b6-4e3e-fd6d-ff9927b067cf"
      },
      "execution_count": 358,
      "outputs": [
        {
          "output_type": "stream",
          "name": "stdout",
          "text": [
            "Requirement already satisfied: googletrans==4.0.0-rc1 in /usr/local/lib/python3.10/dist-packages (4.0.0rc1)\n",
            "Requirement already satisfied: httpx==0.13.3 in /usr/local/lib/python3.10/dist-packages (from googletrans==4.0.0-rc1) (0.13.3)\n",
            "Requirement already satisfied: certifi in /usr/local/lib/python3.10/dist-packages (from httpx==0.13.3->googletrans==4.0.0-rc1) (2023.7.22)\n",
            "Requirement already satisfied: hstspreload in /usr/local/lib/python3.10/dist-packages (from httpx==0.13.3->googletrans==4.0.0-rc1) (2023.1.1)\n",
            "Requirement already satisfied: sniffio in /usr/local/lib/python3.10/dist-packages (from httpx==0.13.3->googletrans==4.0.0-rc1) (1.3.0)\n",
            "Requirement already satisfied: chardet==3.* in /usr/local/lib/python3.10/dist-packages (from httpx==0.13.3->googletrans==4.0.0-rc1) (3.0.4)\n",
            "Requirement already satisfied: idna==2.* in /usr/local/lib/python3.10/dist-packages (from httpx==0.13.3->googletrans==4.0.0-rc1) (2.10)\n",
            "Requirement already satisfied: rfc3986<2,>=1.3 in /usr/local/lib/python3.10/dist-packages (from httpx==0.13.3->googletrans==4.0.0-rc1) (1.5.0)\n",
            "Requirement already satisfied: httpcore==0.9.* in /usr/local/lib/python3.10/dist-packages (from httpx==0.13.3->googletrans==4.0.0-rc1) (0.9.1)\n",
            "Requirement already satisfied: h11<0.10,>=0.8 in /usr/local/lib/python3.10/dist-packages (from httpcore==0.9.*->httpx==0.13.3->googletrans==4.0.0-rc1) (0.9.0)\n",
            "Requirement already satisfied: h2==3.* in /usr/local/lib/python3.10/dist-packages (from httpcore==0.9.*->httpx==0.13.3->googletrans==4.0.0-rc1) (3.2.0)\n",
            "Requirement already satisfied: hyperframe<6,>=5.2.0 in /usr/local/lib/python3.10/dist-packages (from h2==3.*->httpcore==0.9.*->httpx==0.13.3->googletrans==4.0.0-rc1) (5.2.0)\n",
            "Requirement already satisfied: hpack<4,>=3.0 in /usr/local/lib/python3.10/dist-packages (from h2==3.*->httpcore==0.9.*->httpx==0.13.3->googletrans==4.0.0-rc1) (3.0.0)\n"
          ]
        }
      ]
    },
    {
      "cell_type": "code",
      "source": [
        "#importing the translator from the googletrans library.\n",
        "from googletrans import Translator\n",
        "\n",
        "# translate the language texts to english\n",
        "thai_values = ['ป้ายจราจรชำรุด', 'เส้นแบ่งทิศทางจราจรชำรุด', 'มึนเมาจากแอลกอฮอล์'\n",
        "]\n",
        "\n",
        "# Initialize the translator\n",
        "translator = Translator()\n",
        "\n",
        "# Translate Thai values to English and store in a dictionary\n",
        "translated_dict = {}\n",
        "for thai_value in thai_values:\n",
        "    translation = translator.translate(thai_value, src='th', dest='en')\n",
        "    translated_dict[thai_value] = translation.text\n",
        "\n",
        "# Print the translated dictionary\n",
        "for thai_value, english_translation in translated_dict.items():\n",
        "    print(f\"'{thai_value}': '{english_translation}'\")"
      ],
      "metadata": {
        "id": "JjfHPrlvNz6W",
        "colab": {
          "base_uri": "https://localhost:8080/"
        },
        "outputId": "45cb4380-c7dc-4be6-d089-7aef4725176d"
      },
      "execution_count": 359,
      "outputs": [
        {
          "output_type": "stream",
          "name": "stdout",
          "text": [
            "'ป้ายจราจรชำรุด': 'Damaged traffic signs'\n",
            "'เส้นแบ่งทิศทางจราจรชำรุด': 'Damaged traffic direction'\n",
            "'มึนเมาจากแอลกอฮอล์': 'Dizzy from alcohol'\n"
          ]
        }
      ]
    },
    {
      "cell_type": "code",
      "source": [
        "# This the dictionary containing the thai and english text translation\n",
        "translated_dict"
      ],
      "metadata": {
        "id": "4W-bp9eFOX8A",
        "colab": {
          "base_uri": "https://localhost:8080/"
        },
        "outputId": "3f03d996-3d8b-4451-efe4-e83df2947c6f"
      },
      "execution_count": 360,
      "outputs": [
        {
          "output_type": "execute_result",
          "data": {
            "text/plain": [
              "{'ป้ายจราจรชำรุด': 'Damaged traffic signs',\n",
              " 'เส้นแบ่งทิศทางจราจรชำรุด': 'Damaged traffic direction',\n",
              " 'มึนเมาจากแอลกอฮอล์': 'Dizzy from alcohol'}"
            ]
          },
          "metadata": {},
          "execution_count": 360
        }
      ]
    },
    {
      "cell_type": "markdown",
      "source": [
        "**Defining a function can will replace the thai text with English text**"
      ],
      "metadata": {
        "id": "uJvAbMVz4Fcl"
      }
    },
    {
      "cell_type": "code",
      "source": [
        "# define function that will replace the texts with english\n",
        "def change_lang(x):\n",
        "  if x == 'ป้ายจราจรชำรุด':\n",
        "    x = 'Damaged traffic signs'\n",
        "    return x\n",
        "  elif x == 'เส้นแบ่งทิศทางจราจรชำรุด':\n",
        "    x ='Damaged traffic direction'\n",
        "    return x\n",
        "  elif x == 'มึนเมาจากแอลกอฮอล์':\n",
        "    x ='Dizzy from alcohol'\n",
        "    return x\n",
        "  else:\n",
        "    return x"
      ],
      "metadata": {
        "id": "Q6-8V-lxxi_-"
      },
      "execution_count": 361,
      "outputs": []
    },
    {
      "cell_type": "markdown",
      "source": [
        "**Applying the function to the presumed cause column**"
      ],
      "metadata": {
        "id": "NtiPoukG8GJ4"
      }
    },
    {
      "cell_type": "code",
      "source": [
        "data['presumed_cause'] = data['presumed_cause'].apply(change_lang)"
      ],
      "metadata": {
        "id": "Zlt-F3da4ATW"
      },
      "execution_count": 362,
      "outputs": []
    },
    {
      "cell_type": "code",
      "source": [
        "# Checking if the change is applied\n",
        "data['presumed_cause'].unique()"
      ],
      "metadata": {
        "colab": {
          "base_uri": "https://localhost:8080/"
        },
        "id": "WH4vt5VlysKh",
        "outputId": "ea06f5c0-6749-4d1b-aad7-20905b7d706b"
      },
      "execution_count": 367,
      "outputs": [
        {
          "output_type": "execute_result",
          "data": {
            "text/plain": [
              "array(['driving under the influence of alcohol', 'speeding',\n",
              "       'cutting in closely by people/vehicles/animals',\n",
              "       'failure to yield right of way', 'failure to yield/signal',\n",
              "       'falling asleep', 'running red lights/traffic signals', 'other',\n",
              "       'unfamiliarity with the route/unskilled driving',\n",
              "       'vehicle equipment failure', 'illegal overtaking', 'tailgating',\n",
              "       'ignoring stop sign while leaving intersection',\n",
              "       'overloaded vehicle', 'insufficient light',\n",
              "       'disabled vehicle without proper signals', 'abrupt lane change',\n",
              "       'debris/obstruction on the road', 'reversing vehicle',\n",
              "       'brake/anti-lock brake system failure', 'medical condition',\n",
              "       'vehicle electrical system failure', 'driving in the wrong lane',\n",
              "       'straddling lanes', 'dangerous curve',\n",
              "       'failure to signal enter/exit parking', 'slippery road',\n",
              "       'no traffic signs', 'sudden stop',\n",
              "       'using mobile phone while driving',\n",
              "       'driving without headlights/illumination', 'worn-out/tire blowout',\n",
              "       'obstruction in sight', 'traffic light system failure',\n",
              "       'disabled vehicle without proper signals/signs', 'narrow road',\n",
              "       'turn signal system failure', 'navigation equipment failure',\n",
              "       'inadequate visibility', 'road in poor condition',\n",
              "       'Damaged traffic signs', 'Damaged traffic direction',\n",
              "       'repair/construction on the road',\n",
              "       'no presumed cause related to driver', 'external disturbance',\n",
              "       'no presumed cause related to vehicle conditions',\n",
              "       'no presumed cause related to road conditions',\n",
              "       'no road divider lines', 'loss of control',\n",
              "       'using psychoactive substances', 'no traffic light system',\n",
              "       'aggressive driving/overtaking', 'internal disturbance',\n",
              "       'Dizzy from alcohol'], dtype=object)"
            ]
          },
          "metadata": {},
          "execution_count": 367
        }
      ]
    },
    {
      "cell_type": "markdown",
      "source": [
        "**Done**"
      ],
      "metadata": {
        "id": "z8l0jUf_8rZk"
      }
    },
    {
      "cell_type": "markdown",
      "source": [
        "### **Accident Type Column**"
      ],
      "metadata": {
        "id": "U6Gjpjm5gYn1"
      }
    },
    {
      "cell_type": "markdown",
      "source": [
        "**Checking the categories or type of accident**"
      ],
      "metadata": {
        "id": "-n_j8gFjhQ2w"
      }
    },
    {
      "cell_type": "code",
      "source": [
        "data.accident_type.unique()"
      ],
      "metadata": {
        "id": "cNcBGBnag6Jl",
        "colab": {
          "base_uri": "https://localhost:8080/"
        },
        "outputId": "f928efc3-b2da-48bb-cb14-28b149103322"
      },
      "execution_count": 368,
      "outputs": [
        {
          "output_type": "execute_result",
          "data": {
            "text/plain": [
              "array(['other', 'rollover/fallen on straight road',\n",
              "       'head-on collision (not overtaking)',\n",
              "       'collision at intersection corner',\n",
              "       'collision with obstruction (on road surface)',\n",
              "       'rear-end collision', 'pedestrian collision',\n",
              "       'rollover/fallen on curved road', 'collision during overtaking',\n",
              "       'turning/retreating collision', 'side collision'], dtype=object)"
            ]
          },
          "metadata": {},
          "execution_count": 368
        }
      ]
    },
    {
      "cell_type": "code",
      "source": [
        "# Checking if there are null values\n",
        "data.accident_type.isnull().sum()"
      ],
      "metadata": {
        "id": "x6v_1WFPhPD2"
      },
      "execution_count": null,
      "outputs": []
    },
    {
      "cell_type": "markdown",
      "source": [
        "**There are no null values**"
      ],
      "metadata": {
        "id": "AU0febjehtsa"
      }
    },
    {
      "cell_type": "markdown",
      "source": [
        "### **Number of vehicles involved Column**"
      ],
      "metadata": {
        "id": "uW7dAbsMh6o8"
      }
    },
    {
      "cell_type": "code",
      "source": [
        "data.number_of_vehicles_involved.unique()"
      ],
      "metadata": {
        "id": "YytHx5dfiDHO",
        "colab": {
          "base_uri": "https://localhost:8080/"
        },
        "outputId": "d2e0c32d-aa12-4615-f87e-ced5c7666d28"
      },
      "execution_count": 369,
      "outputs": [
        {
          "output_type": "execute_result",
          "data": {
            "text/plain": [
              "array([ 1,  2,  3,  0,  4,  6,  5,  7, 12, 11, 10,  8,  9, 14, 19, 27, 24,\n",
              "       13])"
            ]
          },
          "metadata": {},
          "execution_count": 369
        }
      ]
    },
    {
      "cell_type": "markdown",
      "source": [
        "**range is from 0 - 27 vehicles**"
      ],
      "metadata": {
        "id": "1tPGHRH5icBW"
      }
    },
    {
      "cell_type": "code",
      "source": [
        "data.number_of_vehicles_involved.isnull().sum()"
      ],
      "metadata": {
        "id": "X8olxYfriqUF",
        "colab": {
          "base_uri": "https://localhost:8080/"
        },
        "outputId": "ab18f229-dbe4-4151-f048-0144924a4a8b"
      },
      "execution_count": 371,
      "outputs": [
        {
          "output_type": "execute_result",
          "data": {
            "text/plain": [
              "0"
            ]
          },
          "metadata": {},
          "execution_count": 371
        }
      ]
    },
    {
      "cell_type": "markdown",
      "source": [
        "**Also we have no null value**"
      ],
      "metadata": {
        "id": "Id7C1AHDi0EY"
      }
    },
    {
      "cell_type": "markdown",
      "source": [
        "### **number of fatalities Column**"
      ],
      "metadata": {
        "id": "VvfmS-PNi5dK"
      }
    },
    {
      "cell_type": "code",
      "source": [
        "#Checking for null values\n",
        "data.number_of_fatalities.isnull().sum()"
      ],
      "metadata": {
        "id": "zitof8qQjMCa",
        "colab": {
          "base_uri": "https://localhost:8080/"
        },
        "outputId": "fbf891bc-bc9b-4228-9763-5aa1503fabda"
      },
      "execution_count": 370,
      "outputs": [
        {
          "output_type": "execute_result",
          "data": {
            "text/plain": [
              "0"
            ]
          },
          "metadata": {},
          "execution_count": 370
        }
      ]
    },
    {
      "cell_type": "code",
      "source": [
        "#checking for the range of number of fatalities\n",
        "data.number_of_fatalities.unique()"
      ],
      "metadata": {
        "id": "pOS5aSh-jVIY",
        "colab": {
          "base_uri": "https://localhost:8080/"
        },
        "outputId": "d2f0c489-780d-4e75-ecce-ffb015221a87"
      },
      "execution_count": 372,
      "outputs": [
        {
          "output_type": "execute_result",
          "data": {
            "text/plain": [
              "array([ 0,  1,  3,  2,  5,  6,  9,  4, 10,  7, 11, 13,  8])"
            ]
          },
          "metadata": {},
          "execution_count": 372
        }
      ]
    },
    {
      "cell_type": "markdown",
      "source": [
        "### **Number of injuries Column**"
      ],
      "metadata": {
        "id": "5KJJJUwajkL8"
      }
    },
    {
      "cell_type": "code",
      "source": [
        "# Checking if there is a null value\n",
        "data.number_of_injuries.isnull().sum()"
      ],
      "metadata": {
        "id": "_Z5lyKqGj0BI",
        "colab": {
          "base_uri": "https://localhost:8080/"
        },
        "outputId": "1523a5bc-d0fe-48c6-ac5d-b6dafcf816ad"
      },
      "execution_count": 373,
      "outputs": [
        {
          "output_type": "execute_result",
          "data": {
            "text/plain": [
              "0"
            ]
          },
          "metadata": {},
          "execution_count": 373
        }
      ]
    },
    {
      "cell_type": "code",
      "source": [
        "#Checking the range\n",
        "data.number_of_injuries.unique()"
      ],
      "metadata": {
        "id": "Ugo7vHjMj9wC",
        "colab": {
          "base_uri": "https://localhost:8080/"
        },
        "outputId": "f9bc7f66-46d8-49ed-a575-54170ae62fb0"
      },
      "execution_count": 374,
      "outputs": [
        {
          "output_type": "execute_result",
          "data": {
            "text/plain": [
              "array([ 2,  0,  1,  5,  4,  3,  9,  7, 12, 14,  6,  8, 51, 13, 10, 11, 17,\n",
              "       15, 35, 24, 20, 21, 30, 19, 28, 32, 18, 25, 22, 16, 23, 27, 43, 42,\n",
              "       46, 31, 39, 49, 38, 44, 34])"
            ]
          },
          "metadata": {},
          "execution_count": 374
        }
      ]
    },
    {
      "cell_type": "markdown",
      "source": [
        "### **Weather condition column**"
      ],
      "metadata": {
        "id": "rDEo6joQkMl0"
      }
    },
    {
      "cell_type": "markdown",
      "source": [
        "Checking for the types of weather condition"
      ],
      "metadata": {
        "id": "VxVeXTxInFCE"
      }
    },
    {
      "cell_type": "code",
      "source": [
        "data.weather_condition.unique()"
      ],
      "metadata": {
        "id": "CtMWeIe-m_Y5",
        "colab": {
          "base_uri": "https://localhost:8080/"
        },
        "outputId": "e8b777b7-6d18-4f8c-9636-c52f6c6e8bd2"
      },
      "execution_count": 375,
      "outputs": [
        {
          "output_type": "execute_result",
          "data": {
            "text/plain": [
              "array(['clear', 'foggy', 'dark', 'rainy', 'other', 'natural disaster',\n",
              "       'land slide'], dtype=object)"
            ]
          },
          "metadata": {},
          "execution_count": 375
        }
      ]
    },
    {
      "cell_type": "code",
      "source": [
        "# Checking if there are null values\n",
        "data.weather_condition.isnull().sum()"
      ],
      "metadata": {
        "id": "f3W4y1a5nLNS",
        "colab": {
          "base_uri": "https://localhost:8080/"
        },
        "outputId": "aa854647-592d-4022-8920-f2a21e2d9e70"
      },
      "execution_count": 376,
      "outputs": [
        {
          "output_type": "execute_result",
          "data": {
            "text/plain": [
              "0"
            ]
          },
          "metadata": {},
          "execution_count": 376
        }
      ]
    },
    {
      "cell_type": "markdown",
      "source": [
        "### **Latitude and Longitude Column**"
      ],
      "metadata": {
        "id": "7oPtI_aboTej"
      }
    },
    {
      "cell_type": "markdown",
      "source": [
        "**Checking if there are null value in the latitude and longitude column**"
      ],
      "metadata": {
        "id": "iVGgROc6-cke"
      }
    },
    {
      "cell_type": "code",
      "source": [
        "data[['latitude', 'longitude']].isnull().sum()"
      ],
      "metadata": {
        "colab": {
          "base_uri": "https://localhost:8080/"
        },
        "id": "R0X8yIzn-RSo",
        "outputId": "329eb38b-7ed2-498e-debd-58b63295c428"
      },
      "execution_count": 382,
      "outputs": [
        {
          "output_type": "execute_result",
          "data": {
            "text/plain": [
              "latitude     359\n",
              "longitude    359\n",
              "dtype: int64"
            ]
          },
          "metadata": {},
          "execution_count": 382
        }
      ]
    },
    {
      "cell_type": "markdown",
      "source": [
        "**And yes, there are null values in the columns**\n",
        "\n",
        "**There are 359 in the columns**"
      ],
      "metadata": {
        "id": "XvFpvOeG-zZC"
      }
    },
    {
      "cell_type": "code",
      "source": [
        "# Getting the count of the data will the missing information on latitide and longitude\n",
        "data.loc[(data['latitude'].isnull()) & (data['latitude'].isnull())].count()"
      ],
      "metadata": {
        "colab": {
          "base_uri": "https://localhost:8080/"
        },
        "id": "EFNUdcBY_Jzr",
        "outputId": "4de357d5-af0d-447e-cedb-66a4deae7e4a"
      },
      "execution_count": 389,
      "outputs": [
        {
          "output_type": "execute_result",
          "data": {
            "text/plain": [
              "acc_code                       359\n",
              "Incident_date                  359\n",
              "Incident_time                  359\n",
              "report_date                    359\n",
              "report_time                    359\n",
              "province                       359\n",
              "agency                         359\n",
              "route                          359\n",
              "vehicle_type                   359\n",
              "presumed_cause                 359\n",
              "accident_type                  359\n",
              "number_of_vehicles_involved    359\n",
              "number_of_fatalities           359\n",
              "number_of_injuries             359\n",
              "weather_condition              359\n",
              "latitude                         0\n",
              "longitude                        0\n",
              "road_description               359\n",
              "slope_description              359\n",
              "dtype: int64"
            ]
          },
          "metadata": {},
          "execution_count": 389
        }
      ]
    },
    {
      "cell_type": "code",
      "source": [
        "long_lat_null = data[['province','route','latitude', 'longitude']].loc[data['latitude'].isnull()]"
      ],
      "metadata": {
        "id": "FXl29wV6As9B"
      },
      "execution_count": 396,
      "outputs": []
    },
    {
      "cell_type": "code",
      "source": [
        "long_lat_null['route'].describe()"
      ],
      "metadata": {
        "colab": {
          "base_uri": "https://localhost:8080/"
        },
        "id": "sFlBSjqyB-9O",
        "outputId": "0080eed4-b814-45a4-fa7b-9d6fde80703c"
      },
      "execution_count": 402,
      "outputs": [
        {
          "output_type": "execute_result",
          "data": {
            "text/plain": [
              "count                            359\n",
              "unique                            22\n",
              "top       Chaeng Watthana-Phaya Thai\n",
              "freq                              64\n",
              "Name: route, dtype: object"
            ]
          },
          "metadata": {},
          "execution_count": 402
        }
      ]
    },
    {
      "cell_type": "markdown",
      "source": [
        "**Chaeng Watthana-Phaya Thai** is the most frequently occuring route with Null value on the lat and long column occurring **64** times\n",
        "\n",
        "Also we have **22** unique routes with missing value of the long and lat"
      ],
      "metadata": {
        "id": "ANdagIFmDU3v"
      }
    },
    {
      "cell_type": "markdown",
      "source": [
        "Due to fact that the analysis is not focused on geographical location, dropping the longitude and latitude column will be ideal. And also because they contain missing values"
      ],
      "metadata": {
        "id": "fiwpWZhpEqxq"
      }
    },
    {
      "cell_type": "code",
      "source": [
        "data.drop('longitude', axis=1, inplace=True)\n",
        "data.drop('latitude', axis=1, inplace=True)"
      ],
      "metadata": {
        "id": "ALHIKA1NqNwM"
      },
      "execution_count": 404,
      "outputs": []
    },
    {
      "cell_type": "code",
      "source": [
        "data.head(3)"
      ],
      "metadata": {
        "colab": {
          "base_uri": "https://localhost:8080/",
          "height": 302
        },
        "id": "xx_Thw04GgfR",
        "outputId": "c16fdc7b-a620-4166-e8bc-eece77401b10"
      },
      "execution_count": 405,
      "outputs": [
        {
          "output_type": "execute_result",
          "data": {
            "text/plain": [
              "   acc_code Incident_date Incident_time report_date report_time  \\\n",
              "0    571905    2019-01-01      00:00:00  2019-01-02    06:11:00   \n",
              "1   3790870    2019-01-01      00:03:00  2020-02-20    13:48:00   \n",
              "2    599075    2019-01-01      00:05:00  2019-01-01    10:35:00   \n",
              "\n",
              "              province                     agency  \\\n",
              "0               Loburi  department of rural roads   \n",
              "1     Ubon Ratchathani     department of highways   \n",
              "2  Prachuap Khiri Khan     department of highways   \n",
              "\n",
              "                                       route           vehicle_type  \\\n",
              "0  Highway 21 (km 31+000) - Ban Wang Phloeng             motorcycle   \n",
              "1                Dej Udom - Ubon Ratchathani  private/passenger car   \n",
              "2                    Pranburi - Pak Nam Pran             motorcycle   \n",
              "\n",
              "                           presumed_cause                       accident_type  \\\n",
              "0  driving under the influence of alcohol                               other   \n",
              "1                                speeding    rollover/fallen on straight road   \n",
              "2                                speeding  head-on collision (not overtaking)   \n",
              "\n",
              "   number_of_vehicles_involved  number_of_fatalities  number_of_injuries  \\\n",
              "0                            1                     0                   2   \n",
              "1                            1                     0                   2   \n",
              "2                            2                     1                   0   \n",
              "\n",
              "  weather_condition road_description slope_description  \n",
              "0             clear    straight road          no slope  \n",
              "1             clear    straight road          no slope  \n",
              "2             clear       wide curve        slope area  "
            ],
            "text/html": [
              "\n",
              "  <div id=\"df-633bd6bc-8a48-44b8-a054-ad069dfee912\" class=\"colab-df-container\">\n",
              "    <div>\n",
              "<style scoped>\n",
              "    .dataframe tbody tr th:only-of-type {\n",
              "        vertical-align: middle;\n",
              "    }\n",
              "\n",
              "    .dataframe tbody tr th {\n",
              "        vertical-align: top;\n",
              "    }\n",
              "\n",
              "    .dataframe thead th {\n",
              "        text-align: right;\n",
              "    }\n",
              "</style>\n",
              "<table border=\"1\" class=\"dataframe\">\n",
              "  <thead>\n",
              "    <tr style=\"text-align: right;\">\n",
              "      <th></th>\n",
              "      <th>acc_code</th>\n",
              "      <th>Incident_date</th>\n",
              "      <th>Incident_time</th>\n",
              "      <th>report_date</th>\n",
              "      <th>report_time</th>\n",
              "      <th>province</th>\n",
              "      <th>agency</th>\n",
              "      <th>route</th>\n",
              "      <th>vehicle_type</th>\n",
              "      <th>presumed_cause</th>\n",
              "      <th>accident_type</th>\n",
              "      <th>number_of_vehicles_involved</th>\n",
              "      <th>number_of_fatalities</th>\n",
              "      <th>number_of_injuries</th>\n",
              "      <th>weather_condition</th>\n",
              "      <th>road_description</th>\n",
              "      <th>slope_description</th>\n",
              "    </tr>\n",
              "  </thead>\n",
              "  <tbody>\n",
              "    <tr>\n",
              "      <th>0</th>\n",
              "      <td>571905</td>\n",
              "      <td>2019-01-01</td>\n",
              "      <td>00:00:00</td>\n",
              "      <td>2019-01-02</td>\n",
              "      <td>06:11:00</td>\n",
              "      <td>Loburi</td>\n",
              "      <td>department of rural roads</td>\n",
              "      <td>Highway 21 (km 31+000) - Ban Wang Phloeng</td>\n",
              "      <td>motorcycle</td>\n",
              "      <td>driving under the influence of alcohol</td>\n",
              "      <td>other</td>\n",
              "      <td>1</td>\n",
              "      <td>0</td>\n",
              "      <td>2</td>\n",
              "      <td>clear</td>\n",
              "      <td>straight road</td>\n",
              "      <td>no slope</td>\n",
              "    </tr>\n",
              "    <tr>\n",
              "      <th>1</th>\n",
              "      <td>3790870</td>\n",
              "      <td>2019-01-01</td>\n",
              "      <td>00:03:00</td>\n",
              "      <td>2020-02-20</td>\n",
              "      <td>13:48:00</td>\n",
              "      <td>Ubon Ratchathani</td>\n",
              "      <td>department of highways</td>\n",
              "      <td>Dej Udom - Ubon Ratchathani</td>\n",
              "      <td>private/passenger car</td>\n",
              "      <td>speeding</td>\n",
              "      <td>rollover/fallen on straight road</td>\n",
              "      <td>1</td>\n",
              "      <td>0</td>\n",
              "      <td>2</td>\n",
              "      <td>clear</td>\n",
              "      <td>straight road</td>\n",
              "      <td>no slope</td>\n",
              "    </tr>\n",
              "    <tr>\n",
              "      <th>2</th>\n",
              "      <td>599075</td>\n",
              "      <td>2019-01-01</td>\n",
              "      <td>00:05:00</td>\n",
              "      <td>2019-01-01</td>\n",
              "      <td>10:35:00</td>\n",
              "      <td>Prachuap Khiri Khan</td>\n",
              "      <td>department of highways</td>\n",
              "      <td>Pranburi - Pak Nam Pran</td>\n",
              "      <td>motorcycle</td>\n",
              "      <td>speeding</td>\n",
              "      <td>head-on collision (not overtaking)</td>\n",
              "      <td>2</td>\n",
              "      <td>1</td>\n",
              "      <td>0</td>\n",
              "      <td>clear</td>\n",
              "      <td>wide curve</td>\n",
              "      <td>slope area</td>\n",
              "    </tr>\n",
              "  </tbody>\n",
              "</table>\n",
              "</div>\n",
              "    <div class=\"colab-df-buttons\">\n",
              "\n",
              "  <div class=\"colab-df-container\">\n",
              "    <button class=\"colab-df-convert\" onclick=\"convertToInteractive('df-633bd6bc-8a48-44b8-a054-ad069dfee912')\"\n",
              "            title=\"Convert this dataframe to an interactive table.\"\n",
              "            style=\"display:none;\">\n",
              "\n",
              "  <svg xmlns=\"http://www.w3.org/2000/svg\" height=\"24px\" viewBox=\"0 -960 960 960\">\n",
              "    <path d=\"M120-120v-720h720v720H120Zm60-500h600v-160H180v160Zm220 220h160v-160H400v160Zm0 220h160v-160H400v160ZM180-400h160v-160H180v160Zm440 0h160v-160H620v160ZM180-180h160v-160H180v160Zm440 0h160v-160H620v160Z\"/>\n",
              "  </svg>\n",
              "    </button>\n",
              "\n",
              "  <style>\n",
              "    .colab-df-container {\n",
              "      display:flex;\n",
              "      gap: 12px;\n",
              "    }\n",
              "\n",
              "    .colab-df-convert {\n",
              "      background-color: #E8F0FE;\n",
              "      border: none;\n",
              "      border-radius: 50%;\n",
              "      cursor: pointer;\n",
              "      display: none;\n",
              "      fill: #1967D2;\n",
              "      height: 32px;\n",
              "      padding: 0 0 0 0;\n",
              "      width: 32px;\n",
              "    }\n",
              "\n",
              "    .colab-df-convert:hover {\n",
              "      background-color: #E2EBFA;\n",
              "      box-shadow: 0px 1px 2px rgba(60, 64, 67, 0.3), 0px 1px 3px 1px rgba(60, 64, 67, 0.15);\n",
              "      fill: #174EA6;\n",
              "    }\n",
              "\n",
              "    .colab-df-buttons div {\n",
              "      margin-bottom: 4px;\n",
              "    }\n",
              "\n",
              "    [theme=dark] .colab-df-convert {\n",
              "      background-color: #3B4455;\n",
              "      fill: #D2E3FC;\n",
              "    }\n",
              "\n",
              "    [theme=dark] .colab-df-convert:hover {\n",
              "      background-color: #434B5C;\n",
              "      box-shadow: 0px 1px 3px 1px rgba(0, 0, 0, 0.15);\n",
              "      filter: drop-shadow(0px 1px 2px rgba(0, 0, 0, 0.3));\n",
              "      fill: #FFFFFF;\n",
              "    }\n",
              "  </style>\n",
              "\n",
              "    <script>\n",
              "      const buttonEl =\n",
              "        document.querySelector('#df-633bd6bc-8a48-44b8-a054-ad069dfee912 button.colab-df-convert');\n",
              "      buttonEl.style.display =\n",
              "        google.colab.kernel.accessAllowed ? 'block' : 'none';\n",
              "\n",
              "      async function convertToInteractive(key) {\n",
              "        const element = document.querySelector('#df-633bd6bc-8a48-44b8-a054-ad069dfee912');\n",
              "        const dataTable =\n",
              "          await google.colab.kernel.invokeFunction('convertToInteractive',\n",
              "                                                    [key], {});\n",
              "        if (!dataTable) return;\n",
              "\n",
              "        const docLinkHtml = 'Like what you see? Visit the ' +\n",
              "          '<a target=\"_blank\" href=https://colab.research.google.com/notebooks/data_table.ipynb>data table notebook</a>'\n",
              "          + ' to learn more about interactive tables.';\n",
              "        element.innerHTML = '';\n",
              "        dataTable['output_type'] = 'display_data';\n",
              "        await google.colab.output.renderOutput(dataTable, element);\n",
              "        const docLink = document.createElement('div');\n",
              "        docLink.innerHTML = docLinkHtml;\n",
              "        element.appendChild(docLink);\n",
              "      }\n",
              "    </script>\n",
              "  </div>\n",
              "\n",
              "\n",
              "<div id=\"df-45eda781-1b3f-4966-ac69-1bd01b99b2dd\">\n",
              "  <button class=\"colab-df-quickchart\" onclick=\"quickchart('df-45eda781-1b3f-4966-ac69-1bd01b99b2dd')\"\n",
              "            title=\"Suggest charts.\"\n",
              "            style=\"display:none;\">\n",
              "\n",
              "<svg xmlns=\"http://www.w3.org/2000/svg\" height=\"24px\"viewBox=\"0 0 24 24\"\n",
              "     width=\"24px\">\n",
              "    <g>\n",
              "        <path d=\"M19 3H5c-1.1 0-2 .9-2 2v14c0 1.1.9 2 2 2h14c1.1 0 2-.9 2-2V5c0-1.1-.9-2-2-2zM9 17H7v-7h2v7zm4 0h-2V7h2v10zm4 0h-2v-4h2v4z\"/>\n",
              "    </g>\n",
              "</svg>\n",
              "  </button>\n",
              "\n",
              "<style>\n",
              "  .colab-df-quickchart {\n",
              "      --bg-color: #E8F0FE;\n",
              "      --fill-color: #1967D2;\n",
              "      --hover-bg-color: #E2EBFA;\n",
              "      --hover-fill-color: #174EA6;\n",
              "      --disabled-fill-color: #AAA;\n",
              "      --disabled-bg-color: #DDD;\n",
              "  }\n",
              "\n",
              "  [theme=dark] .colab-df-quickchart {\n",
              "      --bg-color: #3B4455;\n",
              "      --fill-color: #D2E3FC;\n",
              "      --hover-bg-color: #434B5C;\n",
              "      --hover-fill-color: #FFFFFF;\n",
              "      --disabled-bg-color: #3B4455;\n",
              "      --disabled-fill-color: #666;\n",
              "  }\n",
              "\n",
              "  .colab-df-quickchart {\n",
              "    background-color: var(--bg-color);\n",
              "    border: none;\n",
              "    border-radius: 50%;\n",
              "    cursor: pointer;\n",
              "    display: none;\n",
              "    fill: var(--fill-color);\n",
              "    height: 32px;\n",
              "    padding: 0;\n",
              "    width: 32px;\n",
              "  }\n",
              "\n",
              "  .colab-df-quickchart:hover {\n",
              "    background-color: var(--hover-bg-color);\n",
              "    box-shadow: 0 1px 2px rgba(60, 64, 67, 0.3), 0 1px 3px 1px rgba(60, 64, 67, 0.15);\n",
              "    fill: var(--button-hover-fill-color);\n",
              "  }\n",
              "\n",
              "  .colab-df-quickchart-complete:disabled,\n",
              "  .colab-df-quickchart-complete:disabled:hover {\n",
              "    background-color: var(--disabled-bg-color);\n",
              "    fill: var(--disabled-fill-color);\n",
              "    box-shadow: none;\n",
              "  }\n",
              "\n",
              "  .colab-df-spinner {\n",
              "    border: 2px solid var(--fill-color);\n",
              "    border-color: transparent;\n",
              "    border-bottom-color: var(--fill-color);\n",
              "    animation:\n",
              "      spin 1s steps(1) infinite;\n",
              "  }\n",
              "\n",
              "  @keyframes spin {\n",
              "    0% {\n",
              "      border-color: transparent;\n",
              "      border-bottom-color: var(--fill-color);\n",
              "      border-left-color: var(--fill-color);\n",
              "    }\n",
              "    20% {\n",
              "      border-color: transparent;\n",
              "      border-left-color: var(--fill-color);\n",
              "      border-top-color: var(--fill-color);\n",
              "    }\n",
              "    30% {\n",
              "      border-color: transparent;\n",
              "      border-left-color: var(--fill-color);\n",
              "      border-top-color: var(--fill-color);\n",
              "      border-right-color: var(--fill-color);\n",
              "    }\n",
              "    40% {\n",
              "      border-color: transparent;\n",
              "      border-right-color: var(--fill-color);\n",
              "      border-top-color: var(--fill-color);\n",
              "    }\n",
              "    60% {\n",
              "      border-color: transparent;\n",
              "      border-right-color: var(--fill-color);\n",
              "    }\n",
              "    80% {\n",
              "      border-color: transparent;\n",
              "      border-right-color: var(--fill-color);\n",
              "      border-bottom-color: var(--fill-color);\n",
              "    }\n",
              "    90% {\n",
              "      border-color: transparent;\n",
              "      border-bottom-color: var(--fill-color);\n",
              "    }\n",
              "  }\n",
              "</style>\n",
              "\n",
              "  <script>\n",
              "    async function quickchart(key) {\n",
              "      const quickchartButtonEl =\n",
              "        document.querySelector('#' + key + ' button');\n",
              "      quickchartButtonEl.disabled = true;  // To prevent multiple clicks.\n",
              "      quickchartButtonEl.classList.add('colab-df-spinner');\n",
              "      try {\n",
              "        const charts = await google.colab.kernel.invokeFunction(\n",
              "            'suggestCharts', [key], {});\n",
              "      } catch (error) {\n",
              "        console.error('Error during call to suggestCharts:', error);\n",
              "      }\n",
              "      quickchartButtonEl.classList.remove('colab-df-spinner');\n",
              "      quickchartButtonEl.classList.add('colab-df-quickchart-complete');\n",
              "    }\n",
              "    (() => {\n",
              "      let quickchartButtonEl =\n",
              "        document.querySelector('#df-45eda781-1b3f-4966-ac69-1bd01b99b2dd button');\n",
              "      quickchartButtonEl.style.display =\n",
              "        google.colab.kernel.accessAllowed ? 'block' : 'none';\n",
              "    })();\n",
              "  </script>\n",
              "</div>\n",
              "    </div>\n",
              "  </div>\n"
            ]
          },
          "metadata": {},
          "execution_count": 405
        }
      ]
    },
    {
      "cell_type": "markdown",
      "source": [
        "**Done**"
      ],
      "metadata": {
        "id": "JvUXNiXiGlQz"
      }
    },
    {
      "cell_type": "markdown",
      "source": [
        "### **Road Description Column**"
      ],
      "metadata": {
        "id": "4h2ZlJDLGzOh"
      }
    },
    {
      "cell_type": "code",
      "source": [],
      "metadata": {
        "id": "nuCBclOQHDm0"
      },
      "execution_count": null,
      "outputs": []
    },
    {
      "cell_type": "markdown",
      "source": [
        "## **DATA ANALYSIS AND EXPLORATION**\n",
        "\n"
      ],
      "metadata": {
        "id": "TVvQUhPS7s73"
      }
    },
    {
      "cell_type": "code",
      "source": [],
      "metadata": {
        "id": "_VUO6ab699oo"
      },
      "execution_count": null,
      "outputs": []
    },
    {
      "cell_type": "code",
      "source": [],
      "metadata": {
        "id": "Hnl_lYok9-7O"
      },
      "execution_count": null,
      "outputs": []
    },
    {
      "cell_type": "code",
      "source": [],
      "metadata": {
        "id": "-ch934jv9_78"
      },
      "execution_count": null,
      "outputs": []
    },
    {
      "cell_type": "code",
      "source": [],
      "metadata": {
        "id": "HcsPLQto-ASz"
      },
      "execution_count": null,
      "outputs": []
    },
    {
      "cell_type": "code",
      "source": [],
      "metadata": {
        "id": "FhyylrPM-AdD"
      },
      "execution_count": null,
      "outputs": []
    },
    {
      "cell_type": "code",
      "source": [],
      "metadata": {
        "id": "5z0aCAtc-AmB"
      },
      "execution_count": null,
      "outputs": []
    },
    {
      "cell_type": "code",
      "source": [],
      "metadata": {
        "id": "3gswdV7o-AtA"
      },
      "execution_count": null,
      "outputs": []
    },
    {
      "cell_type": "code",
      "source": [],
      "metadata": {
        "id": "5ZbKlThm-A0R"
      },
      "execution_count": null,
      "outputs": []
    },
    {
      "cell_type": "markdown",
      "source": [
        "## **DATA VISUALIZATION**"
      ],
      "metadata": {
        "id": "3CR001YF-64b"
      }
    }
  ]
}