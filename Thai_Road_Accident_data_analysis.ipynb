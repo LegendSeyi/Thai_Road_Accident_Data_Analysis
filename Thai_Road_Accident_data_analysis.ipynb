{
  "nbformat": 4,
  "nbformat_minor": 0,
  "metadata": {
    "colab": {
      "provenance": [],
      "authorship_tag": "ABX9TyNN1r6LbNxuzx7nC5tpFvB/",
      "include_colab_link": true
    },
    "kernelspec": {
      "name": "python3",
      "display_name": "Python 3"
    },
    "language_info": {
      "name": "python"
    }
  },
  "cells": [
    {
      "cell_type": "markdown",
      "metadata": {
        "id": "view-in-github",
        "colab_type": "text"
      },
      "source": [
        "<a href=\"https://colab.research.google.com/github/LegendSeyi/Thai_Road_Accident_Data_Analysis/blob/main/Thai_Road_Accident_data_analysis.ipynb\" target=\"_parent\"><img src=\"https://colab.research.google.com/assets/colab-badge.svg\" alt=\"Open In Colab\"/></a>"
      ]
    },
    {
      "cell_type": "markdown",
      "source": [
        "# **THAI ROAD ACCIDENT ANALYSIS**\n",
        "#### **_By Adeyemi Oluwaseyi Emmanuel_**\n",
        "\n",
        "[Click here to check Linkedin profile](https://www.linkedin.com/in/oluwaseyi-adeyemi-33b1ab197/)\n",
        "\n",
        "[Twitter link](https://twitter.com/AmLegendseyi)"
      ],
      "metadata": {
        "id": "r0WJ0fFVU1bE"
      }
    },
    {
      "cell_type": "markdown",
      "source": [
        "## **INTRODUCTION**"
      ],
      "metadata": {
        "id": "EgciNOtgVaji"
      }
    },
    {
      "cell_type": "markdown",
      "source": [
        "This dataset provides comprehensive statistics on recorded road accidents in Thailand, spanning from approximately 2019 to 2022. The data was sourced from raw information provided by the Office of the Permanent Secretary, Ministry of Transport, which is also utilized in this public dashboard for easier access and visualization. The dataset encompasses various aspects of road accidents and aims to shed light on the trends and patterns within this critical area of concern, analysis of this data could be crucial in guiding road safety policies and measures👍."
      ],
      "metadata": {
        "id": "_WnK4RPzVhVq"
      }
    },
    {
      "cell_type": "markdown",
      "source": [
        "We import our required libraries"
      ],
      "metadata": {
        "id": "jefhjhFeWWfB"
      }
    },
    {
      "cell_type": "code",
      "source": [
        "import pandas as pd\n",
        "import numpy as np\n",
        "import matplotlib.pyplot as plt\n",
        "import seaborn as sns"
      ],
      "metadata": {
        "id": "_z-VHq4HWMAR"
      },
      "execution_count": 132,
      "outputs": []
    },
    {
      "cell_type": "code",
      "source": [
        "## creating a dictionary in python and converting it to a dataframe\n",
        "tb = {'Column':['acc_code',\n",
        "    'incident_datetime',\n",
        "    'report_datetime',\n",
        "    'province_th',\n",
        "    'province_en',\n",
        "    'agency',\n",
        "    'route',\n",
        "    'vehicle_type',\n",
        "    'presumed_cause',\n",
        "    'accident_type',\n",
        "    'number_of_vehicles_involved',\n",
        "    'number_of_fatalities',\n",
        "    'number_of_injuries',\n",
        "    'weather_condition',\n",
        "    'latitude',\n",
        "    'longitude',\n",
        "    'road_description',\n",
        "    'slope_description'],\n",
        "    'Description':['The accident code or identifier',\n",
        "    'The date and time of the accident occurrence',\n",
        "    'The date and time when the accident was reported',\n",
        "    'The name of the province in Thailand, written in Thai',\n",
        "    'The name of the province in Thailand, written in English',\n",
        "    'The government agency responsible for the road and traffic management',\n",
        "    'The route or road segment where the accident occurred',\n",
        "    'The type of vehicle involved in the accident',\n",
        "    'The presumed cause or reason for the accident',\n",
        "    'The type or nature of the accident',\n",
        "    'The number of vehicles involved in the accident',\n",
        "    'The number of fatalities resulting from the accident',\n",
        "    'The number of injuries resulting from the accident',\n",
        "    'The weather condition at the time of the accident',\n",
        "    'The latitude coordinate of the accident location',\n",
        "    'The longitude coordinate of the accident location',\n",
        "    'The description of the road type or configuration where the accident occurred',\n",
        "    'The description of the slope condition at the accident location']\n",
        "     }"
      ],
      "metadata": {
        "id": "KgPtFp6CVody"
      },
      "execution_count": 133,
      "outputs": []
    },
    {
      "cell_type": "code",
      "source": [
        "## Converting the dictionary to a data frame\n",
        "dico = pd.DataFrame(tb)"
      ],
      "metadata": {
        "id": "SSyRBg_UWDUX"
      },
      "execution_count": 134,
      "outputs": []
    },
    {
      "cell_type": "code",
      "source": [
        "dico"
      ],
      "metadata": {
        "id": "S-9NAzx1WrYW",
        "colab": {
          "base_uri": "https://localhost:8080/",
          "height": 613
        },
        "outputId": "f669b01c-c439-4880-9c5d-87d6fac9e324"
      },
      "execution_count": 135,
      "outputs": [
        {
          "output_type": "execute_result",
          "data": {
            "text/plain": [
              "                         Column  \\\n",
              "0                      acc_code   \n",
              "1             incident_datetime   \n",
              "2               report_datetime   \n",
              "3                   province_th   \n",
              "4                   province_en   \n",
              "5                        agency   \n",
              "6                         route   \n",
              "7                  vehicle_type   \n",
              "8                presumed_cause   \n",
              "9                 accident_type   \n",
              "10  number_of_vehicles_involved   \n",
              "11         number_of_fatalities   \n",
              "12           number_of_injuries   \n",
              "13            weather_condition   \n",
              "14                     latitude   \n",
              "15                    longitude   \n",
              "16             road_description   \n",
              "17            slope_description   \n",
              "\n",
              "                                          Description  \n",
              "0                     The accident code or identifier  \n",
              "1        The date and time of the accident occurrence  \n",
              "2    The date and time when the accident was reported  \n",
              "3   The name of the province in Thailand, written ...  \n",
              "4   The name of the province in Thailand, written ...  \n",
              "5   The government agency responsible for the road...  \n",
              "6   The route or road segment where the accident o...  \n",
              "7        The type of vehicle involved in the accident  \n",
              "8       The presumed cause or reason for the accident  \n",
              "9                  The type or nature of the accident  \n",
              "10    The number of vehicles involved in the accident  \n",
              "11  The number of fatalities resulting from the ac...  \n",
              "12  The number of injuries resulting from the acci...  \n",
              "13  The weather condition at the time of the accident  \n",
              "14   The latitude coordinate of the accident location  \n",
              "15  The longitude coordinate of the accident location  \n",
              "16  The description of the road type or configurat...  \n",
              "17  The description of the slope condition at the ...  "
            ],
            "text/html": [
              "\n",
              "  <div id=\"df-94d4cdda-1c7f-4106-b6de-cfffe5a353bb\" class=\"colab-df-container\">\n",
              "    <div>\n",
              "<style scoped>\n",
              "    .dataframe tbody tr th:only-of-type {\n",
              "        vertical-align: middle;\n",
              "    }\n",
              "\n",
              "    .dataframe tbody tr th {\n",
              "        vertical-align: top;\n",
              "    }\n",
              "\n",
              "    .dataframe thead th {\n",
              "        text-align: right;\n",
              "    }\n",
              "</style>\n",
              "<table border=\"1\" class=\"dataframe\">\n",
              "  <thead>\n",
              "    <tr style=\"text-align: right;\">\n",
              "      <th></th>\n",
              "      <th>Column</th>\n",
              "      <th>Description</th>\n",
              "    </tr>\n",
              "  </thead>\n",
              "  <tbody>\n",
              "    <tr>\n",
              "      <th>0</th>\n",
              "      <td>acc_code</td>\n",
              "      <td>The accident code or identifier</td>\n",
              "    </tr>\n",
              "    <tr>\n",
              "      <th>1</th>\n",
              "      <td>incident_datetime</td>\n",
              "      <td>The date and time of the accident occurrence</td>\n",
              "    </tr>\n",
              "    <tr>\n",
              "      <th>2</th>\n",
              "      <td>report_datetime</td>\n",
              "      <td>The date and time when the accident was reported</td>\n",
              "    </tr>\n",
              "    <tr>\n",
              "      <th>3</th>\n",
              "      <td>province_th</td>\n",
              "      <td>The name of the province in Thailand, written ...</td>\n",
              "    </tr>\n",
              "    <tr>\n",
              "      <th>4</th>\n",
              "      <td>province_en</td>\n",
              "      <td>The name of the province in Thailand, written ...</td>\n",
              "    </tr>\n",
              "    <tr>\n",
              "      <th>5</th>\n",
              "      <td>agency</td>\n",
              "      <td>The government agency responsible for the road...</td>\n",
              "    </tr>\n",
              "    <tr>\n",
              "      <th>6</th>\n",
              "      <td>route</td>\n",
              "      <td>The route or road segment where the accident o...</td>\n",
              "    </tr>\n",
              "    <tr>\n",
              "      <th>7</th>\n",
              "      <td>vehicle_type</td>\n",
              "      <td>The type of vehicle involved in the accident</td>\n",
              "    </tr>\n",
              "    <tr>\n",
              "      <th>8</th>\n",
              "      <td>presumed_cause</td>\n",
              "      <td>The presumed cause or reason for the accident</td>\n",
              "    </tr>\n",
              "    <tr>\n",
              "      <th>9</th>\n",
              "      <td>accident_type</td>\n",
              "      <td>The type or nature of the accident</td>\n",
              "    </tr>\n",
              "    <tr>\n",
              "      <th>10</th>\n",
              "      <td>number_of_vehicles_involved</td>\n",
              "      <td>The number of vehicles involved in the accident</td>\n",
              "    </tr>\n",
              "    <tr>\n",
              "      <th>11</th>\n",
              "      <td>number_of_fatalities</td>\n",
              "      <td>The number of fatalities resulting from the ac...</td>\n",
              "    </tr>\n",
              "    <tr>\n",
              "      <th>12</th>\n",
              "      <td>number_of_injuries</td>\n",
              "      <td>The number of injuries resulting from the acci...</td>\n",
              "    </tr>\n",
              "    <tr>\n",
              "      <th>13</th>\n",
              "      <td>weather_condition</td>\n",
              "      <td>The weather condition at the time of the accident</td>\n",
              "    </tr>\n",
              "    <tr>\n",
              "      <th>14</th>\n",
              "      <td>latitude</td>\n",
              "      <td>The latitude coordinate of the accident location</td>\n",
              "    </tr>\n",
              "    <tr>\n",
              "      <th>15</th>\n",
              "      <td>longitude</td>\n",
              "      <td>The longitude coordinate of the accident location</td>\n",
              "    </tr>\n",
              "    <tr>\n",
              "      <th>16</th>\n",
              "      <td>road_description</td>\n",
              "      <td>The description of the road type or configurat...</td>\n",
              "    </tr>\n",
              "    <tr>\n",
              "      <th>17</th>\n",
              "      <td>slope_description</td>\n",
              "      <td>The description of the slope condition at the ...</td>\n",
              "    </tr>\n",
              "  </tbody>\n",
              "</table>\n",
              "</div>\n",
              "    <div class=\"colab-df-buttons\">\n",
              "\n",
              "  <div class=\"colab-df-container\">\n",
              "    <button class=\"colab-df-convert\" onclick=\"convertToInteractive('df-94d4cdda-1c7f-4106-b6de-cfffe5a353bb')\"\n",
              "            title=\"Convert this dataframe to an interactive table.\"\n",
              "            style=\"display:none;\">\n",
              "\n",
              "  <svg xmlns=\"http://www.w3.org/2000/svg\" height=\"24px\" viewBox=\"0 -960 960 960\">\n",
              "    <path d=\"M120-120v-720h720v720H120Zm60-500h600v-160H180v160Zm220 220h160v-160H400v160Zm0 220h160v-160H400v160ZM180-400h160v-160H180v160Zm440 0h160v-160H620v160ZM180-180h160v-160H180v160Zm440 0h160v-160H620v160Z\"/>\n",
              "  </svg>\n",
              "    </button>\n",
              "\n",
              "  <style>\n",
              "    .colab-df-container {\n",
              "      display:flex;\n",
              "      gap: 12px;\n",
              "    }\n",
              "\n",
              "    .colab-df-convert {\n",
              "      background-color: #E8F0FE;\n",
              "      border: none;\n",
              "      border-radius: 50%;\n",
              "      cursor: pointer;\n",
              "      display: none;\n",
              "      fill: #1967D2;\n",
              "      height: 32px;\n",
              "      padding: 0 0 0 0;\n",
              "      width: 32px;\n",
              "    }\n",
              "\n",
              "    .colab-df-convert:hover {\n",
              "      background-color: #E2EBFA;\n",
              "      box-shadow: 0px 1px 2px rgba(60, 64, 67, 0.3), 0px 1px 3px 1px rgba(60, 64, 67, 0.15);\n",
              "      fill: #174EA6;\n",
              "    }\n",
              "\n",
              "    .colab-df-buttons div {\n",
              "      margin-bottom: 4px;\n",
              "    }\n",
              "\n",
              "    [theme=dark] .colab-df-convert {\n",
              "      background-color: #3B4455;\n",
              "      fill: #D2E3FC;\n",
              "    }\n",
              "\n",
              "    [theme=dark] .colab-df-convert:hover {\n",
              "      background-color: #434B5C;\n",
              "      box-shadow: 0px 1px 3px 1px rgba(0, 0, 0, 0.15);\n",
              "      filter: drop-shadow(0px 1px 2px rgba(0, 0, 0, 0.3));\n",
              "      fill: #FFFFFF;\n",
              "    }\n",
              "  </style>\n",
              "\n",
              "    <script>\n",
              "      const buttonEl =\n",
              "        document.querySelector('#df-94d4cdda-1c7f-4106-b6de-cfffe5a353bb button.colab-df-convert');\n",
              "      buttonEl.style.display =\n",
              "        google.colab.kernel.accessAllowed ? 'block' : 'none';\n",
              "\n",
              "      async function convertToInteractive(key) {\n",
              "        const element = document.querySelector('#df-94d4cdda-1c7f-4106-b6de-cfffe5a353bb');\n",
              "        const dataTable =\n",
              "          await google.colab.kernel.invokeFunction('convertToInteractive',\n",
              "                                                    [key], {});\n",
              "        if (!dataTable) return;\n",
              "\n",
              "        const docLinkHtml = 'Like what you see? Visit the ' +\n",
              "          '<a target=\"_blank\" href=https://colab.research.google.com/notebooks/data_table.ipynb>data table notebook</a>'\n",
              "          + ' to learn more about interactive tables.';\n",
              "        element.innerHTML = '';\n",
              "        dataTable['output_type'] = 'display_data';\n",
              "        await google.colab.output.renderOutput(dataTable, element);\n",
              "        const docLink = document.createElement('div');\n",
              "        docLink.innerHTML = docLinkHtml;\n",
              "        element.appendChild(docLink);\n",
              "      }\n",
              "    </script>\n",
              "  </div>\n",
              "\n",
              "\n",
              "<div id=\"df-8dabb99e-726a-4894-baba-9799008404e0\">\n",
              "  <button class=\"colab-df-quickchart\" onclick=\"quickchart('df-8dabb99e-726a-4894-baba-9799008404e0')\"\n",
              "            title=\"Suggest charts.\"\n",
              "            style=\"display:none;\">\n",
              "\n",
              "<svg xmlns=\"http://www.w3.org/2000/svg\" height=\"24px\"viewBox=\"0 0 24 24\"\n",
              "     width=\"24px\">\n",
              "    <g>\n",
              "        <path d=\"M19 3H5c-1.1 0-2 .9-2 2v14c0 1.1.9 2 2 2h14c1.1 0 2-.9 2-2V5c0-1.1-.9-2-2-2zM9 17H7v-7h2v7zm4 0h-2V7h2v10zm4 0h-2v-4h2v4z\"/>\n",
              "    </g>\n",
              "</svg>\n",
              "  </button>\n",
              "\n",
              "<style>\n",
              "  .colab-df-quickchart {\n",
              "      --bg-color: #E8F0FE;\n",
              "      --fill-color: #1967D2;\n",
              "      --hover-bg-color: #E2EBFA;\n",
              "      --hover-fill-color: #174EA6;\n",
              "      --disabled-fill-color: #AAA;\n",
              "      --disabled-bg-color: #DDD;\n",
              "  }\n",
              "\n",
              "  [theme=dark] .colab-df-quickchart {\n",
              "      --bg-color: #3B4455;\n",
              "      --fill-color: #D2E3FC;\n",
              "      --hover-bg-color: #434B5C;\n",
              "      --hover-fill-color: #FFFFFF;\n",
              "      --disabled-bg-color: #3B4455;\n",
              "      --disabled-fill-color: #666;\n",
              "  }\n",
              "\n",
              "  .colab-df-quickchart {\n",
              "    background-color: var(--bg-color);\n",
              "    border: none;\n",
              "    border-radius: 50%;\n",
              "    cursor: pointer;\n",
              "    display: none;\n",
              "    fill: var(--fill-color);\n",
              "    height: 32px;\n",
              "    padding: 0;\n",
              "    width: 32px;\n",
              "  }\n",
              "\n",
              "  .colab-df-quickchart:hover {\n",
              "    background-color: var(--hover-bg-color);\n",
              "    box-shadow: 0 1px 2px rgba(60, 64, 67, 0.3), 0 1px 3px 1px rgba(60, 64, 67, 0.15);\n",
              "    fill: var(--button-hover-fill-color);\n",
              "  }\n",
              "\n",
              "  .colab-df-quickchart-complete:disabled,\n",
              "  .colab-df-quickchart-complete:disabled:hover {\n",
              "    background-color: var(--disabled-bg-color);\n",
              "    fill: var(--disabled-fill-color);\n",
              "    box-shadow: none;\n",
              "  }\n",
              "\n",
              "  .colab-df-spinner {\n",
              "    border: 2px solid var(--fill-color);\n",
              "    border-color: transparent;\n",
              "    border-bottom-color: var(--fill-color);\n",
              "    animation:\n",
              "      spin 1s steps(1) infinite;\n",
              "  }\n",
              "\n",
              "  @keyframes spin {\n",
              "    0% {\n",
              "      border-color: transparent;\n",
              "      border-bottom-color: var(--fill-color);\n",
              "      border-left-color: var(--fill-color);\n",
              "    }\n",
              "    20% {\n",
              "      border-color: transparent;\n",
              "      border-left-color: var(--fill-color);\n",
              "      border-top-color: var(--fill-color);\n",
              "    }\n",
              "    30% {\n",
              "      border-color: transparent;\n",
              "      border-left-color: var(--fill-color);\n",
              "      border-top-color: var(--fill-color);\n",
              "      border-right-color: var(--fill-color);\n",
              "    }\n",
              "    40% {\n",
              "      border-color: transparent;\n",
              "      border-right-color: var(--fill-color);\n",
              "      border-top-color: var(--fill-color);\n",
              "    }\n",
              "    60% {\n",
              "      border-color: transparent;\n",
              "      border-right-color: var(--fill-color);\n",
              "    }\n",
              "    80% {\n",
              "      border-color: transparent;\n",
              "      border-right-color: var(--fill-color);\n",
              "      border-bottom-color: var(--fill-color);\n",
              "    }\n",
              "    90% {\n",
              "      border-color: transparent;\n",
              "      border-bottom-color: var(--fill-color);\n",
              "    }\n",
              "  }\n",
              "</style>\n",
              "\n",
              "  <script>\n",
              "    async function quickchart(key) {\n",
              "      const quickchartButtonEl =\n",
              "        document.querySelector('#' + key + ' button');\n",
              "      quickchartButtonEl.disabled = true;  // To prevent multiple clicks.\n",
              "      quickchartButtonEl.classList.add('colab-df-spinner');\n",
              "      try {\n",
              "        const charts = await google.colab.kernel.invokeFunction(\n",
              "            'suggestCharts', [key], {});\n",
              "      } catch (error) {\n",
              "        console.error('Error during call to suggestCharts:', error);\n",
              "      }\n",
              "      quickchartButtonEl.classList.remove('colab-df-spinner');\n",
              "      quickchartButtonEl.classList.add('colab-df-quickchart-complete');\n",
              "    }\n",
              "    (() => {\n",
              "      let quickchartButtonEl =\n",
              "        document.querySelector('#df-8dabb99e-726a-4894-baba-9799008404e0 button');\n",
              "      quickchartButtonEl.style.display =\n",
              "        google.colab.kernel.accessAllowed ? 'block' : 'none';\n",
              "    })();\n",
              "  </script>\n",
              "</div>\n",
              "    </div>\n",
              "  </div>\n"
            ]
          },
          "metadata": {},
          "execution_count": 135
        }
      ]
    },
    {
      "cell_type": "markdown",
      "source": [
        "The above table is the description of each columns in the dataset...."
      ],
      "metadata": {
        "id": "-vMy40v1Wx62"
      }
    },
    {
      "cell_type": "markdown",
      "source": [
        "With this information, we can now import our daraset for the analysis"
      ],
      "metadata": {
        "id": "Q6hIWNdYXBi-"
      }
    },
    {
      "cell_type": "markdown",
      "source": [
        "## **UNDERSTANDING THE DATASET**"
      ],
      "metadata": {
        "id": "ENoPZHcNTAfu"
      }
    },
    {
      "cell_type": "code",
      "source": [
        "# We will use the pandas library to import our dataset"
      ],
      "metadata": {
        "id": "Bz5-keWth28u"
      },
      "execution_count": 136,
      "outputs": []
    },
    {
      "cell_type": "code",
      "source": [
        "# We cacann import our dataset from github\n",
        "\n",
        "\n",
        "url = 'https://raw.githubusercontent.com/LegendSeyi/Dataset/main/thai_road_accident_2019_2022.csv'\n",
        "\n",
        "pd.set_option('display.max_columns', None)\n",
        "data = pd.read_csv(url, encoding= 'utf-8')"
      ],
      "metadata": {
        "id": "a957jsfTjbJj"
      },
      "execution_count": 137,
      "outputs": []
    },
    {
      "cell_type": "code",
      "source": [
        "data.head()"
      ],
      "metadata": {
        "id": "Q4j26rM2mMR_",
        "colab": {
          "base_uri": "https://localhost:8080/",
          "height": 521
        },
        "outputId": "266a72a2-7cb2-4ca8-a3e9-fd4321580b4b"
      },
      "execution_count": 138,
      "outputs": [
        {
          "output_type": "execute_result",
          "data": {
            "text/plain": [
              "   acc_code    incident_datetime      report_datetime      province_th  \\\n",
              "0    571905  2019-01-01 00:00:00  2019-01-02 06:11:00           ลพบุรี   \n",
              "1   3790870  2019-01-01 00:03:00  2020-02-20 13:48:00      อุบลราชธานี   \n",
              "2    599075  2019-01-01 00:05:00  2019-01-01 10:35:00  ประจวบคีรีขันธ์   \n",
              "3    571924  2019-01-01 00:20:00  2019-01-02 05:12:00        เชียงใหม่   \n",
              "4    599523  2019-01-01 00:25:00  2019-01-04 09:42:00        นครสวรรค์   \n",
              "\n",
              "           province_en                     agency  \\\n",
              "0               Loburi  department of rural roads   \n",
              "1     Ubon Ratchathani     department of highways   \n",
              "2  Prachuap Khiri Khan     department of highways   \n",
              "3           Chiang Mai  department of rural roads   \n",
              "4         Nakhon Sawan     department of highways   \n",
              "\n",
              "                                               route           vehicle_type  \\\n",
              "0  แยกทางหลวงหมายเลข 21 (กม.ที่ 31+000) - บ้านวัง...             motorcycle   \n",
              "1                              เดชอุดม - อุบลราชธานี  private/passenger car   \n",
              "2                              ปราณบุรี - ปากน้ำปราณ             motorcycle   \n",
              "3  เชื่อมทางหลวงหมายเลข 1013 (กม.ที่ 8+200) - บ้า...             motorcycle   \n",
              "4                                   เกยไชย - ศรีมงคล  private/passenger car   \n",
              "\n",
              "                                  presumed_cause  \\\n",
              "0         driving under the influence of alcohol   \n",
              "1                                       speeding   \n",
              "2                                       speeding   \n",
              "3         driving under the influence of alcohol   \n",
              "4  cutting in closely by people/vehicles/animals   \n",
              "\n",
              "                        accident_type  number_of_vehicles_involved  \\\n",
              "0                               other                            1   \n",
              "1    rollover/fallen on straight road                            1   \n",
              "2  head-on collision (not overtaking)                            2   \n",
              "3                               other                            1   \n",
              "4    rollover/fallen on straight road                            1   \n",
              "\n",
              "   number_of_fatalities  number_of_injuries weather_condition   latitude  \\\n",
              "0                     0                   2             clear  14.959105   \n",
              "1                     0                   2             clear  15.210738   \n",
              "2                     1                   0             clear  12.374259   \n",
              "3                     0                   1             clear  18.601721   \n",
              "4                     0                   0             clear  15.866389   \n",
              "\n",
              "    longitude road_description slope_description  \n",
              "0  100.873463    straight road          no slope  \n",
              "1  104.862689    straight road          no slope  \n",
              "2   99.907949       wide curve        slope area  \n",
              "3   98.804204    straight road          no slope  \n",
              "4  100.590010    straight road          no slope  "
            ],
            "text/html": [
              "\n",
              "  <div id=\"df-3165ab36-f356-4ebf-ab8c-812e474e41eb\" class=\"colab-df-container\">\n",
              "    <div>\n",
              "<style scoped>\n",
              "    .dataframe tbody tr th:only-of-type {\n",
              "        vertical-align: middle;\n",
              "    }\n",
              "\n",
              "    .dataframe tbody tr th {\n",
              "        vertical-align: top;\n",
              "    }\n",
              "\n",
              "    .dataframe thead th {\n",
              "        text-align: right;\n",
              "    }\n",
              "</style>\n",
              "<table border=\"1\" class=\"dataframe\">\n",
              "  <thead>\n",
              "    <tr style=\"text-align: right;\">\n",
              "      <th></th>\n",
              "      <th>acc_code</th>\n",
              "      <th>incident_datetime</th>\n",
              "      <th>report_datetime</th>\n",
              "      <th>province_th</th>\n",
              "      <th>province_en</th>\n",
              "      <th>agency</th>\n",
              "      <th>route</th>\n",
              "      <th>vehicle_type</th>\n",
              "      <th>presumed_cause</th>\n",
              "      <th>accident_type</th>\n",
              "      <th>number_of_vehicles_involved</th>\n",
              "      <th>number_of_fatalities</th>\n",
              "      <th>number_of_injuries</th>\n",
              "      <th>weather_condition</th>\n",
              "      <th>latitude</th>\n",
              "      <th>longitude</th>\n",
              "      <th>road_description</th>\n",
              "      <th>slope_description</th>\n",
              "    </tr>\n",
              "  </thead>\n",
              "  <tbody>\n",
              "    <tr>\n",
              "      <th>0</th>\n",
              "      <td>571905</td>\n",
              "      <td>2019-01-01 00:00:00</td>\n",
              "      <td>2019-01-02 06:11:00</td>\n",
              "      <td>ลพบุรี</td>\n",
              "      <td>Loburi</td>\n",
              "      <td>department of rural roads</td>\n",
              "      <td>แยกทางหลวงหมายเลข 21 (กม.ที่ 31+000) - บ้านวัง...</td>\n",
              "      <td>motorcycle</td>\n",
              "      <td>driving under the influence of alcohol</td>\n",
              "      <td>other</td>\n",
              "      <td>1</td>\n",
              "      <td>0</td>\n",
              "      <td>2</td>\n",
              "      <td>clear</td>\n",
              "      <td>14.959105</td>\n",
              "      <td>100.873463</td>\n",
              "      <td>straight road</td>\n",
              "      <td>no slope</td>\n",
              "    </tr>\n",
              "    <tr>\n",
              "      <th>1</th>\n",
              "      <td>3790870</td>\n",
              "      <td>2019-01-01 00:03:00</td>\n",
              "      <td>2020-02-20 13:48:00</td>\n",
              "      <td>อุบลราชธานี</td>\n",
              "      <td>Ubon Ratchathani</td>\n",
              "      <td>department of highways</td>\n",
              "      <td>เดชอุดม - อุบลราชธานี</td>\n",
              "      <td>private/passenger car</td>\n",
              "      <td>speeding</td>\n",
              "      <td>rollover/fallen on straight road</td>\n",
              "      <td>1</td>\n",
              "      <td>0</td>\n",
              "      <td>2</td>\n",
              "      <td>clear</td>\n",
              "      <td>15.210738</td>\n",
              "      <td>104.862689</td>\n",
              "      <td>straight road</td>\n",
              "      <td>no slope</td>\n",
              "    </tr>\n",
              "    <tr>\n",
              "      <th>2</th>\n",
              "      <td>599075</td>\n",
              "      <td>2019-01-01 00:05:00</td>\n",
              "      <td>2019-01-01 10:35:00</td>\n",
              "      <td>ประจวบคีรีขันธ์</td>\n",
              "      <td>Prachuap Khiri Khan</td>\n",
              "      <td>department of highways</td>\n",
              "      <td>ปราณบุรี - ปากน้ำปราณ</td>\n",
              "      <td>motorcycle</td>\n",
              "      <td>speeding</td>\n",
              "      <td>head-on collision (not overtaking)</td>\n",
              "      <td>2</td>\n",
              "      <td>1</td>\n",
              "      <td>0</td>\n",
              "      <td>clear</td>\n",
              "      <td>12.374259</td>\n",
              "      <td>99.907949</td>\n",
              "      <td>wide curve</td>\n",
              "      <td>slope area</td>\n",
              "    </tr>\n",
              "    <tr>\n",
              "      <th>3</th>\n",
              "      <td>571924</td>\n",
              "      <td>2019-01-01 00:20:00</td>\n",
              "      <td>2019-01-02 05:12:00</td>\n",
              "      <td>เชียงใหม่</td>\n",
              "      <td>Chiang Mai</td>\n",
              "      <td>department of rural roads</td>\n",
              "      <td>เชื่อมทางหลวงหมายเลข 1013 (กม.ที่ 8+200) - บ้า...</td>\n",
              "      <td>motorcycle</td>\n",
              "      <td>driving under the influence of alcohol</td>\n",
              "      <td>other</td>\n",
              "      <td>1</td>\n",
              "      <td>0</td>\n",
              "      <td>1</td>\n",
              "      <td>clear</td>\n",
              "      <td>18.601721</td>\n",
              "      <td>98.804204</td>\n",
              "      <td>straight road</td>\n",
              "      <td>no slope</td>\n",
              "    </tr>\n",
              "    <tr>\n",
              "      <th>4</th>\n",
              "      <td>599523</td>\n",
              "      <td>2019-01-01 00:25:00</td>\n",
              "      <td>2019-01-04 09:42:00</td>\n",
              "      <td>นครสวรรค์</td>\n",
              "      <td>Nakhon Sawan</td>\n",
              "      <td>department of highways</td>\n",
              "      <td>เกยไชย - ศรีมงคล</td>\n",
              "      <td>private/passenger car</td>\n",
              "      <td>cutting in closely by people/vehicles/animals</td>\n",
              "      <td>rollover/fallen on straight road</td>\n",
              "      <td>1</td>\n",
              "      <td>0</td>\n",
              "      <td>0</td>\n",
              "      <td>clear</td>\n",
              "      <td>15.866389</td>\n",
              "      <td>100.590010</td>\n",
              "      <td>straight road</td>\n",
              "      <td>no slope</td>\n",
              "    </tr>\n",
              "  </tbody>\n",
              "</table>\n",
              "</div>\n",
              "    <div class=\"colab-df-buttons\">\n",
              "\n",
              "  <div class=\"colab-df-container\">\n",
              "    <button class=\"colab-df-convert\" onclick=\"convertToInteractive('df-3165ab36-f356-4ebf-ab8c-812e474e41eb')\"\n",
              "            title=\"Convert this dataframe to an interactive table.\"\n",
              "            style=\"display:none;\">\n",
              "\n",
              "  <svg xmlns=\"http://www.w3.org/2000/svg\" height=\"24px\" viewBox=\"0 -960 960 960\">\n",
              "    <path d=\"M120-120v-720h720v720H120Zm60-500h600v-160H180v160Zm220 220h160v-160H400v160Zm0 220h160v-160H400v160ZM180-400h160v-160H180v160Zm440 0h160v-160H620v160ZM180-180h160v-160H180v160Zm440 0h160v-160H620v160Z\"/>\n",
              "  </svg>\n",
              "    </button>\n",
              "\n",
              "  <style>\n",
              "    .colab-df-container {\n",
              "      display:flex;\n",
              "      gap: 12px;\n",
              "    }\n",
              "\n",
              "    .colab-df-convert {\n",
              "      background-color: #E8F0FE;\n",
              "      border: none;\n",
              "      border-radius: 50%;\n",
              "      cursor: pointer;\n",
              "      display: none;\n",
              "      fill: #1967D2;\n",
              "      height: 32px;\n",
              "      padding: 0 0 0 0;\n",
              "      width: 32px;\n",
              "    }\n",
              "\n",
              "    .colab-df-convert:hover {\n",
              "      background-color: #E2EBFA;\n",
              "      box-shadow: 0px 1px 2px rgba(60, 64, 67, 0.3), 0px 1px 3px 1px rgba(60, 64, 67, 0.15);\n",
              "      fill: #174EA6;\n",
              "    }\n",
              "\n",
              "    .colab-df-buttons div {\n",
              "      margin-bottom: 4px;\n",
              "    }\n",
              "\n",
              "    [theme=dark] .colab-df-convert {\n",
              "      background-color: #3B4455;\n",
              "      fill: #D2E3FC;\n",
              "    }\n",
              "\n",
              "    [theme=dark] .colab-df-convert:hover {\n",
              "      background-color: #434B5C;\n",
              "      box-shadow: 0px 1px 3px 1px rgba(0, 0, 0, 0.15);\n",
              "      filter: drop-shadow(0px 1px 2px rgba(0, 0, 0, 0.3));\n",
              "      fill: #FFFFFF;\n",
              "    }\n",
              "  </style>\n",
              "\n",
              "    <script>\n",
              "      const buttonEl =\n",
              "        document.querySelector('#df-3165ab36-f356-4ebf-ab8c-812e474e41eb button.colab-df-convert');\n",
              "      buttonEl.style.display =\n",
              "        google.colab.kernel.accessAllowed ? 'block' : 'none';\n",
              "\n",
              "      async function convertToInteractive(key) {\n",
              "        const element = document.querySelector('#df-3165ab36-f356-4ebf-ab8c-812e474e41eb');\n",
              "        const dataTable =\n",
              "          await google.colab.kernel.invokeFunction('convertToInteractive',\n",
              "                                                    [key], {});\n",
              "        if (!dataTable) return;\n",
              "\n",
              "        const docLinkHtml = 'Like what you see? Visit the ' +\n",
              "          '<a target=\"_blank\" href=https://colab.research.google.com/notebooks/data_table.ipynb>data table notebook</a>'\n",
              "          + ' to learn more about interactive tables.';\n",
              "        element.innerHTML = '';\n",
              "        dataTable['output_type'] = 'display_data';\n",
              "        await google.colab.output.renderOutput(dataTable, element);\n",
              "        const docLink = document.createElement('div');\n",
              "        docLink.innerHTML = docLinkHtml;\n",
              "        element.appendChild(docLink);\n",
              "      }\n",
              "    </script>\n",
              "  </div>\n",
              "\n",
              "\n",
              "<div id=\"df-4c9da464-5973-4f58-9fbb-21d1c4b495e0\">\n",
              "  <button class=\"colab-df-quickchart\" onclick=\"quickchart('df-4c9da464-5973-4f58-9fbb-21d1c4b495e0')\"\n",
              "            title=\"Suggest charts.\"\n",
              "            style=\"display:none;\">\n",
              "\n",
              "<svg xmlns=\"http://www.w3.org/2000/svg\" height=\"24px\"viewBox=\"0 0 24 24\"\n",
              "     width=\"24px\">\n",
              "    <g>\n",
              "        <path d=\"M19 3H5c-1.1 0-2 .9-2 2v14c0 1.1.9 2 2 2h14c1.1 0 2-.9 2-2V5c0-1.1-.9-2-2-2zM9 17H7v-7h2v7zm4 0h-2V7h2v10zm4 0h-2v-4h2v4z\"/>\n",
              "    </g>\n",
              "</svg>\n",
              "  </button>\n",
              "\n",
              "<style>\n",
              "  .colab-df-quickchart {\n",
              "      --bg-color: #E8F0FE;\n",
              "      --fill-color: #1967D2;\n",
              "      --hover-bg-color: #E2EBFA;\n",
              "      --hover-fill-color: #174EA6;\n",
              "      --disabled-fill-color: #AAA;\n",
              "      --disabled-bg-color: #DDD;\n",
              "  }\n",
              "\n",
              "  [theme=dark] .colab-df-quickchart {\n",
              "      --bg-color: #3B4455;\n",
              "      --fill-color: #D2E3FC;\n",
              "      --hover-bg-color: #434B5C;\n",
              "      --hover-fill-color: #FFFFFF;\n",
              "      --disabled-bg-color: #3B4455;\n",
              "      --disabled-fill-color: #666;\n",
              "  }\n",
              "\n",
              "  .colab-df-quickchart {\n",
              "    background-color: var(--bg-color);\n",
              "    border: none;\n",
              "    border-radius: 50%;\n",
              "    cursor: pointer;\n",
              "    display: none;\n",
              "    fill: var(--fill-color);\n",
              "    height: 32px;\n",
              "    padding: 0;\n",
              "    width: 32px;\n",
              "  }\n",
              "\n",
              "  .colab-df-quickchart:hover {\n",
              "    background-color: var(--hover-bg-color);\n",
              "    box-shadow: 0 1px 2px rgba(60, 64, 67, 0.3), 0 1px 3px 1px rgba(60, 64, 67, 0.15);\n",
              "    fill: var(--button-hover-fill-color);\n",
              "  }\n",
              "\n",
              "  .colab-df-quickchart-complete:disabled,\n",
              "  .colab-df-quickchart-complete:disabled:hover {\n",
              "    background-color: var(--disabled-bg-color);\n",
              "    fill: var(--disabled-fill-color);\n",
              "    box-shadow: none;\n",
              "  }\n",
              "\n",
              "  .colab-df-spinner {\n",
              "    border: 2px solid var(--fill-color);\n",
              "    border-color: transparent;\n",
              "    border-bottom-color: var(--fill-color);\n",
              "    animation:\n",
              "      spin 1s steps(1) infinite;\n",
              "  }\n",
              "\n",
              "  @keyframes spin {\n",
              "    0% {\n",
              "      border-color: transparent;\n",
              "      border-bottom-color: var(--fill-color);\n",
              "      border-left-color: var(--fill-color);\n",
              "    }\n",
              "    20% {\n",
              "      border-color: transparent;\n",
              "      border-left-color: var(--fill-color);\n",
              "      border-top-color: var(--fill-color);\n",
              "    }\n",
              "    30% {\n",
              "      border-color: transparent;\n",
              "      border-left-color: var(--fill-color);\n",
              "      border-top-color: var(--fill-color);\n",
              "      border-right-color: var(--fill-color);\n",
              "    }\n",
              "    40% {\n",
              "      border-color: transparent;\n",
              "      border-right-color: var(--fill-color);\n",
              "      border-top-color: var(--fill-color);\n",
              "    }\n",
              "    60% {\n",
              "      border-color: transparent;\n",
              "      border-right-color: var(--fill-color);\n",
              "    }\n",
              "    80% {\n",
              "      border-color: transparent;\n",
              "      border-right-color: var(--fill-color);\n",
              "      border-bottom-color: var(--fill-color);\n",
              "    }\n",
              "    90% {\n",
              "      border-color: transparent;\n",
              "      border-bottom-color: var(--fill-color);\n",
              "    }\n",
              "  }\n",
              "</style>\n",
              "\n",
              "  <script>\n",
              "    async function quickchart(key) {\n",
              "      const quickchartButtonEl =\n",
              "        document.querySelector('#' + key + ' button');\n",
              "      quickchartButtonEl.disabled = true;  // To prevent multiple clicks.\n",
              "      quickchartButtonEl.classList.add('colab-df-spinner');\n",
              "      try {\n",
              "        const charts = await google.colab.kernel.invokeFunction(\n",
              "            'suggestCharts', [key], {});\n",
              "      } catch (error) {\n",
              "        console.error('Error during call to suggestCharts:', error);\n",
              "      }\n",
              "      quickchartButtonEl.classList.remove('colab-df-spinner');\n",
              "      quickchartButtonEl.classList.add('colab-df-quickchart-complete');\n",
              "    }\n",
              "    (() => {\n",
              "      let quickchartButtonEl =\n",
              "        document.querySelector('#df-4c9da464-5973-4f58-9fbb-21d1c4b495e0 button');\n",
              "      quickchartButtonEl.style.display =\n",
              "        google.colab.kernel.accessAllowed ? 'block' : 'none';\n",
              "    })();\n",
              "  </script>\n",
              "</div>\n",
              "    </div>\n",
              "  </div>\n"
            ]
          },
          "metadata": {},
          "execution_count": 138
        }
      ]
    },
    {
      "cell_type": "markdown",
      "source": [
        "We have imported our data, so we can check the size of the dataset"
      ],
      "metadata": {
        "id": "DA3v_2PQmnOR"
      }
    },
    {
      "cell_type": "code",
      "source": [
        "data.shape"
      ],
      "metadata": {
        "id": "9aSEmJtknrMl",
        "colab": {
          "base_uri": "https://localhost:8080/"
        },
        "outputId": "2721bedb-ae93-4882-bebb-be44f9154da4"
      },
      "execution_count": 139,
      "outputs": [
        {
          "output_type": "execute_result",
          "data": {
            "text/plain": [
              "(81735, 18)"
            ]
          },
          "metadata": {},
          "execution_count": 139
        }
      ]
    },
    {
      "cell_type": "markdown",
      "source": [
        "We have 81735 row and 18 columns in the dataset"
      ],
      "metadata": {
        "id": "G-B0U2OToQNn"
      }
    },
    {
      "cell_type": "code",
      "source": [
        "data.columns"
      ],
      "metadata": {
        "id": "lAb_qu__oZ8P",
        "colab": {
          "base_uri": "https://localhost:8080/"
        },
        "outputId": "3f297e90-4782-4c22-bf5a-3720df71794c"
      },
      "execution_count": 140,
      "outputs": [
        {
          "output_type": "execute_result",
          "data": {
            "text/plain": [
              "Index(['acc_code', 'incident_datetime', 'report_datetime', 'province_th',\n",
              "       'province_en', 'agency', 'route', 'vehicle_type', 'presumed_cause',\n",
              "       'accident_type', 'number_of_vehicles_involved', 'number_of_fatalities',\n",
              "       'number_of_injuries', 'weather_condition', 'latitude', 'longitude',\n",
              "       'road_description', 'slope_description'],\n",
              "      dtype='object')"
            ]
          },
          "metadata": {},
          "execution_count": 140
        }
      ]
    },
    {
      "cell_type": "code",
      "source": [
        "data.info()"
      ],
      "metadata": {
        "id": "aj7HRxpypskg",
        "colab": {
          "base_uri": "https://localhost:8080/"
        },
        "outputId": "58a902c0-1793-4ba1-f0b3-1b3d47143c73"
      },
      "execution_count": 141,
      "outputs": [
        {
          "output_type": "stream",
          "name": "stdout",
          "text": [
            "<class 'pandas.core.frame.DataFrame'>\n",
            "RangeIndex: 81735 entries, 0 to 81734\n",
            "Data columns (total 18 columns):\n",
            " #   Column                       Non-Null Count  Dtype  \n",
            "---  ------                       --------------  -----  \n",
            " 0   acc_code                     81735 non-null  int64  \n",
            " 1   incident_datetime            81735 non-null  object \n",
            " 2   report_datetime              81735 non-null  object \n",
            " 3   province_th                  81735 non-null  object \n",
            " 4   province_en                  81735 non-null  object \n",
            " 5   agency                       81735 non-null  object \n",
            " 6   route                        81735 non-null  object \n",
            " 7   vehicle_type                 81735 non-null  object \n",
            " 8   presumed_cause               81735 non-null  object \n",
            " 9   accident_type                81735 non-null  object \n",
            " 10  number_of_vehicles_involved  81735 non-null  int64  \n",
            " 11  number_of_fatalities         81735 non-null  int64  \n",
            " 12  number_of_injuries           81735 non-null  int64  \n",
            " 13  weather_condition            81735 non-null  object \n",
            " 14  latitude                     81376 non-null  float64\n",
            " 15  longitude                    81376 non-null  float64\n",
            " 16  road_description             81735 non-null  object \n",
            " 17  slope_description            81735 non-null  object \n",
            "dtypes: float64(2), int64(4), object(12)\n",
            "memory usage: 11.2+ MB\n"
          ]
        }
      ]
    },
    {
      "cell_type": "markdown",
      "source": [
        "We can observe that we have different data types such ad float, int, object"
      ],
      "metadata": {
        "id": "cgRrmOHgp4LJ"
      }
    },
    {
      "cell_type": "code",
      "source": [
        "# code to generate the number of null values present in the columns\n",
        "data.isnull().sum()"
      ],
      "metadata": {
        "id": "uiXu0JTbpxPs",
        "colab": {
          "base_uri": "https://localhost:8080/"
        },
        "outputId": "89b4f854-d9d3-47e6-b3bc-d4c0b931eff9"
      },
      "execution_count": 142,
      "outputs": [
        {
          "output_type": "execute_result",
          "data": {
            "text/plain": [
              "acc_code                         0\n",
              "incident_datetime                0\n",
              "report_datetime                  0\n",
              "province_th                      0\n",
              "province_en                      0\n",
              "agency                           0\n",
              "route                            0\n",
              "vehicle_type                     0\n",
              "presumed_cause                   0\n",
              "accident_type                    0\n",
              "number_of_vehicles_involved      0\n",
              "number_of_fatalities             0\n",
              "number_of_injuries               0\n",
              "weather_condition                0\n",
              "latitude                       359\n",
              "longitude                      359\n",
              "road_description                 0\n",
              "slope_description                0\n",
              "dtype: int64"
            ]
          },
          "metadata": {},
          "execution_count": 142
        }
      ]
    },
    {
      "cell_type": "markdown",
      "source": [
        "we can observe that column latitude and longitude contain the same number of missing values"
      ],
      "metadata": {
        "id": "IHoxBZW7qSIw"
      }
    },
    {
      "cell_type": "markdown",
      "source": [
        "## **DATA CLEANING**"
      ],
      "metadata": {
        "id": "TsreToknqegX"
      }
    },
    {
      "cell_type": "markdown",
      "source": [
        "### **Incident_datetime column**"
      ],
      "metadata": {
        "id": "gUOgGJ7PM-WC"
      }
    },
    {
      "cell_type": "code",
      "source": [
        "# We start by analysing the 'incident datetime' column"
      ],
      "metadata": {
        "id": "pk3mlPfEXL7A"
      },
      "execution_count": 143,
      "outputs": []
    },
    {
      "cell_type": "code",
      "source": [
        "data['incident_datetime'].info()"
      ],
      "metadata": {
        "id": "xjtKd8rjaRd6",
        "colab": {
          "base_uri": "https://localhost:8080/"
        },
        "outputId": "6f1b1dd3-8b80-4d9a-9d6a-4744b4c142f0"
      },
      "execution_count": 144,
      "outputs": [
        {
          "output_type": "stream",
          "name": "stdout",
          "text": [
            "<class 'pandas.core.series.Series'>\n",
            "RangeIndex: 81735 entries, 0 to 81734\n",
            "Series name: incident_datetime\n",
            "Non-Null Count  Dtype \n",
            "--------------  ----- \n",
            "81735 non-null  object\n",
            "dtypes: object(1)\n",
            "memory usage: 638.7+ KB\n"
          ]
        }
      ]
    },
    {
      "cell_type": "markdown",
      "source": [
        "Checking if there are no null values in the dataset"
      ],
      "metadata": {
        "id": "4dCYcucOazDJ"
      }
    },
    {
      "cell_type": "code",
      "source": [
        "data['incident_datetime'].isnull().sum()"
      ],
      "metadata": {
        "id": "6cebyD7-a9ll",
        "colab": {
          "base_uri": "https://localhost:8080/"
        },
        "outputId": "dc7af0fe-fe7a-4d23-85b0-26ae2f1572de"
      },
      "execution_count": 145,
      "outputs": [
        {
          "output_type": "execute_result",
          "data": {
            "text/plain": [
              "0"
            ]
          },
          "metadata": {},
          "execution_count": 145
        }
      ]
    },
    {
      "cell_type": "markdown",
      "source": [
        "We can confirm that there are no null values."
      ],
      "metadata": {
        "id": "RCRyg0H_bDOM"
      }
    },
    {
      "cell_type": "markdown",
      "source": [
        "We can sort the data set with the incident datetime column"
      ],
      "metadata": {
        "id": "8sgmMMCubXq6"
      }
    },
    {
      "cell_type": "code",
      "source": [
        "data.sort_values(by='incident_datetime', inplace=True)"
      ],
      "metadata": {
        "id": "fEAimci_bpjE"
      },
      "execution_count": 146,
      "outputs": []
    },
    {
      "cell_type": "markdown",
      "source": [],
      "metadata": {
        "id": "rXIYZEoxZOGy"
      }
    },
    {
      "cell_type": "markdown",
      "source": [
        "Now we can be sure that the dataset has been sorted"
      ],
      "metadata": {
        "id": "-6o6GKqxb2Ra"
      }
    },
    {
      "cell_type": "markdown",
      "source": [
        "Now we can drop/del the incident_datetime column and also rearrange the data bring the newly created columns to the front"
      ],
      "metadata": {
        "id": "2j9xhbXzAXbk"
      }
    },
    {
      "cell_type": "markdown",
      "source": [
        "### **Report_datetime column**"
      ],
      "metadata": {
        "id": "LpdpgB5sM6sZ"
      }
    },
    {
      "cell_type": "markdown",
      "source": [
        "Checking if there is a null value"
      ],
      "metadata": {
        "id": "bTVzDB3bnU2O"
      }
    },
    {
      "cell_type": "code",
      "source": [
        "data['report_datetime'].isnull().sum()"
      ],
      "metadata": {
        "colab": {
          "base_uri": "https://localhost:8080/"
        },
        "id": "TxCdQGNundGH",
        "outputId": "1220f5a7-9a57-41cf-bce5-79e701bce256"
      },
      "execution_count": 147,
      "outputs": [
        {
          "output_type": "execute_result",
          "data": {
            "text/plain": [
              "0"
            ]
          },
          "metadata": {},
          "execution_count": 147
        }
      ]
    },
    {
      "cell_type": "markdown",
      "source": [
        "there is no null value"
      ],
      "metadata": {
        "id": "0v3_iZXppDtR"
      }
    },
    {
      "cell_type": "markdown",
      "source": [
        "\n",
        "Note: I use Ctrl + shift + L to multiple select a repeated string after highlighting it"
      ],
      "metadata": {
        "id": "vSy5blnBHPMy"
      }
    },
    {
      "cell_type": "code",
      "source": [
        "data['report_datetime']"
      ],
      "metadata": {
        "colab": {
          "base_uri": "https://localhost:8080/"
        },
        "id": "dmNOrAa8mzHC",
        "outputId": "cca30c44-6d65-4cb3-cd6d-36465e7aa945"
      },
      "execution_count": 148,
      "outputs": [
        {
          "output_type": "execute_result",
          "data": {
            "text/plain": [
              "0        2019-01-02 06:11:00\n",
              "1        2020-02-20 13:48:00\n",
              "2        2019-01-01 10:35:00\n",
              "3        2019-01-02 05:12:00\n",
              "4        2019-01-04 09:42:00\n",
              "                ...         \n",
              "81730    2023-01-01 21:49:00\n",
              "81731    2023-01-01 22:55:00\n",
              "81732    2023-01-23 09:17:00\n",
              "81733    2023-01-01 05:36:00\n",
              "81734    2023-01-11 14:50:00\n",
              "Name: report_datetime, Length: 81735, dtype: object"
            ]
          },
          "metadata": {},
          "execution_count": 148
        }
      ]
    },
    {
      "cell_type": "markdown",
      "source": [
        "### **Province_th Column**"
      ],
      "metadata": {
        "id": "ooZir5_SOXuo"
      }
    },
    {
      "cell_type": "code",
      "source": [
        "# preview the column\n",
        "data['province_th']"
      ],
      "metadata": {
        "id": "VpXo7BbSPVgR",
        "colab": {
          "base_uri": "https://localhost:8080/"
        },
        "outputId": "d8dd37e0-f45c-45e2-f7cc-5c32ef197a25"
      },
      "execution_count": 149,
      "outputs": [
        {
          "output_type": "execute_result",
          "data": {
            "text/plain": [
              "0                 ลพบุรี\n",
              "1            อุบลราชธานี\n",
              "2        ประจวบคีรีขันธ์\n",
              "3              เชียงใหม่\n",
              "4              นครสวรรค์\n",
              "              ...       \n",
              "81730            นนทบุรี\n",
              "81731               ตราด\n",
              "81732          มหาสารคาม\n",
              "81733          กำแพงเพชร\n",
              "81734           เชียงราย\n",
              "Name: province_th, Length: 81735, dtype: object"
            ]
          },
          "metadata": {},
          "execution_count": 149
        }
      ]
    },
    {
      "cell_type": "markdown",
      "source": [
        "From the description, this column is the names of the provinces the incidents occurred.."
      ],
      "metadata": {
        "id": "UR1hZNFsPdgj"
      }
    },
    {
      "cell_type": "markdown",
      "source": [
        "I decided to drop to column, the texts were not well represented.."
      ],
      "metadata": {
        "id": "x5VMdUIo6_uR"
      }
    },
    {
      "cell_type": "code",
      "source": [
        "data.drop('province_th', axis=1, inplace=True)"
      ],
      "metadata": {
        "id": "wd5dWJMP7OT5"
      },
      "execution_count": 150,
      "outputs": []
    },
    {
      "cell_type": "markdown",
      "source": [
        "### **Province_en Column**"
      ],
      "metadata": {
        "id": "4k3gqgs_P_AZ"
      }
    },
    {
      "cell_type": "code",
      "source": [
        "#preview the column\n",
        "data['province_en']"
      ],
      "metadata": {
        "id": "Y5ok0prBQO8d",
        "colab": {
          "base_uri": "https://localhost:8080/"
        },
        "outputId": "778f5dd7-2177-462a-db81-a287eb692d56"
      },
      "execution_count": 151,
      "outputs": [
        {
          "output_type": "execute_result",
          "data": {
            "text/plain": [
              "0                     Loburi\n",
              "1           Ubon Ratchathani\n",
              "2        Prachuap Khiri Khan\n",
              "3                 Chiang Mai\n",
              "4               Nakhon Sawan\n",
              "                ...         \n",
              "81730             Nonthaburi\n",
              "81731                   Trat\n",
              "81732          Maha Sarakham\n",
              "81733         Kamphaeng Phet\n",
              "81734             Chiang Rai\n",
              "Name: province_en, Length: 81735, dtype: object"
            ]
          },
          "metadata": {},
          "execution_count": 151
        }
      ]
    },
    {
      "cell_type": "markdown",
      "source": [
        "Lets check the number of province involved"
      ],
      "metadata": {
        "id": "XYaHM2HeQZOG"
      }
    },
    {
      "cell_type": "code",
      "source": [
        "# LIst of the unique province in the dataset\n",
        "data['province_en'].unique()"
      ],
      "metadata": {
        "id": "2a1PCMQjQfpB",
        "colab": {
          "base_uri": "https://localhost:8080/"
        },
        "outputId": "115b07ae-7c25-4f3f-c666-9600ffddccae"
      },
      "execution_count": 152,
      "outputs": [
        {
          "output_type": "execute_result",
          "data": {
            "text/plain": [
              "array(['Loburi', 'Ubon Ratchathani', 'Prachuap Khiri Khan', 'Chiang Mai',\n",
              "       'Nakhon Sawan', 'Mae Hong Son', 'Chumphon', 'Sing Buri',\n",
              "       'Songkhla', 'Lamphun', 'Trat', 'Phuket', 'Saraburi', 'Ratchaburi',\n",
              "       'Phra Nakhon Si Ayutthaya', 'Nakhon Ratchasima',\n",
              "       'Nakhon Si Thammarat', 'Chaiyaphum', 'Kalasin', 'Suphan Buri',\n",
              "       'Phetchaburi', 'Phrae', 'Chai Nat', 'Prachin Buri',\n",
              "       'Nakhon Pathom', 'Kanchanaburi', 'Phetchabun', 'Ang Thong',\n",
              "       'Nonthaburi', 'Samut Prakan', 'Bangkok', 'Phayao', 'Phatthalung',\n",
              "       'Yala', 'Maha Sarakham', 'Surat Thani', 'Amnat Charoen',\n",
              "       'Nong Khai', 'Nan', 'Phangnga', 'Narathiwat', 'Samut Sakhon',\n",
              "       'Chanthaburi', 'Samut Songkhram', 'Phitsanulok', 'Pathum Thani',\n",
              "       'Tak', 'Loei', 'Chiang Rai', 'Chachoengsao', 'Buri Ram',\n",
              "       'Uthai Thani', 'Krabi', 'Surin', 'Udon Thani', 'Si Sa Ket',\n",
              "       'Uttaradit', 'Khon Kaen', 'Kamphaeng Phet', 'Yasothon', 'Satun',\n",
              "       'Nakhon Nayok', 'Chon Buri', 'Rayong', 'buogkan', 'Sa Kaeo',\n",
              "       'Nong Bua Lam Phu', 'Roi Et', 'Sakon Nakhon', 'Mukdahan',\n",
              "       'Nakhon Phanom', 'Phichit', 'Pattani', 'Sukhothai', 'Trang',\n",
              "       'unknown', 'Lampang', 'Ranong'], dtype=object)"
            ]
          },
          "metadata": {},
          "execution_count": 152
        }
      ]
    },
    {
      "cell_type": "markdown",
      "source": [
        "Let convert this column to a categorical column"
      ],
      "metadata": {
        "id": "--x6bkLOVPmv"
      }
    },
    {
      "cell_type": "code",
      "source": [
        "data['province_en'] = data['province_en'].astype('category')"
      ],
      "metadata": {
        "id": "6cidun-7VV-8"
      },
      "execution_count": 153,
      "outputs": []
    },
    {
      "cell_type": "code",
      "source": [
        "data['province_en'].info()"
      ],
      "metadata": {
        "id": "i2y-_7uZVe1C",
        "colab": {
          "base_uri": "https://localhost:8080/"
        },
        "outputId": "84ee14d0-023a-428b-c9ec-288d252ccd09"
      },
      "execution_count": 154,
      "outputs": [
        {
          "output_type": "stream",
          "name": "stdout",
          "text": [
            "<class 'pandas.core.series.Series'>\n",
            "Int64Index: 81735 entries, 0 to 81734\n",
            "Series name: province_en\n",
            "Non-Null Count  Dtype   \n",
            "--------------  -----   \n",
            "81735 non-null  category\n",
            "dtypes: category(1)\n",
            "memory usage: 721.0 KB\n"
          ]
        }
      ]
    },
    {
      "cell_type": "markdown",
      "source": [
        "Renaming the province_en to province since we dropped the thai-meanning"
      ],
      "metadata": {
        "id": "b0xb5jJflzwB"
      }
    },
    {
      "cell_type": "code",
      "source": [
        "data.columns = [col.replace(\"_en\", \"\") for col in data.columns]"
      ],
      "metadata": {
        "id": "Gmv7GWcdlqTw"
      },
      "execution_count": 155,
      "outputs": []
    },
    {
      "cell_type": "code",
      "source": [
        "data.head(3)"
      ],
      "metadata": {
        "id": "Wrzo1tm7-Pxt",
        "colab": {
          "base_uri": "https://localhost:8080/",
          "height": 319
        },
        "outputId": "00a4014a-da53-4a78-926c-17b661f6c4c5"
      },
      "execution_count": 156,
      "outputs": [
        {
          "output_type": "execute_result",
          "data": {
            "text/plain": [
              "   acc_code    incident_datetime      report_datetime             province  \\\n",
              "0    571905  2019-01-01 00:00:00  2019-01-02 06:11:00               Loburi   \n",
              "1   3790870  2019-01-01 00:03:00  2020-02-20 13:48:00     Ubon Ratchathani   \n",
              "2    599075  2019-01-01 00:05:00  2019-01-01 10:35:00  Prachuap Khiri Khan   \n",
              "\n",
              "                      agency  \\\n",
              "0  department of rural roads   \n",
              "1     department of highways   \n",
              "2     department of highways   \n",
              "\n",
              "                                               route           vehicle_type  \\\n",
              "0  แยกทางหลวงหมายเลข 21 (กม.ที่ 31+000) - บ้านวัง...             motorcycle   \n",
              "1                              เดชอุดม - อุบลราชธานี  private/passenger car   \n",
              "2                              ปราณบุรี - ปากน้ำปราณ             motorcycle   \n",
              "\n",
              "                           presumed_cause                       accident_type  \\\n",
              "0  driving under the influence of alcohol                               other   \n",
              "1                                speeding    rollover/fallen on straight road   \n",
              "2                                speeding  head-on collision (not overtaking)   \n",
              "\n",
              "   number_of_vehicles_involved  number_of_fatalities  number_of_injuries  \\\n",
              "0                            1                     0                   2   \n",
              "1                            1                     0                   2   \n",
              "2                            2                     1                   0   \n",
              "\n",
              "  weather_condition   latitude   longitude road_description slope_description  \n",
              "0             clear  14.959105  100.873463    straight road          no slope  \n",
              "1             clear  15.210738  104.862689    straight road          no slope  \n",
              "2             clear  12.374259   99.907949       wide curve        slope area  "
            ],
            "text/html": [
              "\n",
              "  <div id=\"df-c6f8d441-8a08-4d96-87f2-0e5e64f8dc85\" class=\"colab-df-container\">\n",
              "    <div>\n",
              "<style scoped>\n",
              "    .dataframe tbody tr th:only-of-type {\n",
              "        vertical-align: middle;\n",
              "    }\n",
              "\n",
              "    .dataframe tbody tr th {\n",
              "        vertical-align: top;\n",
              "    }\n",
              "\n",
              "    .dataframe thead th {\n",
              "        text-align: right;\n",
              "    }\n",
              "</style>\n",
              "<table border=\"1\" class=\"dataframe\">\n",
              "  <thead>\n",
              "    <tr style=\"text-align: right;\">\n",
              "      <th></th>\n",
              "      <th>acc_code</th>\n",
              "      <th>incident_datetime</th>\n",
              "      <th>report_datetime</th>\n",
              "      <th>province</th>\n",
              "      <th>agency</th>\n",
              "      <th>route</th>\n",
              "      <th>vehicle_type</th>\n",
              "      <th>presumed_cause</th>\n",
              "      <th>accident_type</th>\n",
              "      <th>number_of_vehicles_involved</th>\n",
              "      <th>number_of_fatalities</th>\n",
              "      <th>number_of_injuries</th>\n",
              "      <th>weather_condition</th>\n",
              "      <th>latitude</th>\n",
              "      <th>longitude</th>\n",
              "      <th>road_description</th>\n",
              "      <th>slope_description</th>\n",
              "    </tr>\n",
              "  </thead>\n",
              "  <tbody>\n",
              "    <tr>\n",
              "      <th>0</th>\n",
              "      <td>571905</td>\n",
              "      <td>2019-01-01 00:00:00</td>\n",
              "      <td>2019-01-02 06:11:00</td>\n",
              "      <td>Loburi</td>\n",
              "      <td>department of rural roads</td>\n",
              "      <td>แยกทางหลวงหมายเลข 21 (กม.ที่ 31+000) - บ้านวัง...</td>\n",
              "      <td>motorcycle</td>\n",
              "      <td>driving under the influence of alcohol</td>\n",
              "      <td>other</td>\n",
              "      <td>1</td>\n",
              "      <td>0</td>\n",
              "      <td>2</td>\n",
              "      <td>clear</td>\n",
              "      <td>14.959105</td>\n",
              "      <td>100.873463</td>\n",
              "      <td>straight road</td>\n",
              "      <td>no slope</td>\n",
              "    </tr>\n",
              "    <tr>\n",
              "      <th>1</th>\n",
              "      <td>3790870</td>\n",
              "      <td>2019-01-01 00:03:00</td>\n",
              "      <td>2020-02-20 13:48:00</td>\n",
              "      <td>Ubon Ratchathani</td>\n",
              "      <td>department of highways</td>\n",
              "      <td>เดชอุดม - อุบลราชธานี</td>\n",
              "      <td>private/passenger car</td>\n",
              "      <td>speeding</td>\n",
              "      <td>rollover/fallen on straight road</td>\n",
              "      <td>1</td>\n",
              "      <td>0</td>\n",
              "      <td>2</td>\n",
              "      <td>clear</td>\n",
              "      <td>15.210738</td>\n",
              "      <td>104.862689</td>\n",
              "      <td>straight road</td>\n",
              "      <td>no slope</td>\n",
              "    </tr>\n",
              "    <tr>\n",
              "      <th>2</th>\n",
              "      <td>599075</td>\n",
              "      <td>2019-01-01 00:05:00</td>\n",
              "      <td>2019-01-01 10:35:00</td>\n",
              "      <td>Prachuap Khiri Khan</td>\n",
              "      <td>department of highways</td>\n",
              "      <td>ปราณบุรี - ปากน้ำปราณ</td>\n",
              "      <td>motorcycle</td>\n",
              "      <td>speeding</td>\n",
              "      <td>head-on collision (not overtaking)</td>\n",
              "      <td>2</td>\n",
              "      <td>1</td>\n",
              "      <td>0</td>\n",
              "      <td>clear</td>\n",
              "      <td>12.374259</td>\n",
              "      <td>99.907949</td>\n",
              "      <td>wide curve</td>\n",
              "      <td>slope area</td>\n",
              "    </tr>\n",
              "  </tbody>\n",
              "</table>\n",
              "</div>\n",
              "    <div class=\"colab-df-buttons\">\n",
              "\n",
              "  <div class=\"colab-df-container\">\n",
              "    <button class=\"colab-df-convert\" onclick=\"convertToInteractive('df-c6f8d441-8a08-4d96-87f2-0e5e64f8dc85')\"\n",
              "            title=\"Convert this dataframe to an interactive table.\"\n",
              "            style=\"display:none;\">\n",
              "\n",
              "  <svg xmlns=\"http://www.w3.org/2000/svg\" height=\"24px\" viewBox=\"0 -960 960 960\">\n",
              "    <path d=\"M120-120v-720h720v720H120Zm60-500h600v-160H180v160Zm220 220h160v-160H400v160Zm0 220h160v-160H400v160ZM180-400h160v-160H180v160Zm440 0h160v-160H620v160ZM180-180h160v-160H180v160Zm440 0h160v-160H620v160Z\"/>\n",
              "  </svg>\n",
              "    </button>\n",
              "\n",
              "  <style>\n",
              "    .colab-df-container {\n",
              "      display:flex;\n",
              "      gap: 12px;\n",
              "    }\n",
              "\n",
              "    .colab-df-convert {\n",
              "      background-color: #E8F0FE;\n",
              "      border: none;\n",
              "      border-radius: 50%;\n",
              "      cursor: pointer;\n",
              "      display: none;\n",
              "      fill: #1967D2;\n",
              "      height: 32px;\n",
              "      padding: 0 0 0 0;\n",
              "      width: 32px;\n",
              "    }\n",
              "\n",
              "    .colab-df-convert:hover {\n",
              "      background-color: #E2EBFA;\n",
              "      box-shadow: 0px 1px 2px rgba(60, 64, 67, 0.3), 0px 1px 3px 1px rgba(60, 64, 67, 0.15);\n",
              "      fill: #174EA6;\n",
              "    }\n",
              "\n",
              "    .colab-df-buttons div {\n",
              "      margin-bottom: 4px;\n",
              "    }\n",
              "\n",
              "    [theme=dark] .colab-df-convert {\n",
              "      background-color: #3B4455;\n",
              "      fill: #D2E3FC;\n",
              "    }\n",
              "\n",
              "    [theme=dark] .colab-df-convert:hover {\n",
              "      background-color: #434B5C;\n",
              "      box-shadow: 0px 1px 3px 1px rgba(0, 0, 0, 0.15);\n",
              "      filter: drop-shadow(0px 1px 2px rgba(0, 0, 0, 0.3));\n",
              "      fill: #FFFFFF;\n",
              "    }\n",
              "  </style>\n",
              "\n",
              "    <script>\n",
              "      const buttonEl =\n",
              "        document.querySelector('#df-c6f8d441-8a08-4d96-87f2-0e5e64f8dc85 button.colab-df-convert');\n",
              "      buttonEl.style.display =\n",
              "        google.colab.kernel.accessAllowed ? 'block' : 'none';\n",
              "\n",
              "      async function convertToInteractive(key) {\n",
              "        const element = document.querySelector('#df-c6f8d441-8a08-4d96-87f2-0e5e64f8dc85');\n",
              "        const dataTable =\n",
              "          await google.colab.kernel.invokeFunction('convertToInteractive',\n",
              "                                                    [key], {});\n",
              "        if (!dataTable) return;\n",
              "\n",
              "        const docLinkHtml = 'Like what you see? Visit the ' +\n",
              "          '<a target=\"_blank\" href=https://colab.research.google.com/notebooks/data_table.ipynb>data table notebook</a>'\n",
              "          + ' to learn more about interactive tables.';\n",
              "        element.innerHTML = '';\n",
              "        dataTable['output_type'] = 'display_data';\n",
              "        await google.colab.output.renderOutput(dataTable, element);\n",
              "        const docLink = document.createElement('div');\n",
              "        docLink.innerHTML = docLinkHtml;\n",
              "        element.appendChild(docLink);\n",
              "      }\n",
              "    </script>\n",
              "  </div>\n",
              "\n",
              "\n",
              "<div id=\"df-05bc2016-45c7-4dab-8c4e-5e5e96607095\">\n",
              "  <button class=\"colab-df-quickchart\" onclick=\"quickchart('df-05bc2016-45c7-4dab-8c4e-5e5e96607095')\"\n",
              "            title=\"Suggest charts.\"\n",
              "            style=\"display:none;\">\n",
              "\n",
              "<svg xmlns=\"http://www.w3.org/2000/svg\" height=\"24px\"viewBox=\"0 0 24 24\"\n",
              "     width=\"24px\">\n",
              "    <g>\n",
              "        <path d=\"M19 3H5c-1.1 0-2 .9-2 2v14c0 1.1.9 2 2 2h14c1.1 0 2-.9 2-2V5c0-1.1-.9-2-2-2zM9 17H7v-7h2v7zm4 0h-2V7h2v10zm4 0h-2v-4h2v4z\"/>\n",
              "    </g>\n",
              "</svg>\n",
              "  </button>\n",
              "\n",
              "<style>\n",
              "  .colab-df-quickchart {\n",
              "      --bg-color: #E8F0FE;\n",
              "      --fill-color: #1967D2;\n",
              "      --hover-bg-color: #E2EBFA;\n",
              "      --hover-fill-color: #174EA6;\n",
              "      --disabled-fill-color: #AAA;\n",
              "      --disabled-bg-color: #DDD;\n",
              "  }\n",
              "\n",
              "  [theme=dark] .colab-df-quickchart {\n",
              "      --bg-color: #3B4455;\n",
              "      --fill-color: #D2E3FC;\n",
              "      --hover-bg-color: #434B5C;\n",
              "      --hover-fill-color: #FFFFFF;\n",
              "      --disabled-bg-color: #3B4455;\n",
              "      --disabled-fill-color: #666;\n",
              "  }\n",
              "\n",
              "  .colab-df-quickchart {\n",
              "    background-color: var(--bg-color);\n",
              "    border: none;\n",
              "    border-radius: 50%;\n",
              "    cursor: pointer;\n",
              "    display: none;\n",
              "    fill: var(--fill-color);\n",
              "    height: 32px;\n",
              "    padding: 0;\n",
              "    width: 32px;\n",
              "  }\n",
              "\n",
              "  .colab-df-quickchart:hover {\n",
              "    background-color: var(--hover-bg-color);\n",
              "    box-shadow: 0 1px 2px rgba(60, 64, 67, 0.3), 0 1px 3px 1px rgba(60, 64, 67, 0.15);\n",
              "    fill: var(--button-hover-fill-color);\n",
              "  }\n",
              "\n",
              "  .colab-df-quickchart-complete:disabled,\n",
              "  .colab-df-quickchart-complete:disabled:hover {\n",
              "    background-color: var(--disabled-bg-color);\n",
              "    fill: var(--disabled-fill-color);\n",
              "    box-shadow: none;\n",
              "  }\n",
              "\n",
              "  .colab-df-spinner {\n",
              "    border: 2px solid var(--fill-color);\n",
              "    border-color: transparent;\n",
              "    border-bottom-color: var(--fill-color);\n",
              "    animation:\n",
              "      spin 1s steps(1) infinite;\n",
              "  }\n",
              "\n",
              "  @keyframes spin {\n",
              "    0% {\n",
              "      border-color: transparent;\n",
              "      border-bottom-color: var(--fill-color);\n",
              "      border-left-color: var(--fill-color);\n",
              "    }\n",
              "    20% {\n",
              "      border-color: transparent;\n",
              "      border-left-color: var(--fill-color);\n",
              "      border-top-color: var(--fill-color);\n",
              "    }\n",
              "    30% {\n",
              "      border-color: transparent;\n",
              "      border-left-color: var(--fill-color);\n",
              "      border-top-color: var(--fill-color);\n",
              "      border-right-color: var(--fill-color);\n",
              "    }\n",
              "    40% {\n",
              "      border-color: transparent;\n",
              "      border-right-color: var(--fill-color);\n",
              "      border-top-color: var(--fill-color);\n",
              "    }\n",
              "    60% {\n",
              "      border-color: transparent;\n",
              "      border-right-color: var(--fill-color);\n",
              "    }\n",
              "    80% {\n",
              "      border-color: transparent;\n",
              "      border-right-color: var(--fill-color);\n",
              "      border-bottom-color: var(--fill-color);\n",
              "    }\n",
              "    90% {\n",
              "      border-color: transparent;\n",
              "      border-bottom-color: var(--fill-color);\n",
              "    }\n",
              "  }\n",
              "</style>\n",
              "\n",
              "  <script>\n",
              "    async function quickchart(key) {\n",
              "      const quickchartButtonEl =\n",
              "        document.querySelector('#' + key + ' button');\n",
              "      quickchartButtonEl.disabled = true;  // To prevent multiple clicks.\n",
              "      quickchartButtonEl.classList.add('colab-df-spinner');\n",
              "      try {\n",
              "        const charts = await google.colab.kernel.invokeFunction(\n",
              "            'suggestCharts', [key], {});\n",
              "      } catch (error) {\n",
              "        console.error('Error during call to suggestCharts:', error);\n",
              "      }\n",
              "      quickchartButtonEl.classList.remove('colab-df-spinner');\n",
              "      quickchartButtonEl.classList.add('colab-df-quickchart-complete');\n",
              "    }\n",
              "    (() => {\n",
              "      let quickchartButtonEl =\n",
              "        document.querySelector('#df-05bc2016-45c7-4dab-8c4e-5e5e96607095 button');\n",
              "      quickchartButtonEl.style.display =\n",
              "        google.colab.kernel.accessAllowed ? 'block' : 'none';\n",
              "    })();\n",
              "  </script>\n",
              "</div>\n",
              "    </div>\n",
              "  </div>\n"
            ]
          },
          "metadata": {},
          "execution_count": 156
        }
      ]
    },
    {
      "cell_type": "markdown",
      "source": [
        "### **Agency Column**"
      ],
      "metadata": {
        "id": "gyAZkQS9_Z1i"
      }
    },
    {
      "cell_type": "code",
      "source": [
        "## Getting the categories of the column\n",
        "data['agency'].unique()"
      ],
      "metadata": {
        "id": "CWbAHCVG_l2h",
        "colab": {
          "base_uri": "https://localhost:8080/"
        },
        "outputId": "f0e3f0e9-cf5e-4d27-b7ac-5bcf42f41fc0"
      },
      "execution_count": 157,
      "outputs": [
        {
          "output_type": "execute_result",
          "data": {
            "text/plain": [
              "array(['department of rural roads', 'department of highways',\n",
              "       'expressway authority of thailand'], dtype=object)"
            ]
          },
          "metadata": {},
          "execution_count": 157
        }
      ]
    },
    {
      "cell_type": "markdown",
      "source": [
        "We have three government agency involved :\n",
        "\n",
        "*   department of rural roads  \n",
        "*   department of highways\n",
        "*   expressway authority of thailand\n",
        "\n",
        "\n"
      ],
      "metadata": {
        "id": "4WNrDDoi_6C1"
      }
    },
    {
      "cell_type": "markdown",
      "source": [
        "### **Route Column**"
      ],
      "metadata": {
        "id": "RLgmMM68AmXn"
      }
    },
    {
      "cell_type": "code",
      "source": [
        "data['route'].head()"
      ],
      "metadata": {
        "id": "o6IA1Tm_AxTR",
        "colab": {
          "base_uri": "https://localhost:8080/"
        },
        "outputId": "c2ae61a2-3fb3-4630-c204-74af9193c771"
      },
      "execution_count": 158,
      "outputs": [
        {
          "output_type": "execute_result",
          "data": {
            "text/plain": [
              "0    แยกทางหลวงหมายเลข 21 (กม.ที่ 31+000) - บ้านวัง...\n",
              "1                                เดชอุดม - อุบลราชธานี\n",
              "2                                ปราณบุรี - ปากน้ำปราณ\n",
              "3    เชื่อมทางหลวงหมายเลข 1013 (กม.ที่ 8+200) - บ้า...\n",
              "4                                     เกยไชย - ศรีมงคล\n",
              "Name: route, dtype: object"
            ]
          },
          "metadata": {},
          "execution_count": 158
        }
      ]
    },
    {
      "cell_type": "markdown",
      "source": [
        "From the list above, we noticed the route was recorded in thai language. so we will translate the language from thai to english."
      ],
      "metadata": {
        "id": "1seGn-d8kzDu"
      }
    },
    {
      "cell_type": "code",
      "source": [
        "# getting the unique route in the coulmn\n",
        "data['route'].nunique()"
      ],
      "metadata": {
        "id": "dAW0I2P9A-Zi",
        "colab": {
          "base_uri": "https://localhost:8080/"
        },
        "outputId": "5751ec3a-3954-4633-ca12-bd84bc01d55e"
      },
      "execution_count": 159,
      "outputs": [
        {
          "output_type": "execute_result",
          "data": {
            "text/plain": [
              "3882"
            ]
          },
          "metadata": {},
          "execution_count": 159
        }
      ]
    },
    {
      "cell_type": "markdown",
      "source": [
        "there are 3882 unique route in the column, we will translate this unique routes to english and use it as a dictionary to interprete the entire route column"
      ],
      "metadata": {
        "id": "TI39YdH0lMpa"
      }
    },
    {
      "cell_type": "code",
      "source": [
        "# importing the csv file that has the translation of the route unique value\n",
        "route_dic = pd.read_csv('https://raw.githubusercontent.com/LegendSeyi/Dataset/main/tranlated_thai_routes.csv', encoding='utf-8')\n",
        "route_dic"
      ],
      "metadata": {
        "id": "ysNlppI-fFWG",
        "colab": {
          "base_uri": "https://localhost:8080/",
          "height": 423
        },
        "outputId": "63e2135f-5d87-4b1d-d581-a27b07c66dc6"
      },
      "execution_count": 160,
      "outputs": [
        {
          "output_type": "execute_result",
          "data": {
            "text/plain": [
              "                                                   Thai  \\\n",
              "0     แยกทางหลวงหมายเลข 21 (กม.ที่ 31+000) - บ้านวัง...   \n",
              "1                                 เดชอุดม - อุบลราชธานี   \n",
              "2                                 ปราณบุรี - ปากน้ำปราณ   \n",
              "3     เชื่อมทางหลวงหมายเลข 1013 (กม.ที่ 8+200) - บ้า...   \n",
              "4                                      เกยไชย - ศรีมงคล   \n",
              "...                                                 ...   \n",
              "3877  แยกทางหลวงหมายเลข 3204 (กม.ที่ 16+940) - บ้านขลู่   \n",
              "3878  แยกทางหลวงหมายเลข 3 (กม.ที่ 452+700) - บ้านตาหนึก   \n",
              "3879  แยกทางหลวง 3329 (กม.ที่ 16+720) -บ้านนิคมเขาบ่...   \n",
              "3880    แยกทางหลวงหมายเลข 347 (กม.ที่ 21+700) - บ้านรุน   \n",
              "3881  แยกทางหลวงหมายเลข 35 (กม.ที่ 76+070) - บ้านสี่แยก   \n",
              "\n",
              "                                                English  \n",
              "0             Highway 21 (km 31+000) - Ban Wang Phloeng  \n",
              "1                           Dej Udom - Ubon Ratchathani  \n",
              "2                               Pranburi - Pak Nam Pran  \n",
              "3      Connect Highway 1013 (km 8+200) - Ban Khun Klang  \n",
              "4                                Kayachai -Sri Mongkhon  \n",
              "...                                                 ...  \n",
              "3877  Highway intersection number 3204 (km 16+940) -...  \n",
              "3878                Highway 3 (Km. 452+700) - Ban Ta Nu  \n",
              "3879  Highway 3329 (Km 16+720) -Ban Nikhom Khao Bo Kaeo  \n",
              "3880  Highway intersection number 347 (Km. 21+700) -...  \n",
              "3881          Highway 35 (km 76+070) - Ban intersection  \n",
              "\n",
              "[3882 rows x 2 columns]"
            ],
            "text/html": [
              "\n",
              "  <div id=\"df-1536f0db-e921-4657-a07b-66477baf97c7\" class=\"colab-df-container\">\n",
              "    <div>\n",
              "<style scoped>\n",
              "    .dataframe tbody tr th:only-of-type {\n",
              "        vertical-align: middle;\n",
              "    }\n",
              "\n",
              "    .dataframe tbody tr th {\n",
              "        vertical-align: top;\n",
              "    }\n",
              "\n",
              "    .dataframe thead th {\n",
              "        text-align: right;\n",
              "    }\n",
              "</style>\n",
              "<table border=\"1\" class=\"dataframe\">\n",
              "  <thead>\n",
              "    <tr style=\"text-align: right;\">\n",
              "      <th></th>\n",
              "      <th>Thai</th>\n",
              "      <th>English</th>\n",
              "    </tr>\n",
              "  </thead>\n",
              "  <tbody>\n",
              "    <tr>\n",
              "      <th>0</th>\n",
              "      <td>แยกทางหลวงหมายเลข 21 (กม.ที่ 31+000) - บ้านวัง...</td>\n",
              "      <td>Highway 21 (km 31+000) - Ban Wang Phloeng</td>\n",
              "    </tr>\n",
              "    <tr>\n",
              "      <th>1</th>\n",
              "      <td>เดชอุดม - อุบลราชธานี</td>\n",
              "      <td>Dej Udom - Ubon Ratchathani</td>\n",
              "    </tr>\n",
              "    <tr>\n",
              "      <th>2</th>\n",
              "      <td>ปราณบุรี - ปากน้ำปราณ</td>\n",
              "      <td>Pranburi - Pak Nam Pran</td>\n",
              "    </tr>\n",
              "    <tr>\n",
              "      <th>3</th>\n",
              "      <td>เชื่อมทางหลวงหมายเลข 1013 (กม.ที่ 8+200) - บ้า...</td>\n",
              "      <td>Connect Highway 1013 (km 8+200) - Ban Khun Klang</td>\n",
              "    </tr>\n",
              "    <tr>\n",
              "      <th>4</th>\n",
              "      <td>เกยไชย - ศรีมงคล</td>\n",
              "      <td>Kayachai -Sri Mongkhon</td>\n",
              "    </tr>\n",
              "    <tr>\n",
              "      <th>...</th>\n",
              "      <td>...</td>\n",
              "      <td>...</td>\n",
              "    </tr>\n",
              "    <tr>\n",
              "      <th>3877</th>\n",
              "      <td>แยกทางหลวงหมายเลข 3204 (กม.ที่ 16+940) - บ้านขลู่</td>\n",
              "      <td>Highway intersection number 3204 (km 16+940) -...</td>\n",
              "    </tr>\n",
              "    <tr>\n",
              "      <th>3878</th>\n",
              "      <td>แยกทางหลวงหมายเลข 3 (กม.ที่ 452+700) - บ้านตาหนึก</td>\n",
              "      <td>Highway 3 (Km. 452+700) - Ban Ta Nu</td>\n",
              "    </tr>\n",
              "    <tr>\n",
              "      <th>3879</th>\n",
              "      <td>แยกทางหลวง 3329 (กม.ที่ 16+720) -บ้านนิคมเขาบ่...</td>\n",
              "      <td>Highway 3329 (Km 16+720) -Ban Nikhom Khao Bo Kaeo</td>\n",
              "    </tr>\n",
              "    <tr>\n",
              "      <th>3880</th>\n",
              "      <td>แยกทางหลวงหมายเลข 347 (กม.ที่ 21+700) - บ้านรุน</td>\n",
              "      <td>Highway intersection number 347 (Km. 21+700) -...</td>\n",
              "    </tr>\n",
              "    <tr>\n",
              "      <th>3881</th>\n",
              "      <td>แยกทางหลวงหมายเลข 35 (กม.ที่ 76+070) - บ้านสี่แยก</td>\n",
              "      <td>Highway 35 (km 76+070) - Ban intersection</td>\n",
              "    </tr>\n",
              "  </tbody>\n",
              "</table>\n",
              "<p>3882 rows × 2 columns</p>\n",
              "</div>\n",
              "    <div class=\"colab-df-buttons\">\n",
              "\n",
              "  <div class=\"colab-df-container\">\n",
              "    <button class=\"colab-df-convert\" onclick=\"convertToInteractive('df-1536f0db-e921-4657-a07b-66477baf97c7')\"\n",
              "            title=\"Convert this dataframe to an interactive table.\"\n",
              "            style=\"display:none;\">\n",
              "\n",
              "  <svg xmlns=\"http://www.w3.org/2000/svg\" height=\"24px\" viewBox=\"0 -960 960 960\">\n",
              "    <path d=\"M120-120v-720h720v720H120Zm60-500h600v-160H180v160Zm220 220h160v-160H400v160Zm0 220h160v-160H400v160ZM180-400h160v-160H180v160Zm440 0h160v-160H620v160ZM180-180h160v-160H180v160Zm440 0h160v-160H620v160Z\"/>\n",
              "  </svg>\n",
              "    </button>\n",
              "\n",
              "  <style>\n",
              "    .colab-df-container {\n",
              "      display:flex;\n",
              "      gap: 12px;\n",
              "    }\n",
              "\n",
              "    .colab-df-convert {\n",
              "      background-color: #E8F0FE;\n",
              "      border: none;\n",
              "      border-radius: 50%;\n",
              "      cursor: pointer;\n",
              "      display: none;\n",
              "      fill: #1967D2;\n",
              "      height: 32px;\n",
              "      padding: 0 0 0 0;\n",
              "      width: 32px;\n",
              "    }\n",
              "\n",
              "    .colab-df-convert:hover {\n",
              "      background-color: #E2EBFA;\n",
              "      box-shadow: 0px 1px 2px rgba(60, 64, 67, 0.3), 0px 1px 3px 1px rgba(60, 64, 67, 0.15);\n",
              "      fill: #174EA6;\n",
              "    }\n",
              "\n",
              "    .colab-df-buttons div {\n",
              "      margin-bottom: 4px;\n",
              "    }\n",
              "\n",
              "    [theme=dark] .colab-df-convert {\n",
              "      background-color: #3B4455;\n",
              "      fill: #D2E3FC;\n",
              "    }\n",
              "\n",
              "    [theme=dark] .colab-df-convert:hover {\n",
              "      background-color: #434B5C;\n",
              "      box-shadow: 0px 1px 3px 1px rgba(0, 0, 0, 0.15);\n",
              "      filter: drop-shadow(0px 1px 2px rgba(0, 0, 0, 0.3));\n",
              "      fill: #FFFFFF;\n",
              "    }\n",
              "  </style>\n",
              "\n",
              "    <script>\n",
              "      const buttonEl =\n",
              "        document.querySelector('#df-1536f0db-e921-4657-a07b-66477baf97c7 button.colab-df-convert');\n",
              "      buttonEl.style.display =\n",
              "        google.colab.kernel.accessAllowed ? 'block' : 'none';\n",
              "\n",
              "      async function convertToInteractive(key) {\n",
              "        const element = document.querySelector('#df-1536f0db-e921-4657-a07b-66477baf97c7');\n",
              "        const dataTable =\n",
              "          await google.colab.kernel.invokeFunction('convertToInteractive',\n",
              "                                                    [key], {});\n",
              "        if (!dataTable) return;\n",
              "\n",
              "        const docLinkHtml = 'Like what you see? Visit the ' +\n",
              "          '<a target=\"_blank\" href=https://colab.research.google.com/notebooks/data_table.ipynb>data table notebook</a>'\n",
              "          + ' to learn more about interactive tables.';\n",
              "        element.innerHTML = '';\n",
              "        dataTable['output_type'] = 'display_data';\n",
              "        await google.colab.output.renderOutput(dataTable, element);\n",
              "        const docLink = document.createElement('div');\n",
              "        docLink.innerHTML = docLinkHtml;\n",
              "        element.appendChild(docLink);\n",
              "      }\n",
              "    </script>\n",
              "  </div>\n",
              "\n",
              "\n",
              "<div id=\"df-2e66642e-ed60-4c00-9e6b-3be85d53bc90\">\n",
              "  <button class=\"colab-df-quickchart\" onclick=\"quickchart('df-2e66642e-ed60-4c00-9e6b-3be85d53bc90')\"\n",
              "            title=\"Suggest charts.\"\n",
              "            style=\"display:none;\">\n",
              "\n",
              "<svg xmlns=\"http://www.w3.org/2000/svg\" height=\"24px\"viewBox=\"0 0 24 24\"\n",
              "     width=\"24px\">\n",
              "    <g>\n",
              "        <path d=\"M19 3H5c-1.1 0-2 .9-2 2v14c0 1.1.9 2 2 2h14c1.1 0 2-.9 2-2V5c0-1.1-.9-2-2-2zM9 17H7v-7h2v7zm4 0h-2V7h2v10zm4 0h-2v-4h2v4z\"/>\n",
              "    </g>\n",
              "</svg>\n",
              "  </button>\n",
              "\n",
              "<style>\n",
              "  .colab-df-quickchart {\n",
              "      --bg-color: #E8F0FE;\n",
              "      --fill-color: #1967D2;\n",
              "      --hover-bg-color: #E2EBFA;\n",
              "      --hover-fill-color: #174EA6;\n",
              "      --disabled-fill-color: #AAA;\n",
              "      --disabled-bg-color: #DDD;\n",
              "  }\n",
              "\n",
              "  [theme=dark] .colab-df-quickchart {\n",
              "      --bg-color: #3B4455;\n",
              "      --fill-color: #D2E3FC;\n",
              "      --hover-bg-color: #434B5C;\n",
              "      --hover-fill-color: #FFFFFF;\n",
              "      --disabled-bg-color: #3B4455;\n",
              "      --disabled-fill-color: #666;\n",
              "  }\n",
              "\n",
              "  .colab-df-quickchart {\n",
              "    background-color: var(--bg-color);\n",
              "    border: none;\n",
              "    border-radius: 50%;\n",
              "    cursor: pointer;\n",
              "    display: none;\n",
              "    fill: var(--fill-color);\n",
              "    height: 32px;\n",
              "    padding: 0;\n",
              "    width: 32px;\n",
              "  }\n",
              "\n",
              "  .colab-df-quickchart:hover {\n",
              "    background-color: var(--hover-bg-color);\n",
              "    box-shadow: 0 1px 2px rgba(60, 64, 67, 0.3), 0 1px 3px 1px rgba(60, 64, 67, 0.15);\n",
              "    fill: var(--button-hover-fill-color);\n",
              "  }\n",
              "\n",
              "  .colab-df-quickchart-complete:disabled,\n",
              "  .colab-df-quickchart-complete:disabled:hover {\n",
              "    background-color: var(--disabled-bg-color);\n",
              "    fill: var(--disabled-fill-color);\n",
              "    box-shadow: none;\n",
              "  }\n",
              "\n",
              "  .colab-df-spinner {\n",
              "    border: 2px solid var(--fill-color);\n",
              "    border-color: transparent;\n",
              "    border-bottom-color: var(--fill-color);\n",
              "    animation:\n",
              "      spin 1s steps(1) infinite;\n",
              "  }\n",
              "\n",
              "  @keyframes spin {\n",
              "    0% {\n",
              "      border-color: transparent;\n",
              "      border-bottom-color: var(--fill-color);\n",
              "      border-left-color: var(--fill-color);\n",
              "    }\n",
              "    20% {\n",
              "      border-color: transparent;\n",
              "      border-left-color: var(--fill-color);\n",
              "      border-top-color: var(--fill-color);\n",
              "    }\n",
              "    30% {\n",
              "      border-color: transparent;\n",
              "      border-left-color: var(--fill-color);\n",
              "      border-top-color: var(--fill-color);\n",
              "      border-right-color: var(--fill-color);\n",
              "    }\n",
              "    40% {\n",
              "      border-color: transparent;\n",
              "      border-right-color: var(--fill-color);\n",
              "      border-top-color: var(--fill-color);\n",
              "    }\n",
              "    60% {\n",
              "      border-color: transparent;\n",
              "      border-right-color: var(--fill-color);\n",
              "    }\n",
              "    80% {\n",
              "      border-color: transparent;\n",
              "      border-right-color: var(--fill-color);\n",
              "      border-bottom-color: var(--fill-color);\n",
              "    }\n",
              "    90% {\n",
              "      border-color: transparent;\n",
              "      border-bottom-color: var(--fill-color);\n",
              "    }\n",
              "  }\n",
              "</style>\n",
              "\n",
              "  <script>\n",
              "    async function quickchart(key) {\n",
              "      const quickchartButtonEl =\n",
              "        document.querySelector('#' + key + ' button');\n",
              "      quickchartButtonEl.disabled = true;  // To prevent multiple clicks.\n",
              "      quickchartButtonEl.classList.add('colab-df-spinner');\n",
              "      try {\n",
              "        const charts = await google.colab.kernel.invokeFunction(\n",
              "            'suggestCharts', [key], {});\n",
              "      } catch (error) {\n",
              "        console.error('Error during call to suggestCharts:', error);\n",
              "      }\n",
              "      quickchartButtonEl.classList.remove('colab-df-spinner');\n",
              "      quickchartButtonEl.classList.add('colab-df-quickchart-complete');\n",
              "    }\n",
              "    (() => {\n",
              "      let quickchartButtonEl =\n",
              "        document.querySelector('#df-2e66642e-ed60-4c00-9e6b-3be85d53bc90 button');\n",
              "      quickchartButtonEl.style.display =\n",
              "        google.colab.kernel.accessAllowed ? 'block' : 'none';\n",
              "    })();\n",
              "  </script>\n",
              "</div>\n",
              "    </div>\n",
              "  </div>\n"
            ]
          },
          "metadata": {},
          "execution_count": 160
        }
      ]
    },
    {
      "cell_type": "code",
      "source": [
        "\n",
        "# Create a mapping dictionary from the CSV file\n",
        "mapping_dict = dict(zip(route_dic['Thai'], route_dic['English']))\n",
        "\n",
        "data['route'] = data['route'].map(mapping_dict)\n",
        "data.head()"
      ],
      "metadata": {
        "id": "CnyvWy1bG62f",
        "colab": {
          "base_uri": "https://localhost:8080/",
          "height": 486
        },
        "outputId": "516c8175-392c-4b20-c512-772a23a0a1a7"
      },
      "execution_count": 161,
      "outputs": [
        {
          "output_type": "execute_result",
          "data": {
            "text/plain": [
              "   acc_code    incident_datetime      report_datetime             province  \\\n",
              "0    571905  2019-01-01 00:00:00  2019-01-02 06:11:00               Loburi   \n",
              "1   3790870  2019-01-01 00:03:00  2020-02-20 13:48:00     Ubon Ratchathani   \n",
              "2    599075  2019-01-01 00:05:00  2019-01-01 10:35:00  Prachuap Khiri Khan   \n",
              "3    571924  2019-01-01 00:20:00  2019-01-02 05:12:00           Chiang Mai   \n",
              "4    599523  2019-01-01 00:25:00  2019-01-04 09:42:00         Nakhon Sawan   \n",
              "\n",
              "                      agency  \\\n",
              "0  department of rural roads   \n",
              "1     department of highways   \n",
              "2     department of highways   \n",
              "3  department of rural roads   \n",
              "4     department of highways   \n",
              "\n",
              "                                              route           vehicle_type  \\\n",
              "0         Highway 21 (km 31+000) - Ban Wang Phloeng             motorcycle   \n",
              "1                       Dej Udom - Ubon Ratchathani  private/passenger car   \n",
              "2                           Pranburi - Pak Nam Pran             motorcycle   \n",
              "3  Connect Highway 1013 (km 8+200) - Ban Khun Klang             motorcycle   \n",
              "4                            Kayachai -Sri Mongkhon  private/passenger car   \n",
              "\n",
              "                                  presumed_cause  \\\n",
              "0         driving under the influence of alcohol   \n",
              "1                                       speeding   \n",
              "2                                       speeding   \n",
              "3         driving under the influence of alcohol   \n",
              "4  cutting in closely by people/vehicles/animals   \n",
              "\n",
              "                        accident_type  number_of_vehicles_involved  \\\n",
              "0                               other                            1   \n",
              "1    rollover/fallen on straight road                            1   \n",
              "2  head-on collision (not overtaking)                            2   \n",
              "3                               other                            1   \n",
              "4    rollover/fallen on straight road                            1   \n",
              "\n",
              "   number_of_fatalities  number_of_injuries weather_condition   latitude  \\\n",
              "0                     0                   2             clear  14.959105   \n",
              "1                     0                   2             clear  15.210738   \n",
              "2                     1                   0             clear  12.374259   \n",
              "3                     0                   1             clear  18.601721   \n",
              "4                     0                   0             clear  15.866389   \n",
              "\n",
              "    longitude road_description slope_description  \n",
              "0  100.873463    straight road          no slope  \n",
              "1  104.862689    straight road          no slope  \n",
              "2   99.907949       wide curve        slope area  \n",
              "3   98.804204    straight road          no slope  \n",
              "4  100.590010    straight road          no slope  "
            ],
            "text/html": [
              "\n",
              "  <div id=\"df-c539f540-3125-4acf-ac37-1a9a3be26739\" class=\"colab-df-container\">\n",
              "    <div>\n",
              "<style scoped>\n",
              "    .dataframe tbody tr th:only-of-type {\n",
              "        vertical-align: middle;\n",
              "    }\n",
              "\n",
              "    .dataframe tbody tr th {\n",
              "        vertical-align: top;\n",
              "    }\n",
              "\n",
              "    .dataframe thead th {\n",
              "        text-align: right;\n",
              "    }\n",
              "</style>\n",
              "<table border=\"1\" class=\"dataframe\">\n",
              "  <thead>\n",
              "    <tr style=\"text-align: right;\">\n",
              "      <th></th>\n",
              "      <th>acc_code</th>\n",
              "      <th>incident_datetime</th>\n",
              "      <th>report_datetime</th>\n",
              "      <th>province</th>\n",
              "      <th>agency</th>\n",
              "      <th>route</th>\n",
              "      <th>vehicle_type</th>\n",
              "      <th>presumed_cause</th>\n",
              "      <th>accident_type</th>\n",
              "      <th>number_of_vehicles_involved</th>\n",
              "      <th>number_of_fatalities</th>\n",
              "      <th>number_of_injuries</th>\n",
              "      <th>weather_condition</th>\n",
              "      <th>latitude</th>\n",
              "      <th>longitude</th>\n",
              "      <th>road_description</th>\n",
              "      <th>slope_description</th>\n",
              "    </tr>\n",
              "  </thead>\n",
              "  <tbody>\n",
              "    <tr>\n",
              "      <th>0</th>\n",
              "      <td>571905</td>\n",
              "      <td>2019-01-01 00:00:00</td>\n",
              "      <td>2019-01-02 06:11:00</td>\n",
              "      <td>Loburi</td>\n",
              "      <td>department of rural roads</td>\n",
              "      <td>Highway 21 (km 31+000) - Ban Wang Phloeng</td>\n",
              "      <td>motorcycle</td>\n",
              "      <td>driving under the influence of alcohol</td>\n",
              "      <td>other</td>\n",
              "      <td>1</td>\n",
              "      <td>0</td>\n",
              "      <td>2</td>\n",
              "      <td>clear</td>\n",
              "      <td>14.959105</td>\n",
              "      <td>100.873463</td>\n",
              "      <td>straight road</td>\n",
              "      <td>no slope</td>\n",
              "    </tr>\n",
              "    <tr>\n",
              "      <th>1</th>\n",
              "      <td>3790870</td>\n",
              "      <td>2019-01-01 00:03:00</td>\n",
              "      <td>2020-02-20 13:48:00</td>\n",
              "      <td>Ubon Ratchathani</td>\n",
              "      <td>department of highways</td>\n",
              "      <td>Dej Udom - Ubon Ratchathani</td>\n",
              "      <td>private/passenger car</td>\n",
              "      <td>speeding</td>\n",
              "      <td>rollover/fallen on straight road</td>\n",
              "      <td>1</td>\n",
              "      <td>0</td>\n",
              "      <td>2</td>\n",
              "      <td>clear</td>\n",
              "      <td>15.210738</td>\n",
              "      <td>104.862689</td>\n",
              "      <td>straight road</td>\n",
              "      <td>no slope</td>\n",
              "    </tr>\n",
              "    <tr>\n",
              "      <th>2</th>\n",
              "      <td>599075</td>\n",
              "      <td>2019-01-01 00:05:00</td>\n",
              "      <td>2019-01-01 10:35:00</td>\n",
              "      <td>Prachuap Khiri Khan</td>\n",
              "      <td>department of highways</td>\n",
              "      <td>Pranburi - Pak Nam Pran</td>\n",
              "      <td>motorcycle</td>\n",
              "      <td>speeding</td>\n",
              "      <td>head-on collision (not overtaking)</td>\n",
              "      <td>2</td>\n",
              "      <td>1</td>\n",
              "      <td>0</td>\n",
              "      <td>clear</td>\n",
              "      <td>12.374259</td>\n",
              "      <td>99.907949</td>\n",
              "      <td>wide curve</td>\n",
              "      <td>slope area</td>\n",
              "    </tr>\n",
              "    <tr>\n",
              "      <th>3</th>\n",
              "      <td>571924</td>\n",
              "      <td>2019-01-01 00:20:00</td>\n",
              "      <td>2019-01-02 05:12:00</td>\n",
              "      <td>Chiang Mai</td>\n",
              "      <td>department of rural roads</td>\n",
              "      <td>Connect Highway 1013 (km 8+200) - Ban Khun Klang</td>\n",
              "      <td>motorcycle</td>\n",
              "      <td>driving under the influence of alcohol</td>\n",
              "      <td>other</td>\n",
              "      <td>1</td>\n",
              "      <td>0</td>\n",
              "      <td>1</td>\n",
              "      <td>clear</td>\n",
              "      <td>18.601721</td>\n",
              "      <td>98.804204</td>\n",
              "      <td>straight road</td>\n",
              "      <td>no slope</td>\n",
              "    </tr>\n",
              "    <tr>\n",
              "      <th>4</th>\n",
              "      <td>599523</td>\n",
              "      <td>2019-01-01 00:25:00</td>\n",
              "      <td>2019-01-04 09:42:00</td>\n",
              "      <td>Nakhon Sawan</td>\n",
              "      <td>department of highways</td>\n",
              "      <td>Kayachai -Sri Mongkhon</td>\n",
              "      <td>private/passenger car</td>\n",
              "      <td>cutting in closely by people/vehicles/animals</td>\n",
              "      <td>rollover/fallen on straight road</td>\n",
              "      <td>1</td>\n",
              "      <td>0</td>\n",
              "      <td>0</td>\n",
              "      <td>clear</td>\n",
              "      <td>15.866389</td>\n",
              "      <td>100.590010</td>\n",
              "      <td>straight road</td>\n",
              "      <td>no slope</td>\n",
              "    </tr>\n",
              "  </tbody>\n",
              "</table>\n",
              "</div>\n",
              "    <div class=\"colab-df-buttons\">\n",
              "\n",
              "  <div class=\"colab-df-container\">\n",
              "    <button class=\"colab-df-convert\" onclick=\"convertToInteractive('df-c539f540-3125-4acf-ac37-1a9a3be26739')\"\n",
              "            title=\"Convert this dataframe to an interactive table.\"\n",
              "            style=\"display:none;\">\n",
              "\n",
              "  <svg xmlns=\"http://www.w3.org/2000/svg\" height=\"24px\" viewBox=\"0 -960 960 960\">\n",
              "    <path d=\"M120-120v-720h720v720H120Zm60-500h600v-160H180v160Zm220 220h160v-160H400v160Zm0 220h160v-160H400v160ZM180-400h160v-160H180v160Zm440 0h160v-160H620v160ZM180-180h160v-160H180v160Zm440 0h160v-160H620v160Z\"/>\n",
              "  </svg>\n",
              "    </button>\n",
              "\n",
              "  <style>\n",
              "    .colab-df-container {\n",
              "      display:flex;\n",
              "      gap: 12px;\n",
              "    }\n",
              "\n",
              "    .colab-df-convert {\n",
              "      background-color: #E8F0FE;\n",
              "      border: none;\n",
              "      border-radius: 50%;\n",
              "      cursor: pointer;\n",
              "      display: none;\n",
              "      fill: #1967D2;\n",
              "      height: 32px;\n",
              "      padding: 0 0 0 0;\n",
              "      width: 32px;\n",
              "    }\n",
              "\n",
              "    .colab-df-convert:hover {\n",
              "      background-color: #E2EBFA;\n",
              "      box-shadow: 0px 1px 2px rgba(60, 64, 67, 0.3), 0px 1px 3px 1px rgba(60, 64, 67, 0.15);\n",
              "      fill: #174EA6;\n",
              "    }\n",
              "\n",
              "    .colab-df-buttons div {\n",
              "      margin-bottom: 4px;\n",
              "    }\n",
              "\n",
              "    [theme=dark] .colab-df-convert {\n",
              "      background-color: #3B4455;\n",
              "      fill: #D2E3FC;\n",
              "    }\n",
              "\n",
              "    [theme=dark] .colab-df-convert:hover {\n",
              "      background-color: #434B5C;\n",
              "      box-shadow: 0px 1px 3px 1px rgba(0, 0, 0, 0.15);\n",
              "      filter: drop-shadow(0px 1px 2px rgba(0, 0, 0, 0.3));\n",
              "      fill: #FFFFFF;\n",
              "    }\n",
              "  </style>\n",
              "\n",
              "    <script>\n",
              "      const buttonEl =\n",
              "        document.querySelector('#df-c539f540-3125-4acf-ac37-1a9a3be26739 button.colab-df-convert');\n",
              "      buttonEl.style.display =\n",
              "        google.colab.kernel.accessAllowed ? 'block' : 'none';\n",
              "\n",
              "      async function convertToInteractive(key) {\n",
              "        const element = document.querySelector('#df-c539f540-3125-4acf-ac37-1a9a3be26739');\n",
              "        const dataTable =\n",
              "          await google.colab.kernel.invokeFunction('convertToInteractive',\n",
              "                                                    [key], {});\n",
              "        if (!dataTable) return;\n",
              "\n",
              "        const docLinkHtml = 'Like what you see? Visit the ' +\n",
              "          '<a target=\"_blank\" href=https://colab.research.google.com/notebooks/data_table.ipynb>data table notebook</a>'\n",
              "          + ' to learn more about interactive tables.';\n",
              "        element.innerHTML = '';\n",
              "        dataTable['output_type'] = 'display_data';\n",
              "        await google.colab.output.renderOutput(dataTable, element);\n",
              "        const docLink = document.createElement('div');\n",
              "        docLink.innerHTML = docLinkHtml;\n",
              "        element.appendChild(docLink);\n",
              "      }\n",
              "    </script>\n",
              "  </div>\n",
              "\n",
              "\n",
              "<div id=\"df-e3b107eb-aaf2-407b-9e64-32c02d72916e\">\n",
              "  <button class=\"colab-df-quickchart\" onclick=\"quickchart('df-e3b107eb-aaf2-407b-9e64-32c02d72916e')\"\n",
              "            title=\"Suggest charts.\"\n",
              "            style=\"display:none;\">\n",
              "\n",
              "<svg xmlns=\"http://www.w3.org/2000/svg\" height=\"24px\"viewBox=\"0 0 24 24\"\n",
              "     width=\"24px\">\n",
              "    <g>\n",
              "        <path d=\"M19 3H5c-1.1 0-2 .9-2 2v14c0 1.1.9 2 2 2h14c1.1 0 2-.9 2-2V5c0-1.1-.9-2-2-2zM9 17H7v-7h2v7zm4 0h-2V7h2v10zm4 0h-2v-4h2v4z\"/>\n",
              "    </g>\n",
              "</svg>\n",
              "  </button>\n",
              "\n",
              "<style>\n",
              "  .colab-df-quickchart {\n",
              "      --bg-color: #E8F0FE;\n",
              "      --fill-color: #1967D2;\n",
              "      --hover-bg-color: #E2EBFA;\n",
              "      --hover-fill-color: #174EA6;\n",
              "      --disabled-fill-color: #AAA;\n",
              "      --disabled-bg-color: #DDD;\n",
              "  }\n",
              "\n",
              "  [theme=dark] .colab-df-quickchart {\n",
              "      --bg-color: #3B4455;\n",
              "      --fill-color: #D2E3FC;\n",
              "      --hover-bg-color: #434B5C;\n",
              "      --hover-fill-color: #FFFFFF;\n",
              "      --disabled-bg-color: #3B4455;\n",
              "      --disabled-fill-color: #666;\n",
              "  }\n",
              "\n",
              "  .colab-df-quickchart {\n",
              "    background-color: var(--bg-color);\n",
              "    border: none;\n",
              "    border-radius: 50%;\n",
              "    cursor: pointer;\n",
              "    display: none;\n",
              "    fill: var(--fill-color);\n",
              "    height: 32px;\n",
              "    padding: 0;\n",
              "    width: 32px;\n",
              "  }\n",
              "\n",
              "  .colab-df-quickchart:hover {\n",
              "    background-color: var(--hover-bg-color);\n",
              "    box-shadow: 0 1px 2px rgba(60, 64, 67, 0.3), 0 1px 3px 1px rgba(60, 64, 67, 0.15);\n",
              "    fill: var(--button-hover-fill-color);\n",
              "  }\n",
              "\n",
              "  .colab-df-quickchart-complete:disabled,\n",
              "  .colab-df-quickchart-complete:disabled:hover {\n",
              "    background-color: var(--disabled-bg-color);\n",
              "    fill: var(--disabled-fill-color);\n",
              "    box-shadow: none;\n",
              "  }\n",
              "\n",
              "  .colab-df-spinner {\n",
              "    border: 2px solid var(--fill-color);\n",
              "    border-color: transparent;\n",
              "    border-bottom-color: var(--fill-color);\n",
              "    animation:\n",
              "      spin 1s steps(1) infinite;\n",
              "  }\n",
              "\n",
              "  @keyframes spin {\n",
              "    0% {\n",
              "      border-color: transparent;\n",
              "      border-bottom-color: var(--fill-color);\n",
              "      border-left-color: var(--fill-color);\n",
              "    }\n",
              "    20% {\n",
              "      border-color: transparent;\n",
              "      border-left-color: var(--fill-color);\n",
              "      border-top-color: var(--fill-color);\n",
              "    }\n",
              "    30% {\n",
              "      border-color: transparent;\n",
              "      border-left-color: var(--fill-color);\n",
              "      border-top-color: var(--fill-color);\n",
              "      border-right-color: var(--fill-color);\n",
              "    }\n",
              "    40% {\n",
              "      border-color: transparent;\n",
              "      border-right-color: var(--fill-color);\n",
              "      border-top-color: var(--fill-color);\n",
              "    }\n",
              "    60% {\n",
              "      border-color: transparent;\n",
              "      border-right-color: var(--fill-color);\n",
              "    }\n",
              "    80% {\n",
              "      border-color: transparent;\n",
              "      border-right-color: var(--fill-color);\n",
              "      border-bottom-color: var(--fill-color);\n",
              "    }\n",
              "    90% {\n",
              "      border-color: transparent;\n",
              "      border-bottom-color: var(--fill-color);\n",
              "    }\n",
              "  }\n",
              "</style>\n",
              "\n",
              "  <script>\n",
              "    async function quickchart(key) {\n",
              "      const quickchartButtonEl =\n",
              "        document.querySelector('#' + key + ' button');\n",
              "      quickchartButtonEl.disabled = true;  // To prevent multiple clicks.\n",
              "      quickchartButtonEl.classList.add('colab-df-spinner');\n",
              "      try {\n",
              "        const charts = await google.colab.kernel.invokeFunction(\n",
              "            'suggestCharts', [key], {});\n",
              "      } catch (error) {\n",
              "        console.error('Error during call to suggestCharts:', error);\n",
              "      }\n",
              "      quickchartButtonEl.classList.remove('colab-df-spinner');\n",
              "      quickchartButtonEl.classList.add('colab-df-quickchart-complete');\n",
              "    }\n",
              "    (() => {\n",
              "      let quickchartButtonEl =\n",
              "        document.querySelector('#df-e3b107eb-aaf2-407b-9e64-32c02d72916e button');\n",
              "      quickchartButtonEl.style.display =\n",
              "        google.colab.kernel.accessAllowed ? 'block' : 'none';\n",
              "    })();\n",
              "  </script>\n",
              "</div>\n",
              "    </div>\n",
              "  </div>\n"
            ]
          },
          "metadata": {},
          "execution_count": 161
        }
      ]
    },
    {
      "cell_type": "code",
      "source": [
        "data['route'].nunique()"
      ],
      "metadata": {
        "id": "lVUkoK8Xhz8t",
        "colab": {
          "base_uri": "https://localhost:8080/"
        },
        "outputId": "a37a5334-1e70-49b5-991e-35954d56ee32"
      },
      "execution_count": 162,
      "outputs": [
        {
          "output_type": "execute_result",
          "data": {
            "text/plain": [
              "3872"
            ]
          },
          "metadata": {},
          "execution_count": 162
        }
      ]
    },
    {
      "cell_type": "code",
      "source": [
        "#Checking if the change is applied\n",
        "data.head(3)"
      ],
      "metadata": {
        "id": "jHpEJvenBFHw",
        "colab": {
          "base_uri": "https://localhost:8080/",
          "height": 302
        },
        "outputId": "1a345d82-ec05-42fe-9900-87ceecf41a55"
      },
      "execution_count": 163,
      "outputs": [
        {
          "output_type": "execute_result",
          "data": {
            "text/plain": [
              "   acc_code    incident_datetime      report_datetime             province  \\\n",
              "0    571905  2019-01-01 00:00:00  2019-01-02 06:11:00               Loburi   \n",
              "1   3790870  2019-01-01 00:03:00  2020-02-20 13:48:00     Ubon Ratchathani   \n",
              "2    599075  2019-01-01 00:05:00  2019-01-01 10:35:00  Prachuap Khiri Khan   \n",
              "\n",
              "                      agency                                      route  \\\n",
              "0  department of rural roads  Highway 21 (km 31+000) - Ban Wang Phloeng   \n",
              "1     department of highways                Dej Udom - Ubon Ratchathani   \n",
              "2     department of highways                    Pranburi - Pak Nam Pran   \n",
              "\n",
              "            vehicle_type                          presumed_cause  \\\n",
              "0             motorcycle  driving under the influence of alcohol   \n",
              "1  private/passenger car                                speeding   \n",
              "2             motorcycle                                speeding   \n",
              "\n",
              "                        accident_type  number_of_vehicles_involved  \\\n",
              "0                               other                            1   \n",
              "1    rollover/fallen on straight road                            1   \n",
              "2  head-on collision (not overtaking)                            2   \n",
              "\n",
              "   number_of_fatalities  number_of_injuries weather_condition   latitude  \\\n",
              "0                     0                   2             clear  14.959105   \n",
              "1                     0                   2             clear  15.210738   \n",
              "2                     1                   0             clear  12.374259   \n",
              "\n",
              "    longitude road_description slope_description  \n",
              "0  100.873463    straight road          no slope  \n",
              "1  104.862689    straight road          no slope  \n",
              "2   99.907949       wide curve        slope area  "
            ],
            "text/html": [
              "\n",
              "  <div id=\"df-0960e43e-7a6d-46ae-9bbe-b0ec70dedecf\" class=\"colab-df-container\">\n",
              "    <div>\n",
              "<style scoped>\n",
              "    .dataframe tbody tr th:only-of-type {\n",
              "        vertical-align: middle;\n",
              "    }\n",
              "\n",
              "    .dataframe tbody tr th {\n",
              "        vertical-align: top;\n",
              "    }\n",
              "\n",
              "    .dataframe thead th {\n",
              "        text-align: right;\n",
              "    }\n",
              "</style>\n",
              "<table border=\"1\" class=\"dataframe\">\n",
              "  <thead>\n",
              "    <tr style=\"text-align: right;\">\n",
              "      <th></th>\n",
              "      <th>acc_code</th>\n",
              "      <th>incident_datetime</th>\n",
              "      <th>report_datetime</th>\n",
              "      <th>province</th>\n",
              "      <th>agency</th>\n",
              "      <th>route</th>\n",
              "      <th>vehicle_type</th>\n",
              "      <th>presumed_cause</th>\n",
              "      <th>accident_type</th>\n",
              "      <th>number_of_vehicles_involved</th>\n",
              "      <th>number_of_fatalities</th>\n",
              "      <th>number_of_injuries</th>\n",
              "      <th>weather_condition</th>\n",
              "      <th>latitude</th>\n",
              "      <th>longitude</th>\n",
              "      <th>road_description</th>\n",
              "      <th>slope_description</th>\n",
              "    </tr>\n",
              "  </thead>\n",
              "  <tbody>\n",
              "    <tr>\n",
              "      <th>0</th>\n",
              "      <td>571905</td>\n",
              "      <td>2019-01-01 00:00:00</td>\n",
              "      <td>2019-01-02 06:11:00</td>\n",
              "      <td>Loburi</td>\n",
              "      <td>department of rural roads</td>\n",
              "      <td>Highway 21 (km 31+000) - Ban Wang Phloeng</td>\n",
              "      <td>motorcycle</td>\n",
              "      <td>driving under the influence of alcohol</td>\n",
              "      <td>other</td>\n",
              "      <td>1</td>\n",
              "      <td>0</td>\n",
              "      <td>2</td>\n",
              "      <td>clear</td>\n",
              "      <td>14.959105</td>\n",
              "      <td>100.873463</td>\n",
              "      <td>straight road</td>\n",
              "      <td>no slope</td>\n",
              "    </tr>\n",
              "    <tr>\n",
              "      <th>1</th>\n",
              "      <td>3790870</td>\n",
              "      <td>2019-01-01 00:03:00</td>\n",
              "      <td>2020-02-20 13:48:00</td>\n",
              "      <td>Ubon Ratchathani</td>\n",
              "      <td>department of highways</td>\n",
              "      <td>Dej Udom - Ubon Ratchathani</td>\n",
              "      <td>private/passenger car</td>\n",
              "      <td>speeding</td>\n",
              "      <td>rollover/fallen on straight road</td>\n",
              "      <td>1</td>\n",
              "      <td>0</td>\n",
              "      <td>2</td>\n",
              "      <td>clear</td>\n",
              "      <td>15.210738</td>\n",
              "      <td>104.862689</td>\n",
              "      <td>straight road</td>\n",
              "      <td>no slope</td>\n",
              "    </tr>\n",
              "    <tr>\n",
              "      <th>2</th>\n",
              "      <td>599075</td>\n",
              "      <td>2019-01-01 00:05:00</td>\n",
              "      <td>2019-01-01 10:35:00</td>\n",
              "      <td>Prachuap Khiri Khan</td>\n",
              "      <td>department of highways</td>\n",
              "      <td>Pranburi - Pak Nam Pran</td>\n",
              "      <td>motorcycle</td>\n",
              "      <td>speeding</td>\n",
              "      <td>head-on collision (not overtaking)</td>\n",
              "      <td>2</td>\n",
              "      <td>1</td>\n",
              "      <td>0</td>\n",
              "      <td>clear</td>\n",
              "      <td>12.374259</td>\n",
              "      <td>99.907949</td>\n",
              "      <td>wide curve</td>\n",
              "      <td>slope area</td>\n",
              "    </tr>\n",
              "  </tbody>\n",
              "</table>\n",
              "</div>\n",
              "    <div class=\"colab-df-buttons\">\n",
              "\n",
              "  <div class=\"colab-df-container\">\n",
              "    <button class=\"colab-df-convert\" onclick=\"convertToInteractive('df-0960e43e-7a6d-46ae-9bbe-b0ec70dedecf')\"\n",
              "            title=\"Convert this dataframe to an interactive table.\"\n",
              "            style=\"display:none;\">\n",
              "\n",
              "  <svg xmlns=\"http://www.w3.org/2000/svg\" height=\"24px\" viewBox=\"0 -960 960 960\">\n",
              "    <path d=\"M120-120v-720h720v720H120Zm60-500h600v-160H180v160Zm220 220h160v-160H400v160Zm0 220h160v-160H400v160ZM180-400h160v-160H180v160Zm440 0h160v-160H620v160ZM180-180h160v-160H180v160Zm440 0h160v-160H620v160Z\"/>\n",
              "  </svg>\n",
              "    </button>\n",
              "\n",
              "  <style>\n",
              "    .colab-df-container {\n",
              "      display:flex;\n",
              "      gap: 12px;\n",
              "    }\n",
              "\n",
              "    .colab-df-convert {\n",
              "      background-color: #E8F0FE;\n",
              "      border: none;\n",
              "      border-radius: 50%;\n",
              "      cursor: pointer;\n",
              "      display: none;\n",
              "      fill: #1967D2;\n",
              "      height: 32px;\n",
              "      padding: 0 0 0 0;\n",
              "      width: 32px;\n",
              "    }\n",
              "\n",
              "    .colab-df-convert:hover {\n",
              "      background-color: #E2EBFA;\n",
              "      box-shadow: 0px 1px 2px rgba(60, 64, 67, 0.3), 0px 1px 3px 1px rgba(60, 64, 67, 0.15);\n",
              "      fill: #174EA6;\n",
              "    }\n",
              "\n",
              "    .colab-df-buttons div {\n",
              "      margin-bottom: 4px;\n",
              "    }\n",
              "\n",
              "    [theme=dark] .colab-df-convert {\n",
              "      background-color: #3B4455;\n",
              "      fill: #D2E3FC;\n",
              "    }\n",
              "\n",
              "    [theme=dark] .colab-df-convert:hover {\n",
              "      background-color: #434B5C;\n",
              "      box-shadow: 0px 1px 3px 1px rgba(0, 0, 0, 0.15);\n",
              "      filter: drop-shadow(0px 1px 2px rgba(0, 0, 0, 0.3));\n",
              "      fill: #FFFFFF;\n",
              "    }\n",
              "  </style>\n",
              "\n",
              "    <script>\n",
              "      const buttonEl =\n",
              "        document.querySelector('#df-0960e43e-7a6d-46ae-9bbe-b0ec70dedecf button.colab-df-convert');\n",
              "      buttonEl.style.display =\n",
              "        google.colab.kernel.accessAllowed ? 'block' : 'none';\n",
              "\n",
              "      async function convertToInteractive(key) {\n",
              "        const element = document.querySelector('#df-0960e43e-7a6d-46ae-9bbe-b0ec70dedecf');\n",
              "        const dataTable =\n",
              "          await google.colab.kernel.invokeFunction('convertToInteractive',\n",
              "                                                    [key], {});\n",
              "        if (!dataTable) return;\n",
              "\n",
              "        const docLinkHtml = 'Like what you see? Visit the ' +\n",
              "          '<a target=\"_blank\" href=https://colab.research.google.com/notebooks/data_table.ipynb>data table notebook</a>'\n",
              "          + ' to learn more about interactive tables.';\n",
              "        element.innerHTML = '';\n",
              "        dataTable['output_type'] = 'display_data';\n",
              "        await google.colab.output.renderOutput(dataTable, element);\n",
              "        const docLink = document.createElement('div');\n",
              "        docLink.innerHTML = docLinkHtml;\n",
              "        element.appendChild(docLink);\n",
              "      }\n",
              "    </script>\n",
              "  </div>\n",
              "\n",
              "\n",
              "<div id=\"df-02d76765-82f3-4f53-af3c-595c910a90be\">\n",
              "  <button class=\"colab-df-quickchart\" onclick=\"quickchart('df-02d76765-82f3-4f53-af3c-595c910a90be')\"\n",
              "            title=\"Suggest charts.\"\n",
              "            style=\"display:none;\">\n",
              "\n",
              "<svg xmlns=\"http://www.w3.org/2000/svg\" height=\"24px\"viewBox=\"0 0 24 24\"\n",
              "     width=\"24px\">\n",
              "    <g>\n",
              "        <path d=\"M19 3H5c-1.1 0-2 .9-2 2v14c0 1.1.9 2 2 2h14c1.1 0 2-.9 2-2V5c0-1.1-.9-2-2-2zM9 17H7v-7h2v7zm4 0h-2V7h2v10zm4 0h-2v-4h2v4z\"/>\n",
              "    </g>\n",
              "</svg>\n",
              "  </button>\n",
              "\n",
              "<style>\n",
              "  .colab-df-quickchart {\n",
              "      --bg-color: #E8F0FE;\n",
              "      --fill-color: #1967D2;\n",
              "      --hover-bg-color: #E2EBFA;\n",
              "      --hover-fill-color: #174EA6;\n",
              "      --disabled-fill-color: #AAA;\n",
              "      --disabled-bg-color: #DDD;\n",
              "  }\n",
              "\n",
              "  [theme=dark] .colab-df-quickchart {\n",
              "      --bg-color: #3B4455;\n",
              "      --fill-color: #D2E3FC;\n",
              "      --hover-bg-color: #434B5C;\n",
              "      --hover-fill-color: #FFFFFF;\n",
              "      --disabled-bg-color: #3B4455;\n",
              "      --disabled-fill-color: #666;\n",
              "  }\n",
              "\n",
              "  .colab-df-quickchart {\n",
              "    background-color: var(--bg-color);\n",
              "    border: none;\n",
              "    border-radius: 50%;\n",
              "    cursor: pointer;\n",
              "    display: none;\n",
              "    fill: var(--fill-color);\n",
              "    height: 32px;\n",
              "    padding: 0;\n",
              "    width: 32px;\n",
              "  }\n",
              "\n",
              "  .colab-df-quickchart:hover {\n",
              "    background-color: var(--hover-bg-color);\n",
              "    box-shadow: 0 1px 2px rgba(60, 64, 67, 0.3), 0 1px 3px 1px rgba(60, 64, 67, 0.15);\n",
              "    fill: var(--button-hover-fill-color);\n",
              "  }\n",
              "\n",
              "  .colab-df-quickchart-complete:disabled,\n",
              "  .colab-df-quickchart-complete:disabled:hover {\n",
              "    background-color: var(--disabled-bg-color);\n",
              "    fill: var(--disabled-fill-color);\n",
              "    box-shadow: none;\n",
              "  }\n",
              "\n",
              "  .colab-df-spinner {\n",
              "    border: 2px solid var(--fill-color);\n",
              "    border-color: transparent;\n",
              "    border-bottom-color: var(--fill-color);\n",
              "    animation:\n",
              "      spin 1s steps(1) infinite;\n",
              "  }\n",
              "\n",
              "  @keyframes spin {\n",
              "    0% {\n",
              "      border-color: transparent;\n",
              "      border-bottom-color: var(--fill-color);\n",
              "      border-left-color: var(--fill-color);\n",
              "    }\n",
              "    20% {\n",
              "      border-color: transparent;\n",
              "      border-left-color: var(--fill-color);\n",
              "      border-top-color: var(--fill-color);\n",
              "    }\n",
              "    30% {\n",
              "      border-color: transparent;\n",
              "      border-left-color: var(--fill-color);\n",
              "      border-top-color: var(--fill-color);\n",
              "      border-right-color: var(--fill-color);\n",
              "    }\n",
              "    40% {\n",
              "      border-color: transparent;\n",
              "      border-right-color: var(--fill-color);\n",
              "      border-top-color: var(--fill-color);\n",
              "    }\n",
              "    60% {\n",
              "      border-color: transparent;\n",
              "      border-right-color: var(--fill-color);\n",
              "    }\n",
              "    80% {\n",
              "      border-color: transparent;\n",
              "      border-right-color: var(--fill-color);\n",
              "      border-bottom-color: var(--fill-color);\n",
              "    }\n",
              "    90% {\n",
              "      border-color: transparent;\n",
              "      border-bottom-color: var(--fill-color);\n",
              "    }\n",
              "  }\n",
              "</style>\n",
              "\n",
              "  <script>\n",
              "    async function quickchart(key) {\n",
              "      const quickchartButtonEl =\n",
              "        document.querySelector('#' + key + ' button');\n",
              "      quickchartButtonEl.disabled = true;  // To prevent multiple clicks.\n",
              "      quickchartButtonEl.classList.add('colab-df-spinner');\n",
              "      try {\n",
              "        const charts = await google.colab.kernel.invokeFunction(\n",
              "            'suggestCharts', [key], {});\n",
              "      } catch (error) {\n",
              "        console.error('Error during call to suggestCharts:', error);\n",
              "      }\n",
              "      quickchartButtonEl.classList.remove('colab-df-spinner');\n",
              "      quickchartButtonEl.classList.add('colab-df-quickchart-complete');\n",
              "    }\n",
              "    (() => {\n",
              "      let quickchartButtonEl =\n",
              "        document.querySelector('#df-02d76765-82f3-4f53-af3c-595c910a90be button');\n",
              "      quickchartButtonEl.style.display =\n",
              "        google.colab.kernel.accessAllowed ? 'block' : 'none';\n",
              "    })();\n",
              "  </script>\n",
              "</div>\n",
              "    </div>\n",
              "  </div>\n"
            ]
          },
          "metadata": {},
          "execution_count": 163
        }
      ]
    },
    {
      "cell_type": "markdown",
      "source": [
        "### **Vehicle Type Column**"
      ],
      "metadata": {
        "id": "CwyiLDWnBKug"
      }
    },
    {
      "cell_type": "code",
      "source": [
        "data['vehicle_type'].head()"
      ],
      "metadata": {
        "id": "W1SAIQTrBhJa",
        "colab": {
          "base_uri": "https://localhost:8080/"
        },
        "outputId": "e30fd48c-e54c-4476-d5b5-05106a2ab976"
      },
      "execution_count": 164,
      "outputs": [
        {
          "output_type": "execute_result",
          "data": {
            "text/plain": [
              "0               motorcycle\n",
              "1    private/passenger car\n",
              "2               motorcycle\n",
              "3               motorcycle\n",
              "4    private/passenger car\n",
              "Name: vehicle_type, dtype: object"
            ]
          },
          "metadata": {},
          "execution_count": 164
        }
      ]
    },
    {
      "cell_type": "code",
      "source": [
        "## checking if there is no null value\n",
        "data['vehicle_type'].isnull().sum()"
      ],
      "metadata": {
        "id": "vQ1kkY18BlwK",
        "colab": {
          "base_uri": "https://localhost:8080/"
        },
        "outputId": "093ef30c-d255-4166-ba8d-73794e31f117"
      },
      "execution_count": 165,
      "outputs": [
        {
          "output_type": "execute_result",
          "data": {
            "text/plain": [
              "0"
            ]
          },
          "metadata": {},
          "execution_count": 165
        }
      ]
    },
    {
      "cell_type": "markdown",
      "source": [
        "we have no null values"
      ],
      "metadata": {
        "id": "vokIdomVBwft"
      }
    },
    {
      "cell_type": "code",
      "source": [
        "# Checking the catergory of vehicle involved in the accident\n",
        "data['vehicle_type'].nunique()"
      ],
      "metadata": {
        "id": "mPO7m1zfKXpf",
        "colab": {
          "base_uri": "https://localhost:8080/"
        },
        "outputId": "d001ea8a-e78e-4165-df4b-2b1fa9e2b045"
      },
      "execution_count": 166,
      "outputs": [
        {
          "output_type": "execute_result",
          "data": {
            "text/plain": [
              "15"
            ]
          },
          "metadata": {},
          "execution_count": 166
        }
      ]
    },
    {
      "cell_type": "markdown",
      "source": [
        "15 different vehicle type was involved"
      ],
      "metadata": {
        "id": "k3snf6WAKqTw"
      }
    },
    {
      "cell_type": "markdown",
      "source": [
        "### **Presumed Cause Column**"
      ],
      "metadata": {
        "id": "SbSy2kKVB3K9"
      }
    },
    {
      "cell_type": "code",
      "source": [
        "data['presumed_cause'].head()"
      ],
      "metadata": {
        "id": "SZArPlIxCB88",
        "colab": {
          "base_uri": "https://localhost:8080/"
        },
        "outputId": "7d7ca6bf-766a-4690-f14a-adf7bfb31fcb"
      },
      "execution_count": 167,
      "outputs": [
        {
          "output_type": "execute_result",
          "data": {
            "text/plain": [
              "0           driving under the influence of alcohol\n",
              "1                                         speeding\n",
              "2                                         speeding\n",
              "3           driving under the influence of alcohol\n",
              "4    cutting in closely by people/vehicles/animals\n",
              "Name: presumed_cause, dtype: object"
            ]
          },
          "metadata": {},
          "execution_count": 167
        }
      ]
    },
    {
      "cell_type": "code",
      "source": [
        "#checking if we have null values\n",
        "data['presumed_cause'].isnull().sum()"
      ],
      "metadata": {
        "id": "FzVUKUOpKzR6",
        "colab": {
          "base_uri": "https://localhost:8080/"
        },
        "outputId": "75cd1182-1d73-4831-e76b-5dc4732f1327"
      },
      "execution_count": 168,
      "outputs": [
        {
          "output_type": "execute_result",
          "data": {
            "text/plain": [
              "0"
            ]
          },
          "metadata": {},
          "execution_count": 168
        }
      ]
    },
    {
      "cell_type": "markdown",
      "source": [
        "**Checking the presumed cause of accident uniqueness**"
      ],
      "metadata": {
        "id": "iBMl4zmNL7Fj"
      }
    },
    {
      "cell_type": "code",
      "source": [
        "data['presumed_cause'].unique()"
      ],
      "metadata": {
        "id": "WQIG_i0sLNHg",
        "colab": {
          "base_uri": "https://localhost:8080/"
        },
        "outputId": "2df4f430-8016-4122-cf54-4b3557976b46"
      },
      "execution_count": 169,
      "outputs": [
        {
          "output_type": "execute_result",
          "data": {
            "text/plain": [
              "array(['driving under the influence of alcohol', 'speeding',\n",
              "       'cutting in closely by people/vehicles/animals',\n",
              "       'failure to yield right of way', 'failure to yield/signal',\n",
              "       'falling asleep', 'running red lights/traffic signals', 'other',\n",
              "       'unfamiliarity with the route/unskilled driving',\n",
              "       'vehicle equipment failure', 'illegal overtaking', 'tailgating',\n",
              "       'ignoring stop sign while leaving intersection',\n",
              "       'overloaded vehicle', 'insufficient light',\n",
              "       'disabled vehicle without proper signals', 'abrupt lane change',\n",
              "       'debris/obstruction on the road', 'reversing vehicle',\n",
              "       'brake/anti-lock brake system failure', 'medical condition',\n",
              "       'vehicle electrical system failure', 'driving in the wrong lane',\n",
              "       'straddling lanes', 'dangerous curve',\n",
              "       'failure to signal enter/exit parking', 'slippery road',\n",
              "       'no traffic signs', 'sudden stop',\n",
              "       'using mobile phone while driving',\n",
              "       'driving without headlights/illumination', 'worn-out/tire blowout',\n",
              "       'obstruction in sight', 'traffic light system failure',\n",
              "       'disabled vehicle without proper signals/signs', 'narrow road',\n",
              "       'turn signal system failure', 'navigation equipment failure',\n",
              "       'inadequate visibility', 'road in poor condition',\n",
              "       'ป้ายจราจรชำรุด', 'เส้นแบ่งทิศทางจราจรชำรุด',\n",
              "       'repair/construction on the road',\n",
              "       'no presumed cause related to driver', 'external disturbance',\n",
              "       'no presumed cause related to vehicle conditions',\n",
              "       'no presumed cause related to road conditions',\n",
              "       'no road divider lines', 'loss of control',\n",
              "       'using psychoactive substances', 'no traffic light system',\n",
              "       'aggressive driving/overtaking', 'internal disturbance',\n",
              "       'มึนเมาจากแอลกอฮอล์'], dtype=object)"
            ]
          },
          "metadata": {},
          "execution_count": 169
        }
      ]
    },
    {
      "cell_type": "code",
      "source": [
        "data['presumed_cause'].nunique()"
      ],
      "metadata": {
        "id": "9DeE3mwdekRt",
        "colab": {
          "base_uri": "https://localhost:8080/"
        },
        "outputId": "b6b4e24b-0037-4a91-cf3b-f29f34188b9e"
      },
      "execution_count": 170,
      "outputs": [
        {
          "output_type": "execute_result",
          "data": {
            "text/plain": [
              "54"
            ]
          },
          "metadata": {},
          "execution_count": 170
        }
      ]
    },
    {
      "cell_type": "markdown",
      "source": [
        "**We have 54 unique presumed cause of accident**"
      ],
      "metadata": {
        "id": "JDbLZwSuevfW"
      }
    },
    {
      "cell_type": "markdown",
      "source": [
        "**From the above list, we can observe that some causes are not properly represented. The text format is not well represented in english language. so it is best to change it to english**"
      ],
      "metadata": {
        "id": "lt9Xfo_PLzy6"
      }
    },
    {
      "cell_type": "markdown",
      "source": [
        "**We have 3 unique presumed causes that are not well represented**"
      ],
      "metadata": {
        "id": "_STR0aiUflts"
      }
    },
    {
      "cell_type": "code",
      "source": [
        "# Using the googletrans library to translate the Thai text to english\n",
        "!pip install googletrans==4.0.0-rc1"
      ],
      "metadata": {
        "id": "feANyXwZvQiX",
        "colab": {
          "base_uri": "https://localhost:8080/"
        },
        "outputId": "4c3f933e-ef58-4570-f7cc-1d69d91d2e5e"
      },
      "execution_count": 171,
      "outputs": [
        {
          "output_type": "stream",
          "name": "stdout",
          "text": [
            "Requirement already satisfied: googletrans==4.0.0-rc1 in /usr/local/lib/python3.10/dist-packages (4.0.0rc1)\n",
            "Requirement already satisfied: httpx==0.13.3 in /usr/local/lib/python3.10/dist-packages (from googletrans==4.0.0-rc1) (0.13.3)\n",
            "Requirement already satisfied: certifi in /usr/local/lib/python3.10/dist-packages (from httpx==0.13.3->googletrans==4.0.0-rc1) (2023.7.22)\n",
            "Requirement already satisfied: hstspreload in /usr/local/lib/python3.10/dist-packages (from httpx==0.13.3->googletrans==4.0.0-rc1) (2023.1.1)\n",
            "Requirement already satisfied: sniffio in /usr/local/lib/python3.10/dist-packages (from httpx==0.13.3->googletrans==4.0.0-rc1) (1.3.0)\n",
            "Requirement already satisfied: chardet==3.* in /usr/local/lib/python3.10/dist-packages (from httpx==0.13.3->googletrans==4.0.0-rc1) (3.0.4)\n",
            "Requirement already satisfied: idna==2.* in /usr/local/lib/python3.10/dist-packages (from httpx==0.13.3->googletrans==4.0.0-rc1) (2.10)\n",
            "Requirement already satisfied: rfc3986<2,>=1.3 in /usr/local/lib/python3.10/dist-packages (from httpx==0.13.3->googletrans==4.0.0-rc1) (1.5.0)\n",
            "Requirement already satisfied: httpcore==0.9.* in /usr/local/lib/python3.10/dist-packages (from httpx==0.13.3->googletrans==4.0.0-rc1) (0.9.1)\n",
            "Requirement already satisfied: h11<0.10,>=0.8 in /usr/local/lib/python3.10/dist-packages (from httpcore==0.9.*->httpx==0.13.3->googletrans==4.0.0-rc1) (0.9.0)\n",
            "Requirement already satisfied: h2==3.* in /usr/local/lib/python3.10/dist-packages (from httpcore==0.9.*->httpx==0.13.3->googletrans==4.0.0-rc1) (3.2.0)\n",
            "Requirement already satisfied: hyperframe<6,>=5.2.0 in /usr/local/lib/python3.10/dist-packages (from h2==3.*->httpcore==0.9.*->httpx==0.13.3->googletrans==4.0.0-rc1) (5.2.0)\n",
            "Requirement already satisfied: hpack<4,>=3.0 in /usr/local/lib/python3.10/dist-packages (from h2==3.*->httpcore==0.9.*->httpx==0.13.3->googletrans==4.0.0-rc1) (3.0.0)\n"
          ]
        }
      ]
    },
    {
      "cell_type": "code",
      "source": [
        "#importing the translator from the googletrans library.\n",
        "from googletrans import Translator\n",
        "\n",
        "# translate the language texts to english\n",
        "thai_values = ['ป้ายจราจรชำรุด', 'เส้นแบ่งทิศทางจราจรชำรุด', 'มึนเมาจากแอลกอฮอล์'\n",
        "]\n",
        "\n",
        "# Initialize the translator\n",
        "translator = Translator()\n",
        "\n",
        "# Translate Thai values to English and store in a dictionary\n",
        "translated_dict = {}\n",
        "for thai_value in thai_values:\n",
        "    translation = translator.translate(thai_value, src='th', dest='en')\n",
        "    translated_dict[thai_value] = translation.text\n",
        "\n",
        "# Print the translated dictionary\n",
        "for thai_value, english_translation in translated_dict.items():\n",
        "    print(f\"'{thai_value}': '{english_translation}'\")"
      ],
      "metadata": {
        "id": "JjfHPrlvNz6W",
        "colab": {
          "base_uri": "https://localhost:8080/"
        },
        "outputId": "2593fd7c-fac8-4f60-c125-438c5a6f2391"
      },
      "execution_count": 172,
      "outputs": [
        {
          "output_type": "stream",
          "name": "stdout",
          "text": [
            "'ป้ายจราจรชำรุด': 'Damaged traffic signs'\n",
            "'เส้นแบ่งทิศทางจราจรชำรุด': 'Damaged traffic direction'\n",
            "'มึนเมาจากแอลกอฮอล์': 'Dizzy from alcohol'\n"
          ]
        }
      ]
    },
    {
      "cell_type": "code",
      "source": [
        "# This the dictionary containing the thai and english text translation\n",
        "translated_dict"
      ],
      "metadata": {
        "id": "4W-bp9eFOX8A",
        "colab": {
          "base_uri": "https://localhost:8080/"
        },
        "outputId": "84057d6c-95c0-4a26-cd04-df512c8c6394"
      },
      "execution_count": 173,
      "outputs": [
        {
          "output_type": "execute_result",
          "data": {
            "text/plain": [
              "{'ป้ายจราจรชำรุด': 'Damaged traffic signs',\n",
              " 'เส้นแบ่งทิศทางจราจรชำรุด': 'Damaged traffic direction',\n",
              " 'มึนเมาจากแอลกอฮอล์': 'Dizzy from alcohol'}"
            ]
          },
          "metadata": {},
          "execution_count": 173
        }
      ]
    },
    {
      "cell_type": "markdown",
      "source": [
        "**Defining a function can will replace the thai text with English text**"
      ],
      "metadata": {
        "id": "uJvAbMVz4Fcl"
      }
    },
    {
      "cell_type": "code",
      "source": [
        "# define function that will replace the texts with english\n",
        "def change_lang(x):\n",
        "  if x == 'ป้ายจราจรชำรุด':\n",
        "    x = 'Damaged traffic signs'\n",
        "    return x\n",
        "  elif x == 'เส้นแบ่งทิศทางจราจรชำรุด':\n",
        "    x ='Damaged traffic direction'\n",
        "    return x\n",
        "  elif x == 'มึนเมาจากแอลกอฮอล์':\n",
        "    x ='Dizzy from alcohol'\n",
        "    return x\n",
        "  else:\n",
        "    return x"
      ],
      "metadata": {
        "id": "Q6-8V-lxxi_-"
      },
      "execution_count": 174,
      "outputs": []
    },
    {
      "cell_type": "markdown",
      "source": [
        "**Applying the function to the presumed cause column**"
      ],
      "metadata": {
        "id": "NtiPoukG8GJ4"
      }
    },
    {
      "cell_type": "code",
      "source": [
        "data['presumed_cause'] = data['presumed_cause'].apply(change_lang)"
      ],
      "metadata": {
        "id": "Zlt-F3da4ATW"
      },
      "execution_count": 175,
      "outputs": []
    },
    {
      "cell_type": "code",
      "source": [
        "# Checking if the change is applied\n",
        "data['presumed_cause'].unique()"
      ],
      "metadata": {
        "id": "WH4vt5VlysKh",
        "colab": {
          "base_uri": "https://localhost:8080/"
        },
        "outputId": "92d1eaea-3334-481c-d1a1-38a9a3ab0c1e"
      },
      "execution_count": 176,
      "outputs": [
        {
          "output_type": "execute_result",
          "data": {
            "text/plain": [
              "array(['driving under the influence of alcohol', 'speeding',\n",
              "       'cutting in closely by people/vehicles/animals',\n",
              "       'failure to yield right of way', 'failure to yield/signal',\n",
              "       'falling asleep', 'running red lights/traffic signals', 'other',\n",
              "       'unfamiliarity with the route/unskilled driving',\n",
              "       'vehicle equipment failure', 'illegal overtaking', 'tailgating',\n",
              "       'ignoring stop sign while leaving intersection',\n",
              "       'overloaded vehicle', 'insufficient light',\n",
              "       'disabled vehicle without proper signals', 'abrupt lane change',\n",
              "       'debris/obstruction on the road', 'reversing vehicle',\n",
              "       'brake/anti-lock brake system failure', 'medical condition',\n",
              "       'vehicle electrical system failure', 'driving in the wrong lane',\n",
              "       'straddling lanes', 'dangerous curve',\n",
              "       'failure to signal enter/exit parking', 'slippery road',\n",
              "       'no traffic signs', 'sudden stop',\n",
              "       'using mobile phone while driving',\n",
              "       'driving without headlights/illumination', 'worn-out/tire blowout',\n",
              "       'obstruction in sight', 'traffic light system failure',\n",
              "       'disabled vehicle without proper signals/signs', 'narrow road',\n",
              "       'turn signal system failure', 'navigation equipment failure',\n",
              "       'inadequate visibility', 'road in poor condition',\n",
              "       'Damaged traffic signs', 'Damaged traffic direction',\n",
              "       'repair/construction on the road',\n",
              "       'no presumed cause related to driver', 'external disturbance',\n",
              "       'no presumed cause related to vehicle conditions',\n",
              "       'no presumed cause related to road conditions',\n",
              "       'no road divider lines', 'loss of control',\n",
              "       'using psychoactive substances', 'no traffic light system',\n",
              "       'aggressive driving/overtaking', 'internal disturbance',\n",
              "       'Dizzy from alcohol'], dtype=object)"
            ]
          },
          "metadata": {},
          "execution_count": 176
        }
      ]
    },
    {
      "cell_type": "markdown",
      "source": [
        "**Done**"
      ],
      "metadata": {
        "id": "z8l0jUf_8rZk"
      }
    },
    {
      "cell_type": "markdown",
      "source": [
        "### **Accident Type Column**"
      ],
      "metadata": {
        "id": "U6Gjpjm5gYn1"
      }
    },
    {
      "cell_type": "markdown",
      "source": [
        "**Checking the categories or type of accident**"
      ],
      "metadata": {
        "id": "-n_j8gFjhQ2w"
      }
    },
    {
      "cell_type": "code",
      "source": [
        "data.accident_type.unique()"
      ],
      "metadata": {
        "id": "cNcBGBnag6Jl",
        "colab": {
          "base_uri": "https://localhost:8080/"
        },
        "outputId": "d1375c93-2238-4056-96eb-21b6c7226fc0"
      },
      "execution_count": 177,
      "outputs": [
        {
          "output_type": "execute_result",
          "data": {
            "text/plain": [
              "array(['other', 'rollover/fallen on straight road',\n",
              "       'head-on collision (not overtaking)',\n",
              "       'collision at intersection corner',\n",
              "       'collision with obstruction (on road surface)',\n",
              "       'rear-end collision', 'pedestrian collision',\n",
              "       'rollover/fallen on curved road', 'collision during overtaking',\n",
              "       'turning/retreating collision', 'side collision'], dtype=object)"
            ]
          },
          "metadata": {},
          "execution_count": 177
        }
      ]
    },
    {
      "cell_type": "code",
      "source": [
        "# Checking if there are null values\n",
        "data.accident_type.isnull().sum()"
      ],
      "metadata": {
        "id": "x6v_1WFPhPD2",
        "colab": {
          "base_uri": "https://localhost:8080/"
        },
        "outputId": "e018f65d-c4c9-4913-c609-248121d7105b"
      },
      "execution_count": 178,
      "outputs": [
        {
          "output_type": "execute_result",
          "data": {
            "text/plain": [
              "0"
            ]
          },
          "metadata": {},
          "execution_count": 178
        }
      ]
    },
    {
      "cell_type": "markdown",
      "source": [
        "**There are no null values**"
      ],
      "metadata": {
        "id": "AU0febjehtsa"
      }
    },
    {
      "cell_type": "markdown",
      "source": [
        "### **Number of vehicles involved Column**"
      ],
      "metadata": {
        "id": "uW7dAbsMh6o8"
      }
    },
    {
      "cell_type": "code",
      "source": [
        "data.number_of_vehicles_involved.unique()"
      ],
      "metadata": {
        "id": "YytHx5dfiDHO",
        "colab": {
          "base_uri": "https://localhost:8080/"
        },
        "outputId": "2da3e4f8-2d7a-448e-b78a-ecac53d00ade"
      },
      "execution_count": 179,
      "outputs": [
        {
          "output_type": "execute_result",
          "data": {
            "text/plain": [
              "array([ 1,  2,  3,  0,  4,  6,  5,  7, 12, 11, 10,  8,  9, 14, 19, 27, 24,\n",
              "       13])"
            ]
          },
          "metadata": {},
          "execution_count": 179
        }
      ]
    },
    {
      "cell_type": "markdown",
      "source": [
        "**range is from 0 - 27 vehicles**"
      ],
      "metadata": {
        "id": "1tPGHRH5icBW"
      }
    },
    {
      "cell_type": "code",
      "source": [
        "data.number_of_vehicles_involved.isnull().sum()"
      ],
      "metadata": {
        "id": "X8olxYfriqUF",
        "colab": {
          "base_uri": "https://localhost:8080/"
        },
        "outputId": "97f5b0d4-3068-444b-d195-5eae29196785"
      },
      "execution_count": 180,
      "outputs": [
        {
          "output_type": "execute_result",
          "data": {
            "text/plain": [
              "0"
            ]
          },
          "metadata": {},
          "execution_count": 180
        }
      ]
    },
    {
      "cell_type": "markdown",
      "source": [
        "**Also we have no null value**"
      ],
      "metadata": {
        "id": "Id7C1AHDi0EY"
      }
    },
    {
      "cell_type": "markdown",
      "source": [
        "### **number of fatalities Column**"
      ],
      "metadata": {
        "id": "VvfmS-PNi5dK"
      }
    },
    {
      "cell_type": "code",
      "source": [
        "#Checking for null values\n",
        "data.number_of_fatalities.isnull().sum()"
      ],
      "metadata": {
        "id": "zitof8qQjMCa",
        "colab": {
          "base_uri": "https://localhost:8080/"
        },
        "outputId": "51213683-0fe4-480f-adcb-f3ce67e04b3c"
      },
      "execution_count": 181,
      "outputs": [
        {
          "output_type": "execute_result",
          "data": {
            "text/plain": [
              "0"
            ]
          },
          "metadata": {},
          "execution_count": 181
        }
      ]
    },
    {
      "cell_type": "code",
      "source": [
        "#checking for the range of number of fatalities\n",
        "data.number_of_fatalities.unique()"
      ],
      "metadata": {
        "id": "pOS5aSh-jVIY",
        "colab": {
          "base_uri": "https://localhost:8080/"
        },
        "outputId": "8a0b7e11-c0a2-4ab4-c55a-8e4fb172c3c5"
      },
      "execution_count": 182,
      "outputs": [
        {
          "output_type": "execute_result",
          "data": {
            "text/plain": [
              "array([ 0,  1,  3,  2,  5,  6,  9,  4, 10,  7, 11, 13,  8])"
            ]
          },
          "metadata": {},
          "execution_count": 182
        }
      ]
    },
    {
      "cell_type": "markdown",
      "source": [
        "### **Number of injuries Column**"
      ],
      "metadata": {
        "id": "5KJJJUwajkL8"
      }
    },
    {
      "cell_type": "code",
      "source": [
        "# Checking if there is a null value\n",
        "data.number_of_injuries.isnull().sum()"
      ],
      "metadata": {
        "id": "_Z5lyKqGj0BI",
        "colab": {
          "base_uri": "https://localhost:8080/"
        },
        "outputId": "af120f9f-6fbb-4d38-9bf8-ee0f5a7e0973"
      },
      "execution_count": 183,
      "outputs": [
        {
          "output_type": "execute_result",
          "data": {
            "text/plain": [
              "0"
            ]
          },
          "metadata": {},
          "execution_count": 183
        }
      ]
    },
    {
      "cell_type": "code",
      "source": [
        "#Checking the range\n",
        "data.number_of_injuries.unique()"
      ],
      "metadata": {
        "id": "Ugo7vHjMj9wC",
        "colab": {
          "base_uri": "https://localhost:8080/"
        },
        "outputId": "938a6a2d-cd6d-4cd3-f166-4ac8ea163e0e"
      },
      "execution_count": 184,
      "outputs": [
        {
          "output_type": "execute_result",
          "data": {
            "text/plain": [
              "array([ 2,  0,  1,  5,  4,  3,  9,  7, 12, 14,  6,  8, 51, 13, 10, 11, 17,\n",
              "       15, 35, 24, 20, 21, 30, 19, 28, 32, 18, 25, 22, 16, 23, 27, 43, 42,\n",
              "       46, 31, 39, 49, 38, 44, 34])"
            ]
          },
          "metadata": {},
          "execution_count": 184
        }
      ]
    },
    {
      "cell_type": "markdown",
      "source": [
        "### **Weather condition column**"
      ],
      "metadata": {
        "id": "rDEo6joQkMl0"
      }
    },
    {
      "cell_type": "markdown",
      "source": [
        "Checking for the types of weather condition"
      ],
      "metadata": {
        "id": "VxVeXTxInFCE"
      }
    },
    {
      "cell_type": "code",
      "source": [
        "data.weather_condition.unique()"
      ],
      "metadata": {
        "id": "CtMWeIe-m_Y5",
        "colab": {
          "base_uri": "https://localhost:8080/"
        },
        "outputId": "f15c4ab9-fe4b-48f1-fd9a-0243e549db63"
      },
      "execution_count": 185,
      "outputs": [
        {
          "output_type": "execute_result",
          "data": {
            "text/plain": [
              "array(['clear', 'foggy', 'dark', 'rainy', 'other', 'natural disaster',\n",
              "       'land slide'], dtype=object)"
            ]
          },
          "metadata": {},
          "execution_count": 185
        }
      ]
    },
    {
      "cell_type": "code",
      "source": [
        "# Checking if there are null values\n",
        "data.weather_condition.isnull().sum()"
      ],
      "metadata": {
        "id": "f3W4y1a5nLNS",
        "colab": {
          "base_uri": "https://localhost:8080/"
        },
        "outputId": "228c5e08-ba85-491d-f2f2-7a6f4783cb70"
      },
      "execution_count": 186,
      "outputs": [
        {
          "output_type": "execute_result",
          "data": {
            "text/plain": [
              "0"
            ]
          },
          "metadata": {},
          "execution_count": 186
        }
      ]
    },
    {
      "cell_type": "markdown",
      "source": [
        "### **Latitude and Longitude Column**"
      ],
      "metadata": {
        "id": "7oPtI_aboTej"
      }
    },
    {
      "cell_type": "markdown",
      "source": [
        "**Checking if there are null value in the latitude and longitude column**"
      ],
      "metadata": {
        "id": "iVGgROc6-cke"
      }
    },
    {
      "cell_type": "code",
      "source": [
        "data[['latitude', 'longitude']].isnull().sum()"
      ],
      "metadata": {
        "id": "R0X8yIzn-RSo",
        "colab": {
          "base_uri": "https://localhost:8080/"
        },
        "outputId": "73166597-b34f-455d-e42c-823e3b679bc5"
      },
      "execution_count": 187,
      "outputs": [
        {
          "output_type": "execute_result",
          "data": {
            "text/plain": [
              "latitude     359\n",
              "longitude    359\n",
              "dtype: int64"
            ]
          },
          "metadata": {},
          "execution_count": 187
        }
      ]
    },
    {
      "cell_type": "markdown",
      "source": [
        "**And yes, there are null values in the columns**\n",
        "\n",
        "**There are 359 in the columns**"
      ],
      "metadata": {
        "id": "XvFpvOeG-zZC"
      }
    },
    {
      "cell_type": "code",
      "source": [
        "# Getting the count of the data will the missing information on latitide and longitude\n",
        "data.loc[(data['latitude'].isnull()) & (data['latitude'].isnull())].count()"
      ],
      "metadata": {
        "id": "EFNUdcBY_Jzr",
        "colab": {
          "base_uri": "https://localhost:8080/"
        },
        "outputId": "fa4a14f8-6fb8-458a-e41f-05189bcffc3c"
      },
      "execution_count": 188,
      "outputs": [
        {
          "output_type": "execute_result",
          "data": {
            "text/plain": [
              "acc_code                       359\n",
              "incident_datetime              359\n",
              "report_datetime                359\n",
              "province                       359\n",
              "agency                         359\n",
              "route                          359\n",
              "vehicle_type                   359\n",
              "presumed_cause                 359\n",
              "accident_type                  359\n",
              "number_of_vehicles_involved    359\n",
              "number_of_fatalities           359\n",
              "number_of_injuries             359\n",
              "weather_condition              359\n",
              "latitude                         0\n",
              "longitude                        0\n",
              "road_description               359\n",
              "slope_description              359\n",
              "dtype: int64"
            ]
          },
          "metadata": {},
          "execution_count": 188
        }
      ]
    },
    {
      "cell_type": "code",
      "source": [
        "long_lat_null = data[['province','route','latitude', 'longitude']].loc[data['latitude'].isnull()]"
      ],
      "metadata": {
        "id": "FXl29wV6As9B"
      },
      "execution_count": 189,
      "outputs": []
    },
    {
      "cell_type": "code",
      "source": [
        "long_lat_null['route'].describe()"
      ],
      "metadata": {
        "id": "sFlBSjqyB-9O",
        "colab": {
          "base_uri": "https://localhost:8080/"
        },
        "outputId": "45ce4be4-fb01-425a-a32e-5fe32f2ccca2"
      },
      "execution_count": 190,
      "outputs": [
        {
          "output_type": "execute_result",
          "data": {
            "text/plain": [
              "count                            359\n",
              "unique                            22\n",
              "top       Chaeng Watthana-Phaya Thai\n",
              "freq                              64\n",
              "Name: route, dtype: object"
            ]
          },
          "metadata": {},
          "execution_count": 190
        }
      ]
    },
    {
      "cell_type": "markdown",
      "source": [
        "**Chaeng Watthana-Phaya Thai** is the most frequently occuring route with Null value on the lat and long column occurring **64** times\n",
        "\n",
        "Also we have **22** unique routes with missing value of the long and lat"
      ],
      "metadata": {
        "id": "ANdagIFmDU3v"
      }
    },
    {
      "cell_type": "markdown",
      "source": [
        "Due to fact that the analysis is not focused on geographical location, dropping the longitude and latitude column will be ideal. And also because they contain missing values"
      ],
      "metadata": {
        "id": "fiwpWZhpEqxq"
      }
    },
    {
      "cell_type": "code",
      "source": [
        "data.drop('longitude', axis=1, inplace=True)\n",
        "data.drop('latitude', axis=1, inplace=True)"
      ],
      "metadata": {
        "id": "ALHIKA1NqNwM"
      },
      "execution_count": 191,
      "outputs": []
    },
    {
      "cell_type": "code",
      "source": [
        "data.head(3)"
      ],
      "metadata": {
        "id": "xx_Thw04GgfR",
        "colab": {
          "base_uri": "https://localhost:8080/",
          "height": 302
        },
        "outputId": "50783cf1-02be-4cb1-cfe6-ee1a959c886c"
      },
      "execution_count": 192,
      "outputs": [
        {
          "output_type": "execute_result",
          "data": {
            "text/plain": [
              "   acc_code    incident_datetime      report_datetime             province  \\\n",
              "0    571905  2019-01-01 00:00:00  2019-01-02 06:11:00               Loburi   \n",
              "1   3790870  2019-01-01 00:03:00  2020-02-20 13:48:00     Ubon Ratchathani   \n",
              "2    599075  2019-01-01 00:05:00  2019-01-01 10:35:00  Prachuap Khiri Khan   \n",
              "\n",
              "                      agency                                      route  \\\n",
              "0  department of rural roads  Highway 21 (km 31+000) - Ban Wang Phloeng   \n",
              "1     department of highways                Dej Udom - Ubon Ratchathani   \n",
              "2     department of highways                    Pranburi - Pak Nam Pran   \n",
              "\n",
              "            vehicle_type                          presumed_cause  \\\n",
              "0             motorcycle  driving under the influence of alcohol   \n",
              "1  private/passenger car                                speeding   \n",
              "2             motorcycle                                speeding   \n",
              "\n",
              "                        accident_type  number_of_vehicles_involved  \\\n",
              "0                               other                            1   \n",
              "1    rollover/fallen on straight road                            1   \n",
              "2  head-on collision (not overtaking)                            2   \n",
              "\n",
              "   number_of_fatalities  number_of_injuries weather_condition  \\\n",
              "0                     0                   2             clear   \n",
              "1                     0                   2             clear   \n",
              "2                     1                   0             clear   \n",
              "\n",
              "  road_description slope_description  \n",
              "0    straight road          no slope  \n",
              "1    straight road          no slope  \n",
              "2       wide curve        slope area  "
            ],
            "text/html": [
              "\n",
              "  <div id=\"df-1b594df1-27b2-40e7-b1b7-a258d7c7c8db\" class=\"colab-df-container\">\n",
              "    <div>\n",
              "<style scoped>\n",
              "    .dataframe tbody tr th:only-of-type {\n",
              "        vertical-align: middle;\n",
              "    }\n",
              "\n",
              "    .dataframe tbody tr th {\n",
              "        vertical-align: top;\n",
              "    }\n",
              "\n",
              "    .dataframe thead th {\n",
              "        text-align: right;\n",
              "    }\n",
              "</style>\n",
              "<table border=\"1\" class=\"dataframe\">\n",
              "  <thead>\n",
              "    <tr style=\"text-align: right;\">\n",
              "      <th></th>\n",
              "      <th>acc_code</th>\n",
              "      <th>incident_datetime</th>\n",
              "      <th>report_datetime</th>\n",
              "      <th>province</th>\n",
              "      <th>agency</th>\n",
              "      <th>route</th>\n",
              "      <th>vehicle_type</th>\n",
              "      <th>presumed_cause</th>\n",
              "      <th>accident_type</th>\n",
              "      <th>number_of_vehicles_involved</th>\n",
              "      <th>number_of_fatalities</th>\n",
              "      <th>number_of_injuries</th>\n",
              "      <th>weather_condition</th>\n",
              "      <th>road_description</th>\n",
              "      <th>slope_description</th>\n",
              "    </tr>\n",
              "  </thead>\n",
              "  <tbody>\n",
              "    <tr>\n",
              "      <th>0</th>\n",
              "      <td>571905</td>\n",
              "      <td>2019-01-01 00:00:00</td>\n",
              "      <td>2019-01-02 06:11:00</td>\n",
              "      <td>Loburi</td>\n",
              "      <td>department of rural roads</td>\n",
              "      <td>Highway 21 (km 31+000) - Ban Wang Phloeng</td>\n",
              "      <td>motorcycle</td>\n",
              "      <td>driving under the influence of alcohol</td>\n",
              "      <td>other</td>\n",
              "      <td>1</td>\n",
              "      <td>0</td>\n",
              "      <td>2</td>\n",
              "      <td>clear</td>\n",
              "      <td>straight road</td>\n",
              "      <td>no slope</td>\n",
              "    </tr>\n",
              "    <tr>\n",
              "      <th>1</th>\n",
              "      <td>3790870</td>\n",
              "      <td>2019-01-01 00:03:00</td>\n",
              "      <td>2020-02-20 13:48:00</td>\n",
              "      <td>Ubon Ratchathani</td>\n",
              "      <td>department of highways</td>\n",
              "      <td>Dej Udom - Ubon Ratchathani</td>\n",
              "      <td>private/passenger car</td>\n",
              "      <td>speeding</td>\n",
              "      <td>rollover/fallen on straight road</td>\n",
              "      <td>1</td>\n",
              "      <td>0</td>\n",
              "      <td>2</td>\n",
              "      <td>clear</td>\n",
              "      <td>straight road</td>\n",
              "      <td>no slope</td>\n",
              "    </tr>\n",
              "    <tr>\n",
              "      <th>2</th>\n",
              "      <td>599075</td>\n",
              "      <td>2019-01-01 00:05:00</td>\n",
              "      <td>2019-01-01 10:35:00</td>\n",
              "      <td>Prachuap Khiri Khan</td>\n",
              "      <td>department of highways</td>\n",
              "      <td>Pranburi - Pak Nam Pran</td>\n",
              "      <td>motorcycle</td>\n",
              "      <td>speeding</td>\n",
              "      <td>head-on collision (not overtaking)</td>\n",
              "      <td>2</td>\n",
              "      <td>1</td>\n",
              "      <td>0</td>\n",
              "      <td>clear</td>\n",
              "      <td>wide curve</td>\n",
              "      <td>slope area</td>\n",
              "    </tr>\n",
              "  </tbody>\n",
              "</table>\n",
              "</div>\n",
              "    <div class=\"colab-df-buttons\">\n",
              "\n",
              "  <div class=\"colab-df-container\">\n",
              "    <button class=\"colab-df-convert\" onclick=\"convertToInteractive('df-1b594df1-27b2-40e7-b1b7-a258d7c7c8db')\"\n",
              "            title=\"Convert this dataframe to an interactive table.\"\n",
              "            style=\"display:none;\">\n",
              "\n",
              "  <svg xmlns=\"http://www.w3.org/2000/svg\" height=\"24px\" viewBox=\"0 -960 960 960\">\n",
              "    <path d=\"M120-120v-720h720v720H120Zm60-500h600v-160H180v160Zm220 220h160v-160H400v160Zm0 220h160v-160H400v160ZM180-400h160v-160H180v160Zm440 0h160v-160H620v160ZM180-180h160v-160H180v160Zm440 0h160v-160H620v160Z\"/>\n",
              "  </svg>\n",
              "    </button>\n",
              "\n",
              "  <style>\n",
              "    .colab-df-container {\n",
              "      display:flex;\n",
              "      gap: 12px;\n",
              "    }\n",
              "\n",
              "    .colab-df-convert {\n",
              "      background-color: #E8F0FE;\n",
              "      border: none;\n",
              "      border-radius: 50%;\n",
              "      cursor: pointer;\n",
              "      display: none;\n",
              "      fill: #1967D2;\n",
              "      height: 32px;\n",
              "      padding: 0 0 0 0;\n",
              "      width: 32px;\n",
              "    }\n",
              "\n",
              "    .colab-df-convert:hover {\n",
              "      background-color: #E2EBFA;\n",
              "      box-shadow: 0px 1px 2px rgba(60, 64, 67, 0.3), 0px 1px 3px 1px rgba(60, 64, 67, 0.15);\n",
              "      fill: #174EA6;\n",
              "    }\n",
              "\n",
              "    .colab-df-buttons div {\n",
              "      margin-bottom: 4px;\n",
              "    }\n",
              "\n",
              "    [theme=dark] .colab-df-convert {\n",
              "      background-color: #3B4455;\n",
              "      fill: #D2E3FC;\n",
              "    }\n",
              "\n",
              "    [theme=dark] .colab-df-convert:hover {\n",
              "      background-color: #434B5C;\n",
              "      box-shadow: 0px 1px 3px 1px rgba(0, 0, 0, 0.15);\n",
              "      filter: drop-shadow(0px 1px 2px rgba(0, 0, 0, 0.3));\n",
              "      fill: #FFFFFF;\n",
              "    }\n",
              "  </style>\n",
              "\n",
              "    <script>\n",
              "      const buttonEl =\n",
              "        document.querySelector('#df-1b594df1-27b2-40e7-b1b7-a258d7c7c8db button.colab-df-convert');\n",
              "      buttonEl.style.display =\n",
              "        google.colab.kernel.accessAllowed ? 'block' : 'none';\n",
              "\n",
              "      async function convertToInteractive(key) {\n",
              "        const element = document.querySelector('#df-1b594df1-27b2-40e7-b1b7-a258d7c7c8db');\n",
              "        const dataTable =\n",
              "          await google.colab.kernel.invokeFunction('convertToInteractive',\n",
              "                                                    [key], {});\n",
              "        if (!dataTable) return;\n",
              "\n",
              "        const docLinkHtml = 'Like what you see? Visit the ' +\n",
              "          '<a target=\"_blank\" href=https://colab.research.google.com/notebooks/data_table.ipynb>data table notebook</a>'\n",
              "          + ' to learn more about interactive tables.';\n",
              "        element.innerHTML = '';\n",
              "        dataTable['output_type'] = 'display_data';\n",
              "        await google.colab.output.renderOutput(dataTable, element);\n",
              "        const docLink = document.createElement('div');\n",
              "        docLink.innerHTML = docLinkHtml;\n",
              "        element.appendChild(docLink);\n",
              "      }\n",
              "    </script>\n",
              "  </div>\n",
              "\n",
              "\n",
              "<div id=\"df-f8beecde-fd57-41c9-ae02-b18836000a85\">\n",
              "  <button class=\"colab-df-quickchart\" onclick=\"quickchart('df-f8beecde-fd57-41c9-ae02-b18836000a85')\"\n",
              "            title=\"Suggest charts.\"\n",
              "            style=\"display:none;\">\n",
              "\n",
              "<svg xmlns=\"http://www.w3.org/2000/svg\" height=\"24px\"viewBox=\"0 0 24 24\"\n",
              "     width=\"24px\">\n",
              "    <g>\n",
              "        <path d=\"M19 3H5c-1.1 0-2 .9-2 2v14c0 1.1.9 2 2 2h14c1.1 0 2-.9 2-2V5c0-1.1-.9-2-2-2zM9 17H7v-7h2v7zm4 0h-2V7h2v10zm4 0h-2v-4h2v4z\"/>\n",
              "    </g>\n",
              "</svg>\n",
              "  </button>\n",
              "\n",
              "<style>\n",
              "  .colab-df-quickchart {\n",
              "      --bg-color: #E8F0FE;\n",
              "      --fill-color: #1967D2;\n",
              "      --hover-bg-color: #E2EBFA;\n",
              "      --hover-fill-color: #174EA6;\n",
              "      --disabled-fill-color: #AAA;\n",
              "      --disabled-bg-color: #DDD;\n",
              "  }\n",
              "\n",
              "  [theme=dark] .colab-df-quickchart {\n",
              "      --bg-color: #3B4455;\n",
              "      --fill-color: #D2E3FC;\n",
              "      --hover-bg-color: #434B5C;\n",
              "      --hover-fill-color: #FFFFFF;\n",
              "      --disabled-bg-color: #3B4455;\n",
              "      --disabled-fill-color: #666;\n",
              "  }\n",
              "\n",
              "  .colab-df-quickchart {\n",
              "    background-color: var(--bg-color);\n",
              "    border: none;\n",
              "    border-radius: 50%;\n",
              "    cursor: pointer;\n",
              "    display: none;\n",
              "    fill: var(--fill-color);\n",
              "    height: 32px;\n",
              "    padding: 0;\n",
              "    width: 32px;\n",
              "  }\n",
              "\n",
              "  .colab-df-quickchart:hover {\n",
              "    background-color: var(--hover-bg-color);\n",
              "    box-shadow: 0 1px 2px rgba(60, 64, 67, 0.3), 0 1px 3px 1px rgba(60, 64, 67, 0.15);\n",
              "    fill: var(--button-hover-fill-color);\n",
              "  }\n",
              "\n",
              "  .colab-df-quickchart-complete:disabled,\n",
              "  .colab-df-quickchart-complete:disabled:hover {\n",
              "    background-color: var(--disabled-bg-color);\n",
              "    fill: var(--disabled-fill-color);\n",
              "    box-shadow: none;\n",
              "  }\n",
              "\n",
              "  .colab-df-spinner {\n",
              "    border: 2px solid var(--fill-color);\n",
              "    border-color: transparent;\n",
              "    border-bottom-color: var(--fill-color);\n",
              "    animation:\n",
              "      spin 1s steps(1) infinite;\n",
              "  }\n",
              "\n",
              "  @keyframes spin {\n",
              "    0% {\n",
              "      border-color: transparent;\n",
              "      border-bottom-color: var(--fill-color);\n",
              "      border-left-color: var(--fill-color);\n",
              "    }\n",
              "    20% {\n",
              "      border-color: transparent;\n",
              "      border-left-color: var(--fill-color);\n",
              "      border-top-color: var(--fill-color);\n",
              "    }\n",
              "    30% {\n",
              "      border-color: transparent;\n",
              "      border-left-color: var(--fill-color);\n",
              "      border-top-color: var(--fill-color);\n",
              "      border-right-color: var(--fill-color);\n",
              "    }\n",
              "    40% {\n",
              "      border-color: transparent;\n",
              "      border-right-color: var(--fill-color);\n",
              "      border-top-color: var(--fill-color);\n",
              "    }\n",
              "    60% {\n",
              "      border-color: transparent;\n",
              "      border-right-color: var(--fill-color);\n",
              "    }\n",
              "    80% {\n",
              "      border-color: transparent;\n",
              "      border-right-color: var(--fill-color);\n",
              "      border-bottom-color: var(--fill-color);\n",
              "    }\n",
              "    90% {\n",
              "      border-color: transparent;\n",
              "      border-bottom-color: var(--fill-color);\n",
              "    }\n",
              "  }\n",
              "</style>\n",
              "\n",
              "  <script>\n",
              "    async function quickchart(key) {\n",
              "      const quickchartButtonEl =\n",
              "        document.querySelector('#' + key + ' button');\n",
              "      quickchartButtonEl.disabled = true;  // To prevent multiple clicks.\n",
              "      quickchartButtonEl.classList.add('colab-df-spinner');\n",
              "      try {\n",
              "        const charts = await google.colab.kernel.invokeFunction(\n",
              "            'suggestCharts', [key], {});\n",
              "      } catch (error) {\n",
              "        console.error('Error during call to suggestCharts:', error);\n",
              "      }\n",
              "      quickchartButtonEl.classList.remove('colab-df-spinner');\n",
              "      quickchartButtonEl.classList.add('colab-df-quickchart-complete');\n",
              "    }\n",
              "    (() => {\n",
              "      let quickchartButtonEl =\n",
              "        document.querySelector('#df-f8beecde-fd57-41c9-ae02-b18836000a85 button');\n",
              "      quickchartButtonEl.style.display =\n",
              "        google.colab.kernel.accessAllowed ? 'block' : 'none';\n",
              "    })();\n",
              "  </script>\n",
              "</div>\n",
              "    </div>\n",
              "  </div>\n"
            ]
          },
          "metadata": {},
          "execution_count": 192
        }
      ]
    },
    {
      "cell_type": "markdown",
      "source": [
        "**Done**"
      ],
      "metadata": {
        "id": "JvUXNiXiGlQz"
      }
    },
    {
      "cell_type": "markdown",
      "source": [
        "### **Road Description Column**"
      ],
      "metadata": {
        "id": "4h2ZlJDLGzOh"
      }
    },
    {
      "cell_type": "markdown",
      "source": [
        "Checking the unique descriptions of the road"
      ],
      "metadata": {
        "id": "HVkcNinQd82Y"
      }
    },
    {
      "cell_type": "code",
      "source": [
        "data['road_description'].unique()"
      ],
      "metadata": {
        "id": "nuCBclOQHDm0",
        "colab": {
          "base_uri": "https://localhost:8080/"
        },
        "outputId": "6243ff71-17a2-4427-f7f8-67418338fc3e"
      },
      "execution_count": 193,
      "outputs": [
        {
          "output_type": "execute_result",
          "data": {
            "text/plain": [
              "array(['straight road', 'wide curve', 'other',\n",
              "       'connecting to public/commercial area', 'sharp curve',\n",
              "       'four-way intersection', 'connecting to private area',\n",
              "       't-intersection', 'y-intersection',\n",
              "       'grade-separated intersection/ramps', 'merge lane',\n",
              "       'connecting to school area', 'lane-changing area', 'u-turn area',\n",
              "       'roundabout', 'motorcycle lane', 'pedestrian path',\n",
              "       'bridge (across river/canal)',\n",
              "       'zebra crossing/pedestrian crossing'], dtype=object)"
            ]
          },
          "metadata": {},
          "execution_count": 193
        }
      ]
    },
    {
      "cell_type": "code",
      "source": [
        "# how many unique description do we have\n",
        "data['road_description'].nunique()"
      ],
      "metadata": {
        "id": "0P1io4WHdi_8",
        "colab": {
          "base_uri": "https://localhost:8080/"
        },
        "outputId": "3a1aa981-e4de-47cd-ca8d-832f740e2e43"
      },
      "execution_count": 194,
      "outputs": [
        {
          "output_type": "execute_result",
          "data": {
            "text/plain": [
              "19"
            ]
          },
          "metadata": {},
          "execution_count": 194
        }
      ]
    },
    {
      "cell_type": "markdown",
      "source": [
        "We have **19** unique description of the road"
      ],
      "metadata": {
        "id": "HuwHAZXPeO5k"
      }
    },
    {
      "cell_type": "code",
      "source": [
        "data['road_description'].isnull().sum()"
      ],
      "metadata": {
        "id": "QgCpp-bYdqDW",
        "colab": {
          "base_uri": "https://localhost:8080/"
        },
        "outputId": "0fd52f29-33eb-4428-c10b-2664039afc74"
      },
      "execution_count": 195,
      "outputs": [
        {
          "output_type": "execute_result",
          "data": {
            "text/plain": [
              "0"
            ]
          },
          "metadata": {},
          "execution_count": 195
        }
      ]
    },
    {
      "cell_type": "markdown",
      "source": [
        "There are no null values\n",
        "\n",
        "**Done**"
      ],
      "metadata": {
        "id": "g-k8o91TeaYA"
      }
    },
    {
      "cell_type": "markdown",
      "source": [
        "### **Slope Description Column**"
      ],
      "metadata": {
        "id": "zFPbdQ3SeiYQ"
      }
    },
    {
      "cell_type": "markdown",
      "source": [
        "Checking the unique descriptions of the slope"
      ],
      "metadata": {
        "id": "mZsF04PPfTB_"
      }
    },
    {
      "cell_type": "code",
      "source": [
        "data['slope_description'].unique()"
      ],
      "metadata": {
        "id": "kuBB65Kceomd",
        "colab": {
          "base_uri": "https://localhost:8080/"
        },
        "outputId": "2322e424-2398-4ab9-bd05-1ba2bd8215a8"
      },
      "execution_count": 196,
      "outputs": [
        {
          "output_type": "execute_result",
          "data": {
            "text/plain": [
              "array(['no slope', 'slope area', 'other'], dtype=object)"
            ]
          },
          "metadata": {},
          "execution_count": 196
        }
      ]
    },
    {
      "cell_type": "markdown",
      "source": [
        "There just **3** main categories for the slope description"
      ],
      "metadata": {
        "id": "dUNGInVsfgce"
      }
    },
    {
      "cell_type": "code",
      "source": [
        "data['slope_description'].isnull().sum()"
      ],
      "metadata": {
        "id": "4l_PW9cEfqNU",
        "colab": {
          "base_uri": "https://localhost:8080/"
        },
        "outputId": "835f6083-03cf-480f-8220-55ca0b12e599"
      },
      "execution_count": 197,
      "outputs": [
        {
          "output_type": "execute_result",
          "data": {
            "text/plain": [
              "0"
            ]
          },
          "metadata": {},
          "execution_count": 197
        }
      ]
    },
    {
      "cell_type": "markdown",
      "source": [
        "There are no null Values in the column.\n",
        "\n",
        "\n",
        "**Done**"
      ],
      "metadata": {
        "id": "b9cTweMIfxrz"
      }
    },
    {
      "cell_type": "markdown",
      "source": [
        "## **EXPLORATORY DATA ANALYSIS (EDA)**\n",
        "\n"
      ],
      "metadata": {
        "id": "TVvQUhPS7s73"
      }
    },
    {
      "cell_type": "markdown",
      "source": [
        "**In this section, well be analysing and exploring each column of the dataset as well as the insight we can derive from the dataset**"
      ],
      "metadata": {
        "id": "_VUO6ab699oo"
      }
    },
    {
      "cell_type": "markdown",
      "source": [
        "### **Questions for to answered through exploratory data analysis**\n",
        "**Making some questions and try to answer them by the use of data.**\n",
        "\n",
        "* <span style='color: lightgreen ; font-size: 1.5em ; font-weight: bold'>&#10003;</span> ***Which month has the highest accident record***\n",
        "* <span style='color: lightgreen ; font-size: 1.5em ; font-weight: bold'>&#10003;</span> ***which year has the highest record of accident***\n",
        "* <span style='color: lightgreen ; font-size: 1.5em ; font-weight: bold'>&#10003;</span> ***What time/season of the day is known to have the highest counts of accident***\n",
        "* <span style='color: lightgreen ; font-size: 1.5em ; font-weight: bold'>&#10003;</span> ***which agency is reponsible with the highest accident rate***\n",
        "* <span style='color: lightgreen ; font-size: 1.5em ; font-weight: bold'>&#10003;</span> ***What are the provinces with the highest number of accidents?***\n",
        "* <span style='color: lightgreen ; font-size: 1.5em ; font-weight: bold'>&#10003;</span> ***How does the number of accidents vary with the time?***\n",
        "* <span style='color: lightgreen ; font-size: 1.5em ; font-weight: bold'>&#10003;</span> ***What is the most dangerous route by province?***\n",
        "* <span style='color: lightgreen ; font-size: 1.5em ; font-weight: bold'>&#10003;</span> ***What is the most frequent type of vehicle involved in accidents?***\n",
        "* <span style='color: lightgreen ; font-size: 1.5em ; font-weight: bold'>&#10003;</span> ***Ranking of presumed causes ordered by number of accidents.***\n",
        "* <span style='color: lightgreen ; font-size: 1.5em ; font-weight: bold'>&#10003;</span> ***How do the weather conditions affect to accidents?***\n",
        "* <span style='color: lightgreen ; font-size: 1.5em ; font-weight: bold'>&#10003;</span> ***Study of the effects of road_description and slope_description.***\n",
        "* <span style='color: lightgreen ; font-size: 1.5em ; font-weight: bold'>&#10003;</span> ***How long is the delay between incident and report dates?***\n",
        "* <span style='color: lightgreen ; font-size: 1.5em ; font-weight: bold'>&#10003;</span> ***What type of vihicle is associated with the highest number of casualty***\n",
        "* <span style='color: lightgreen ; font-size: 1.5em ; font-weight: bold'>&#10003;</span>"
      ],
      "metadata": {
        "id": "Hnl_lYok9-7O"
      }
    },
    {
      "cell_type": "code",
      "source": [
        "# Checking the data set\n",
        "data.head(3)"
      ],
      "metadata": {
        "id": "-ch934jv9_78",
        "colab": {
          "base_uri": "https://localhost:8080/",
          "height": 302
        },
        "outputId": "60a16fef-ffd6-4b48-c028-484989394527"
      },
      "execution_count": 198,
      "outputs": [
        {
          "output_type": "execute_result",
          "data": {
            "text/plain": [
              "   acc_code    incident_datetime      report_datetime             province  \\\n",
              "0    571905  2019-01-01 00:00:00  2019-01-02 06:11:00               Loburi   \n",
              "1   3790870  2019-01-01 00:03:00  2020-02-20 13:48:00     Ubon Ratchathani   \n",
              "2    599075  2019-01-01 00:05:00  2019-01-01 10:35:00  Prachuap Khiri Khan   \n",
              "\n",
              "                      agency                                      route  \\\n",
              "0  department of rural roads  Highway 21 (km 31+000) - Ban Wang Phloeng   \n",
              "1     department of highways                Dej Udom - Ubon Ratchathani   \n",
              "2     department of highways                    Pranburi - Pak Nam Pran   \n",
              "\n",
              "            vehicle_type                          presumed_cause  \\\n",
              "0             motorcycle  driving under the influence of alcohol   \n",
              "1  private/passenger car                                speeding   \n",
              "2             motorcycle                                speeding   \n",
              "\n",
              "                        accident_type  number_of_vehicles_involved  \\\n",
              "0                               other                            1   \n",
              "1    rollover/fallen on straight road                            1   \n",
              "2  head-on collision (not overtaking)                            2   \n",
              "\n",
              "   number_of_fatalities  number_of_injuries weather_condition  \\\n",
              "0                     0                   2             clear   \n",
              "1                     0                   2             clear   \n",
              "2                     1                   0             clear   \n",
              "\n",
              "  road_description slope_description  \n",
              "0    straight road          no slope  \n",
              "1    straight road          no slope  \n",
              "2       wide curve        slope area  "
            ],
            "text/html": [
              "\n",
              "  <div id=\"df-ce8ae738-329c-4e4a-b4e8-63373bf27a45\" class=\"colab-df-container\">\n",
              "    <div>\n",
              "<style scoped>\n",
              "    .dataframe tbody tr th:only-of-type {\n",
              "        vertical-align: middle;\n",
              "    }\n",
              "\n",
              "    .dataframe tbody tr th {\n",
              "        vertical-align: top;\n",
              "    }\n",
              "\n",
              "    .dataframe thead th {\n",
              "        text-align: right;\n",
              "    }\n",
              "</style>\n",
              "<table border=\"1\" class=\"dataframe\">\n",
              "  <thead>\n",
              "    <tr style=\"text-align: right;\">\n",
              "      <th></th>\n",
              "      <th>acc_code</th>\n",
              "      <th>incident_datetime</th>\n",
              "      <th>report_datetime</th>\n",
              "      <th>province</th>\n",
              "      <th>agency</th>\n",
              "      <th>route</th>\n",
              "      <th>vehicle_type</th>\n",
              "      <th>presumed_cause</th>\n",
              "      <th>accident_type</th>\n",
              "      <th>number_of_vehicles_involved</th>\n",
              "      <th>number_of_fatalities</th>\n",
              "      <th>number_of_injuries</th>\n",
              "      <th>weather_condition</th>\n",
              "      <th>road_description</th>\n",
              "      <th>slope_description</th>\n",
              "    </tr>\n",
              "  </thead>\n",
              "  <tbody>\n",
              "    <tr>\n",
              "      <th>0</th>\n",
              "      <td>571905</td>\n",
              "      <td>2019-01-01 00:00:00</td>\n",
              "      <td>2019-01-02 06:11:00</td>\n",
              "      <td>Loburi</td>\n",
              "      <td>department of rural roads</td>\n",
              "      <td>Highway 21 (km 31+000) - Ban Wang Phloeng</td>\n",
              "      <td>motorcycle</td>\n",
              "      <td>driving under the influence of alcohol</td>\n",
              "      <td>other</td>\n",
              "      <td>1</td>\n",
              "      <td>0</td>\n",
              "      <td>2</td>\n",
              "      <td>clear</td>\n",
              "      <td>straight road</td>\n",
              "      <td>no slope</td>\n",
              "    </tr>\n",
              "    <tr>\n",
              "      <th>1</th>\n",
              "      <td>3790870</td>\n",
              "      <td>2019-01-01 00:03:00</td>\n",
              "      <td>2020-02-20 13:48:00</td>\n",
              "      <td>Ubon Ratchathani</td>\n",
              "      <td>department of highways</td>\n",
              "      <td>Dej Udom - Ubon Ratchathani</td>\n",
              "      <td>private/passenger car</td>\n",
              "      <td>speeding</td>\n",
              "      <td>rollover/fallen on straight road</td>\n",
              "      <td>1</td>\n",
              "      <td>0</td>\n",
              "      <td>2</td>\n",
              "      <td>clear</td>\n",
              "      <td>straight road</td>\n",
              "      <td>no slope</td>\n",
              "    </tr>\n",
              "    <tr>\n",
              "      <th>2</th>\n",
              "      <td>599075</td>\n",
              "      <td>2019-01-01 00:05:00</td>\n",
              "      <td>2019-01-01 10:35:00</td>\n",
              "      <td>Prachuap Khiri Khan</td>\n",
              "      <td>department of highways</td>\n",
              "      <td>Pranburi - Pak Nam Pran</td>\n",
              "      <td>motorcycle</td>\n",
              "      <td>speeding</td>\n",
              "      <td>head-on collision (not overtaking)</td>\n",
              "      <td>2</td>\n",
              "      <td>1</td>\n",
              "      <td>0</td>\n",
              "      <td>clear</td>\n",
              "      <td>wide curve</td>\n",
              "      <td>slope area</td>\n",
              "    </tr>\n",
              "  </tbody>\n",
              "</table>\n",
              "</div>\n",
              "    <div class=\"colab-df-buttons\">\n",
              "\n",
              "  <div class=\"colab-df-container\">\n",
              "    <button class=\"colab-df-convert\" onclick=\"convertToInteractive('df-ce8ae738-329c-4e4a-b4e8-63373bf27a45')\"\n",
              "            title=\"Convert this dataframe to an interactive table.\"\n",
              "            style=\"display:none;\">\n",
              "\n",
              "  <svg xmlns=\"http://www.w3.org/2000/svg\" height=\"24px\" viewBox=\"0 -960 960 960\">\n",
              "    <path d=\"M120-120v-720h720v720H120Zm60-500h600v-160H180v160Zm220 220h160v-160H400v160Zm0 220h160v-160H400v160ZM180-400h160v-160H180v160Zm440 0h160v-160H620v160ZM180-180h160v-160H180v160Zm440 0h160v-160H620v160Z\"/>\n",
              "  </svg>\n",
              "    </button>\n",
              "\n",
              "  <style>\n",
              "    .colab-df-container {\n",
              "      display:flex;\n",
              "      gap: 12px;\n",
              "    }\n",
              "\n",
              "    .colab-df-convert {\n",
              "      background-color: #E8F0FE;\n",
              "      border: none;\n",
              "      border-radius: 50%;\n",
              "      cursor: pointer;\n",
              "      display: none;\n",
              "      fill: #1967D2;\n",
              "      height: 32px;\n",
              "      padding: 0 0 0 0;\n",
              "      width: 32px;\n",
              "    }\n",
              "\n",
              "    .colab-df-convert:hover {\n",
              "      background-color: #E2EBFA;\n",
              "      box-shadow: 0px 1px 2px rgba(60, 64, 67, 0.3), 0px 1px 3px 1px rgba(60, 64, 67, 0.15);\n",
              "      fill: #174EA6;\n",
              "    }\n",
              "\n",
              "    .colab-df-buttons div {\n",
              "      margin-bottom: 4px;\n",
              "    }\n",
              "\n",
              "    [theme=dark] .colab-df-convert {\n",
              "      background-color: #3B4455;\n",
              "      fill: #D2E3FC;\n",
              "    }\n",
              "\n",
              "    [theme=dark] .colab-df-convert:hover {\n",
              "      background-color: #434B5C;\n",
              "      box-shadow: 0px 1px 3px 1px rgba(0, 0, 0, 0.15);\n",
              "      filter: drop-shadow(0px 1px 2px rgba(0, 0, 0, 0.3));\n",
              "      fill: #FFFFFF;\n",
              "    }\n",
              "  </style>\n",
              "\n",
              "    <script>\n",
              "      const buttonEl =\n",
              "        document.querySelector('#df-ce8ae738-329c-4e4a-b4e8-63373bf27a45 button.colab-df-convert');\n",
              "      buttonEl.style.display =\n",
              "        google.colab.kernel.accessAllowed ? 'block' : 'none';\n",
              "\n",
              "      async function convertToInteractive(key) {\n",
              "        const element = document.querySelector('#df-ce8ae738-329c-4e4a-b4e8-63373bf27a45');\n",
              "        const dataTable =\n",
              "          await google.colab.kernel.invokeFunction('convertToInteractive',\n",
              "                                                    [key], {});\n",
              "        if (!dataTable) return;\n",
              "\n",
              "        const docLinkHtml = 'Like what you see? Visit the ' +\n",
              "          '<a target=\"_blank\" href=https://colab.research.google.com/notebooks/data_table.ipynb>data table notebook</a>'\n",
              "          + ' to learn more about interactive tables.';\n",
              "        element.innerHTML = '';\n",
              "        dataTable['output_type'] = 'display_data';\n",
              "        await google.colab.output.renderOutput(dataTable, element);\n",
              "        const docLink = document.createElement('div');\n",
              "        docLink.innerHTML = docLinkHtml;\n",
              "        element.appendChild(docLink);\n",
              "      }\n",
              "    </script>\n",
              "  </div>\n",
              "\n",
              "\n",
              "<div id=\"df-0e02a105-a01f-401e-99af-b8ae3fbd586f\">\n",
              "  <button class=\"colab-df-quickchart\" onclick=\"quickchart('df-0e02a105-a01f-401e-99af-b8ae3fbd586f')\"\n",
              "            title=\"Suggest charts.\"\n",
              "            style=\"display:none;\">\n",
              "\n",
              "<svg xmlns=\"http://www.w3.org/2000/svg\" height=\"24px\"viewBox=\"0 0 24 24\"\n",
              "     width=\"24px\">\n",
              "    <g>\n",
              "        <path d=\"M19 3H5c-1.1 0-2 .9-2 2v14c0 1.1.9 2 2 2h14c1.1 0 2-.9 2-2V5c0-1.1-.9-2-2-2zM9 17H7v-7h2v7zm4 0h-2V7h2v10zm4 0h-2v-4h2v4z\"/>\n",
              "    </g>\n",
              "</svg>\n",
              "  </button>\n",
              "\n",
              "<style>\n",
              "  .colab-df-quickchart {\n",
              "      --bg-color: #E8F0FE;\n",
              "      --fill-color: #1967D2;\n",
              "      --hover-bg-color: #E2EBFA;\n",
              "      --hover-fill-color: #174EA6;\n",
              "      --disabled-fill-color: #AAA;\n",
              "      --disabled-bg-color: #DDD;\n",
              "  }\n",
              "\n",
              "  [theme=dark] .colab-df-quickchart {\n",
              "      --bg-color: #3B4455;\n",
              "      --fill-color: #D2E3FC;\n",
              "      --hover-bg-color: #434B5C;\n",
              "      --hover-fill-color: #FFFFFF;\n",
              "      --disabled-bg-color: #3B4455;\n",
              "      --disabled-fill-color: #666;\n",
              "  }\n",
              "\n",
              "  .colab-df-quickchart {\n",
              "    background-color: var(--bg-color);\n",
              "    border: none;\n",
              "    border-radius: 50%;\n",
              "    cursor: pointer;\n",
              "    display: none;\n",
              "    fill: var(--fill-color);\n",
              "    height: 32px;\n",
              "    padding: 0;\n",
              "    width: 32px;\n",
              "  }\n",
              "\n",
              "  .colab-df-quickchart:hover {\n",
              "    background-color: var(--hover-bg-color);\n",
              "    box-shadow: 0 1px 2px rgba(60, 64, 67, 0.3), 0 1px 3px 1px rgba(60, 64, 67, 0.15);\n",
              "    fill: var(--button-hover-fill-color);\n",
              "  }\n",
              "\n",
              "  .colab-df-quickchart-complete:disabled,\n",
              "  .colab-df-quickchart-complete:disabled:hover {\n",
              "    background-color: var(--disabled-bg-color);\n",
              "    fill: var(--disabled-fill-color);\n",
              "    box-shadow: none;\n",
              "  }\n",
              "\n",
              "  .colab-df-spinner {\n",
              "    border: 2px solid var(--fill-color);\n",
              "    border-color: transparent;\n",
              "    border-bottom-color: var(--fill-color);\n",
              "    animation:\n",
              "      spin 1s steps(1) infinite;\n",
              "  }\n",
              "\n",
              "  @keyframes spin {\n",
              "    0% {\n",
              "      border-color: transparent;\n",
              "      border-bottom-color: var(--fill-color);\n",
              "      border-left-color: var(--fill-color);\n",
              "    }\n",
              "    20% {\n",
              "      border-color: transparent;\n",
              "      border-left-color: var(--fill-color);\n",
              "      border-top-color: var(--fill-color);\n",
              "    }\n",
              "    30% {\n",
              "      border-color: transparent;\n",
              "      border-left-color: var(--fill-color);\n",
              "      border-top-color: var(--fill-color);\n",
              "      border-right-color: var(--fill-color);\n",
              "    }\n",
              "    40% {\n",
              "      border-color: transparent;\n",
              "      border-right-color: var(--fill-color);\n",
              "      border-top-color: var(--fill-color);\n",
              "    }\n",
              "    60% {\n",
              "      border-color: transparent;\n",
              "      border-right-color: var(--fill-color);\n",
              "    }\n",
              "    80% {\n",
              "      border-color: transparent;\n",
              "      border-right-color: var(--fill-color);\n",
              "      border-bottom-color: var(--fill-color);\n",
              "    }\n",
              "    90% {\n",
              "      border-color: transparent;\n",
              "      border-bottom-color: var(--fill-color);\n",
              "    }\n",
              "  }\n",
              "</style>\n",
              "\n",
              "  <script>\n",
              "    async function quickchart(key) {\n",
              "      const quickchartButtonEl =\n",
              "        document.querySelector('#' + key + ' button');\n",
              "      quickchartButtonEl.disabled = true;  // To prevent multiple clicks.\n",
              "      quickchartButtonEl.classList.add('colab-df-spinner');\n",
              "      try {\n",
              "        const charts = await google.colab.kernel.invokeFunction(\n",
              "            'suggestCharts', [key], {});\n",
              "      } catch (error) {\n",
              "        console.error('Error during call to suggestCharts:', error);\n",
              "      }\n",
              "      quickchartButtonEl.classList.remove('colab-df-spinner');\n",
              "      quickchartButtonEl.classList.add('colab-df-quickchart-complete');\n",
              "    }\n",
              "    (() => {\n",
              "      let quickchartButtonEl =\n",
              "        document.querySelector('#df-0e02a105-a01f-401e-99af-b8ae3fbd586f button');\n",
              "      quickchartButtonEl.style.display =\n",
              "        google.colab.kernel.accessAllowed ? 'block' : 'none';\n",
              "    })();\n",
              "  </script>\n",
              "</div>\n",
              "    </div>\n",
              "  </div>\n"
            ]
          },
          "metadata": {},
          "execution_count": 198
        }
      ]
    },
    {
      "cell_type": "code",
      "source": [
        "# extracting only the years\n",
        "year = data['incident_datetime'].str[:4]\n",
        "year"
      ],
      "metadata": {
        "id": "HcsPLQto-ASz",
        "colab": {
          "base_uri": "https://localhost:8080/"
        },
        "outputId": "f9c4c096-6cf7-4cad-aa2e-31a173c601ed"
      },
      "execution_count": 200,
      "outputs": [
        {
          "output_type": "execute_result",
          "data": {
            "text/plain": [
              "0        2019\n",
              "1        2019\n",
              "2        2019\n",
              "3        2019\n",
              "4        2019\n",
              "         ... \n",
              "81730    2022\n",
              "81731    2022\n",
              "81732    2022\n",
              "81733    2022\n",
              "81734    2022\n",
              "Name: incident_datetime, Length: 81735, dtype: object"
            ]
          },
          "metadata": {},
          "execution_count": 200
        }
      ]
    },
    {
      "cell_type": "code",
      "source": [
        "year.unique()"
      ],
      "metadata": {
        "id": "FhyylrPM-AdD",
        "colab": {
          "base_uri": "https://localhost:8080/"
        },
        "outputId": "0ae61e02-c82d-4935-bd84-db0694e503fd"
      },
      "execution_count": 201,
      "outputs": [
        {
          "output_type": "execute_result",
          "data": {
            "text/plain": [
              "array(['2019', '2020', '2021', '2022'], dtype=object)"
            ]
          },
          "metadata": {},
          "execution_count": 201
        }
      ]
    },
    {
      "cell_type": "markdown",
      "source": [
        "<span style='color: lightgreen ; font-size: 1.5em ; font-weight: bold'>&#10003;</span> **We can observe that the record of the accidents was from 2019 to 2022**"
      ],
      "metadata": {
        "id": "uVGZsU_VFt7E"
      }
    },
    {
      "cell_type": "code",
      "source": [
        "# checking how the year with the most record of accident\n",
        "year_rec = year.value_counts().to_frame()\n",
        "year_rec"
      ],
      "metadata": {
        "id": "9zxr6URBGk3Q",
        "colab": {
          "base_uri": "https://localhost:8080/",
          "height": 175
        },
        "outputId": "0782ac27-4ed2-424c-8833-9abcf9c5a83d"
      },
      "execution_count": 202,
      "outputs": [
        {
          "output_type": "execute_result",
          "data": {
            "text/plain": [
              "      incident_datetime\n",
              "2020              21052\n",
              "2022              21032\n",
              "2021              20457\n",
              "2019              19194"
            ],
            "text/html": [
              "\n",
              "  <div id=\"df-563d1745-0fa4-49a5-8002-02fe5bce6859\" class=\"colab-df-container\">\n",
              "    <div>\n",
              "<style scoped>\n",
              "    .dataframe tbody tr th:only-of-type {\n",
              "        vertical-align: middle;\n",
              "    }\n",
              "\n",
              "    .dataframe tbody tr th {\n",
              "        vertical-align: top;\n",
              "    }\n",
              "\n",
              "    .dataframe thead th {\n",
              "        text-align: right;\n",
              "    }\n",
              "</style>\n",
              "<table border=\"1\" class=\"dataframe\">\n",
              "  <thead>\n",
              "    <tr style=\"text-align: right;\">\n",
              "      <th></th>\n",
              "      <th>incident_datetime</th>\n",
              "    </tr>\n",
              "  </thead>\n",
              "  <tbody>\n",
              "    <tr>\n",
              "      <th>2020</th>\n",
              "      <td>21052</td>\n",
              "    </tr>\n",
              "    <tr>\n",
              "      <th>2022</th>\n",
              "      <td>21032</td>\n",
              "    </tr>\n",
              "    <tr>\n",
              "      <th>2021</th>\n",
              "      <td>20457</td>\n",
              "    </tr>\n",
              "    <tr>\n",
              "      <th>2019</th>\n",
              "      <td>19194</td>\n",
              "    </tr>\n",
              "  </tbody>\n",
              "</table>\n",
              "</div>\n",
              "    <div class=\"colab-df-buttons\">\n",
              "\n",
              "  <div class=\"colab-df-container\">\n",
              "    <button class=\"colab-df-convert\" onclick=\"convertToInteractive('df-563d1745-0fa4-49a5-8002-02fe5bce6859')\"\n",
              "            title=\"Convert this dataframe to an interactive table.\"\n",
              "            style=\"display:none;\">\n",
              "\n",
              "  <svg xmlns=\"http://www.w3.org/2000/svg\" height=\"24px\" viewBox=\"0 -960 960 960\">\n",
              "    <path d=\"M120-120v-720h720v720H120Zm60-500h600v-160H180v160Zm220 220h160v-160H400v160Zm0 220h160v-160H400v160ZM180-400h160v-160H180v160Zm440 0h160v-160H620v160ZM180-180h160v-160H180v160Zm440 0h160v-160H620v160Z\"/>\n",
              "  </svg>\n",
              "    </button>\n",
              "\n",
              "  <style>\n",
              "    .colab-df-container {\n",
              "      display:flex;\n",
              "      gap: 12px;\n",
              "    }\n",
              "\n",
              "    .colab-df-convert {\n",
              "      background-color: #E8F0FE;\n",
              "      border: none;\n",
              "      border-radius: 50%;\n",
              "      cursor: pointer;\n",
              "      display: none;\n",
              "      fill: #1967D2;\n",
              "      height: 32px;\n",
              "      padding: 0 0 0 0;\n",
              "      width: 32px;\n",
              "    }\n",
              "\n",
              "    .colab-df-convert:hover {\n",
              "      background-color: #E2EBFA;\n",
              "      box-shadow: 0px 1px 2px rgba(60, 64, 67, 0.3), 0px 1px 3px 1px rgba(60, 64, 67, 0.15);\n",
              "      fill: #174EA6;\n",
              "    }\n",
              "\n",
              "    .colab-df-buttons div {\n",
              "      margin-bottom: 4px;\n",
              "    }\n",
              "\n",
              "    [theme=dark] .colab-df-convert {\n",
              "      background-color: #3B4455;\n",
              "      fill: #D2E3FC;\n",
              "    }\n",
              "\n",
              "    [theme=dark] .colab-df-convert:hover {\n",
              "      background-color: #434B5C;\n",
              "      box-shadow: 0px 1px 3px 1px rgba(0, 0, 0, 0.15);\n",
              "      filter: drop-shadow(0px 1px 2px rgba(0, 0, 0, 0.3));\n",
              "      fill: #FFFFFF;\n",
              "    }\n",
              "  </style>\n",
              "\n",
              "    <script>\n",
              "      const buttonEl =\n",
              "        document.querySelector('#df-563d1745-0fa4-49a5-8002-02fe5bce6859 button.colab-df-convert');\n",
              "      buttonEl.style.display =\n",
              "        google.colab.kernel.accessAllowed ? 'block' : 'none';\n",
              "\n",
              "      async function convertToInteractive(key) {\n",
              "        const element = document.querySelector('#df-563d1745-0fa4-49a5-8002-02fe5bce6859');\n",
              "        const dataTable =\n",
              "          await google.colab.kernel.invokeFunction('convertToInteractive',\n",
              "                                                    [key], {});\n",
              "        if (!dataTable) return;\n",
              "\n",
              "        const docLinkHtml = 'Like what you see? Visit the ' +\n",
              "          '<a target=\"_blank\" href=https://colab.research.google.com/notebooks/data_table.ipynb>data table notebook</a>'\n",
              "          + ' to learn more about interactive tables.';\n",
              "        element.innerHTML = '';\n",
              "        dataTable['output_type'] = 'display_data';\n",
              "        await google.colab.output.renderOutput(dataTable, element);\n",
              "        const docLink = document.createElement('div');\n",
              "        docLink.innerHTML = docLinkHtml;\n",
              "        element.appendChild(docLink);\n",
              "      }\n",
              "    </script>\n",
              "  </div>\n",
              "\n",
              "\n",
              "<div id=\"df-9db76b5e-e2cf-4542-8431-fda5cd975bbe\">\n",
              "  <button class=\"colab-df-quickchart\" onclick=\"quickchart('df-9db76b5e-e2cf-4542-8431-fda5cd975bbe')\"\n",
              "            title=\"Suggest charts.\"\n",
              "            style=\"display:none;\">\n",
              "\n",
              "<svg xmlns=\"http://www.w3.org/2000/svg\" height=\"24px\"viewBox=\"0 0 24 24\"\n",
              "     width=\"24px\">\n",
              "    <g>\n",
              "        <path d=\"M19 3H5c-1.1 0-2 .9-2 2v14c0 1.1.9 2 2 2h14c1.1 0 2-.9 2-2V5c0-1.1-.9-2-2-2zM9 17H7v-7h2v7zm4 0h-2V7h2v10zm4 0h-2v-4h2v4z\"/>\n",
              "    </g>\n",
              "</svg>\n",
              "  </button>\n",
              "\n",
              "<style>\n",
              "  .colab-df-quickchart {\n",
              "      --bg-color: #E8F0FE;\n",
              "      --fill-color: #1967D2;\n",
              "      --hover-bg-color: #E2EBFA;\n",
              "      --hover-fill-color: #174EA6;\n",
              "      --disabled-fill-color: #AAA;\n",
              "      --disabled-bg-color: #DDD;\n",
              "  }\n",
              "\n",
              "  [theme=dark] .colab-df-quickchart {\n",
              "      --bg-color: #3B4455;\n",
              "      --fill-color: #D2E3FC;\n",
              "      --hover-bg-color: #434B5C;\n",
              "      --hover-fill-color: #FFFFFF;\n",
              "      --disabled-bg-color: #3B4455;\n",
              "      --disabled-fill-color: #666;\n",
              "  }\n",
              "\n",
              "  .colab-df-quickchart {\n",
              "    background-color: var(--bg-color);\n",
              "    border: none;\n",
              "    border-radius: 50%;\n",
              "    cursor: pointer;\n",
              "    display: none;\n",
              "    fill: var(--fill-color);\n",
              "    height: 32px;\n",
              "    padding: 0;\n",
              "    width: 32px;\n",
              "  }\n",
              "\n",
              "  .colab-df-quickchart:hover {\n",
              "    background-color: var(--hover-bg-color);\n",
              "    box-shadow: 0 1px 2px rgba(60, 64, 67, 0.3), 0 1px 3px 1px rgba(60, 64, 67, 0.15);\n",
              "    fill: var(--button-hover-fill-color);\n",
              "  }\n",
              "\n",
              "  .colab-df-quickchart-complete:disabled,\n",
              "  .colab-df-quickchart-complete:disabled:hover {\n",
              "    background-color: var(--disabled-bg-color);\n",
              "    fill: var(--disabled-fill-color);\n",
              "    box-shadow: none;\n",
              "  }\n",
              "\n",
              "  .colab-df-spinner {\n",
              "    border: 2px solid var(--fill-color);\n",
              "    border-color: transparent;\n",
              "    border-bottom-color: var(--fill-color);\n",
              "    animation:\n",
              "      spin 1s steps(1) infinite;\n",
              "  }\n",
              "\n",
              "  @keyframes spin {\n",
              "    0% {\n",
              "      border-color: transparent;\n",
              "      border-bottom-color: var(--fill-color);\n",
              "      border-left-color: var(--fill-color);\n",
              "    }\n",
              "    20% {\n",
              "      border-color: transparent;\n",
              "      border-left-color: var(--fill-color);\n",
              "      border-top-color: var(--fill-color);\n",
              "    }\n",
              "    30% {\n",
              "      border-color: transparent;\n",
              "      border-left-color: var(--fill-color);\n",
              "      border-top-color: var(--fill-color);\n",
              "      border-right-color: var(--fill-color);\n",
              "    }\n",
              "    40% {\n",
              "      border-color: transparent;\n",
              "      border-right-color: var(--fill-color);\n",
              "      border-top-color: var(--fill-color);\n",
              "    }\n",
              "    60% {\n",
              "      border-color: transparent;\n",
              "      border-right-color: var(--fill-color);\n",
              "    }\n",
              "    80% {\n",
              "      border-color: transparent;\n",
              "      border-right-color: var(--fill-color);\n",
              "      border-bottom-color: var(--fill-color);\n",
              "    }\n",
              "    90% {\n",
              "      border-color: transparent;\n",
              "      border-bottom-color: var(--fill-color);\n",
              "    }\n",
              "  }\n",
              "</style>\n",
              "\n",
              "  <script>\n",
              "    async function quickchart(key) {\n",
              "      const quickchartButtonEl =\n",
              "        document.querySelector('#' + key + ' button');\n",
              "      quickchartButtonEl.disabled = true;  // To prevent multiple clicks.\n",
              "      quickchartButtonEl.classList.add('colab-df-spinner');\n",
              "      try {\n",
              "        const charts = await google.colab.kernel.invokeFunction(\n",
              "            'suggestCharts', [key], {});\n",
              "      } catch (error) {\n",
              "        console.error('Error during call to suggestCharts:', error);\n",
              "      }\n",
              "      quickchartButtonEl.classList.remove('colab-df-spinner');\n",
              "      quickchartButtonEl.classList.add('colab-df-quickchart-complete');\n",
              "    }\n",
              "    (() => {\n",
              "      let quickchartButtonEl =\n",
              "        document.querySelector('#df-9db76b5e-e2cf-4542-8431-fda5cd975bbe button');\n",
              "      quickchartButtonEl.style.display =\n",
              "        google.colab.kernel.accessAllowed ? 'block' : 'none';\n",
              "    })();\n",
              "  </script>\n",
              "</div>\n",
              "    </div>\n",
              "  </div>\n"
            ]
          },
          "metadata": {},
          "execution_count": 202
        }
      ]
    },
    {
      "cell_type": "markdown",
      "source": [
        "<span style='color: lightgreen ; font-size: 1.5em ; font-weight: bold'>&#10003;</span> **From the analysis, year 2020 has the highest record of accident rate of 21052 out of 81735**\n",
        "\n",
        "**year 2019 has the lowest record of accident rate of 19194 out of 81735**"
      ],
      "metadata": {
        "id": "5ZA-v36rGEGo"
      }
    },
    {
      "cell_type": "markdown",
      "source": [
        "Extracting the month values from the dataseet"
      ],
      "metadata": {
        "id": "rzAMWaxvJ3SK"
      }
    },
    {
      "cell_type": "code",
      "source": [
        "#extracting the month from the dataset\n",
        "incident_month = data['incident_datetime'].str[5:7].astype(int)\n",
        "incident_month.head()"
      ],
      "metadata": {
        "id": "3gswdV7o-AtA",
        "colab": {
          "base_uri": "https://localhost:8080/"
        },
        "outputId": "ee8e4421-6b01-4f61-de02-94f1e8880c06"
      },
      "execution_count": 204,
      "outputs": [
        {
          "output_type": "execute_result",
          "data": {
            "text/plain": [
              "0    1\n",
              "1    1\n",
              "2    1\n",
              "3    1\n",
              "4    1\n",
              "Name: incident_datetime, dtype: int64"
            ]
          },
          "metadata": {},
          "execution_count": 204
        }
      ]
    },
    {
      "cell_type": "markdown",
      "source": [
        "creating the dictionary that indicate what month the values represent"
      ],
      "metadata": {
        "id": "Xzmsr_2JJ_xb"
      }
    },
    {
      "cell_type": "code",
      "source": [
        "month_dico = {1:'January', 2:'February', 3:'March', 4:'April', 5:'May', 6:'June', 7:'July',\n",
        "              8:'August', 9:'September', 10:'October', 11:'November', 12:'December'}"
      ],
      "metadata": {
        "id": "5ZbKlThm-A0R"
      },
      "execution_count": 205,
      "outputs": []
    },
    {
      "cell_type": "markdown",
      "source": [
        "replacing the values with the actual month name."
      ],
      "metadata": {
        "id": "z6B6ReJHKZwQ"
      }
    },
    {
      "cell_type": "code",
      "source": [
        "# replacing the values with the month name\n",
        "incident_month.replace(month_dico, inplace=True)\n",
        "\n",
        "#Checking if the change is applied\n",
        "incident_month.head()"
      ],
      "metadata": {
        "id": "c3IzI3UO_QZr",
        "colab": {
          "base_uri": "https://localhost:8080/"
        },
        "outputId": "099ec096-8387-4c3d-f040-b37d93f70f98"
      },
      "execution_count": 206,
      "outputs": [
        {
          "output_type": "execute_result",
          "data": {
            "text/plain": [
              "0    January\n",
              "1    January\n",
              "2    January\n",
              "3    January\n",
              "4    January\n",
              "Name: incident_datetime, dtype: object"
            ]
          },
          "metadata": {},
          "execution_count": 206
        }
      ]
    },
    {
      "cell_type": "markdown",
      "source": [
        "checking for which month has the highest record of accidents..\n",
        "We can get insight from this. Why the accident rate is high for that particular month"
      ],
      "metadata": {
        "id": "UbeyxBd-LL-Y"
      }
    },
    {
      "cell_type": "code",
      "source": [
        "month_rec = incident_month.value_counts().to_frame()\n",
        "month_rec"
      ],
      "metadata": {
        "id": "q8yNCXXgAybW",
        "colab": {
          "base_uri": "https://localhost:8080/",
          "height": 425
        },
        "outputId": "109ae9dd-eb6a-40cf-9a65-7bd09340dd7e"
      },
      "execution_count": 207,
      "outputs": [
        {
          "output_type": "execute_result",
          "data": {
            "text/plain": [
              "           incident_datetime\n",
              "December                9657\n",
              "April                   9434\n",
              "January                 8516\n",
              "March                   6503\n",
              "October                 6332\n",
              "July                    6282\n",
              "November                6133\n",
              "February                6030\n",
              "September               5856\n",
              "May                     5794\n",
              "August                  5787\n",
              "June                    5411"
            ],
            "text/html": [
              "\n",
              "  <div id=\"df-264a6f2e-1525-4f82-9545-1328c73a02f4\" class=\"colab-df-container\">\n",
              "    <div>\n",
              "<style scoped>\n",
              "    .dataframe tbody tr th:only-of-type {\n",
              "        vertical-align: middle;\n",
              "    }\n",
              "\n",
              "    .dataframe tbody tr th {\n",
              "        vertical-align: top;\n",
              "    }\n",
              "\n",
              "    .dataframe thead th {\n",
              "        text-align: right;\n",
              "    }\n",
              "</style>\n",
              "<table border=\"1\" class=\"dataframe\">\n",
              "  <thead>\n",
              "    <tr style=\"text-align: right;\">\n",
              "      <th></th>\n",
              "      <th>incident_datetime</th>\n",
              "    </tr>\n",
              "  </thead>\n",
              "  <tbody>\n",
              "    <tr>\n",
              "      <th>December</th>\n",
              "      <td>9657</td>\n",
              "    </tr>\n",
              "    <tr>\n",
              "      <th>April</th>\n",
              "      <td>9434</td>\n",
              "    </tr>\n",
              "    <tr>\n",
              "      <th>January</th>\n",
              "      <td>8516</td>\n",
              "    </tr>\n",
              "    <tr>\n",
              "      <th>March</th>\n",
              "      <td>6503</td>\n",
              "    </tr>\n",
              "    <tr>\n",
              "      <th>October</th>\n",
              "      <td>6332</td>\n",
              "    </tr>\n",
              "    <tr>\n",
              "      <th>July</th>\n",
              "      <td>6282</td>\n",
              "    </tr>\n",
              "    <tr>\n",
              "      <th>November</th>\n",
              "      <td>6133</td>\n",
              "    </tr>\n",
              "    <tr>\n",
              "      <th>February</th>\n",
              "      <td>6030</td>\n",
              "    </tr>\n",
              "    <tr>\n",
              "      <th>September</th>\n",
              "      <td>5856</td>\n",
              "    </tr>\n",
              "    <tr>\n",
              "      <th>May</th>\n",
              "      <td>5794</td>\n",
              "    </tr>\n",
              "    <tr>\n",
              "      <th>August</th>\n",
              "      <td>5787</td>\n",
              "    </tr>\n",
              "    <tr>\n",
              "      <th>June</th>\n",
              "      <td>5411</td>\n",
              "    </tr>\n",
              "  </tbody>\n",
              "</table>\n",
              "</div>\n",
              "    <div class=\"colab-df-buttons\">\n",
              "\n",
              "  <div class=\"colab-df-container\">\n",
              "    <button class=\"colab-df-convert\" onclick=\"convertToInteractive('df-264a6f2e-1525-4f82-9545-1328c73a02f4')\"\n",
              "            title=\"Convert this dataframe to an interactive table.\"\n",
              "            style=\"display:none;\">\n",
              "\n",
              "  <svg xmlns=\"http://www.w3.org/2000/svg\" height=\"24px\" viewBox=\"0 -960 960 960\">\n",
              "    <path d=\"M120-120v-720h720v720H120Zm60-500h600v-160H180v160Zm220 220h160v-160H400v160Zm0 220h160v-160H400v160ZM180-400h160v-160H180v160Zm440 0h160v-160H620v160ZM180-180h160v-160H180v160Zm440 0h160v-160H620v160Z\"/>\n",
              "  </svg>\n",
              "    </button>\n",
              "\n",
              "  <style>\n",
              "    .colab-df-container {\n",
              "      display:flex;\n",
              "      gap: 12px;\n",
              "    }\n",
              "\n",
              "    .colab-df-convert {\n",
              "      background-color: #E8F0FE;\n",
              "      border: none;\n",
              "      border-radius: 50%;\n",
              "      cursor: pointer;\n",
              "      display: none;\n",
              "      fill: #1967D2;\n",
              "      height: 32px;\n",
              "      padding: 0 0 0 0;\n",
              "      width: 32px;\n",
              "    }\n",
              "\n",
              "    .colab-df-convert:hover {\n",
              "      background-color: #E2EBFA;\n",
              "      box-shadow: 0px 1px 2px rgba(60, 64, 67, 0.3), 0px 1px 3px 1px rgba(60, 64, 67, 0.15);\n",
              "      fill: #174EA6;\n",
              "    }\n",
              "\n",
              "    .colab-df-buttons div {\n",
              "      margin-bottom: 4px;\n",
              "    }\n",
              "\n",
              "    [theme=dark] .colab-df-convert {\n",
              "      background-color: #3B4455;\n",
              "      fill: #D2E3FC;\n",
              "    }\n",
              "\n",
              "    [theme=dark] .colab-df-convert:hover {\n",
              "      background-color: #434B5C;\n",
              "      box-shadow: 0px 1px 3px 1px rgba(0, 0, 0, 0.15);\n",
              "      filter: drop-shadow(0px 1px 2px rgba(0, 0, 0, 0.3));\n",
              "      fill: #FFFFFF;\n",
              "    }\n",
              "  </style>\n",
              "\n",
              "    <script>\n",
              "      const buttonEl =\n",
              "        document.querySelector('#df-264a6f2e-1525-4f82-9545-1328c73a02f4 button.colab-df-convert');\n",
              "      buttonEl.style.display =\n",
              "        google.colab.kernel.accessAllowed ? 'block' : 'none';\n",
              "\n",
              "      async function convertToInteractive(key) {\n",
              "        const element = document.querySelector('#df-264a6f2e-1525-4f82-9545-1328c73a02f4');\n",
              "        const dataTable =\n",
              "          await google.colab.kernel.invokeFunction('convertToInteractive',\n",
              "                                                    [key], {});\n",
              "        if (!dataTable) return;\n",
              "\n",
              "        const docLinkHtml = 'Like what you see? Visit the ' +\n",
              "          '<a target=\"_blank\" href=https://colab.research.google.com/notebooks/data_table.ipynb>data table notebook</a>'\n",
              "          + ' to learn more about interactive tables.';\n",
              "        element.innerHTML = '';\n",
              "        dataTable['output_type'] = 'display_data';\n",
              "        await google.colab.output.renderOutput(dataTable, element);\n",
              "        const docLink = document.createElement('div');\n",
              "        docLink.innerHTML = docLinkHtml;\n",
              "        element.appendChild(docLink);\n",
              "      }\n",
              "    </script>\n",
              "  </div>\n",
              "\n",
              "\n",
              "<div id=\"df-27f67aa4-9813-40be-a485-ad80615c4aa7\">\n",
              "  <button class=\"colab-df-quickchart\" onclick=\"quickchart('df-27f67aa4-9813-40be-a485-ad80615c4aa7')\"\n",
              "            title=\"Suggest charts.\"\n",
              "            style=\"display:none;\">\n",
              "\n",
              "<svg xmlns=\"http://www.w3.org/2000/svg\" height=\"24px\"viewBox=\"0 0 24 24\"\n",
              "     width=\"24px\">\n",
              "    <g>\n",
              "        <path d=\"M19 3H5c-1.1 0-2 .9-2 2v14c0 1.1.9 2 2 2h14c1.1 0 2-.9 2-2V5c0-1.1-.9-2-2-2zM9 17H7v-7h2v7zm4 0h-2V7h2v10zm4 0h-2v-4h2v4z\"/>\n",
              "    </g>\n",
              "</svg>\n",
              "  </button>\n",
              "\n",
              "<style>\n",
              "  .colab-df-quickchart {\n",
              "      --bg-color: #E8F0FE;\n",
              "      --fill-color: #1967D2;\n",
              "      --hover-bg-color: #E2EBFA;\n",
              "      --hover-fill-color: #174EA6;\n",
              "      --disabled-fill-color: #AAA;\n",
              "      --disabled-bg-color: #DDD;\n",
              "  }\n",
              "\n",
              "  [theme=dark] .colab-df-quickchart {\n",
              "      --bg-color: #3B4455;\n",
              "      --fill-color: #D2E3FC;\n",
              "      --hover-bg-color: #434B5C;\n",
              "      --hover-fill-color: #FFFFFF;\n",
              "      --disabled-bg-color: #3B4455;\n",
              "      --disabled-fill-color: #666;\n",
              "  }\n",
              "\n",
              "  .colab-df-quickchart {\n",
              "    background-color: var(--bg-color);\n",
              "    border: none;\n",
              "    border-radius: 50%;\n",
              "    cursor: pointer;\n",
              "    display: none;\n",
              "    fill: var(--fill-color);\n",
              "    height: 32px;\n",
              "    padding: 0;\n",
              "    width: 32px;\n",
              "  }\n",
              "\n",
              "  .colab-df-quickchart:hover {\n",
              "    background-color: var(--hover-bg-color);\n",
              "    box-shadow: 0 1px 2px rgba(60, 64, 67, 0.3), 0 1px 3px 1px rgba(60, 64, 67, 0.15);\n",
              "    fill: var(--button-hover-fill-color);\n",
              "  }\n",
              "\n",
              "  .colab-df-quickchart-complete:disabled,\n",
              "  .colab-df-quickchart-complete:disabled:hover {\n",
              "    background-color: var(--disabled-bg-color);\n",
              "    fill: var(--disabled-fill-color);\n",
              "    box-shadow: none;\n",
              "  }\n",
              "\n",
              "  .colab-df-spinner {\n",
              "    border: 2px solid var(--fill-color);\n",
              "    border-color: transparent;\n",
              "    border-bottom-color: var(--fill-color);\n",
              "    animation:\n",
              "      spin 1s steps(1) infinite;\n",
              "  }\n",
              "\n",
              "  @keyframes spin {\n",
              "    0% {\n",
              "      border-color: transparent;\n",
              "      border-bottom-color: var(--fill-color);\n",
              "      border-left-color: var(--fill-color);\n",
              "    }\n",
              "    20% {\n",
              "      border-color: transparent;\n",
              "      border-left-color: var(--fill-color);\n",
              "      border-top-color: var(--fill-color);\n",
              "    }\n",
              "    30% {\n",
              "      border-color: transparent;\n",
              "      border-left-color: var(--fill-color);\n",
              "      border-top-color: var(--fill-color);\n",
              "      border-right-color: var(--fill-color);\n",
              "    }\n",
              "    40% {\n",
              "      border-color: transparent;\n",
              "      border-right-color: var(--fill-color);\n",
              "      border-top-color: var(--fill-color);\n",
              "    }\n",
              "    60% {\n",
              "      border-color: transparent;\n",
              "      border-right-color: var(--fill-color);\n",
              "    }\n",
              "    80% {\n",
              "      border-color: transparent;\n",
              "      border-right-color: var(--fill-color);\n",
              "      border-bottom-color: var(--fill-color);\n",
              "    }\n",
              "    90% {\n",
              "      border-color: transparent;\n",
              "      border-bottom-color: var(--fill-color);\n",
              "    }\n",
              "  }\n",
              "</style>\n",
              "\n",
              "  <script>\n",
              "    async function quickchart(key) {\n",
              "      const quickchartButtonEl =\n",
              "        document.querySelector('#' + key + ' button');\n",
              "      quickchartButtonEl.disabled = true;  // To prevent multiple clicks.\n",
              "      quickchartButtonEl.classList.add('colab-df-spinner');\n",
              "      try {\n",
              "        const charts = await google.colab.kernel.invokeFunction(\n",
              "            'suggestCharts', [key], {});\n",
              "      } catch (error) {\n",
              "        console.error('Error during call to suggestCharts:', error);\n",
              "      }\n",
              "      quickchartButtonEl.classList.remove('colab-df-spinner');\n",
              "      quickchartButtonEl.classList.add('colab-df-quickchart-complete');\n",
              "    }\n",
              "    (() => {\n",
              "      let quickchartButtonEl =\n",
              "        document.querySelector('#df-27f67aa4-9813-40be-a485-ad80615c4aa7 button');\n",
              "      quickchartButtonEl.style.display =\n",
              "        google.colab.kernel.accessAllowed ? 'block' : 'none';\n",
              "    })();\n",
              "  </script>\n",
              "</div>\n",
              "    </div>\n",
              "  </div>\n"
            ]
          },
          "metadata": {},
          "execution_count": 207
        }
      ]
    },
    {
      "cell_type": "markdown",
      "source": [
        "<span style='color: lightgreen ; font-size: 1.5em ; font-weight: bold'>&#10003;</span> **December is the month with the highest accident record of 9657 out of 81735**\n",
        "\n",
        "**June is the month with the least accident record of 5411 out of 81735**  "
      ],
      "metadata": {
        "id": "qNWz0sEnMkhB"
      }
    },
    {
      "cell_type": "markdown",
      "source": [
        " the wet season (May to October),\n",
        "\n",
        " the cool season (November to February)\n",
        "\n",
        " and the hot season (March to May)."
      ],
      "metadata": {
        "id": "gZKZrVA9Nwbh"
      }
    },
    {
      "cell_type": "code",
      "source": [
        "# Creating a list of the month with their unique weather condition\n",
        "Wet = ['June', 'July', 'August', 'September', 'October']\n",
        "Cool = ['November', 'December', 'January', 'February']\n",
        "Hot = ['March', 'April', 'May']"
      ],
      "metadata": {
        "id": "3bcjx2oOWFUB"
      },
      "execution_count": 208,
      "outputs": []
    },
    {
      "cell_type": "code",
      "source": [
        "# create function that will replace the months with there weather condition\n",
        "def season(x):\n",
        "  for val in Wet:\n",
        "    if val in x:\n",
        "      return 'Wet season'\n",
        "  for vax in Cool:\n",
        "    if vax in x:\n",
        "      return 'Cool Season'\n",
        "  for vaw in Hot:\n",
        "    if vaw in x:\n",
        "      return 'Hot season'\n"
      ],
      "metadata": {
        "id": "VjnpSVnYPdLd"
      },
      "execution_count": 209,
      "outputs": []
    },
    {
      "cell_type": "code",
      "source": [
        "# apply the function to the column with the months\n",
        "month_season = incident_month.apply(season)\n",
        "month_season"
      ],
      "metadata": {
        "id": "XFId8qpfaQT9",
        "colab": {
          "base_uri": "https://localhost:8080/"
        },
        "outputId": "ea89ab32-29aa-4b67-b2d8-d0d2e273d6f0"
      },
      "execution_count": 210,
      "outputs": [
        {
          "output_type": "execute_result",
          "data": {
            "text/plain": [
              "0        Cool Season\n",
              "1        Cool Season\n",
              "2        Cool Season\n",
              "3        Cool Season\n",
              "4        Cool Season\n",
              "            ...     \n",
              "81730    Cool Season\n",
              "81731    Cool Season\n",
              "81732    Cool Season\n",
              "81733    Cool Season\n",
              "81734    Cool Season\n",
              "Name: incident_datetime, Length: 81735, dtype: object"
            ]
          },
          "metadata": {},
          "execution_count": 210
        }
      ]
    },
    {
      "cell_type": "markdown",
      "source": [
        "Checking for the categories of season created"
      ],
      "metadata": {
        "id": "u0wSxIqUOXZs"
      }
    },
    {
      "cell_type": "code",
      "source": [
        "month_season.unique()"
      ],
      "metadata": {
        "id": "YTHIfzLYapu6",
        "colab": {
          "base_uri": "https://localhost:8080/"
        },
        "outputId": "02844b47-387d-4360-dfd4-06556617049c"
      },
      "execution_count": 211,
      "outputs": [
        {
          "output_type": "execute_result",
          "data": {
            "text/plain": [
              "array(['Cool Season', 'Hot season', 'Wet season'], dtype=object)"
            ]
          },
          "metadata": {},
          "execution_count": 211
        }
      ]
    },
    {
      "cell_type": "markdown",
      "source": [
        "Check of the season with the most frequent accident occurence"
      ],
      "metadata": {
        "id": "Yv7cV-mJOhBA"
      }
    },
    {
      "cell_type": "code",
      "source": [
        "month_season.value_counts().to_frame()"
      ],
      "metadata": {
        "id": "7rrQQWxtbgYf",
        "colab": {
          "base_uri": "https://localhost:8080/",
          "height": 143
        },
        "outputId": "c843b412-f4d5-4a01-b9b0-642ea09dd58d"
      },
      "execution_count": 212,
      "outputs": [
        {
          "output_type": "execute_result",
          "data": {
            "text/plain": [
              "             incident_datetime\n",
              "Cool Season              30336\n",
              "Wet season               29668\n",
              "Hot season               21731"
            ],
            "text/html": [
              "\n",
              "  <div id=\"df-e59a79ff-b3aa-43e2-a72c-f1e26fc3b626\" class=\"colab-df-container\">\n",
              "    <div>\n",
              "<style scoped>\n",
              "    .dataframe tbody tr th:only-of-type {\n",
              "        vertical-align: middle;\n",
              "    }\n",
              "\n",
              "    .dataframe tbody tr th {\n",
              "        vertical-align: top;\n",
              "    }\n",
              "\n",
              "    .dataframe thead th {\n",
              "        text-align: right;\n",
              "    }\n",
              "</style>\n",
              "<table border=\"1\" class=\"dataframe\">\n",
              "  <thead>\n",
              "    <tr style=\"text-align: right;\">\n",
              "      <th></th>\n",
              "      <th>incident_datetime</th>\n",
              "    </tr>\n",
              "  </thead>\n",
              "  <tbody>\n",
              "    <tr>\n",
              "      <th>Cool Season</th>\n",
              "      <td>30336</td>\n",
              "    </tr>\n",
              "    <tr>\n",
              "      <th>Wet season</th>\n",
              "      <td>29668</td>\n",
              "    </tr>\n",
              "    <tr>\n",
              "      <th>Hot season</th>\n",
              "      <td>21731</td>\n",
              "    </tr>\n",
              "  </tbody>\n",
              "</table>\n",
              "</div>\n",
              "    <div class=\"colab-df-buttons\">\n",
              "\n",
              "  <div class=\"colab-df-container\">\n",
              "    <button class=\"colab-df-convert\" onclick=\"convertToInteractive('df-e59a79ff-b3aa-43e2-a72c-f1e26fc3b626')\"\n",
              "            title=\"Convert this dataframe to an interactive table.\"\n",
              "            style=\"display:none;\">\n",
              "\n",
              "  <svg xmlns=\"http://www.w3.org/2000/svg\" height=\"24px\" viewBox=\"0 -960 960 960\">\n",
              "    <path d=\"M120-120v-720h720v720H120Zm60-500h600v-160H180v160Zm220 220h160v-160H400v160Zm0 220h160v-160H400v160ZM180-400h160v-160H180v160Zm440 0h160v-160H620v160ZM180-180h160v-160H180v160Zm440 0h160v-160H620v160Z\"/>\n",
              "  </svg>\n",
              "    </button>\n",
              "\n",
              "  <style>\n",
              "    .colab-df-container {\n",
              "      display:flex;\n",
              "      gap: 12px;\n",
              "    }\n",
              "\n",
              "    .colab-df-convert {\n",
              "      background-color: #E8F0FE;\n",
              "      border: none;\n",
              "      border-radius: 50%;\n",
              "      cursor: pointer;\n",
              "      display: none;\n",
              "      fill: #1967D2;\n",
              "      height: 32px;\n",
              "      padding: 0 0 0 0;\n",
              "      width: 32px;\n",
              "    }\n",
              "\n",
              "    .colab-df-convert:hover {\n",
              "      background-color: #E2EBFA;\n",
              "      box-shadow: 0px 1px 2px rgba(60, 64, 67, 0.3), 0px 1px 3px 1px rgba(60, 64, 67, 0.15);\n",
              "      fill: #174EA6;\n",
              "    }\n",
              "\n",
              "    .colab-df-buttons div {\n",
              "      margin-bottom: 4px;\n",
              "    }\n",
              "\n",
              "    [theme=dark] .colab-df-convert {\n",
              "      background-color: #3B4455;\n",
              "      fill: #D2E3FC;\n",
              "    }\n",
              "\n",
              "    [theme=dark] .colab-df-convert:hover {\n",
              "      background-color: #434B5C;\n",
              "      box-shadow: 0px 1px 3px 1px rgba(0, 0, 0, 0.15);\n",
              "      filter: drop-shadow(0px 1px 2px rgba(0, 0, 0, 0.3));\n",
              "      fill: #FFFFFF;\n",
              "    }\n",
              "  </style>\n",
              "\n",
              "    <script>\n",
              "      const buttonEl =\n",
              "        document.querySelector('#df-e59a79ff-b3aa-43e2-a72c-f1e26fc3b626 button.colab-df-convert');\n",
              "      buttonEl.style.display =\n",
              "        google.colab.kernel.accessAllowed ? 'block' : 'none';\n",
              "\n",
              "      async function convertToInteractive(key) {\n",
              "        const element = document.querySelector('#df-e59a79ff-b3aa-43e2-a72c-f1e26fc3b626');\n",
              "        const dataTable =\n",
              "          await google.colab.kernel.invokeFunction('convertToInteractive',\n",
              "                                                    [key], {});\n",
              "        if (!dataTable) return;\n",
              "\n",
              "        const docLinkHtml = 'Like what you see? Visit the ' +\n",
              "          '<a target=\"_blank\" href=https://colab.research.google.com/notebooks/data_table.ipynb>data table notebook</a>'\n",
              "          + ' to learn more about interactive tables.';\n",
              "        element.innerHTML = '';\n",
              "        dataTable['output_type'] = 'display_data';\n",
              "        await google.colab.output.renderOutput(dataTable, element);\n",
              "        const docLink = document.createElement('div');\n",
              "        docLink.innerHTML = docLinkHtml;\n",
              "        element.appendChild(docLink);\n",
              "      }\n",
              "    </script>\n",
              "  </div>\n",
              "\n",
              "\n",
              "<div id=\"df-b67f4a42-6df0-4e6a-8fd7-1289861e8874\">\n",
              "  <button class=\"colab-df-quickchart\" onclick=\"quickchart('df-b67f4a42-6df0-4e6a-8fd7-1289861e8874')\"\n",
              "            title=\"Suggest charts.\"\n",
              "            style=\"display:none;\">\n",
              "\n",
              "<svg xmlns=\"http://www.w3.org/2000/svg\" height=\"24px\"viewBox=\"0 0 24 24\"\n",
              "     width=\"24px\">\n",
              "    <g>\n",
              "        <path d=\"M19 3H5c-1.1 0-2 .9-2 2v14c0 1.1.9 2 2 2h14c1.1 0 2-.9 2-2V5c0-1.1-.9-2-2-2zM9 17H7v-7h2v7zm4 0h-2V7h2v10zm4 0h-2v-4h2v4z\"/>\n",
              "    </g>\n",
              "</svg>\n",
              "  </button>\n",
              "\n",
              "<style>\n",
              "  .colab-df-quickchart {\n",
              "      --bg-color: #E8F0FE;\n",
              "      --fill-color: #1967D2;\n",
              "      --hover-bg-color: #E2EBFA;\n",
              "      --hover-fill-color: #174EA6;\n",
              "      --disabled-fill-color: #AAA;\n",
              "      --disabled-bg-color: #DDD;\n",
              "  }\n",
              "\n",
              "  [theme=dark] .colab-df-quickchart {\n",
              "      --bg-color: #3B4455;\n",
              "      --fill-color: #D2E3FC;\n",
              "      --hover-bg-color: #434B5C;\n",
              "      --hover-fill-color: #FFFFFF;\n",
              "      --disabled-bg-color: #3B4455;\n",
              "      --disabled-fill-color: #666;\n",
              "  }\n",
              "\n",
              "  .colab-df-quickchart {\n",
              "    background-color: var(--bg-color);\n",
              "    border: none;\n",
              "    border-radius: 50%;\n",
              "    cursor: pointer;\n",
              "    display: none;\n",
              "    fill: var(--fill-color);\n",
              "    height: 32px;\n",
              "    padding: 0;\n",
              "    width: 32px;\n",
              "  }\n",
              "\n",
              "  .colab-df-quickchart:hover {\n",
              "    background-color: var(--hover-bg-color);\n",
              "    box-shadow: 0 1px 2px rgba(60, 64, 67, 0.3), 0 1px 3px 1px rgba(60, 64, 67, 0.15);\n",
              "    fill: var(--button-hover-fill-color);\n",
              "  }\n",
              "\n",
              "  .colab-df-quickchart-complete:disabled,\n",
              "  .colab-df-quickchart-complete:disabled:hover {\n",
              "    background-color: var(--disabled-bg-color);\n",
              "    fill: var(--disabled-fill-color);\n",
              "    box-shadow: none;\n",
              "  }\n",
              "\n",
              "  .colab-df-spinner {\n",
              "    border: 2px solid var(--fill-color);\n",
              "    border-color: transparent;\n",
              "    border-bottom-color: var(--fill-color);\n",
              "    animation:\n",
              "      spin 1s steps(1) infinite;\n",
              "  }\n",
              "\n",
              "  @keyframes spin {\n",
              "    0% {\n",
              "      border-color: transparent;\n",
              "      border-bottom-color: var(--fill-color);\n",
              "      border-left-color: var(--fill-color);\n",
              "    }\n",
              "    20% {\n",
              "      border-color: transparent;\n",
              "      border-left-color: var(--fill-color);\n",
              "      border-top-color: var(--fill-color);\n",
              "    }\n",
              "    30% {\n",
              "      border-color: transparent;\n",
              "      border-left-color: var(--fill-color);\n",
              "      border-top-color: var(--fill-color);\n",
              "      border-right-color: var(--fill-color);\n",
              "    }\n",
              "    40% {\n",
              "      border-color: transparent;\n",
              "      border-right-color: var(--fill-color);\n",
              "      border-top-color: var(--fill-color);\n",
              "    }\n",
              "    60% {\n",
              "      border-color: transparent;\n",
              "      border-right-color: var(--fill-color);\n",
              "    }\n",
              "    80% {\n",
              "      border-color: transparent;\n",
              "      border-right-color: var(--fill-color);\n",
              "      border-bottom-color: var(--fill-color);\n",
              "    }\n",
              "    90% {\n",
              "      border-color: transparent;\n",
              "      border-bottom-color: var(--fill-color);\n",
              "    }\n",
              "  }\n",
              "</style>\n",
              "\n",
              "  <script>\n",
              "    async function quickchart(key) {\n",
              "      const quickchartButtonEl =\n",
              "        document.querySelector('#' + key + ' button');\n",
              "      quickchartButtonEl.disabled = true;  // To prevent multiple clicks.\n",
              "      quickchartButtonEl.classList.add('colab-df-spinner');\n",
              "      try {\n",
              "        const charts = await google.colab.kernel.invokeFunction(\n",
              "            'suggestCharts', [key], {});\n",
              "      } catch (error) {\n",
              "        console.error('Error during call to suggestCharts:', error);\n",
              "      }\n",
              "      quickchartButtonEl.classList.remove('colab-df-spinner');\n",
              "      quickchartButtonEl.classList.add('colab-df-quickchart-complete');\n",
              "    }\n",
              "    (() => {\n",
              "      let quickchartButtonEl =\n",
              "        document.querySelector('#df-b67f4a42-6df0-4e6a-8fd7-1289861e8874 button');\n",
              "      quickchartButtonEl.style.display =\n",
              "        google.colab.kernel.accessAllowed ? 'block' : 'none';\n",
              "    })();\n",
              "  </script>\n",
              "</div>\n",
              "    </div>\n",
              "  </div>\n"
            ]
          },
          "metadata": {},
          "execution_count": 212
        }
      ]
    },
    {
      "cell_type": "markdown",
      "source": [
        "<span style='color: lightgreen ; font-size: 1.5em ; font-weight: bold'>&#10003;</span> **Cool season is the Season with the most frequent accident report of 30336. The months that are under the Cool season are 'November', 'December', 'January', 'February'.**\n",
        "\n",
        "\n",
        "<span style='color: lightgreen ; font-size: 1.5em ; font-weight: bold'>&#10003;</span> **While the Hot season is the season with the least accident report. the months under this season are 'March', 'April', 'May'.**\n",
        "\n",
        "<span style='color: lightgreen ; font-size: 1.5em ; font-weight: bold'>&#10003;</span> **We can observe that accidents are prone to occur at the end and beginning of a year.**  \n",
        "\n"
      ],
      "metadata": {
        "id": "t0G-JxcGO9q3"
      }
    },
    {
      "cell_type": "markdown",
      "source": [
        "Getting the delay time from the **incident time** recorded and **report time** recorded. We can oberve how long it took for the accident to be reported."
      ],
      "metadata": {
        "id": "Ag4TB3eDQQH-"
      }
    },
    {
      "cell_type": "code",
      "source": [
        "data.head(2)"
      ],
      "metadata": {
        "id": "WVty0pavSj8g",
        "colab": {
          "base_uri": "https://localhost:8080/",
          "height": 236
        },
        "outputId": "39093b9e-729e-427b-d3fc-3d22f3fd4d89"
      },
      "execution_count": 213,
      "outputs": [
        {
          "output_type": "execute_result",
          "data": {
            "text/plain": [
              "   acc_code    incident_datetime      report_datetime          province  \\\n",
              "0    571905  2019-01-01 00:00:00  2019-01-02 06:11:00            Loburi   \n",
              "1   3790870  2019-01-01 00:03:00  2020-02-20 13:48:00  Ubon Ratchathani   \n",
              "\n",
              "                      agency                                      route  \\\n",
              "0  department of rural roads  Highway 21 (km 31+000) - Ban Wang Phloeng   \n",
              "1     department of highways                Dej Udom - Ubon Ratchathani   \n",
              "\n",
              "            vehicle_type                          presumed_cause  \\\n",
              "0             motorcycle  driving under the influence of alcohol   \n",
              "1  private/passenger car                                speeding   \n",
              "\n",
              "                      accident_type  number_of_vehicles_involved  \\\n",
              "0                             other                            1   \n",
              "1  rollover/fallen on straight road                            1   \n",
              "\n",
              "   number_of_fatalities  number_of_injuries weather_condition  \\\n",
              "0                     0                   2             clear   \n",
              "1                     0                   2             clear   \n",
              "\n",
              "  road_description slope_description  \n",
              "0    straight road          no slope  \n",
              "1    straight road          no slope  "
            ],
            "text/html": [
              "\n",
              "  <div id=\"df-5670c433-454f-4401-a8ae-0396afffc401\" class=\"colab-df-container\">\n",
              "    <div>\n",
              "<style scoped>\n",
              "    .dataframe tbody tr th:only-of-type {\n",
              "        vertical-align: middle;\n",
              "    }\n",
              "\n",
              "    .dataframe tbody tr th {\n",
              "        vertical-align: top;\n",
              "    }\n",
              "\n",
              "    .dataframe thead th {\n",
              "        text-align: right;\n",
              "    }\n",
              "</style>\n",
              "<table border=\"1\" class=\"dataframe\">\n",
              "  <thead>\n",
              "    <tr style=\"text-align: right;\">\n",
              "      <th></th>\n",
              "      <th>acc_code</th>\n",
              "      <th>incident_datetime</th>\n",
              "      <th>report_datetime</th>\n",
              "      <th>province</th>\n",
              "      <th>agency</th>\n",
              "      <th>route</th>\n",
              "      <th>vehicle_type</th>\n",
              "      <th>presumed_cause</th>\n",
              "      <th>accident_type</th>\n",
              "      <th>number_of_vehicles_involved</th>\n",
              "      <th>number_of_fatalities</th>\n",
              "      <th>number_of_injuries</th>\n",
              "      <th>weather_condition</th>\n",
              "      <th>road_description</th>\n",
              "      <th>slope_description</th>\n",
              "    </tr>\n",
              "  </thead>\n",
              "  <tbody>\n",
              "    <tr>\n",
              "      <th>0</th>\n",
              "      <td>571905</td>\n",
              "      <td>2019-01-01 00:00:00</td>\n",
              "      <td>2019-01-02 06:11:00</td>\n",
              "      <td>Loburi</td>\n",
              "      <td>department of rural roads</td>\n",
              "      <td>Highway 21 (km 31+000) - Ban Wang Phloeng</td>\n",
              "      <td>motorcycle</td>\n",
              "      <td>driving under the influence of alcohol</td>\n",
              "      <td>other</td>\n",
              "      <td>1</td>\n",
              "      <td>0</td>\n",
              "      <td>2</td>\n",
              "      <td>clear</td>\n",
              "      <td>straight road</td>\n",
              "      <td>no slope</td>\n",
              "    </tr>\n",
              "    <tr>\n",
              "      <th>1</th>\n",
              "      <td>3790870</td>\n",
              "      <td>2019-01-01 00:03:00</td>\n",
              "      <td>2020-02-20 13:48:00</td>\n",
              "      <td>Ubon Ratchathani</td>\n",
              "      <td>department of highways</td>\n",
              "      <td>Dej Udom - Ubon Ratchathani</td>\n",
              "      <td>private/passenger car</td>\n",
              "      <td>speeding</td>\n",
              "      <td>rollover/fallen on straight road</td>\n",
              "      <td>1</td>\n",
              "      <td>0</td>\n",
              "      <td>2</td>\n",
              "      <td>clear</td>\n",
              "      <td>straight road</td>\n",
              "      <td>no slope</td>\n",
              "    </tr>\n",
              "  </tbody>\n",
              "</table>\n",
              "</div>\n",
              "    <div class=\"colab-df-buttons\">\n",
              "\n",
              "  <div class=\"colab-df-container\">\n",
              "    <button class=\"colab-df-convert\" onclick=\"convertToInteractive('df-5670c433-454f-4401-a8ae-0396afffc401')\"\n",
              "            title=\"Convert this dataframe to an interactive table.\"\n",
              "            style=\"display:none;\">\n",
              "\n",
              "  <svg xmlns=\"http://www.w3.org/2000/svg\" height=\"24px\" viewBox=\"0 -960 960 960\">\n",
              "    <path d=\"M120-120v-720h720v720H120Zm60-500h600v-160H180v160Zm220 220h160v-160H400v160Zm0 220h160v-160H400v160ZM180-400h160v-160H180v160Zm440 0h160v-160H620v160ZM180-180h160v-160H180v160Zm440 0h160v-160H620v160Z\"/>\n",
              "  </svg>\n",
              "    </button>\n",
              "\n",
              "  <style>\n",
              "    .colab-df-container {\n",
              "      display:flex;\n",
              "      gap: 12px;\n",
              "    }\n",
              "\n",
              "    .colab-df-convert {\n",
              "      background-color: #E8F0FE;\n",
              "      border: none;\n",
              "      border-radius: 50%;\n",
              "      cursor: pointer;\n",
              "      display: none;\n",
              "      fill: #1967D2;\n",
              "      height: 32px;\n",
              "      padding: 0 0 0 0;\n",
              "      width: 32px;\n",
              "    }\n",
              "\n",
              "    .colab-df-convert:hover {\n",
              "      background-color: #E2EBFA;\n",
              "      box-shadow: 0px 1px 2px rgba(60, 64, 67, 0.3), 0px 1px 3px 1px rgba(60, 64, 67, 0.15);\n",
              "      fill: #174EA6;\n",
              "    }\n",
              "\n",
              "    .colab-df-buttons div {\n",
              "      margin-bottom: 4px;\n",
              "    }\n",
              "\n",
              "    [theme=dark] .colab-df-convert {\n",
              "      background-color: #3B4455;\n",
              "      fill: #D2E3FC;\n",
              "    }\n",
              "\n",
              "    [theme=dark] .colab-df-convert:hover {\n",
              "      background-color: #434B5C;\n",
              "      box-shadow: 0px 1px 3px 1px rgba(0, 0, 0, 0.15);\n",
              "      filter: drop-shadow(0px 1px 2px rgba(0, 0, 0, 0.3));\n",
              "      fill: #FFFFFF;\n",
              "    }\n",
              "  </style>\n",
              "\n",
              "    <script>\n",
              "      const buttonEl =\n",
              "        document.querySelector('#df-5670c433-454f-4401-a8ae-0396afffc401 button.colab-df-convert');\n",
              "      buttonEl.style.display =\n",
              "        google.colab.kernel.accessAllowed ? 'block' : 'none';\n",
              "\n",
              "      async function convertToInteractive(key) {\n",
              "        const element = document.querySelector('#df-5670c433-454f-4401-a8ae-0396afffc401');\n",
              "        const dataTable =\n",
              "          await google.colab.kernel.invokeFunction('convertToInteractive',\n",
              "                                                    [key], {});\n",
              "        if (!dataTable) return;\n",
              "\n",
              "        const docLinkHtml = 'Like what you see? Visit the ' +\n",
              "          '<a target=\"_blank\" href=https://colab.research.google.com/notebooks/data_table.ipynb>data table notebook</a>'\n",
              "          + ' to learn more about interactive tables.';\n",
              "        element.innerHTML = '';\n",
              "        dataTable['output_type'] = 'display_data';\n",
              "        await google.colab.output.renderOutput(dataTable, element);\n",
              "        const docLink = document.createElement('div');\n",
              "        docLink.innerHTML = docLinkHtml;\n",
              "        element.appendChild(docLink);\n",
              "      }\n",
              "    </script>\n",
              "  </div>\n",
              "\n",
              "\n",
              "<div id=\"df-4703fc3a-5b20-4390-a309-b0e947856482\">\n",
              "  <button class=\"colab-df-quickchart\" onclick=\"quickchart('df-4703fc3a-5b20-4390-a309-b0e947856482')\"\n",
              "            title=\"Suggest charts.\"\n",
              "            style=\"display:none;\">\n",
              "\n",
              "<svg xmlns=\"http://www.w3.org/2000/svg\" height=\"24px\"viewBox=\"0 0 24 24\"\n",
              "     width=\"24px\">\n",
              "    <g>\n",
              "        <path d=\"M19 3H5c-1.1 0-2 .9-2 2v14c0 1.1.9 2 2 2h14c1.1 0 2-.9 2-2V5c0-1.1-.9-2-2-2zM9 17H7v-7h2v7zm4 0h-2V7h2v10zm4 0h-2v-4h2v4z\"/>\n",
              "    </g>\n",
              "</svg>\n",
              "  </button>\n",
              "\n",
              "<style>\n",
              "  .colab-df-quickchart {\n",
              "      --bg-color: #E8F0FE;\n",
              "      --fill-color: #1967D2;\n",
              "      --hover-bg-color: #E2EBFA;\n",
              "      --hover-fill-color: #174EA6;\n",
              "      --disabled-fill-color: #AAA;\n",
              "      --disabled-bg-color: #DDD;\n",
              "  }\n",
              "\n",
              "  [theme=dark] .colab-df-quickchart {\n",
              "      --bg-color: #3B4455;\n",
              "      --fill-color: #D2E3FC;\n",
              "      --hover-bg-color: #434B5C;\n",
              "      --hover-fill-color: #FFFFFF;\n",
              "      --disabled-bg-color: #3B4455;\n",
              "      --disabled-fill-color: #666;\n",
              "  }\n",
              "\n",
              "  .colab-df-quickchart {\n",
              "    background-color: var(--bg-color);\n",
              "    border: none;\n",
              "    border-radius: 50%;\n",
              "    cursor: pointer;\n",
              "    display: none;\n",
              "    fill: var(--fill-color);\n",
              "    height: 32px;\n",
              "    padding: 0;\n",
              "    width: 32px;\n",
              "  }\n",
              "\n",
              "  .colab-df-quickchart:hover {\n",
              "    background-color: var(--hover-bg-color);\n",
              "    box-shadow: 0 1px 2px rgba(60, 64, 67, 0.3), 0 1px 3px 1px rgba(60, 64, 67, 0.15);\n",
              "    fill: var(--button-hover-fill-color);\n",
              "  }\n",
              "\n",
              "  .colab-df-quickchart-complete:disabled,\n",
              "  .colab-df-quickchart-complete:disabled:hover {\n",
              "    background-color: var(--disabled-bg-color);\n",
              "    fill: var(--disabled-fill-color);\n",
              "    box-shadow: none;\n",
              "  }\n",
              "\n",
              "  .colab-df-spinner {\n",
              "    border: 2px solid var(--fill-color);\n",
              "    border-color: transparent;\n",
              "    border-bottom-color: var(--fill-color);\n",
              "    animation:\n",
              "      spin 1s steps(1) infinite;\n",
              "  }\n",
              "\n",
              "  @keyframes spin {\n",
              "    0% {\n",
              "      border-color: transparent;\n",
              "      border-bottom-color: var(--fill-color);\n",
              "      border-left-color: var(--fill-color);\n",
              "    }\n",
              "    20% {\n",
              "      border-color: transparent;\n",
              "      border-left-color: var(--fill-color);\n",
              "      border-top-color: var(--fill-color);\n",
              "    }\n",
              "    30% {\n",
              "      border-color: transparent;\n",
              "      border-left-color: var(--fill-color);\n",
              "      border-top-color: var(--fill-color);\n",
              "      border-right-color: var(--fill-color);\n",
              "    }\n",
              "    40% {\n",
              "      border-color: transparent;\n",
              "      border-right-color: var(--fill-color);\n",
              "      border-top-color: var(--fill-color);\n",
              "    }\n",
              "    60% {\n",
              "      border-color: transparent;\n",
              "      border-right-color: var(--fill-color);\n",
              "    }\n",
              "    80% {\n",
              "      border-color: transparent;\n",
              "      border-right-color: var(--fill-color);\n",
              "      border-bottom-color: var(--fill-color);\n",
              "    }\n",
              "    90% {\n",
              "      border-color: transparent;\n",
              "      border-bottom-color: var(--fill-color);\n",
              "    }\n",
              "  }\n",
              "</style>\n",
              "\n",
              "  <script>\n",
              "    async function quickchart(key) {\n",
              "      const quickchartButtonEl =\n",
              "        document.querySelector('#' + key + ' button');\n",
              "      quickchartButtonEl.disabled = true;  // To prevent multiple clicks.\n",
              "      quickchartButtonEl.classList.add('colab-df-spinner');\n",
              "      try {\n",
              "        const charts = await google.colab.kernel.invokeFunction(\n",
              "            'suggestCharts', [key], {});\n",
              "      } catch (error) {\n",
              "        console.error('Error during call to suggestCharts:', error);\n",
              "      }\n",
              "      quickchartButtonEl.classList.remove('colab-df-spinner');\n",
              "      quickchartButtonEl.classList.add('colab-df-quickchart-complete');\n",
              "    }\n",
              "    (() => {\n",
              "      let quickchartButtonEl =\n",
              "        document.querySelector('#df-4703fc3a-5b20-4390-a309-b0e947856482 button');\n",
              "      quickchartButtonEl.style.display =\n",
              "        google.colab.kernel.accessAllowed ? 'block' : 'none';\n",
              "    })();\n",
              "  </script>\n",
              "</div>\n",
              "    </div>\n",
              "  </div>\n"
            ]
          },
          "metadata": {},
          "execution_count": 213
        }
      ]
    },
    {
      "cell_type": "code",
      "source": [
        "data['incident_datetime'] = pd.to_datetime(data['incident_datetime'])\n",
        "data['report_datetime'] = pd.to_datetime(data['report_datetime'])"
      ],
      "metadata": {
        "id": "1RQPxRDGyfIr"
      },
      "execution_count": 217,
      "outputs": []
    },
    {
      "cell_type": "code",
      "source": [
        "data['incident_datetime'].dt.time"
      ],
      "metadata": {
        "colab": {
          "base_uri": "https://localhost:8080/"
        },
        "id": "lnb_Ei7XtEsQ",
        "outputId": "94e2ea56-96a4-47ae-a003-14df5a4e8c03"
      },
      "execution_count": 216,
      "outputs": [
        {
          "output_type": "execute_result",
          "data": {
            "text/plain": [
              "0        00:00:00\n",
              "1        00:03:00\n",
              "2        00:05:00\n",
              "3        00:20:00\n",
              "4        00:25:00\n",
              "           ...   \n",
              "81730    23:11:00\n",
              "81731    23:30:00\n",
              "81732    23:30:00\n",
              "81733    23:45:00\n",
              "81734    23:55:00\n",
              "Name: incident_datetime, Length: 81735, dtype: object"
            ]
          },
          "metadata": {},
          "execution_count": 216
        }
      ]
    },
    {
      "cell_type": "code",
      "source": [
        "data['time_difference'] = data['report_datetime'] - data['incident_datetime']\n",
        "# we use the pop function\n",
        "third_col = data.pop('time_difference')\n",
        "\n",
        "# then we insert it the column number position, the name of the columns, and the coloumn we popped\n",
        "data.insert(3, 'time_difference', third_col)"
      ],
      "metadata": {
        "id": "RJIpkK5DT0C8"
      },
      "execution_count": 218,
      "outputs": []
    },
    {
      "cell_type": "code",
      "source": [
        "data['time_difference']"
      ],
      "metadata": {
        "id": "seqDjmu_UZM0",
        "colab": {
          "base_uri": "https://localhost:8080/"
        },
        "outputId": "64922e15-e3c8-4123-eac8-bde92b7c7859"
      },
      "execution_count": 219,
      "outputs": [
        {
          "output_type": "execute_result",
          "data": {
            "text/plain": [
              "0         1 days 06:11:00\n",
              "1       415 days 13:45:00\n",
              "2         0 days 10:30:00\n",
              "3         1 days 04:52:00\n",
              "4         3 days 09:17:00\n",
              "               ...       \n",
              "81730     0 days 22:38:00\n",
              "81731     0 days 23:25:00\n",
              "81732    22 days 09:47:00\n",
              "81733     0 days 05:51:00\n",
              "81734    10 days 14:55:00\n",
              "Name: time_difference, Length: 81735, dtype: timedelta64[ns]"
            ]
          },
          "metadata": {},
          "execution_count": 219
        }
      ]
    },
    {
      "cell_type": "code",
      "source": [
        "data"
      ],
      "metadata": {
        "colab": {
          "base_uri": "https://localhost:8080/",
          "height": 808
        },
        "id": "Hhb9yrIW0_Ib",
        "outputId": "a799032a-d911-4d92-e800-ad0e373d66c1"
      },
      "execution_count": 220,
      "outputs": [
        {
          "output_type": "execute_result",
          "data": {
            "text/plain": [
              "       acc_code   incident_datetime     report_datetime   time_difference  \\\n",
              "0        571905 2019-01-01 00:00:00 2019-01-02 06:11:00   1 days 06:11:00   \n",
              "1       3790870 2019-01-01 00:03:00 2020-02-20 13:48:00 415 days 13:45:00   \n",
              "2        599075 2019-01-01 00:05:00 2019-01-01 10:35:00   0 days 10:30:00   \n",
              "3        571924 2019-01-01 00:20:00 2019-01-02 05:12:00   1 days 04:52:00   \n",
              "4        599523 2019-01-01 00:25:00 2019-01-04 09:42:00   3 days 09:17:00   \n",
              "...         ...                 ...                 ...               ...   \n",
              "81730   7534454 2022-12-31 23:11:00 2023-01-01 21:49:00   0 days 22:38:00   \n",
              "81731   7534701 2022-12-31 23:30:00 2023-01-01 22:55:00   0 days 23:25:00   \n",
              "81732   7567022 2022-12-31 23:30:00 2023-01-23 09:17:00  22 days 09:47:00   \n",
              "81733   7531271 2022-12-31 23:45:00 2023-01-01 05:36:00   0 days 05:51:00   \n",
              "81734   7556715 2022-12-31 23:55:00 2023-01-11 14:50:00  10 days 14:55:00   \n",
              "\n",
              "                  province                     agency  \\\n",
              "0                   Loburi  department of rural roads   \n",
              "1         Ubon Ratchathani     department of highways   \n",
              "2      Prachuap Khiri Khan     department of highways   \n",
              "3               Chiang Mai  department of rural roads   \n",
              "4             Nakhon Sawan     department of highways   \n",
              "...                    ...                        ...   \n",
              "81730           Nonthaburi     department of highways   \n",
              "81731                 Trat     department of highways   \n",
              "81732        Maha Sarakham     department of highways   \n",
              "81733       Kamphaeng Phet     department of highways   \n",
              "81734           Chiang Rai     department of highways   \n",
              "\n",
              "                                                  route  \\\n",
              "0             Highway 21 (km 31+000) - Ban Wang Phloeng   \n",
              "1                           Dej Udom - Ubon Ratchathani   \n",
              "2                               Pranburi - Pak Nam Pran   \n",
              "3      Connect Highway 1013 (km 8+200) - Ban Khun Klang   \n",
              "4                                Kayachai -Sri Mongkhon   \n",
              "...                                                 ...   \n",
              "81730                          Khae Rai - Ban Mai Canal   \n",
              "81731                                  Trat - Laem Ngob   \n",
              "81732                Wapi Pathum - Phayakkhaphum Phisai   \n",
              "81733                           Nakhon Chum -Mo Charoen   \n",
              "81734                      Mae Kon Junction - Huai Phlu   \n",
              "\n",
              "                vehicle_type                                 presumed_cause  \\\n",
              "0                 motorcycle         driving under the influence of alcohol   \n",
              "1      private/passenger car                                       speeding   \n",
              "2                 motorcycle                                       speeding   \n",
              "3                 motorcycle         driving under the influence of alcohol   \n",
              "4      private/passenger car  cutting in closely by people/vehicles/animals   \n",
              "...                      ...                                            ...   \n",
              "81730             motorcycle                                       speeding   \n",
              "81731             motorcycle                                       speeding   \n",
              "81732                    van                                       speeding   \n",
              "81733             motorcycle         driving under the influence of alcohol   \n",
              "81734  private/passenger car                                       speeding   \n",
              "\n",
              "                            accident_type  number_of_vehicles_involved  \\\n",
              "0                                   other                            1   \n",
              "1        rollover/fallen on straight road                            1   \n",
              "2      head-on collision (not overtaking)                            2   \n",
              "3                                   other                            1   \n",
              "4        rollover/fallen on straight road                            1   \n",
              "...                                   ...                          ...   \n",
              "81730    rollover/fallen on straight road                            1   \n",
              "81731    rollover/fallen on straight road                            1   \n",
              "81732    rollover/fallen on straight road                            1   \n",
              "81733    rollover/fallen on straight road                            1   \n",
              "81734                  rear-end collision                            2   \n",
              "\n",
              "       number_of_fatalities  number_of_injuries weather_condition  \\\n",
              "0                         0                   2             clear   \n",
              "1                         0                   2             clear   \n",
              "2                         1                   0             clear   \n",
              "3                         0                   1             clear   \n",
              "4                         0                   0             clear   \n",
              "...                     ...                 ...               ...   \n",
              "81730                     1                   0             clear   \n",
              "81731                     1                   0             clear   \n",
              "81732                     0                   3             clear   \n",
              "81733                     1                   0             clear   \n",
              "81734                     3                   0             clear   \n",
              "\n",
              "      road_description slope_description  \n",
              "0        straight road          no slope  \n",
              "1        straight road          no slope  \n",
              "2           wide curve        slope area  \n",
              "3        straight road          no slope  \n",
              "4        straight road          no slope  \n",
              "...                ...               ...  \n",
              "81730    straight road          no slope  \n",
              "81731            other             other  \n",
              "81732    straight road          no slope  \n",
              "81733    straight road          no slope  \n",
              "81734    straight road          no slope  \n",
              "\n",
              "[81735 rows x 16 columns]"
            ],
            "text/html": [
              "\n",
              "  <div id=\"df-abae521c-f1e7-458f-9f72-49d0874ba3f4\" class=\"colab-df-container\">\n",
              "    <div>\n",
              "<style scoped>\n",
              "    .dataframe tbody tr th:only-of-type {\n",
              "        vertical-align: middle;\n",
              "    }\n",
              "\n",
              "    .dataframe tbody tr th {\n",
              "        vertical-align: top;\n",
              "    }\n",
              "\n",
              "    .dataframe thead th {\n",
              "        text-align: right;\n",
              "    }\n",
              "</style>\n",
              "<table border=\"1\" class=\"dataframe\">\n",
              "  <thead>\n",
              "    <tr style=\"text-align: right;\">\n",
              "      <th></th>\n",
              "      <th>acc_code</th>\n",
              "      <th>incident_datetime</th>\n",
              "      <th>report_datetime</th>\n",
              "      <th>time_difference</th>\n",
              "      <th>province</th>\n",
              "      <th>agency</th>\n",
              "      <th>route</th>\n",
              "      <th>vehicle_type</th>\n",
              "      <th>presumed_cause</th>\n",
              "      <th>accident_type</th>\n",
              "      <th>number_of_vehicles_involved</th>\n",
              "      <th>number_of_fatalities</th>\n",
              "      <th>number_of_injuries</th>\n",
              "      <th>weather_condition</th>\n",
              "      <th>road_description</th>\n",
              "      <th>slope_description</th>\n",
              "    </tr>\n",
              "  </thead>\n",
              "  <tbody>\n",
              "    <tr>\n",
              "      <th>0</th>\n",
              "      <td>571905</td>\n",
              "      <td>2019-01-01 00:00:00</td>\n",
              "      <td>2019-01-02 06:11:00</td>\n",
              "      <td>1 days 06:11:00</td>\n",
              "      <td>Loburi</td>\n",
              "      <td>department of rural roads</td>\n",
              "      <td>Highway 21 (km 31+000) - Ban Wang Phloeng</td>\n",
              "      <td>motorcycle</td>\n",
              "      <td>driving under the influence of alcohol</td>\n",
              "      <td>other</td>\n",
              "      <td>1</td>\n",
              "      <td>0</td>\n",
              "      <td>2</td>\n",
              "      <td>clear</td>\n",
              "      <td>straight road</td>\n",
              "      <td>no slope</td>\n",
              "    </tr>\n",
              "    <tr>\n",
              "      <th>1</th>\n",
              "      <td>3790870</td>\n",
              "      <td>2019-01-01 00:03:00</td>\n",
              "      <td>2020-02-20 13:48:00</td>\n",
              "      <td>415 days 13:45:00</td>\n",
              "      <td>Ubon Ratchathani</td>\n",
              "      <td>department of highways</td>\n",
              "      <td>Dej Udom - Ubon Ratchathani</td>\n",
              "      <td>private/passenger car</td>\n",
              "      <td>speeding</td>\n",
              "      <td>rollover/fallen on straight road</td>\n",
              "      <td>1</td>\n",
              "      <td>0</td>\n",
              "      <td>2</td>\n",
              "      <td>clear</td>\n",
              "      <td>straight road</td>\n",
              "      <td>no slope</td>\n",
              "    </tr>\n",
              "    <tr>\n",
              "      <th>2</th>\n",
              "      <td>599075</td>\n",
              "      <td>2019-01-01 00:05:00</td>\n",
              "      <td>2019-01-01 10:35:00</td>\n",
              "      <td>0 days 10:30:00</td>\n",
              "      <td>Prachuap Khiri Khan</td>\n",
              "      <td>department of highways</td>\n",
              "      <td>Pranburi - Pak Nam Pran</td>\n",
              "      <td>motorcycle</td>\n",
              "      <td>speeding</td>\n",
              "      <td>head-on collision (not overtaking)</td>\n",
              "      <td>2</td>\n",
              "      <td>1</td>\n",
              "      <td>0</td>\n",
              "      <td>clear</td>\n",
              "      <td>wide curve</td>\n",
              "      <td>slope area</td>\n",
              "    </tr>\n",
              "    <tr>\n",
              "      <th>3</th>\n",
              "      <td>571924</td>\n",
              "      <td>2019-01-01 00:20:00</td>\n",
              "      <td>2019-01-02 05:12:00</td>\n",
              "      <td>1 days 04:52:00</td>\n",
              "      <td>Chiang Mai</td>\n",
              "      <td>department of rural roads</td>\n",
              "      <td>Connect Highway 1013 (km 8+200) - Ban Khun Klang</td>\n",
              "      <td>motorcycle</td>\n",
              "      <td>driving under the influence of alcohol</td>\n",
              "      <td>other</td>\n",
              "      <td>1</td>\n",
              "      <td>0</td>\n",
              "      <td>1</td>\n",
              "      <td>clear</td>\n",
              "      <td>straight road</td>\n",
              "      <td>no slope</td>\n",
              "    </tr>\n",
              "    <tr>\n",
              "      <th>4</th>\n",
              "      <td>599523</td>\n",
              "      <td>2019-01-01 00:25:00</td>\n",
              "      <td>2019-01-04 09:42:00</td>\n",
              "      <td>3 days 09:17:00</td>\n",
              "      <td>Nakhon Sawan</td>\n",
              "      <td>department of highways</td>\n",
              "      <td>Kayachai -Sri Mongkhon</td>\n",
              "      <td>private/passenger car</td>\n",
              "      <td>cutting in closely by people/vehicles/animals</td>\n",
              "      <td>rollover/fallen on straight road</td>\n",
              "      <td>1</td>\n",
              "      <td>0</td>\n",
              "      <td>0</td>\n",
              "      <td>clear</td>\n",
              "      <td>straight road</td>\n",
              "      <td>no slope</td>\n",
              "    </tr>\n",
              "    <tr>\n",
              "      <th>...</th>\n",
              "      <td>...</td>\n",
              "      <td>...</td>\n",
              "      <td>...</td>\n",
              "      <td>...</td>\n",
              "      <td>...</td>\n",
              "      <td>...</td>\n",
              "      <td>...</td>\n",
              "      <td>...</td>\n",
              "      <td>...</td>\n",
              "      <td>...</td>\n",
              "      <td>...</td>\n",
              "      <td>...</td>\n",
              "      <td>...</td>\n",
              "      <td>...</td>\n",
              "      <td>...</td>\n",
              "      <td>...</td>\n",
              "    </tr>\n",
              "    <tr>\n",
              "      <th>81730</th>\n",
              "      <td>7534454</td>\n",
              "      <td>2022-12-31 23:11:00</td>\n",
              "      <td>2023-01-01 21:49:00</td>\n",
              "      <td>0 days 22:38:00</td>\n",
              "      <td>Nonthaburi</td>\n",
              "      <td>department of highways</td>\n",
              "      <td>Khae Rai - Ban Mai Canal</td>\n",
              "      <td>motorcycle</td>\n",
              "      <td>speeding</td>\n",
              "      <td>rollover/fallen on straight road</td>\n",
              "      <td>1</td>\n",
              "      <td>1</td>\n",
              "      <td>0</td>\n",
              "      <td>clear</td>\n",
              "      <td>straight road</td>\n",
              "      <td>no slope</td>\n",
              "    </tr>\n",
              "    <tr>\n",
              "      <th>81731</th>\n",
              "      <td>7534701</td>\n",
              "      <td>2022-12-31 23:30:00</td>\n",
              "      <td>2023-01-01 22:55:00</td>\n",
              "      <td>0 days 23:25:00</td>\n",
              "      <td>Trat</td>\n",
              "      <td>department of highways</td>\n",
              "      <td>Trat - Laem Ngob</td>\n",
              "      <td>motorcycle</td>\n",
              "      <td>speeding</td>\n",
              "      <td>rollover/fallen on straight road</td>\n",
              "      <td>1</td>\n",
              "      <td>1</td>\n",
              "      <td>0</td>\n",
              "      <td>clear</td>\n",
              "      <td>other</td>\n",
              "      <td>other</td>\n",
              "    </tr>\n",
              "    <tr>\n",
              "      <th>81732</th>\n",
              "      <td>7567022</td>\n",
              "      <td>2022-12-31 23:30:00</td>\n",
              "      <td>2023-01-23 09:17:00</td>\n",
              "      <td>22 days 09:47:00</td>\n",
              "      <td>Maha Sarakham</td>\n",
              "      <td>department of highways</td>\n",
              "      <td>Wapi Pathum - Phayakkhaphum Phisai</td>\n",
              "      <td>van</td>\n",
              "      <td>speeding</td>\n",
              "      <td>rollover/fallen on straight road</td>\n",
              "      <td>1</td>\n",
              "      <td>0</td>\n",
              "      <td>3</td>\n",
              "      <td>clear</td>\n",
              "      <td>straight road</td>\n",
              "      <td>no slope</td>\n",
              "    </tr>\n",
              "    <tr>\n",
              "      <th>81733</th>\n",
              "      <td>7531271</td>\n",
              "      <td>2022-12-31 23:45:00</td>\n",
              "      <td>2023-01-01 05:36:00</td>\n",
              "      <td>0 days 05:51:00</td>\n",
              "      <td>Kamphaeng Phet</td>\n",
              "      <td>department of highways</td>\n",
              "      <td>Nakhon Chum -Mo Charoen</td>\n",
              "      <td>motorcycle</td>\n",
              "      <td>driving under the influence of alcohol</td>\n",
              "      <td>rollover/fallen on straight road</td>\n",
              "      <td>1</td>\n",
              "      <td>1</td>\n",
              "      <td>0</td>\n",
              "      <td>clear</td>\n",
              "      <td>straight road</td>\n",
              "      <td>no slope</td>\n",
              "    </tr>\n",
              "    <tr>\n",
              "      <th>81734</th>\n",
              "      <td>7556715</td>\n",
              "      <td>2022-12-31 23:55:00</td>\n",
              "      <td>2023-01-11 14:50:00</td>\n",
              "      <td>10 days 14:55:00</td>\n",
              "      <td>Chiang Rai</td>\n",
              "      <td>department of highways</td>\n",
              "      <td>Mae Kon Junction - Huai Phlu</td>\n",
              "      <td>private/passenger car</td>\n",
              "      <td>speeding</td>\n",
              "      <td>rear-end collision</td>\n",
              "      <td>2</td>\n",
              "      <td>3</td>\n",
              "      <td>0</td>\n",
              "      <td>clear</td>\n",
              "      <td>straight road</td>\n",
              "      <td>no slope</td>\n",
              "    </tr>\n",
              "  </tbody>\n",
              "</table>\n",
              "<p>81735 rows × 16 columns</p>\n",
              "</div>\n",
              "    <div class=\"colab-df-buttons\">\n",
              "\n",
              "  <div class=\"colab-df-container\">\n",
              "    <button class=\"colab-df-convert\" onclick=\"convertToInteractive('df-abae521c-f1e7-458f-9f72-49d0874ba3f4')\"\n",
              "            title=\"Convert this dataframe to an interactive table.\"\n",
              "            style=\"display:none;\">\n",
              "\n",
              "  <svg xmlns=\"http://www.w3.org/2000/svg\" height=\"24px\" viewBox=\"0 -960 960 960\">\n",
              "    <path d=\"M120-120v-720h720v720H120Zm60-500h600v-160H180v160Zm220 220h160v-160H400v160Zm0 220h160v-160H400v160ZM180-400h160v-160H180v160Zm440 0h160v-160H620v160ZM180-180h160v-160H180v160Zm440 0h160v-160H620v160Z\"/>\n",
              "  </svg>\n",
              "    </button>\n",
              "\n",
              "  <style>\n",
              "    .colab-df-container {\n",
              "      display:flex;\n",
              "      gap: 12px;\n",
              "    }\n",
              "\n",
              "    .colab-df-convert {\n",
              "      background-color: #E8F0FE;\n",
              "      border: none;\n",
              "      border-radius: 50%;\n",
              "      cursor: pointer;\n",
              "      display: none;\n",
              "      fill: #1967D2;\n",
              "      height: 32px;\n",
              "      padding: 0 0 0 0;\n",
              "      width: 32px;\n",
              "    }\n",
              "\n",
              "    .colab-df-convert:hover {\n",
              "      background-color: #E2EBFA;\n",
              "      box-shadow: 0px 1px 2px rgba(60, 64, 67, 0.3), 0px 1px 3px 1px rgba(60, 64, 67, 0.15);\n",
              "      fill: #174EA6;\n",
              "    }\n",
              "\n",
              "    .colab-df-buttons div {\n",
              "      margin-bottom: 4px;\n",
              "    }\n",
              "\n",
              "    [theme=dark] .colab-df-convert {\n",
              "      background-color: #3B4455;\n",
              "      fill: #D2E3FC;\n",
              "    }\n",
              "\n",
              "    [theme=dark] .colab-df-convert:hover {\n",
              "      background-color: #434B5C;\n",
              "      box-shadow: 0px 1px 3px 1px rgba(0, 0, 0, 0.15);\n",
              "      filter: drop-shadow(0px 1px 2px rgba(0, 0, 0, 0.3));\n",
              "      fill: #FFFFFF;\n",
              "    }\n",
              "  </style>\n",
              "\n",
              "    <script>\n",
              "      const buttonEl =\n",
              "        document.querySelector('#df-abae521c-f1e7-458f-9f72-49d0874ba3f4 button.colab-df-convert');\n",
              "      buttonEl.style.display =\n",
              "        google.colab.kernel.accessAllowed ? 'block' : 'none';\n",
              "\n",
              "      async function convertToInteractive(key) {\n",
              "        const element = document.querySelector('#df-abae521c-f1e7-458f-9f72-49d0874ba3f4');\n",
              "        const dataTable =\n",
              "          await google.colab.kernel.invokeFunction('convertToInteractive',\n",
              "                                                    [key], {});\n",
              "        if (!dataTable) return;\n",
              "\n",
              "        const docLinkHtml = 'Like what you see? Visit the ' +\n",
              "          '<a target=\"_blank\" href=https://colab.research.google.com/notebooks/data_table.ipynb>data table notebook</a>'\n",
              "          + ' to learn more about interactive tables.';\n",
              "        element.innerHTML = '';\n",
              "        dataTable['output_type'] = 'display_data';\n",
              "        await google.colab.output.renderOutput(dataTable, element);\n",
              "        const docLink = document.createElement('div');\n",
              "        docLink.innerHTML = docLinkHtml;\n",
              "        element.appendChild(docLink);\n",
              "      }\n",
              "    </script>\n",
              "  </div>\n",
              "\n",
              "\n",
              "<div id=\"df-37d84b72-43b4-4a97-a1a6-be98e74d0d76\">\n",
              "  <button class=\"colab-df-quickchart\" onclick=\"quickchart('df-37d84b72-43b4-4a97-a1a6-be98e74d0d76')\"\n",
              "            title=\"Suggest charts.\"\n",
              "            style=\"display:none;\">\n",
              "\n",
              "<svg xmlns=\"http://www.w3.org/2000/svg\" height=\"24px\"viewBox=\"0 0 24 24\"\n",
              "     width=\"24px\">\n",
              "    <g>\n",
              "        <path d=\"M19 3H5c-1.1 0-2 .9-2 2v14c0 1.1.9 2 2 2h14c1.1 0 2-.9 2-2V5c0-1.1-.9-2-2-2zM9 17H7v-7h2v7zm4 0h-2V7h2v10zm4 0h-2v-4h2v4z\"/>\n",
              "    </g>\n",
              "</svg>\n",
              "  </button>\n",
              "\n",
              "<style>\n",
              "  .colab-df-quickchart {\n",
              "      --bg-color: #E8F0FE;\n",
              "      --fill-color: #1967D2;\n",
              "      --hover-bg-color: #E2EBFA;\n",
              "      --hover-fill-color: #174EA6;\n",
              "      --disabled-fill-color: #AAA;\n",
              "      --disabled-bg-color: #DDD;\n",
              "  }\n",
              "\n",
              "  [theme=dark] .colab-df-quickchart {\n",
              "      --bg-color: #3B4455;\n",
              "      --fill-color: #D2E3FC;\n",
              "      --hover-bg-color: #434B5C;\n",
              "      --hover-fill-color: #FFFFFF;\n",
              "      --disabled-bg-color: #3B4455;\n",
              "      --disabled-fill-color: #666;\n",
              "  }\n",
              "\n",
              "  .colab-df-quickchart {\n",
              "    background-color: var(--bg-color);\n",
              "    border: none;\n",
              "    border-radius: 50%;\n",
              "    cursor: pointer;\n",
              "    display: none;\n",
              "    fill: var(--fill-color);\n",
              "    height: 32px;\n",
              "    padding: 0;\n",
              "    width: 32px;\n",
              "  }\n",
              "\n",
              "  .colab-df-quickchart:hover {\n",
              "    background-color: var(--hover-bg-color);\n",
              "    box-shadow: 0 1px 2px rgba(60, 64, 67, 0.3), 0 1px 3px 1px rgba(60, 64, 67, 0.15);\n",
              "    fill: var(--button-hover-fill-color);\n",
              "  }\n",
              "\n",
              "  .colab-df-quickchart-complete:disabled,\n",
              "  .colab-df-quickchart-complete:disabled:hover {\n",
              "    background-color: var(--disabled-bg-color);\n",
              "    fill: var(--disabled-fill-color);\n",
              "    box-shadow: none;\n",
              "  }\n",
              "\n",
              "  .colab-df-spinner {\n",
              "    border: 2px solid var(--fill-color);\n",
              "    border-color: transparent;\n",
              "    border-bottom-color: var(--fill-color);\n",
              "    animation:\n",
              "      spin 1s steps(1) infinite;\n",
              "  }\n",
              "\n",
              "  @keyframes spin {\n",
              "    0% {\n",
              "      border-color: transparent;\n",
              "      border-bottom-color: var(--fill-color);\n",
              "      border-left-color: var(--fill-color);\n",
              "    }\n",
              "    20% {\n",
              "      border-color: transparent;\n",
              "      border-left-color: var(--fill-color);\n",
              "      border-top-color: var(--fill-color);\n",
              "    }\n",
              "    30% {\n",
              "      border-color: transparent;\n",
              "      border-left-color: var(--fill-color);\n",
              "      border-top-color: var(--fill-color);\n",
              "      border-right-color: var(--fill-color);\n",
              "    }\n",
              "    40% {\n",
              "      border-color: transparent;\n",
              "      border-right-color: var(--fill-color);\n",
              "      border-top-color: var(--fill-color);\n",
              "    }\n",
              "    60% {\n",
              "      border-color: transparent;\n",
              "      border-right-color: var(--fill-color);\n",
              "    }\n",
              "    80% {\n",
              "      border-color: transparent;\n",
              "      border-right-color: var(--fill-color);\n",
              "      border-bottom-color: var(--fill-color);\n",
              "    }\n",
              "    90% {\n",
              "      border-color: transparent;\n",
              "      border-bottom-color: var(--fill-color);\n",
              "    }\n",
              "  }\n",
              "</style>\n",
              "\n",
              "  <script>\n",
              "    async function quickchart(key) {\n",
              "      const quickchartButtonEl =\n",
              "        document.querySelector('#' + key + ' button');\n",
              "      quickchartButtonEl.disabled = true;  // To prevent multiple clicks.\n",
              "      quickchartButtonEl.classList.add('colab-df-spinner');\n",
              "      try {\n",
              "        const charts = await google.colab.kernel.invokeFunction(\n",
              "            'suggestCharts', [key], {});\n",
              "      } catch (error) {\n",
              "        console.error('Error during call to suggestCharts:', error);\n",
              "      }\n",
              "      quickchartButtonEl.classList.remove('colab-df-spinner');\n",
              "      quickchartButtonEl.classList.add('colab-df-quickchart-complete');\n",
              "    }\n",
              "    (() => {\n",
              "      let quickchartButtonEl =\n",
              "        document.querySelector('#df-37d84b72-43b4-4a97-a1a6-be98e74d0d76 button');\n",
              "      quickchartButtonEl.style.display =\n",
              "        google.colab.kernel.accessAllowed ? 'block' : 'none';\n",
              "    })();\n",
              "  </script>\n",
              "</div>\n",
              "    </div>\n",
              "  </div>\n"
            ]
          },
          "metadata": {},
          "execution_count": 220
        }
      ]
    },
    {
      "cell_type": "markdown",
      "source": [
        "## **DATA VISUALIZATION**"
      ],
      "metadata": {
        "id": "3CR001YF-64b"
      }
    },
    {
      "cell_type": "code",
      "source": [],
      "metadata": {
        "id": "8H9AFK4tbeFC"
      },
      "execution_count": 110,
      "outputs": []
    }
  ]
}