{
  "nbformat": 4,
  "nbformat_minor": 0,
  "metadata": {
    "colab": {
      "provenance": [],
      "collapsed_sections": [
        "ENoPZHcNTAfu",
        "TsreToknqegX",
        "TVvQUhPS7s73"
      ],
      "toc_visible": true,
      "authorship_tag": "ABX9TyPMlNKrahULO0O/CcovGrYr",
      "include_colab_link": true
    },
    "kernelspec": {
      "name": "python3",
      "display_name": "Python 3"
    },
    "language_info": {
      "name": "python"
    }
  },
  "cells": [
    {
      "cell_type": "markdown",
      "metadata": {
        "id": "view-in-github",
        "colab_type": "text"
      },
      "source": [
        "<a href=\"https://colab.research.google.com/github/LegendSeyi/Thai_Road_Accident_Data_Analysis/blob/main/Thai_Road_Accident_data_analysis.ipynb\" target=\"_parent\"><img src=\"https://colab.research.google.com/assets/colab-badge.svg\" alt=\"Open In Colab\"/></a>"
      ]
    },
    {
      "cell_type": "markdown",
      "source": [
        "# **THAI ROAD ACCIDENT ANALYSIS**\n",
        "#### **_By Adeyemi Oluwaseyi Emmanuel_**\n",
        "\n",
        "[Click here to check Linkedin profile](https://www.linkedin.com/in/oluwaseyi-adeyemi-33b1ab197/)\n",
        "\n",
        "[Twitter link](https://twitter.com/AmLegendseyi)"
      ],
      "metadata": {
        "id": "r0WJ0fFVU1bE"
      }
    },
    {
      "cell_type": "markdown",
      "source": [
        "## **INTRODUCTION**"
      ],
      "metadata": {
        "id": "EgciNOtgVaji"
      }
    },
    {
      "cell_type": "markdown",
      "source": [
        "This dataset provides comprehensive statistics on recorded road accidents in Thailand, spanning from approximately 2019 to 2022. The data was sourced from raw information provided by the Office of the Permanent Secretary, Ministry of Transport, which is also utilized in this public dashboard for easier access and visualization. The dataset encompasses various aspects of road accidents and aims to shed light on the trends and patterns within this critical area of concern, analysis of this data could be crucial in guiding road safety policies and measures👍."
      ],
      "metadata": {
        "id": "_WnK4RPzVhVq"
      }
    },
    {
      "cell_type": "markdown",
      "source": [
        "We import our required libraries"
      ],
      "metadata": {
        "id": "jefhjhFeWWfB"
      }
    },
    {
      "cell_type": "code",
      "source": [
        "import pandas as pd\n",
        "import numpy as np\n",
        "import matplotlib.pyplot as plt\n",
        "import seaborn as sns"
      ],
      "metadata": {
        "id": "_z-VHq4HWMAR"
      },
      "execution_count": null,
      "outputs": []
    },
    {
      "cell_type": "code",
      "source": [
        "## creating a dictionary in python and converting it to a dataframe\n",
        "tb = {'Column':['acc_code',\n",
        "    'incident_datetime',\n",
        "    'report_datetime',\n",
        "    'province_th',\n",
        "    'province_en',\n",
        "    'agency',\n",
        "    'route',\n",
        "    'vehicle_type',\n",
        "    'presumed_cause',\n",
        "    'accident_type',\n",
        "    'number_of_vehicles_involved',\n",
        "    'number_of_fatalities',\n",
        "    'number_of_injuries',\n",
        "    'weather_condition',\n",
        "    'latitude',\n",
        "    'longitude',\n",
        "    'road_description',\n",
        "    'slope_description'],\n",
        "    'Description':['The accident code or identifier',\n",
        "    'The date and time of the accident occurrence',\n",
        "    'The date and time when the accident was reported',\n",
        "    'The name of the province in Thailand, written in Thai',\n",
        "    'The name of the province in Thailand, written in English',\n",
        "    'The government agency responsible for the road and traffic management',\n",
        "    'The route or road segment where the accident occurred',\n",
        "    'The type of vehicle involved in the accident',\n",
        "    'The presumed cause or reason for the accident',\n",
        "    'The type or nature of the accident',\n",
        "    'The number of vehicles involved in the accident',\n",
        "    'The number of fatalities resulting from the accident',\n",
        "    'The number of injuries resulting from the accident',\n",
        "    'The weather condition at the time of the accident',\n",
        "    'The latitude coordinate of the accident location',\n",
        "    'The longitude coordinate of the accident location',\n",
        "    'The description of the road type or configuration where the accident occurred',\n",
        "    'The description of the slope condition at the accident location']\n",
        "     }"
      ],
      "metadata": {
        "id": "KgPtFp6CVody"
      },
      "execution_count": null,
      "outputs": []
    },
    {
      "cell_type": "code",
      "source": [
        "## Converting the dictionary to a data frame\n",
        "dico = pd.DataFrame(tb)"
      ],
      "metadata": {
        "id": "SSyRBg_UWDUX"
      },
      "execution_count": null,
      "outputs": []
    },
    {
      "cell_type": "code",
      "source": [
        "dico"
      ],
      "metadata": {
        "colab": {
          "base_uri": "https://localhost:8080/",
          "height": 613
        },
        "id": "S-9NAzx1WrYW",
        "outputId": "52de1e3a-b087-4e90-ed38-a9021b54e1ca"
      },
      "execution_count": null,
      "outputs": [
        {
          "output_type": "execute_result",
          "data": {
            "text/plain": [
              "                         Column  \\\n",
              "0                      acc_code   \n",
              "1             incident_datetime   \n",
              "2               report_datetime   \n",
              "3                   province_th   \n",
              "4                   province_en   \n",
              "5                        agency   \n",
              "6                         route   \n",
              "7                  vehicle_type   \n",
              "8                presumed_cause   \n",
              "9                 accident_type   \n",
              "10  number_of_vehicles_involved   \n",
              "11         number_of_fatalities   \n",
              "12           number_of_injuries   \n",
              "13            weather_condition   \n",
              "14                     latitude   \n",
              "15                    longitude   \n",
              "16             road_description   \n",
              "17            slope_description   \n",
              "\n",
              "                                          Description  \n",
              "0                     The accident code or identifier  \n",
              "1        The date and time of the accident occurrence  \n",
              "2    The date and time when the accident was reported  \n",
              "3   The name of the province in Thailand, written ...  \n",
              "4   The name of the province in Thailand, written ...  \n",
              "5   The government agency responsible for the road...  \n",
              "6   The route or road segment where the accident o...  \n",
              "7        The type of vehicle involved in the accident  \n",
              "8       The presumed cause or reason for the accident  \n",
              "9                  The type or nature of the accident  \n",
              "10    The number of vehicles involved in the accident  \n",
              "11  The number of fatalities resulting from the ac...  \n",
              "12  The number of injuries resulting from the acci...  \n",
              "13  The weather condition at the time of the accident  \n",
              "14   The latitude coordinate of the accident location  \n",
              "15  The longitude coordinate of the accident location  \n",
              "16  The description of the road type or configurat...  \n",
              "17  The description of the slope condition at the ...  "
            ],
            "text/html": [
              "\n",
              "  <div id=\"df-8b5d944d-5702-4d88-bb0c-8cf500db6788\" class=\"colab-df-container\">\n",
              "    <div>\n",
              "<style scoped>\n",
              "    .dataframe tbody tr th:only-of-type {\n",
              "        vertical-align: middle;\n",
              "    }\n",
              "\n",
              "    .dataframe tbody tr th {\n",
              "        vertical-align: top;\n",
              "    }\n",
              "\n",
              "    .dataframe thead th {\n",
              "        text-align: right;\n",
              "    }\n",
              "</style>\n",
              "<table border=\"1\" class=\"dataframe\">\n",
              "  <thead>\n",
              "    <tr style=\"text-align: right;\">\n",
              "      <th></th>\n",
              "      <th>Column</th>\n",
              "      <th>Description</th>\n",
              "    </tr>\n",
              "  </thead>\n",
              "  <tbody>\n",
              "    <tr>\n",
              "      <th>0</th>\n",
              "      <td>acc_code</td>\n",
              "      <td>The accident code or identifier</td>\n",
              "    </tr>\n",
              "    <tr>\n",
              "      <th>1</th>\n",
              "      <td>incident_datetime</td>\n",
              "      <td>The date and time of the accident occurrence</td>\n",
              "    </tr>\n",
              "    <tr>\n",
              "      <th>2</th>\n",
              "      <td>report_datetime</td>\n",
              "      <td>The date and time when the accident was reported</td>\n",
              "    </tr>\n",
              "    <tr>\n",
              "      <th>3</th>\n",
              "      <td>province_th</td>\n",
              "      <td>The name of the province in Thailand, written ...</td>\n",
              "    </tr>\n",
              "    <tr>\n",
              "      <th>4</th>\n",
              "      <td>province_en</td>\n",
              "      <td>The name of the province in Thailand, written ...</td>\n",
              "    </tr>\n",
              "    <tr>\n",
              "      <th>5</th>\n",
              "      <td>agency</td>\n",
              "      <td>The government agency responsible for the road...</td>\n",
              "    </tr>\n",
              "    <tr>\n",
              "      <th>6</th>\n",
              "      <td>route</td>\n",
              "      <td>The route or road segment where the accident o...</td>\n",
              "    </tr>\n",
              "    <tr>\n",
              "      <th>7</th>\n",
              "      <td>vehicle_type</td>\n",
              "      <td>The type of vehicle involved in the accident</td>\n",
              "    </tr>\n",
              "    <tr>\n",
              "      <th>8</th>\n",
              "      <td>presumed_cause</td>\n",
              "      <td>The presumed cause or reason for the accident</td>\n",
              "    </tr>\n",
              "    <tr>\n",
              "      <th>9</th>\n",
              "      <td>accident_type</td>\n",
              "      <td>The type or nature of the accident</td>\n",
              "    </tr>\n",
              "    <tr>\n",
              "      <th>10</th>\n",
              "      <td>number_of_vehicles_involved</td>\n",
              "      <td>The number of vehicles involved in the accident</td>\n",
              "    </tr>\n",
              "    <tr>\n",
              "      <th>11</th>\n",
              "      <td>number_of_fatalities</td>\n",
              "      <td>The number of fatalities resulting from the ac...</td>\n",
              "    </tr>\n",
              "    <tr>\n",
              "      <th>12</th>\n",
              "      <td>number_of_injuries</td>\n",
              "      <td>The number of injuries resulting from the acci...</td>\n",
              "    </tr>\n",
              "    <tr>\n",
              "      <th>13</th>\n",
              "      <td>weather_condition</td>\n",
              "      <td>The weather condition at the time of the accident</td>\n",
              "    </tr>\n",
              "    <tr>\n",
              "      <th>14</th>\n",
              "      <td>latitude</td>\n",
              "      <td>The latitude coordinate of the accident location</td>\n",
              "    </tr>\n",
              "    <tr>\n",
              "      <th>15</th>\n",
              "      <td>longitude</td>\n",
              "      <td>The longitude coordinate of the accident location</td>\n",
              "    </tr>\n",
              "    <tr>\n",
              "      <th>16</th>\n",
              "      <td>road_description</td>\n",
              "      <td>The description of the road type or configurat...</td>\n",
              "    </tr>\n",
              "    <tr>\n",
              "      <th>17</th>\n",
              "      <td>slope_description</td>\n",
              "      <td>The description of the slope condition at the ...</td>\n",
              "    </tr>\n",
              "  </tbody>\n",
              "</table>\n",
              "</div>\n",
              "    <div class=\"colab-df-buttons\">\n",
              "\n",
              "  <div class=\"colab-df-container\">\n",
              "    <button class=\"colab-df-convert\" onclick=\"convertToInteractive('df-8b5d944d-5702-4d88-bb0c-8cf500db6788')\"\n",
              "            title=\"Convert this dataframe to an interactive table.\"\n",
              "            style=\"display:none;\">\n",
              "\n",
              "  <svg xmlns=\"http://www.w3.org/2000/svg\" height=\"24px\" viewBox=\"0 -960 960 960\">\n",
              "    <path d=\"M120-120v-720h720v720H120Zm60-500h600v-160H180v160Zm220 220h160v-160H400v160Zm0 220h160v-160H400v160ZM180-400h160v-160H180v160Zm440 0h160v-160H620v160ZM180-180h160v-160H180v160Zm440 0h160v-160H620v160Z\"/>\n",
              "  </svg>\n",
              "    </button>\n",
              "\n",
              "  <style>\n",
              "    .colab-df-container {\n",
              "      display:flex;\n",
              "      gap: 12px;\n",
              "    }\n",
              "\n",
              "    .colab-df-convert {\n",
              "      background-color: #E8F0FE;\n",
              "      border: none;\n",
              "      border-radius: 50%;\n",
              "      cursor: pointer;\n",
              "      display: none;\n",
              "      fill: #1967D2;\n",
              "      height: 32px;\n",
              "      padding: 0 0 0 0;\n",
              "      width: 32px;\n",
              "    }\n",
              "\n",
              "    .colab-df-convert:hover {\n",
              "      background-color: #E2EBFA;\n",
              "      box-shadow: 0px 1px 2px rgba(60, 64, 67, 0.3), 0px 1px 3px 1px rgba(60, 64, 67, 0.15);\n",
              "      fill: #174EA6;\n",
              "    }\n",
              "\n",
              "    .colab-df-buttons div {\n",
              "      margin-bottom: 4px;\n",
              "    }\n",
              "\n",
              "    [theme=dark] .colab-df-convert {\n",
              "      background-color: #3B4455;\n",
              "      fill: #D2E3FC;\n",
              "    }\n",
              "\n",
              "    [theme=dark] .colab-df-convert:hover {\n",
              "      background-color: #434B5C;\n",
              "      box-shadow: 0px 1px 3px 1px rgba(0, 0, 0, 0.15);\n",
              "      filter: drop-shadow(0px 1px 2px rgba(0, 0, 0, 0.3));\n",
              "      fill: #FFFFFF;\n",
              "    }\n",
              "  </style>\n",
              "\n",
              "    <script>\n",
              "      const buttonEl =\n",
              "        document.querySelector('#df-8b5d944d-5702-4d88-bb0c-8cf500db6788 button.colab-df-convert');\n",
              "      buttonEl.style.display =\n",
              "        google.colab.kernel.accessAllowed ? 'block' : 'none';\n",
              "\n",
              "      async function convertToInteractive(key) {\n",
              "        const element = document.querySelector('#df-8b5d944d-5702-4d88-bb0c-8cf500db6788');\n",
              "        const dataTable =\n",
              "          await google.colab.kernel.invokeFunction('convertToInteractive',\n",
              "                                                    [key], {});\n",
              "        if (!dataTable) return;\n",
              "\n",
              "        const docLinkHtml = 'Like what you see? Visit the ' +\n",
              "          '<a target=\"_blank\" href=https://colab.research.google.com/notebooks/data_table.ipynb>data table notebook</a>'\n",
              "          + ' to learn more about interactive tables.';\n",
              "        element.innerHTML = '';\n",
              "        dataTable['output_type'] = 'display_data';\n",
              "        await google.colab.output.renderOutput(dataTable, element);\n",
              "        const docLink = document.createElement('div');\n",
              "        docLink.innerHTML = docLinkHtml;\n",
              "        element.appendChild(docLink);\n",
              "      }\n",
              "    </script>\n",
              "  </div>\n",
              "\n",
              "\n",
              "<div id=\"df-c5afc7ab-dbfe-4d95-a43d-af531d3b98c3\">\n",
              "  <button class=\"colab-df-quickchart\" onclick=\"quickchart('df-c5afc7ab-dbfe-4d95-a43d-af531d3b98c3')\"\n",
              "            title=\"Suggest charts.\"\n",
              "            style=\"display:none;\">\n",
              "\n",
              "<svg xmlns=\"http://www.w3.org/2000/svg\" height=\"24px\"viewBox=\"0 0 24 24\"\n",
              "     width=\"24px\">\n",
              "    <g>\n",
              "        <path d=\"M19 3H5c-1.1 0-2 .9-2 2v14c0 1.1.9 2 2 2h14c1.1 0 2-.9 2-2V5c0-1.1-.9-2-2-2zM9 17H7v-7h2v7zm4 0h-2V7h2v10zm4 0h-2v-4h2v4z\"/>\n",
              "    </g>\n",
              "</svg>\n",
              "  </button>\n",
              "\n",
              "<style>\n",
              "  .colab-df-quickchart {\n",
              "      --bg-color: #E8F0FE;\n",
              "      --fill-color: #1967D2;\n",
              "      --hover-bg-color: #E2EBFA;\n",
              "      --hover-fill-color: #174EA6;\n",
              "      --disabled-fill-color: #AAA;\n",
              "      --disabled-bg-color: #DDD;\n",
              "  }\n",
              "\n",
              "  [theme=dark] .colab-df-quickchart {\n",
              "      --bg-color: #3B4455;\n",
              "      --fill-color: #D2E3FC;\n",
              "      --hover-bg-color: #434B5C;\n",
              "      --hover-fill-color: #FFFFFF;\n",
              "      --disabled-bg-color: #3B4455;\n",
              "      --disabled-fill-color: #666;\n",
              "  }\n",
              "\n",
              "  .colab-df-quickchart {\n",
              "    background-color: var(--bg-color);\n",
              "    border: none;\n",
              "    border-radius: 50%;\n",
              "    cursor: pointer;\n",
              "    display: none;\n",
              "    fill: var(--fill-color);\n",
              "    height: 32px;\n",
              "    padding: 0;\n",
              "    width: 32px;\n",
              "  }\n",
              "\n",
              "  .colab-df-quickchart:hover {\n",
              "    background-color: var(--hover-bg-color);\n",
              "    box-shadow: 0 1px 2px rgba(60, 64, 67, 0.3), 0 1px 3px 1px rgba(60, 64, 67, 0.15);\n",
              "    fill: var(--button-hover-fill-color);\n",
              "  }\n",
              "\n",
              "  .colab-df-quickchart-complete:disabled,\n",
              "  .colab-df-quickchart-complete:disabled:hover {\n",
              "    background-color: var(--disabled-bg-color);\n",
              "    fill: var(--disabled-fill-color);\n",
              "    box-shadow: none;\n",
              "  }\n",
              "\n",
              "  .colab-df-spinner {\n",
              "    border: 2px solid var(--fill-color);\n",
              "    border-color: transparent;\n",
              "    border-bottom-color: var(--fill-color);\n",
              "    animation:\n",
              "      spin 1s steps(1) infinite;\n",
              "  }\n",
              "\n",
              "  @keyframes spin {\n",
              "    0% {\n",
              "      border-color: transparent;\n",
              "      border-bottom-color: var(--fill-color);\n",
              "      border-left-color: var(--fill-color);\n",
              "    }\n",
              "    20% {\n",
              "      border-color: transparent;\n",
              "      border-left-color: var(--fill-color);\n",
              "      border-top-color: var(--fill-color);\n",
              "    }\n",
              "    30% {\n",
              "      border-color: transparent;\n",
              "      border-left-color: var(--fill-color);\n",
              "      border-top-color: var(--fill-color);\n",
              "      border-right-color: var(--fill-color);\n",
              "    }\n",
              "    40% {\n",
              "      border-color: transparent;\n",
              "      border-right-color: var(--fill-color);\n",
              "      border-top-color: var(--fill-color);\n",
              "    }\n",
              "    60% {\n",
              "      border-color: transparent;\n",
              "      border-right-color: var(--fill-color);\n",
              "    }\n",
              "    80% {\n",
              "      border-color: transparent;\n",
              "      border-right-color: var(--fill-color);\n",
              "      border-bottom-color: var(--fill-color);\n",
              "    }\n",
              "    90% {\n",
              "      border-color: transparent;\n",
              "      border-bottom-color: var(--fill-color);\n",
              "    }\n",
              "  }\n",
              "</style>\n",
              "\n",
              "  <script>\n",
              "    async function quickchart(key) {\n",
              "      const quickchartButtonEl =\n",
              "        document.querySelector('#' + key + ' button');\n",
              "      quickchartButtonEl.disabled = true;  // To prevent multiple clicks.\n",
              "      quickchartButtonEl.classList.add('colab-df-spinner');\n",
              "      try {\n",
              "        const charts = await google.colab.kernel.invokeFunction(\n",
              "            'suggestCharts', [key], {});\n",
              "      } catch (error) {\n",
              "        console.error('Error during call to suggestCharts:', error);\n",
              "      }\n",
              "      quickchartButtonEl.classList.remove('colab-df-spinner');\n",
              "      quickchartButtonEl.classList.add('colab-df-quickchart-complete');\n",
              "    }\n",
              "    (() => {\n",
              "      let quickchartButtonEl =\n",
              "        document.querySelector('#df-c5afc7ab-dbfe-4d95-a43d-af531d3b98c3 button');\n",
              "      quickchartButtonEl.style.display =\n",
              "        google.colab.kernel.accessAllowed ? 'block' : 'none';\n",
              "    })();\n",
              "  </script>\n",
              "</div>\n",
              "    </div>\n",
              "  </div>\n"
            ]
          },
          "metadata": {},
          "execution_count": 6
        }
      ]
    },
    {
      "cell_type": "code",
      "source": [],
      "metadata": {
        "id": "ioCB4e0_WMse"
      },
      "execution_count": null,
      "outputs": []
    },
    {
      "cell_type": "markdown",
      "source": [
        "The above table is the describtion of each columns in the dataset...."
      ],
      "metadata": {
        "id": "-vMy40v1Wx62"
      }
    },
    {
      "cell_type": "markdown",
      "source": [
        "With this information, we can now import our daraset for the analysis"
      ],
      "metadata": {
        "id": "Q6hIWNdYXBi-"
      }
    },
    {
      "cell_type": "markdown",
      "source": [
        "## **UNDERSTANDING THE DATASET**"
      ],
      "metadata": {
        "id": "ENoPZHcNTAfu"
      }
    },
    {
      "cell_type": "code",
      "source": [
        "# We will use the pandas library to import our dataset"
      ],
      "metadata": {
        "id": "Bz5-keWth28u"
      },
      "execution_count": null,
      "outputs": []
    },
    {
      "cell_type": "code",
      "source": [
        "# We can import our dataset from github\n",
        "\n",
        "\n",
        "url = 'https://raw.githubusercontent.com/LegendSeyi/Dataset/main/thai_road_accident_2019_2022.csv'\n",
        "\n",
        "pd.set_option('display.max_columns', None)\n",
        "data = pd.read_csv(url, encoding= 'unicode_escape')\n"
      ],
      "metadata": {
        "id": "a957jsfTjbJj"
      },
      "execution_count": null,
      "outputs": []
    },
    {
      "cell_type": "code",
      "source": [
        "data.rename(columns = {'ï»¿acc_code': 'acc_code'}, inplace = True)"
      ],
      "metadata": {
        "id": "BDdigM-03PGS"
      },
      "execution_count": null,
      "outputs": []
    },
    {
      "cell_type": "code",
      "source": [
        "data.head()"
      ],
      "metadata": {
        "colab": {
          "base_uri": "https://localhost:8080/",
          "height": 399
        },
        "id": "Q4j26rM2mMR_",
        "outputId": "c277dad9-5de4-44d6-f93e-c7e0fc6fcf44"
      },
      "execution_count": null,
      "outputs": [
        {
          "output_type": "execute_result",
          "data": {
            "text/plain": [
              "   acc_code    incident_datetime      report_datetime  \\\n",
              "0    571905  2019-01-01 00:00:00  2019-01-02 06:11:00   \n",
              "1   3790870  2019-01-01 00:03:00  2020-02-20 13:48:00   \n",
              "2    599075  2019-01-01 00:05:00  2019-01-01 10:35:00   \n",
              "3    571924  2019-01-01 00:20:00  2019-01-02 05:12:00   \n",
              "4    599523  2019-01-01 00:25:00  2019-01-04 09:42:00   \n",
              "\n",
              "                                     province_th          province_en  \\\n",
              "0                             à¸¥à¸à¸à¸¸à¸£à¸µ               Loburi   \n",
              "1              à¸­à¸¸à¸à¸¥à¸£à¸²à¸à¸à¸²à¸à¸µ     Ubon Ratchathani   \n",
              "2  à¸à¸£à¸°à¸à¸§à¸à¸à¸µà¸£à¸µà¸à¸±à¸à¸à¹  Prachuap Khiri Khan   \n",
              "3                    à¹à¸à¸µà¸¢à¸à¹à¸«à¸¡à¹           Chiang Mai   \n",
              "4                    à¸à¸à¸£à¸ªà¸§à¸£à¸£à¸à¹         Nakhon Sawan   \n",
              "\n",
              "                      agency  \\\n",
              "0  department of rural roads   \n",
              "1     department of highways   \n",
              "2     department of highways   \n",
              "3  department of rural roads   \n",
              "4     department of highways   \n",
              "\n",
              "                                               route           vehicle_type  \\\n",
              "0  à¹à¸¢à¸à¸à¸²à¸à¸«à¸¥à¸§à¸à¸«à¸¡à¸²à¸¢à¹à...             motorcycle   \n",
              "1  à¹à¸à¸à¸­à¸¸à¸à¸¡ - à¸­à¸¸à¸à¸¥à¸£à¸²à¸à...  private/passenger car   \n",
              "2  à¸à¸£à¸²à¸à¸à¸¸à¸£à¸µ - à¸à¸²à¸à¸à¹à¸³à...             motorcycle   \n",
              "3  à¹à¸à¸·à¹à¸­à¸¡à¸à¸²à¸à¸«à¸¥à¸§à¸à¸«à¸¡à...             motorcycle   \n",
              "4         à¹à¸à¸¢à¹à¸à¸¢ - à¸¨à¸£à¸µà¸¡à¸à¸à¸¥  private/passenger car   \n",
              "\n",
              "                                  presumed_cause  \\\n",
              "0         driving under the influence of alcohol   \n",
              "1                                       speeding   \n",
              "2                                       speeding   \n",
              "3         driving under the influence of alcohol   \n",
              "4  cutting in closely by people/vehicles/animals   \n",
              "\n",
              "                        accident_type  number_of_vehicles_involved  \\\n",
              "0                               other                            1   \n",
              "1    rollover/fallen on straight road                            1   \n",
              "2  head-on collision (not overtaking)                            2   \n",
              "3                               other                            1   \n",
              "4    rollover/fallen on straight road                            1   \n",
              "\n",
              "   number_of_fatalities  number_of_injuries weather_condition   latitude  \\\n",
              "0                     0                   2             clear  14.959105   \n",
              "1                     0                   2             clear  15.210738   \n",
              "2                     1                   0             clear  12.374259   \n",
              "3                     0                   1             clear  18.601721   \n",
              "4                     0                   0             clear  15.866389   \n",
              "\n",
              "    longitude road_description slope_description  \n",
              "0  100.873463    straight road          no slope  \n",
              "1  104.862689    straight road          no slope  \n",
              "2   99.907949       wide curve        slope area  \n",
              "3   98.804204    straight road          no slope  \n",
              "4  100.590010    straight road          no slope  "
            ],
            "text/html": [
              "\n",
              "  <div id=\"df-84b58669-e6d2-40b1-9101-a59f071c6300\" class=\"colab-df-container\">\n",
              "    <div>\n",
              "<style scoped>\n",
              "    .dataframe tbody tr th:only-of-type {\n",
              "        vertical-align: middle;\n",
              "    }\n",
              "\n",
              "    .dataframe tbody tr th {\n",
              "        vertical-align: top;\n",
              "    }\n",
              "\n",
              "    .dataframe thead th {\n",
              "        text-align: right;\n",
              "    }\n",
              "</style>\n",
              "<table border=\"1\" class=\"dataframe\">\n",
              "  <thead>\n",
              "    <tr style=\"text-align: right;\">\n",
              "      <th></th>\n",
              "      <th>acc_code</th>\n",
              "      <th>incident_datetime</th>\n",
              "      <th>report_datetime</th>\n",
              "      <th>province_th</th>\n",
              "      <th>province_en</th>\n",
              "      <th>agency</th>\n",
              "      <th>route</th>\n",
              "      <th>vehicle_type</th>\n",
              "      <th>presumed_cause</th>\n",
              "      <th>accident_type</th>\n",
              "      <th>number_of_vehicles_involved</th>\n",
              "      <th>number_of_fatalities</th>\n",
              "      <th>number_of_injuries</th>\n",
              "      <th>weather_condition</th>\n",
              "      <th>latitude</th>\n",
              "      <th>longitude</th>\n",
              "      <th>road_description</th>\n",
              "      <th>slope_description</th>\n",
              "    </tr>\n",
              "  </thead>\n",
              "  <tbody>\n",
              "    <tr>\n",
              "      <th>0</th>\n",
              "      <td>571905</td>\n",
              "      <td>2019-01-01 00:00:00</td>\n",
              "      <td>2019-01-02 06:11:00</td>\n",
              "      <td>à¸¥à¸à¸à¸¸à¸£à¸µ</td>\n",
              "      <td>Loburi</td>\n",
              "      <td>department of rural roads</td>\n",
              "      <td>à¹à¸¢à¸à¸à¸²à¸à¸«à¸¥à¸§à¸à¸«à¸¡à¸²à¸¢à¹à...</td>\n",
              "      <td>motorcycle</td>\n",
              "      <td>driving under the influence of alcohol</td>\n",
              "      <td>other</td>\n",
              "      <td>1</td>\n",
              "      <td>0</td>\n",
              "      <td>2</td>\n",
              "      <td>clear</td>\n",
              "      <td>14.959105</td>\n",
              "      <td>100.873463</td>\n",
              "      <td>straight road</td>\n",
              "      <td>no slope</td>\n",
              "    </tr>\n",
              "    <tr>\n",
              "      <th>1</th>\n",
              "      <td>3790870</td>\n",
              "      <td>2019-01-01 00:03:00</td>\n",
              "      <td>2020-02-20 13:48:00</td>\n",
              "      <td>à¸­à¸¸à¸à¸¥à¸£à¸²à¸à¸à¸²à¸à¸µ</td>\n",
              "      <td>Ubon Ratchathani</td>\n",
              "      <td>department of highways</td>\n",
              "      <td>à¹à¸à¸à¸­à¸¸à¸à¸¡ - à¸­à¸¸à¸à¸¥à¸£à¸²à¸à...</td>\n",
              "      <td>private/passenger car</td>\n",
              "      <td>speeding</td>\n",
              "      <td>rollover/fallen on straight road</td>\n",
              "      <td>1</td>\n",
              "      <td>0</td>\n",
              "      <td>2</td>\n",
              "      <td>clear</td>\n",
              "      <td>15.210738</td>\n",
              "      <td>104.862689</td>\n",
              "      <td>straight road</td>\n",
              "      <td>no slope</td>\n",
              "    </tr>\n",
              "    <tr>\n",
              "      <th>2</th>\n",
              "      <td>599075</td>\n",
              "      <td>2019-01-01 00:05:00</td>\n",
              "      <td>2019-01-01 10:35:00</td>\n",
              "      <td>à¸à¸£à¸°à¸à¸§à¸à¸à¸µà¸£à¸µà¸à¸±à¸à¸à¹</td>\n",
              "      <td>Prachuap Khiri Khan</td>\n",
              "      <td>department of highways</td>\n",
              "      <td>à¸à¸£à¸²à¸à¸à¸¸à¸£à¸µ - à¸à¸²à¸à¸à¹à¸³à...</td>\n",
              "      <td>motorcycle</td>\n",
              "      <td>speeding</td>\n",
              "      <td>head-on collision (not overtaking)</td>\n",
              "      <td>2</td>\n",
              "      <td>1</td>\n",
              "      <td>0</td>\n",
              "      <td>clear</td>\n",
              "      <td>12.374259</td>\n",
              "      <td>99.907949</td>\n",
              "      <td>wide curve</td>\n",
              "      <td>slope area</td>\n",
              "    </tr>\n",
              "    <tr>\n",
              "      <th>3</th>\n",
              "      <td>571924</td>\n",
              "      <td>2019-01-01 00:20:00</td>\n",
              "      <td>2019-01-02 05:12:00</td>\n",
              "      <td>à¹à¸à¸µà¸¢à¸à¹à¸«à¸¡à¹</td>\n",
              "      <td>Chiang Mai</td>\n",
              "      <td>department of rural roads</td>\n",
              "      <td>à¹à¸à¸·à¹à¸­à¸¡à¸à¸²à¸à¸«à¸¥à¸§à¸à¸«à¸¡à...</td>\n",
              "      <td>motorcycle</td>\n",
              "      <td>driving under the influence of alcohol</td>\n",
              "      <td>other</td>\n",
              "      <td>1</td>\n",
              "      <td>0</td>\n",
              "      <td>1</td>\n",
              "      <td>clear</td>\n",
              "      <td>18.601721</td>\n",
              "      <td>98.804204</td>\n",
              "      <td>straight road</td>\n",
              "      <td>no slope</td>\n",
              "    </tr>\n",
              "    <tr>\n",
              "      <th>4</th>\n",
              "      <td>599523</td>\n",
              "      <td>2019-01-01 00:25:00</td>\n",
              "      <td>2019-01-04 09:42:00</td>\n",
              "      <td>à¸à¸à¸£à¸ªà¸§à¸£à¸£à¸à¹</td>\n",
              "      <td>Nakhon Sawan</td>\n",
              "      <td>department of highways</td>\n",
              "      <td>à¹à¸à¸¢à¹à¸à¸¢ - à¸¨à¸£à¸µà¸¡à¸à¸à¸¥</td>\n",
              "      <td>private/passenger car</td>\n",
              "      <td>cutting in closely by people/vehicles/animals</td>\n",
              "      <td>rollover/fallen on straight road</td>\n",
              "      <td>1</td>\n",
              "      <td>0</td>\n",
              "      <td>0</td>\n",
              "      <td>clear</td>\n",
              "      <td>15.866389</td>\n",
              "      <td>100.590010</td>\n",
              "      <td>straight road</td>\n",
              "      <td>no slope</td>\n",
              "    </tr>\n",
              "  </tbody>\n",
              "</table>\n",
              "</div>\n",
              "    <div class=\"colab-df-buttons\">\n",
              "\n",
              "  <div class=\"colab-df-container\">\n",
              "    <button class=\"colab-df-convert\" onclick=\"convertToInteractive('df-84b58669-e6d2-40b1-9101-a59f071c6300')\"\n",
              "            title=\"Convert this dataframe to an interactive table.\"\n",
              "            style=\"display:none;\">\n",
              "\n",
              "  <svg xmlns=\"http://www.w3.org/2000/svg\" height=\"24px\" viewBox=\"0 -960 960 960\">\n",
              "    <path d=\"M120-120v-720h720v720H120Zm60-500h600v-160H180v160Zm220 220h160v-160H400v160Zm0 220h160v-160H400v160ZM180-400h160v-160H180v160Zm440 0h160v-160H620v160ZM180-180h160v-160H180v160Zm440 0h160v-160H620v160Z\"/>\n",
              "  </svg>\n",
              "    </button>\n",
              "\n",
              "  <style>\n",
              "    .colab-df-container {\n",
              "      display:flex;\n",
              "      gap: 12px;\n",
              "    }\n",
              "\n",
              "    .colab-df-convert {\n",
              "      background-color: #E8F0FE;\n",
              "      border: none;\n",
              "      border-radius: 50%;\n",
              "      cursor: pointer;\n",
              "      display: none;\n",
              "      fill: #1967D2;\n",
              "      height: 32px;\n",
              "      padding: 0 0 0 0;\n",
              "      width: 32px;\n",
              "    }\n",
              "\n",
              "    .colab-df-convert:hover {\n",
              "      background-color: #E2EBFA;\n",
              "      box-shadow: 0px 1px 2px rgba(60, 64, 67, 0.3), 0px 1px 3px 1px rgba(60, 64, 67, 0.15);\n",
              "      fill: #174EA6;\n",
              "    }\n",
              "\n",
              "    .colab-df-buttons div {\n",
              "      margin-bottom: 4px;\n",
              "    }\n",
              "\n",
              "    [theme=dark] .colab-df-convert {\n",
              "      background-color: #3B4455;\n",
              "      fill: #D2E3FC;\n",
              "    }\n",
              "\n",
              "    [theme=dark] .colab-df-convert:hover {\n",
              "      background-color: #434B5C;\n",
              "      box-shadow: 0px 1px 3px 1px rgba(0, 0, 0, 0.15);\n",
              "      filter: drop-shadow(0px 1px 2px rgba(0, 0, 0, 0.3));\n",
              "      fill: #FFFFFF;\n",
              "    }\n",
              "  </style>\n",
              "\n",
              "    <script>\n",
              "      const buttonEl =\n",
              "        document.querySelector('#df-84b58669-e6d2-40b1-9101-a59f071c6300 button.colab-df-convert');\n",
              "      buttonEl.style.display =\n",
              "        google.colab.kernel.accessAllowed ? 'block' : 'none';\n",
              "\n",
              "      async function convertToInteractive(key) {\n",
              "        const element = document.querySelector('#df-84b58669-e6d2-40b1-9101-a59f071c6300');\n",
              "        const dataTable =\n",
              "          await google.colab.kernel.invokeFunction('convertToInteractive',\n",
              "                                                    [key], {});\n",
              "        if (!dataTable) return;\n",
              "\n",
              "        const docLinkHtml = 'Like what you see? Visit the ' +\n",
              "          '<a target=\"_blank\" href=https://colab.research.google.com/notebooks/data_table.ipynb>data table notebook</a>'\n",
              "          + ' to learn more about interactive tables.';\n",
              "        element.innerHTML = '';\n",
              "        dataTable['output_type'] = 'display_data';\n",
              "        await google.colab.output.renderOutput(dataTable, element);\n",
              "        const docLink = document.createElement('div');\n",
              "        docLink.innerHTML = docLinkHtml;\n",
              "        element.appendChild(docLink);\n",
              "      }\n",
              "    </script>\n",
              "  </div>\n",
              "\n",
              "\n",
              "<div id=\"df-a2e0fa9b-4ac9-4df7-8b68-f4a0ac1d820c\">\n",
              "  <button class=\"colab-df-quickchart\" onclick=\"quickchart('df-a2e0fa9b-4ac9-4df7-8b68-f4a0ac1d820c')\"\n",
              "            title=\"Suggest charts.\"\n",
              "            style=\"display:none;\">\n",
              "\n",
              "<svg xmlns=\"http://www.w3.org/2000/svg\" height=\"24px\"viewBox=\"0 0 24 24\"\n",
              "     width=\"24px\">\n",
              "    <g>\n",
              "        <path d=\"M19 3H5c-1.1 0-2 .9-2 2v14c0 1.1.9 2 2 2h14c1.1 0 2-.9 2-2V5c0-1.1-.9-2-2-2zM9 17H7v-7h2v7zm4 0h-2V7h2v10zm4 0h-2v-4h2v4z\"/>\n",
              "    </g>\n",
              "</svg>\n",
              "  </button>\n",
              "\n",
              "<style>\n",
              "  .colab-df-quickchart {\n",
              "      --bg-color: #E8F0FE;\n",
              "      --fill-color: #1967D2;\n",
              "      --hover-bg-color: #E2EBFA;\n",
              "      --hover-fill-color: #174EA6;\n",
              "      --disabled-fill-color: #AAA;\n",
              "      --disabled-bg-color: #DDD;\n",
              "  }\n",
              "\n",
              "  [theme=dark] .colab-df-quickchart {\n",
              "      --bg-color: #3B4455;\n",
              "      --fill-color: #D2E3FC;\n",
              "      --hover-bg-color: #434B5C;\n",
              "      --hover-fill-color: #FFFFFF;\n",
              "      --disabled-bg-color: #3B4455;\n",
              "      --disabled-fill-color: #666;\n",
              "  }\n",
              "\n",
              "  .colab-df-quickchart {\n",
              "    background-color: var(--bg-color);\n",
              "    border: none;\n",
              "    border-radius: 50%;\n",
              "    cursor: pointer;\n",
              "    display: none;\n",
              "    fill: var(--fill-color);\n",
              "    height: 32px;\n",
              "    padding: 0;\n",
              "    width: 32px;\n",
              "  }\n",
              "\n",
              "  .colab-df-quickchart:hover {\n",
              "    background-color: var(--hover-bg-color);\n",
              "    box-shadow: 0 1px 2px rgba(60, 64, 67, 0.3), 0 1px 3px 1px rgba(60, 64, 67, 0.15);\n",
              "    fill: var(--button-hover-fill-color);\n",
              "  }\n",
              "\n",
              "  .colab-df-quickchart-complete:disabled,\n",
              "  .colab-df-quickchart-complete:disabled:hover {\n",
              "    background-color: var(--disabled-bg-color);\n",
              "    fill: var(--disabled-fill-color);\n",
              "    box-shadow: none;\n",
              "  }\n",
              "\n",
              "  .colab-df-spinner {\n",
              "    border: 2px solid var(--fill-color);\n",
              "    border-color: transparent;\n",
              "    border-bottom-color: var(--fill-color);\n",
              "    animation:\n",
              "      spin 1s steps(1) infinite;\n",
              "  }\n",
              "\n",
              "  @keyframes spin {\n",
              "    0% {\n",
              "      border-color: transparent;\n",
              "      border-bottom-color: var(--fill-color);\n",
              "      border-left-color: var(--fill-color);\n",
              "    }\n",
              "    20% {\n",
              "      border-color: transparent;\n",
              "      border-left-color: var(--fill-color);\n",
              "      border-top-color: var(--fill-color);\n",
              "    }\n",
              "    30% {\n",
              "      border-color: transparent;\n",
              "      border-left-color: var(--fill-color);\n",
              "      border-top-color: var(--fill-color);\n",
              "      border-right-color: var(--fill-color);\n",
              "    }\n",
              "    40% {\n",
              "      border-color: transparent;\n",
              "      border-right-color: var(--fill-color);\n",
              "      border-top-color: var(--fill-color);\n",
              "    }\n",
              "    60% {\n",
              "      border-color: transparent;\n",
              "      border-right-color: var(--fill-color);\n",
              "    }\n",
              "    80% {\n",
              "      border-color: transparent;\n",
              "      border-right-color: var(--fill-color);\n",
              "      border-bottom-color: var(--fill-color);\n",
              "    }\n",
              "    90% {\n",
              "      border-color: transparent;\n",
              "      border-bottom-color: var(--fill-color);\n",
              "    }\n",
              "  }\n",
              "</style>\n",
              "\n",
              "  <script>\n",
              "    async function quickchart(key) {\n",
              "      const quickchartButtonEl =\n",
              "        document.querySelector('#' + key + ' button');\n",
              "      quickchartButtonEl.disabled = true;  // To prevent multiple clicks.\n",
              "      quickchartButtonEl.classList.add('colab-df-spinner');\n",
              "      try {\n",
              "        const charts = await google.colab.kernel.invokeFunction(\n",
              "            'suggestCharts', [key], {});\n",
              "      } catch (error) {\n",
              "        console.error('Error during call to suggestCharts:', error);\n",
              "      }\n",
              "      quickchartButtonEl.classList.remove('colab-df-spinner');\n",
              "      quickchartButtonEl.classList.add('colab-df-quickchart-complete');\n",
              "    }\n",
              "    (() => {\n",
              "      let quickchartButtonEl =\n",
              "        document.querySelector('#df-a2e0fa9b-4ac9-4df7-8b68-f4a0ac1d820c button');\n",
              "      quickchartButtonEl.style.display =\n",
              "        google.colab.kernel.accessAllowed ? 'block' : 'none';\n",
              "    })();\n",
              "  </script>\n",
              "</div>\n",
              "    </div>\n",
              "  </div>\n"
            ]
          },
          "metadata": {},
          "execution_count": 306
        }
      ]
    },
    {
      "cell_type": "markdown",
      "source": [
        "We have imported our data, so we can check the size of the dataset"
      ],
      "metadata": {
        "id": "DA3v_2PQmnOR"
      }
    },
    {
      "cell_type": "code",
      "source": [
        "data.shape"
      ],
      "metadata": {
        "id": "9aSEmJtknrMl",
        "colab": {
          "base_uri": "https://localhost:8080/"
        },
        "outputId": "ed05932b-ad90-409b-dcfc-73a394f0c4b8"
      },
      "execution_count": null,
      "outputs": [
        {
          "output_type": "execute_result",
          "data": {
            "text/plain": [
              "(81735, 18)"
            ]
          },
          "metadata": {},
          "execution_count": 307
        }
      ]
    },
    {
      "cell_type": "markdown",
      "source": [
        "We have 81735 row and 18 columns in the dataset"
      ],
      "metadata": {
        "id": "G-B0U2OToQNn"
      }
    },
    {
      "cell_type": "code",
      "source": [
        "data.columns"
      ],
      "metadata": {
        "colab": {
          "base_uri": "https://localhost:8080/"
        },
        "id": "lAb_qu__oZ8P",
        "outputId": "db99b275-90a3-47c2-e819-62e43298c920"
      },
      "execution_count": null,
      "outputs": [
        {
          "output_type": "execute_result",
          "data": {
            "text/plain": [
              "Index(['acc_code', 'incident_datetime', 'report_datetime', 'province_th',\n",
              "       'province_en', 'agency', 'route', 'vehicle_type', 'presumed_cause',\n",
              "       'accident_type', 'number_of_vehicles_involved', 'number_of_fatalities',\n",
              "       'number_of_injuries', 'weather_condition', 'latitude', 'longitude',\n",
              "       'road_description', 'slope_description'],\n",
              "      dtype='object')"
            ]
          },
          "metadata": {},
          "execution_count": 308
        }
      ]
    },
    {
      "cell_type": "markdown",
      "source": [
        "we generated the list of columns available, but out first column is not properly named.."
      ],
      "metadata": {
        "id": "mHuNrwGfohFi"
      }
    },
    {
      "cell_type": "markdown",
      "source": [
        "So we have successfully renamed the column"
      ],
      "metadata": {
        "id": "SCnbmHt2pZ9Z"
      }
    },
    {
      "cell_type": "markdown",
      "source": [
        "Generate the information of the dataset"
      ],
      "metadata": {
        "id": "uG6R2yfbpivE"
      }
    },
    {
      "cell_type": "code",
      "source": [
        "data.info()"
      ],
      "metadata": {
        "colab": {
          "base_uri": "https://localhost:8080/"
        },
        "id": "aj7HRxpypskg",
        "outputId": "2515acd0-4439-41da-ed44-89926c00cc6d"
      },
      "execution_count": null,
      "outputs": [
        {
          "output_type": "stream",
          "name": "stdout",
          "text": [
            "<class 'pandas.core.frame.DataFrame'>\n",
            "RangeIndex: 81735 entries, 0 to 81734\n",
            "Data columns (total 18 columns):\n",
            " #   Column                       Non-Null Count  Dtype  \n",
            "---  ------                       --------------  -----  \n",
            " 0   acc_code                     81735 non-null  int64  \n",
            " 1   incident_datetime            81735 non-null  object \n",
            " 2   report_datetime              81735 non-null  object \n",
            " 3   province_th                  81735 non-null  object \n",
            " 4   province_en                  81735 non-null  object \n",
            " 5   agency                       81735 non-null  object \n",
            " 6   route                        81735 non-null  object \n",
            " 7   vehicle_type                 81735 non-null  object \n",
            " 8   presumed_cause               81735 non-null  object \n",
            " 9   accident_type                81735 non-null  object \n",
            " 10  number_of_vehicles_involved  81735 non-null  int64  \n",
            " 11  number_of_fatalities         81735 non-null  int64  \n",
            " 12  number_of_injuries           81735 non-null  int64  \n",
            " 13  weather_condition            81735 non-null  object \n",
            " 14  latitude                     81376 non-null  float64\n",
            " 15  longitude                    81376 non-null  float64\n",
            " 16  road_description             81735 non-null  object \n",
            " 17  slope_description            81735 non-null  object \n",
            "dtypes: float64(2), int64(4), object(12)\n",
            "memory usage: 11.2+ MB\n"
          ]
        }
      ]
    },
    {
      "cell_type": "markdown",
      "source": [
        "We can observe that we have different data types such ad float, int, object"
      ],
      "metadata": {
        "id": "cgRrmOHgp4LJ"
      }
    },
    {
      "cell_type": "code",
      "source": [
        "# code to generate the number of null values present in the columns\n",
        "data.isnull().sum()"
      ],
      "metadata": {
        "colab": {
          "base_uri": "https://localhost:8080/"
        },
        "id": "uiXu0JTbpxPs",
        "outputId": "2c43da39-6970-4077-d4b5-eb63f3cd8614"
      },
      "execution_count": null,
      "outputs": [
        {
          "output_type": "execute_result",
          "data": {
            "text/plain": [
              "acc_code                         0\n",
              "incident_datetime                0\n",
              "report_datetime                  0\n",
              "province_th                      0\n",
              "province_en                      0\n",
              "agency                           0\n",
              "route                            0\n",
              "vehicle_type                     0\n",
              "presumed_cause                   0\n",
              "accident_type                    0\n",
              "number_of_vehicles_involved      0\n",
              "number_of_fatalities             0\n",
              "number_of_injuries               0\n",
              "weather_condition                0\n",
              "latitude                       359\n",
              "longitude                      359\n",
              "road_description                 0\n",
              "slope_description                0\n",
              "dtype: int64"
            ]
          },
          "metadata": {},
          "execution_count": 310
        }
      ]
    },
    {
      "cell_type": "markdown",
      "source": [
        "we can observe that column latitude and longitude contain the same number of missing values"
      ],
      "metadata": {
        "id": "IHoxBZW7qSIw"
      }
    },
    {
      "cell_type": "markdown",
      "source": [
        "## **DATA CLEANING**"
      ],
      "metadata": {
        "id": "TsreToknqegX"
      }
    },
    {
      "cell_type": "markdown",
      "source": [
        "### **Incident_datetime column**"
      ],
      "metadata": {
        "id": "gUOgGJ7PM-WC"
      }
    },
    {
      "cell_type": "code",
      "source": [
        "# We start by analysing the 'incident datetime' column , we convert the type of column into a datetime\n",
        "#data['incident_datetime'] = pd.to_datetime(data['incident_datetime'])"
      ],
      "metadata": {
        "id": "pk3mlPfEXL7A"
      },
      "execution_count": null,
      "outputs": []
    },
    {
      "cell_type": "code",
      "source": [
        "data['incident_datetime'].info()"
      ],
      "metadata": {
        "colab": {
          "base_uri": "https://localhost:8080/"
        },
        "id": "xjtKd8rjaRd6",
        "outputId": "6b1bf4eb-71c3-45c5-87f4-699ece681c24"
      },
      "execution_count": null,
      "outputs": [
        {
          "output_type": "stream",
          "name": "stdout",
          "text": [
            "<class 'pandas.core.series.Series'>\n",
            "RangeIndex: 81735 entries, 0 to 81734\n",
            "Series name: incident_datetime\n",
            "Non-Null Count  Dtype \n",
            "--------------  ----- \n",
            "81735 non-null  object\n",
            "dtypes: object(1)\n",
            "memory usage: 638.7+ KB\n"
          ]
        }
      ]
    },
    {
      "cell_type": "markdown",
      "source": [
        "The column has been converted to a datetime column. so lets check if there are no null values in the dataset"
      ],
      "metadata": {
        "id": "4dCYcucOazDJ"
      }
    },
    {
      "cell_type": "code",
      "source": [
        "data['incident_datetime'].isnull().sum()"
      ],
      "metadata": {
        "colab": {
          "base_uri": "https://localhost:8080/"
        },
        "id": "6cebyD7-a9ll",
        "outputId": "fe653df4-8cbb-40bb-b443-76caee6aa3fa"
      },
      "execution_count": null,
      "outputs": [
        {
          "output_type": "execute_result",
          "data": {
            "text/plain": [
              "0"
            ]
          },
          "metadata": {},
          "execution_count": 313
        }
      ]
    },
    {
      "cell_type": "markdown",
      "source": [
        "We can confirm that there are no null values."
      ],
      "metadata": {
        "id": "RCRyg0H_bDOM"
      }
    },
    {
      "cell_type": "markdown",
      "source": [
        "We can sort the data set with the incident datetime column"
      ],
      "metadata": {
        "id": "8sgmMMCubXq6"
      }
    },
    {
      "cell_type": "code",
      "source": [
        "data.sort_values(by='incident_datetime', inplace=True)"
      ],
      "metadata": {
        "id": "fEAimci_bpjE"
      },
      "execution_count": null,
      "outputs": []
    },
    {
      "cell_type": "markdown",
      "source": [
        "Now we can be sure that the dataset has been sorted"
      ],
      "metadata": {
        "id": "-6o6GKqxb2Ra"
      }
    },
    {
      "cell_type": "markdown",
      "source": [
        "**Now we want to create two different column from the datetime column, one of the date (Year-Month-Day) and another for the time zone (Hour-minute-Seconds)**"
      ],
      "metadata": {
        "id": "WVSzsjzO5dQt"
      }
    },
    {
      "cell_type": "code",
      "source": [
        "# Creating a new column of just the date\n",
        "# Creating a new column of just the time\n",
        "data['incident_date'] = data['incident_datetime'].str[:10]\n",
        "data['incident_time'] = data['incident_datetime'].str[10:]\n"
      ],
      "metadata": {
        "id": "cr7cwr94_xkE"
      },
      "execution_count": null,
      "outputs": []
    },
    {
      "cell_type": "markdown",
      "source": [
        "Now we can drop/del the incident_datetime column and also rearrange the data bring the newly created columns to the front"
      ],
      "metadata": {
        "id": "2j9xhbXzAXbk"
      }
    },
    {
      "cell_type": "code",
      "source": [
        "\n",
        "# we use the pop function\n",
        "first_col = data.pop('incident_date')\n",
        "second_col = data.pop('incident_time')\n",
        "\n",
        "# then we insert it the column number position, the name of the columns, and the coloumn we popped\n",
        "data.insert(1, 'Incident_date', first_col)\n",
        "data.insert(2, 'Incident_time', second_col)\n"
      ],
      "metadata": {
        "id": "yhqMGkIIw_Qi"
      },
      "execution_count": null,
      "outputs": []
    },
    {
      "cell_type": "markdown",
      "source": [
        "### **Report_datetime column**"
      ],
      "metadata": {
        "id": "LpdpgB5sM6sZ"
      }
    },
    {
      "cell_type": "markdown",
      "source": [
        "Now we want to create two different column from the datetime column, one of the date (Year-Month-Day) and another for the time zone (Hour-minute-Seconds)"
      ],
      "metadata": {
        "id": "rXOAyhdJGycd"
      }
    },
    {
      "cell_type": "code",
      "source": [
        "# Creating a new column of just the date\n",
        "# Creating a new column of just the time\n",
        "data['report_date'] = data['report_datetime'].str[:10]\n",
        "data['report_time'] = data['report_datetime'].str[10:]"
      ],
      "metadata": {
        "id": "MZxeWnRVG-I6"
      },
      "execution_count": null,
      "outputs": []
    },
    {
      "cell_type": "markdown",
      "source": [
        "Now we can drop/del the incident_datetime column and also rearrange the data bring the newly created columns to the front\n",
        "\n",
        "i use Ctrl + shift + L to multiple select a repeated string after highlighting of of it"
      ],
      "metadata": {
        "id": "vSy5blnBHPMy"
      }
    },
    {
      "cell_type": "code",
      "source": [
        "# we use the pop function\n",
        "first_col = data.pop('report_date')\n",
        "second_col = data.pop('report_time')\n",
        "\n",
        "# then we insert it the column number position, the name of the columns, and the coloumn we popped\n",
        "data.insert(3, 'report_date', first_col)\n",
        "data.insert(4, 'report_time', second_col)\n",
        "\n"
      ],
      "metadata": {
        "id": "WREgLxMDHUdS"
      },
      "execution_count": null,
      "outputs": []
    },
    {
      "cell_type": "code",
      "source": [
        "# we can use the drop function to delete the report datetime column\n",
        "data.drop(['report_datetime','incident_datetime'], axis=1, inplace=True)\n",
        "data.head()\n"
      ],
      "metadata": {
        "colab": {
          "base_uri": "https://localhost:8080/"
        },
        "id": "9iT74RiH9WK-",
        "outputId": "da9af31c-89fe-4d2b-8992-5c8934eb3c59"
      },
      "execution_count": null,
      "outputs": [
        {
          "output_type": "execute_result",
          "data": {
            "text/plain": [
              "   acc_code Incident_date Incident_time report_date report_time  \\\n",
              "0    571905    2019-01-01      00:00:00  2019-01-02    06:11:00   \n",
              "1   3790870    2019-01-01      00:03:00  2020-02-20    13:48:00   \n",
              "2    599075    2019-01-01      00:05:00  2019-01-01    10:35:00   \n",
              "3    571924    2019-01-01      00:20:00  2019-01-02    05:12:00   \n",
              "4    599523    2019-01-01      00:25:00  2019-01-04    09:42:00   \n",
              "\n",
              "                                     province_th          province_en  \\\n",
              "0                             à¸¥à¸à¸à¸¸à¸£à¸µ               Loburi   \n",
              "1              à¸­à¸¸à¸à¸¥à¸£à¸²à¸à¸à¸²à¸à¸µ     Ubon Ratchathani   \n",
              "2  à¸à¸£à¸°à¸à¸§à¸à¸à¸µà¸£à¸µà¸à¸±à¸à¸à¹  Prachuap Khiri Khan   \n",
              "3                    à¹à¸à¸µà¸¢à¸à¹à¸«à¸¡à¹           Chiang Mai   \n",
              "4                    à¸à¸à¸£à¸ªà¸§à¸£à¸£à¸à¹         Nakhon Sawan   \n",
              "\n",
              "                      agency  \\\n",
              "0  department of rural roads   \n",
              "1     department of highways   \n",
              "2     department of highways   \n",
              "3  department of rural roads   \n",
              "4     department of highways   \n",
              "\n",
              "                                               route           vehicle_type  \\\n",
              "0  à¹à¸¢à¸à¸à¸²à¸à¸«à¸¥à¸§à¸à¸«à¸¡à¸²à¸¢à¹à...             motorcycle   \n",
              "1  à¹à¸à¸à¸­à¸¸à¸à¸¡ - à¸­à¸¸à¸à¸¥à¸£à¸²à¸à...  private/passenger car   \n",
              "2  à¸à¸£à¸²à¸à¸à¸¸à¸£à¸µ - à¸à¸²à¸à¸à¹à¸³à...             motorcycle   \n",
              "3  à¹à¸à¸·à¹à¸­à¸¡à¸à¸²à¸à¸«à¸¥à¸§à¸à¸«à¸¡à...             motorcycle   \n",
              "4         à¹à¸à¸¢à¹à¸à¸¢ - à¸¨à¸£à¸µà¸¡à¸à¸à¸¥  private/passenger car   \n",
              "\n",
              "                                  presumed_cause  \\\n",
              "0         driving under the influence of alcohol   \n",
              "1                                       speeding   \n",
              "2                                       speeding   \n",
              "3         driving under the influence of alcohol   \n",
              "4  cutting in closely by people/vehicles/animals   \n",
              "\n",
              "                        accident_type  number_of_vehicles_involved  \\\n",
              "0                               other                            1   \n",
              "1    rollover/fallen on straight road                            1   \n",
              "2  head-on collision (not overtaking)                            2   \n",
              "3                               other                            1   \n",
              "4    rollover/fallen on straight road                            1   \n",
              "\n",
              "   number_of_fatalities  number_of_injuries weather_condition   latitude  \\\n",
              "0                     0                   2             clear  14.959105   \n",
              "1                     0                   2             clear  15.210738   \n",
              "2                     1                   0             clear  12.374259   \n",
              "3                     0                   1             clear  18.601721   \n",
              "4                     0                   0             clear  15.866389   \n",
              "\n",
              "    longitude road_description slope_description  \n",
              "0  100.873463    straight road          no slope  \n",
              "1  104.862689    straight road          no slope  \n",
              "2   99.907949       wide curve        slope area  \n",
              "3   98.804204    straight road          no slope  \n",
              "4  100.590010    straight road          no slope  "
            ],
            "text/html": [
              "\n",
              "  <div id=\"df-8d84f454-ebbd-4f4c-95ad-cc2ebce26098\" class=\"colab-df-container\">\n",
              "    <div>\n",
              "<style scoped>\n",
              "    .dataframe tbody tr th:only-of-type {\n",
              "        vertical-align: middle;\n",
              "    }\n",
              "\n",
              "    .dataframe tbody tr th {\n",
              "        vertical-align: top;\n",
              "    }\n",
              "\n",
              "    .dataframe thead th {\n",
              "        text-align: right;\n",
              "    }\n",
              "</style>\n",
              "<table border=\"1\" class=\"dataframe\">\n",
              "  <thead>\n",
              "    <tr style=\"text-align: right;\">\n",
              "      <th></th>\n",
              "      <th>acc_code</th>\n",
              "      <th>Incident_date</th>\n",
              "      <th>Incident_time</th>\n",
              "      <th>report_date</th>\n",
              "      <th>report_time</th>\n",
              "      <th>province_th</th>\n",
              "      <th>province_en</th>\n",
              "      <th>agency</th>\n",
              "      <th>route</th>\n",
              "      <th>vehicle_type</th>\n",
              "      <th>presumed_cause</th>\n",
              "      <th>accident_type</th>\n",
              "      <th>number_of_vehicles_involved</th>\n",
              "      <th>number_of_fatalities</th>\n",
              "      <th>number_of_injuries</th>\n",
              "      <th>weather_condition</th>\n",
              "      <th>latitude</th>\n",
              "      <th>longitude</th>\n",
              "      <th>road_description</th>\n",
              "      <th>slope_description</th>\n",
              "    </tr>\n",
              "  </thead>\n",
              "  <tbody>\n",
              "    <tr>\n",
              "      <th>0</th>\n",
              "      <td>571905</td>\n",
              "      <td>2019-01-01</td>\n",
              "      <td>00:00:00</td>\n",
              "      <td>2019-01-02</td>\n",
              "      <td>06:11:00</td>\n",
              "      <td>à¸¥à¸à¸à¸¸à¸£à¸µ</td>\n",
              "      <td>Loburi</td>\n",
              "      <td>department of rural roads</td>\n",
              "      <td>à¹à¸¢à¸à¸à¸²à¸à¸«à¸¥à¸§à¸à¸«à¸¡à¸²à¸¢à¹à...</td>\n",
              "      <td>motorcycle</td>\n",
              "      <td>driving under the influence of alcohol</td>\n",
              "      <td>other</td>\n",
              "      <td>1</td>\n",
              "      <td>0</td>\n",
              "      <td>2</td>\n",
              "      <td>clear</td>\n",
              "      <td>14.959105</td>\n",
              "      <td>100.873463</td>\n",
              "      <td>straight road</td>\n",
              "      <td>no slope</td>\n",
              "    </tr>\n",
              "    <tr>\n",
              "      <th>1</th>\n",
              "      <td>3790870</td>\n",
              "      <td>2019-01-01</td>\n",
              "      <td>00:03:00</td>\n",
              "      <td>2020-02-20</td>\n",
              "      <td>13:48:00</td>\n",
              "      <td>à¸­à¸¸à¸à¸¥à¸£à¸²à¸à¸à¸²à¸à¸µ</td>\n",
              "      <td>Ubon Ratchathani</td>\n",
              "      <td>department of highways</td>\n",
              "      <td>à¹à¸à¸à¸­à¸¸à¸à¸¡ - à¸­à¸¸à¸à¸¥à¸£à¸²à¸à...</td>\n",
              "      <td>private/passenger car</td>\n",
              "      <td>speeding</td>\n",
              "      <td>rollover/fallen on straight road</td>\n",
              "      <td>1</td>\n",
              "      <td>0</td>\n",
              "      <td>2</td>\n",
              "      <td>clear</td>\n",
              "      <td>15.210738</td>\n",
              "      <td>104.862689</td>\n",
              "      <td>straight road</td>\n",
              "      <td>no slope</td>\n",
              "    </tr>\n",
              "    <tr>\n",
              "      <th>2</th>\n",
              "      <td>599075</td>\n",
              "      <td>2019-01-01</td>\n",
              "      <td>00:05:00</td>\n",
              "      <td>2019-01-01</td>\n",
              "      <td>10:35:00</td>\n",
              "      <td>à¸à¸£à¸°à¸à¸§à¸à¸à¸µà¸£à¸µà¸à¸±à¸à¸à¹</td>\n",
              "      <td>Prachuap Khiri Khan</td>\n",
              "      <td>department of highways</td>\n",
              "      <td>à¸à¸£à¸²à¸à¸à¸¸à¸£à¸µ - à¸à¸²à¸à¸à¹à¸³à...</td>\n",
              "      <td>motorcycle</td>\n",
              "      <td>speeding</td>\n",
              "      <td>head-on collision (not overtaking)</td>\n",
              "      <td>2</td>\n",
              "      <td>1</td>\n",
              "      <td>0</td>\n",
              "      <td>clear</td>\n",
              "      <td>12.374259</td>\n",
              "      <td>99.907949</td>\n",
              "      <td>wide curve</td>\n",
              "      <td>slope area</td>\n",
              "    </tr>\n",
              "    <tr>\n",
              "      <th>3</th>\n",
              "      <td>571924</td>\n",
              "      <td>2019-01-01</td>\n",
              "      <td>00:20:00</td>\n",
              "      <td>2019-01-02</td>\n",
              "      <td>05:12:00</td>\n",
              "      <td>à¹à¸à¸µà¸¢à¸à¹à¸«à¸¡à¹</td>\n",
              "      <td>Chiang Mai</td>\n",
              "      <td>department of rural roads</td>\n",
              "      <td>à¹à¸à¸·à¹à¸­à¸¡à¸à¸²à¸à¸«à¸¥à¸§à¸à¸«à¸¡à...</td>\n",
              "      <td>motorcycle</td>\n",
              "      <td>driving under the influence of alcohol</td>\n",
              "      <td>other</td>\n",
              "      <td>1</td>\n",
              "      <td>0</td>\n",
              "      <td>1</td>\n",
              "      <td>clear</td>\n",
              "      <td>18.601721</td>\n",
              "      <td>98.804204</td>\n",
              "      <td>straight road</td>\n",
              "      <td>no slope</td>\n",
              "    </tr>\n",
              "    <tr>\n",
              "      <th>4</th>\n",
              "      <td>599523</td>\n",
              "      <td>2019-01-01</td>\n",
              "      <td>00:25:00</td>\n",
              "      <td>2019-01-04</td>\n",
              "      <td>09:42:00</td>\n",
              "      <td>à¸à¸à¸£à¸ªà¸§à¸£à¸£à¸à¹</td>\n",
              "      <td>Nakhon Sawan</td>\n",
              "      <td>department of highways</td>\n",
              "      <td>à¹à¸à¸¢à¹à¸à¸¢ - à¸¨à¸£à¸µà¸¡à¸à¸à¸¥</td>\n",
              "      <td>private/passenger car</td>\n",
              "      <td>cutting in closely by people/vehicles/animals</td>\n",
              "      <td>rollover/fallen on straight road</td>\n",
              "      <td>1</td>\n",
              "      <td>0</td>\n",
              "      <td>0</td>\n",
              "      <td>clear</td>\n",
              "      <td>15.866389</td>\n",
              "      <td>100.590010</td>\n",
              "      <td>straight road</td>\n",
              "      <td>no slope</td>\n",
              "    </tr>\n",
              "  </tbody>\n",
              "</table>\n",
              "</div>\n",
              "    <div class=\"colab-df-buttons\">\n",
              "\n",
              "  <div class=\"colab-df-container\">\n",
              "    <button class=\"colab-df-convert\" onclick=\"convertToInteractive('df-8d84f454-ebbd-4f4c-95ad-cc2ebce26098')\"\n",
              "            title=\"Convert this dataframe to an interactive table.\"\n",
              "            style=\"display:none;\">\n",
              "\n",
              "  <svg xmlns=\"http://www.w3.org/2000/svg\" height=\"24px\" viewBox=\"0 -960 960 960\">\n",
              "    <path d=\"M120-120v-720h720v720H120Zm60-500h600v-160H180v160Zm220 220h160v-160H400v160Zm0 220h160v-160H400v160ZM180-400h160v-160H180v160Zm440 0h160v-160H620v160ZM180-180h160v-160H180v160Zm440 0h160v-160H620v160Z\"/>\n",
              "  </svg>\n",
              "    </button>\n",
              "\n",
              "  <style>\n",
              "    .colab-df-container {\n",
              "      display:flex;\n",
              "      gap: 12px;\n",
              "    }\n",
              "\n",
              "    .colab-df-convert {\n",
              "      background-color: #E8F0FE;\n",
              "      border: none;\n",
              "      border-radius: 50%;\n",
              "      cursor: pointer;\n",
              "      display: none;\n",
              "      fill: #1967D2;\n",
              "      height: 32px;\n",
              "      padding: 0 0 0 0;\n",
              "      width: 32px;\n",
              "    }\n",
              "\n",
              "    .colab-df-convert:hover {\n",
              "      background-color: #E2EBFA;\n",
              "      box-shadow: 0px 1px 2px rgba(60, 64, 67, 0.3), 0px 1px 3px 1px rgba(60, 64, 67, 0.15);\n",
              "      fill: #174EA6;\n",
              "    }\n",
              "\n",
              "    .colab-df-buttons div {\n",
              "      margin-bottom: 4px;\n",
              "    }\n",
              "\n",
              "    [theme=dark] .colab-df-convert {\n",
              "      background-color: #3B4455;\n",
              "      fill: #D2E3FC;\n",
              "    }\n",
              "\n",
              "    [theme=dark] .colab-df-convert:hover {\n",
              "      background-color: #434B5C;\n",
              "      box-shadow: 0px 1px 3px 1px rgba(0, 0, 0, 0.15);\n",
              "      filter: drop-shadow(0px 1px 2px rgba(0, 0, 0, 0.3));\n",
              "      fill: #FFFFFF;\n",
              "    }\n",
              "  </style>\n",
              "\n",
              "    <script>\n",
              "      const buttonEl =\n",
              "        document.querySelector('#df-8d84f454-ebbd-4f4c-95ad-cc2ebce26098 button.colab-df-convert');\n",
              "      buttonEl.style.display =\n",
              "        google.colab.kernel.accessAllowed ? 'block' : 'none';\n",
              "\n",
              "      async function convertToInteractive(key) {\n",
              "        const element = document.querySelector('#df-8d84f454-ebbd-4f4c-95ad-cc2ebce26098');\n",
              "        const dataTable =\n",
              "          await google.colab.kernel.invokeFunction('convertToInteractive',\n",
              "                                                    [key], {});\n",
              "        if (!dataTable) return;\n",
              "\n",
              "        const docLinkHtml = 'Like what you see? Visit the ' +\n",
              "          '<a target=\"_blank\" href=https://colab.research.google.com/notebooks/data_table.ipynb>data table notebook</a>'\n",
              "          + ' to learn more about interactive tables.';\n",
              "        element.innerHTML = '';\n",
              "        dataTable['output_type'] = 'display_data';\n",
              "        await google.colab.output.renderOutput(dataTable, element);\n",
              "        const docLink = document.createElement('div');\n",
              "        docLink.innerHTML = docLinkHtml;\n",
              "        element.appendChild(docLink);\n",
              "      }\n",
              "    </script>\n",
              "  </div>\n",
              "\n",
              "\n",
              "<div id=\"df-5e98ee05-6fdf-412d-b381-0b6fc2e73268\">\n",
              "  <button class=\"colab-df-quickchart\" onclick=\"quickchart('df-5e98ee05-6fdf-412d-b381-0b6fc2e73268')\"\n",
              "            title=\"Suggest charts.\"\n",
              "            style=\"display:none;\">\n",
              "\n",
              "<svg xmlns=\"http://www.w3.org/2000/svg\" height=\"24px\"viewBox=\"0 0 24 24\"\n",
              "     width=\"24px\">\n",
              "    <g>\n",
              "        <path d=\"M19 3H5c-1.1 0-2 .9-2 2v14c0 1.1.9 2 2 2h14c1.1 0 2-.9 2-2V5c0-1.1-.9-2-2-2zM9 17H7v-7h2v7zm4 0h-2V7h2v10zm4 0h-2v-4h2v4z\"/>\n",
              "    </g>\n",
              "</svg>\n",
              "  </button>\n",
              "\n",
              "<style>\n",
              "  .colab-df-quickchart {\n",
              "      --bg-color: #E8F0FE;\n",
              "      --fill-color: #1967D2;\n",
              "      --hover-bg-color: #E2EBFA;\n",
              "      --hover-fill-color: #174EA6;\n",
              "      --disabled-fill-color: #AAA;\n",
              "      --disabled-bg-color: #DDD;\n",
              "  }\n",
              "\n",
              "  [theme=dark] .colab-df-quickchart {\n",
              "      --bg-color: #3B4455;\n",
              "      --fill-color: #D2E3FC;\n",
              "      --hover-bg-color: #434B5C;\n",
              "      --hover-fill-color: #FFFFFF;\n",
              "      --disabled-bg-color: #3B4455;\n",
              "      --disabled-fill-color: #666;\n",
              "  }\n",
              "\n",
              "  .colab-df-quickchart {\n",
              "    background-color: var(--bg-color);\n",
              "    border: none;\n",
              "    border-radius: 50%;\n",
              "    cursor: pointer;\n",
              "    display: none;\n",
              "    fill: var(--fill-color);\n",
              "    height: 32px;\n",
              "    padding: 0;\n",
              "    width: 32px;\n",
              "  }\n",
              "\n",
              "  .colab-df-quickchart:hover {\n",
              "    background-color: var(--hover-bg-color);\n",
              "    box-shadow: 0 1px 2px rgba(60, 64, 67, 0.3), 0 1px 3px 1px rgba(60, 64, 67, 0.15);\n",
              "    fill: var(--button-hover-fill-color);\n",
              "  }\n",
              "\n",
              "  .colab-df-quickchart-complete:disabled,\n",
              "  .colab-df-quickchart-complete:disabled:hover {\n",
              "    background-color: var(--disabled-bg-color);\n",
              "    fill: var(--disabled-fill-color);\n",
              "    box-shadow: none;\n",
              "  }\n",
              "\n",
              "  .colab-df-spinner {\n",
              "    border: 2px solid var(--fill-color);\n",
              "    border-color: transparent;\n",
              "    border-bottom-color: var(--fill-color);\n",
              "    animation:\n",
              "      spin 1s steps(1) infinite;\n",
              "  }\n",
              "\n",
              "  @keyframes spin {\n",
              "    0% {\n",
              "      border-color: transparent;\n",
              "      border-bottom-color: var(--fill-color);\n",
              "      border-left-color: var(--fill-color);\n",
              "    }\n",
              "    20% {\n",
              "      border-color: transparent;\n",
              "      border-left-color: var(--fill-color);\n",
              "      border-top-color: var(--fill-color);\n",
              "    }\n",
              "    30% {\n",
              "      border-color: transparent;\n",
              "      border-left-color: var(--fill-color);\n",
              "      border-top-color: var(--fill-color);\n",
              "      border-right-color: var(--fill-color);\n",
              "    }\n",
              "    40% {\n",
              "      border-color: transparent;\n",
              "      border-right-color: var(--fill-color);\n",
              "      border-top-color: var(--fill-color);\n",
              "    }\n",
              "    60% {\n",
              "      border-color: transparent;\n",
              "      border-right-color: var(--fill-color);\n",
              "    }\n",
              "    80% {\n",
              "      border-color: transparent;\n",
              "      border-right-color: var(--fill-color);\n",
              "      border-bottom-color: var(--fill-color);\n",
              "    }\n",
              "    90% {\n",
              "      border-color: transparent;\n",
              "      border-bottom-color: var(--fill-color);\n",
              "    }\n",
              "  }\n",
              "</style>\n",
              "\n",
              "  <script>\n",
              "    async function quickchart(key) {\n",
              "      const quickchartButtonEl =\n",
              "        document.querySelector('#' + key + ' button');\n",
              "      quickchartButtonEl.disabled = true;  // To prevent multiple clicks.\n",
              "      quickchartButtonEl.classList.add('colab-df-spinner');\n",
              "      try {\n",
              "        const charts = await google.colab.kernel.invokeFunction(\n",
              "            'suggestCharts', [key], {});\n",
              "      } catch (error) {\n",
              "        console.error('Error during call to suggestCharts:', error);\n",
              "      }\n",
              "      quickchartButtonEl.classList.remove('colab-df-spinner');\n",
              "      quickchartButtonEl.classList.add('colab-df-quickchart-complete');\n",
              "    }\n",
              "    (() => {\n",
              "      let quickchartButtonEl =\n",
              "        document.querySelector('#df-5e98ee05-6fdf-412d-b381-0b6fc2e73268 button');\n",
              "      quickchartButtonEl.style.display =\n",
              "        google.colab.kernel.accessAllowed ? 'block' : 'none';\n",
              "    })();\n",
              "  </script>\n",
              "</div>\n",
              "    </div>\n",
              "  </div>\n"
            ]
          },
          "metadata": {},
          "execution_count": 319
        }
      ]
    },
    {
      "cell_type": "markdown",
      "source": [
        "**From our observation of the datetime columns, we noticed that in some rows there are difference in the reported  date/time and when the inccident occurred.... we can get some insight by analysing this as to why the delay occurred**"
      ],
      "metadata": {
        "id": "YLeDBZshIXmC"
      }
    },
    {
      "cell_type": "markdown",
      "source": [
        "### **Province_th Column**"
      ],
      "metadata": {
        "id": "ooZir5_SOXuo"
      }
    },
    {
      "cell_type": "code",
      "source": [
        "# preview the column\n",
        "data['province_th']"
      ],
      "metadata": {
        "colab": {
          "base_uri": "https://localhost:8080/"
        },
        "id": "VpXo7BbSPVgR",
        "outputId": "37b1db49-4dfa-4884-8a9c-7329706451b2"
      },
      "execution_count": null,
      "outputs": [
        {
          "output_type": "execute_result",
          "data": {
            "text/plain": [
              "0                                   à¸¥à¸à¸à¸¸à¸£à¸µ\n",
              "1                    à¸­à¸¸à¸à¸¥à¸£à¸²à¸à¸à¸²à¸à¸µ\n",
              "2        à¸à¸£à¸°à¸à¸§à¸à¸à¸µà¸£à¸µà¸à¸±à¸à¸à¹\n",
              "3                          à¹à¸à¸µà¸¢à¸à¹à¸«à¸¡à¹\n",
              "4                          à¸à¸à¸£à¸ªà¸§à¸£à¸£à¸à¹\n",
              "                             ...                      \n",
              "81730                            à¸à¸à¸à¸à¸¸à¸£à¸µ\n",
              "81731                                     à¸à¸£à¸²à¸\n",
              "81732                      à¸¡à¸«à¸²à¸ªà¸²à¸£à¸à¸²à¸¡\n",
              "81733                      à¸à¸³à¹à¸à¸à¹à¸à¸à¸£\n",
              "81734                         à¹à¸à¸µà¸¢à¸à¸£à¸²à¸¢\n",
              "Name: province_th, Length: 81735, dtype: object"
            ]
          },
          "metadata": {},
          "execution_count": 320
        }
      ]
    },
    {
      "cell_type": "markdown",
      "source": [
        "From the description, this column is the names of the provinces the incidents occurred.."
      ],
      "metadata": {
        "id": "UR1hZNFsPdgj"
      }
    },
    {
      "cell_type": "markdown",
      "source": [
        "I decided to drop to column, the texts were not well represented.."
      ],
      "metadata": {
        "id": "x5VMdUIo6_uR"
      }
    },
    {
      "cell_type": "code",
      "source": [
        "data.drop('province_th', axis=1, inplace=True)"
      ],
      "metadata": {
        "id": "wd5dWJMP7OT5"
      },
      "execution_count": null,
      "outputs": []
    },
    {
      "cell_type": "markdown",
      "source": [
        "### **Province_en Column**"
      ],
      "metadata": {
        "id": "4k3gqgs_P_AZ"
      }
    },
    {
      "cell_type": "code",
      "source": [
        "#preview the column\n",
        "data['province_en']"
      ],
      "metadata": {
        "colab": {
          "base_uri": "https://localhost:8080/"
        },
        "id": "Y5ok0prBQO8d",
        "outputId": "cd5c2ca4-2d13-4281-a777-a13aa4845be9"
      },
      "execution_count": null,
      "outputs": [
        {
          "output_type": "execute_result",
          "data": {
            "text/plain": [
              "0                     Loburi\n",
              "1           Ubon Ratchathani\n",
              "2        Prachuap Khiri Khan\n",
              "3                 Chiang Mai\n",
              "4               Nakhon Sawan\n",
              "                ...         \n",
              "81730             Nonthaburi\n",
              "81731                   Trat\n",
              "81732          Maha Sarakham\n",
              "81733         Kamphaeng Phet\n",
              "81734             Chiang Rai\n",
              "Name: province_en, Length: 81735, dtype: object"
            ]
          },
          "metadata": {},
          "execution_count": 322
        }
      ]
    },
    {
      "cell_type": "markdown",
      "source": [
        "Lets check the number of province involved"
      ],
      "metadata": {
        "id": "XYaHM2HeQZOG"
      }
    },
    {
      "cell_type": "code",
      "source": [
        "# LIst of the unique province in the dataset\n",
        "data['province_en'].unique()"
      ],
      "metadata": {
        "colab": {
          "base_uri": "https://localhost:8080/"
        },
        "id": "2a1PCMQjQfpB",
        "outputId": "13be88a2-e168-4570-da2b-4709a9f2b61a"
      },
      "execution_count": null,
      "outputs": [
        {
          "output_type": "execute_result",
          "data": {
            "text/plain": [
              "array(['Loburi', 'Ubon Ratchathani', 'Prachuap Khiri Khan', 'Chiang Mai',\n",
              "       'Nakhon Sawan', 'Mae Hong Son', 'Chumphon', 'Sing Buri',\n",
              "       'Songkhla', 'Lamphun', 'Trat', 'Phuket', 'Saraburi', 'Ratchaburi',\n",
              "       'Phra Nakhon Si Ayutthaya', 'Nakhon Ratchasima',\n",
              "       'Nakhon Si Thammarat', 'Chaiyaphum', 'Kalasin', 'Suphan Buri',\n",
              "       'Phetchaburi', 'Phrae', 'Chai Nat', 'Prachin Buri',\n",
              "       'Nakhon Pathom', 'Kanchanaburi', 'Phetchabun', 'Ang Thong',\n",
              "       'Nonthaburi', 'Samut Prakan', 'Bangkok', 'Phayao', 'Phatthalung',\n",
              "       'Yala', 'Maha Sarakham', 'Surat Thani', 'Amnat Charoen',\n",
              "       'Nong Khai', 'Nan', 'Phangnga', 'Narathiwat', 'Samut Sakhon',\n",
              "       'Chanthaburi', 'Samut Songkhram', 'Phitsanulok', 'Pathum Thani',\n",
              "       'Tak', 'Loei', 'Chiang Rai', 'Chachoengsao', 'Buri Ram',\n",
              "       'Uthai Thani', 'Krabi', 'Surin', 'Udon Thani', 'Si Sa Ket',\n",
              "       'Uttaradit', 'Khon Kaen', 'Kamphaeng Phet', 'Yasothon', 'Satun',\n",
              "       'Nakhon Nayok', 'Chon Buri', 'Rayong', 'buogkan', 'Sa Kaeo',\n",
              "       'Nong Bua Lam Phu', 'Roi Et', 'Sakon Nakhon', 'Mukdahan',\n",
              "       'Nakhon Phanom', 'Phichit', 'Pattani', 'Sukhothai', 'Trang',\n",
              "       'unknown', 'Lampang', 'Ranong'], dtype=object)"
            ]
          },
          "metadata": {},
          "execution_count": 323
        }
      ]
    },
    {
      "cell_type": "markdown",
      "source": [
        "Let convert this column to a categorical column"
      ],
      "metadata": {
        "id": "--x6bkLOVPmv"
      }
    },
    {
      "cell_type": "code",
      "source": [
        "data['province_en'] = data['province_en'].astype('category')"
      ],
      "metadata": {
        "id": "6cidun-7VV-8"
      },
      "execution_count": null,
      "outputs": []
    },
    {
      "cell_type": "code",
      "source": [
        "data['province_en'].info()"
      ],
      "metadata": {
        "colab": {
          "base_uri": "https://localhost:8080/"
        },
        "id": "i2y-_7uZVe1C",
        "outputId": "073c41b7-7d5a-43c4-bc72-f50a4b02389b"
      },
      "execution_count": null,
      "outputs": [
        {
          "output_type": "stream",
          "name": "stdout",
          "text": [
            "<class 'pandas.core.series.Series'>\n",
            "Int64Index: 81735 entries, 0 to 81734\n",
            "Series name: province_en\n",
            "Non-Null Count  Dtype   \n",
            "--------------  -----   \n",
            "81735 non-null  category\n",
            "dtypes: category(1)\n",
            "memory usage: 721.0 KB\n"
          ]
        }
      ]
    },
    {
      "cell_type": "code",
      "source": [
        "data.head()"
      ],
      "metadata": {
        "colab": {
          "base_uri": "https://localhost:8080/",
          "height": 399
        },
        "id": "Wrzo1tm7-Pxt",
        "outputId": "84aedc5a-5cb0-44a9-8f3f-a6adfb5a6bbf"
      },
      "execution_count": null,
      "outputs": [
        {
          "output_type": "execute_result",
          "data": {
            "text/plain": [
              "   acc_code Incident_date Incident_time report_date report_time  \\\n",
              "0    571905    2019-01-01      00:00:00  2019-01-02    06:11:00   \n",
              "1   3790870    2019-01-01      00:03:00  2020-02-20    13:48:00   \n",
              "2    599075    2019-01-01      00:05:00  2019-01-01    10:35:00   \n",
              "3    571924    2019-01-01      00:20:00  2019-01-02    05:12:00   \n",
              "4    599523    2019-01-01      00:25:00  2019-01-04    09:42:00   \n",
              "\n",
              "           province_en                     agency  \\\n",
              "0               Loburi  department of rural roads   \n",
              "1     Ubon Ratchathani     department of highways   \n",
              "2  Prachuap Khiri Khan     department of highways   \n",
              "3           Chiang Mai  department of rural roads   \n",
              "4         Nakhon Sawan     department of highways   \n",
              "\n",
              "                                               route           vehicle_type  \\\n",
              "0  à¹à¸¢à¸à¸à¸²à¸à¸«à¸¥à¸§à¸à¸«à¸¡à¸²à¸¢à¹à...             motorcycle   \n",
              "1  à¹à¸à¸à¸­à¸¸à¸à¸¡ - à¸­à¸¸à¸à¸¥à¸£à¸²à¸à...  private/passenger car   \n",
              "2  à¸à¸£à¸²à¸à¸à¸¸à¸£à¸µ - à¸à¸²à¸à¸à¹à¸³à...             motorcycle   \n",
              "3  à¹à¸à¸·à¹à¸­à¸¡à¸à¸²à¸à¸«à¸¥à¸§à¸à¸«à¸¡à...             motorcycle   \n",
              "4         à¹à¸à¸¢à¹à¸à¸¢ - à¸¨à¸£à¸µà¸¡à¸à¸à¸¥  private/passenger car   \n",
              "\n",
              "                                  presumed_cause  \\\n",
              "0         driving under the influence of alcohol   \n",
              "1                                       speeding   \n",
              "2                                       speeding   \n",
              "3         driving under the influence of alcohol   \n",
              "4  cutting in closely by people/vehicles/animals   \n",
              "\n",
              "                        accident_type  number_of_vehicles_involved  \\\n",
              "0                               other                            1   \n",
              "1    rollover/fallen on straight road                            1   \n",
              "2  head-on collision (not overtaking)                            2   \n",
              "3                               other                            1   \n",
              "4    rollover/fallen on straight road                            1   \n",
              "\n",
              "   number_of_fatalities  number_of_injuries weather_condition   latitude  \\\n",
              "0                     0                   2             clear  14.959105   \n",
              "1                     0                   2             clear  15.210738   \n",
              "2                     1                   0             clear  12.374259   \n",
              "3                     0                   1             clear  18.601721   \n",
              "4                     0                   0             clear  15.866389   \n",
              "\n",
              "    longitude road_description slope_description  \n",
              "0  100.873463    straight road          no slope  \n",
              "1  104.862689    straight road          no slope  \n",
              "2   99.907949       wide curve        slope area  \n",
              "3   98.804204    straight road          no slope  \n",
              "4  100.590010    straight road          no slope  "
            ],
            "text/html": [
              "\n",
              "  <div id=\"df-c8a49607-1340-440d-8e88-a678928d2c35\" class=\"colab-df-container\">\n",
              "    <div>\n",
              "<style scoped>\n",
              "    .dataframe tbody tr th:only-of-type {\n",
              "        vertical-align: middle;\n",
              "    }\n",
              "\n",
              "    .dataframe tbody tr th {\n",
              "        vertical-align: top;\n",
              "    }\n",
              "\n",
              "    .dataframe thead th {\n",
              "        text-align: right;\n",
              "    }\n",
              "</style>\n",
              "<table border=\"1\" class=\"dataframe\">\n",
              "  <thead>\n",
              "    <tr style=\"text-align: right;\">\n",
              "      <th></th>\n",
              "      <th>acc_code</th>\n",
              "      <th>Incident_date</th>\n",
              "      <th>Incident_time</th>\n",
              "      <th>report_date</th>\n",
              "      <th>report_time</th>\n",
              "      <th>province_en</th>\n",
              "      <th>agency</th>\n",
              "      <th>route</th>\n",
              "      <th>vehicle_type</th>\n",
              "      <th>presumed_cause</th>\n",
              "      <th>accident_type</th>\n",
              "      <th>number_of_vehicles_involved</th>\n",
              "      <th>number_of_fatalities</th>\n",
              "      <th>number_of_injuries</th>\n",
              "      <th>weather_condition</th>\n",
              "      <th>latitude</th>\n",
              "      <th>longitude</th>\n",
              "      <th>road_description</th>\n",
              "      <th>slope_description</th>\n",
              "    </tr>\n",
              "  </thead>\n",
              "  <tbody>\n",
              "    <tr>\n",
              "      <th>0</th>\n",
              "      <td>571905</td>\n",
              "      <td>2019-01-01</td>\n",
              "      <td>00:00:00</td>\n",
              "      <td>2019-01-02</td>\n",
              "      <td>06:11:00</td>\n",
              "      <td>Loburi</td>\n",
              "      <td>department of rural roads</td>\n",
              "      <td>à¹à¸¢à¸à¸à¸²à¸à¸«à¸¥à¸§à¸à¸«à¸¡à¸²à¸¢à¹à...</td>\n",
              "      <td>motorcycle</td>\n",
              "      <td>driving under the influence of alcohol</td>\n",
              "      <td>other</td>\n",
              "      <td>1</td>\n",
              "      <td>0</td>\n",
              "      <td>2</td>\n",
              "      <td>clear</td>\n",
              "      <td>14.959105</td>\n",
              "      <td>100.873463</td>\n",
              "      <td>straight road</td>\n",
              "      <td>no slope</td>\n",
              "    </tr>\n",
              "    <tr>\n",
              "      <th>1</th>\n",
              "      <td>3790870</td>\n",
              "      <td>2019-01-01</td>\n",
              "      <td>00:03:00</td>\n",
              "      <td>2020-02-20</td>\n",
              "      <td>13:48:00</td>\n",
              "      <td>Ubon Ratchathani</td>\n",
              "      <td>department of highways</td>\n",
              "      <td>à¹à¸à¸à¸­à¸¸à¸à¸¡ - à¸­à¸¸à¸à¸¥à¸£à¸²à¸à...</td>\n",
              "      <td>private/passenger car</td>\n",
              "      <td>speeding</td>\n",
              "      <td>rollover/fallen on straight road</td>\n",
              "      <td>1</td>\n",
              "      <td>0</td>\n",
              "      <td>2</td>\n",
              "      <td>clear</td>\n",
              "      <td>15.210738</td>\n",
              "      <td>104.862689</td>\n",
              "      <td>straight road</td>\n",
              "      <td>no slope</td>\n",
              "    </tr>\n",
              "    <tr>\n",
              "      <th>2</th>\n",
              "      <td>599075</td>\n",
              "      <td>2019-01-01</td>\n",
              "      <td>00:05:00</td>\n",
              "      <td>2019-01-01</td>\n",
              "      <td>10:35:00</td>\n",
              "      <td>Prachuap Khiri Khan</td>\n",
              "      <td>department of highways</td>\n",
              "      <td>à¸à¸£à¸²à¸à¸à¸¸à¸£à¸µ - à¸à¸²à¸à¸à¹à¸³à...</td>\n",
              "      <td>motorcycle</td>\n",
              "      <td>speeding</td>\n",
              "      <td>head-on collision (not overtaking)</td>\n",
              "      <td>2</td>\n",
              "      <td>1</td>\n",
              "      <td>0</td>\n",
              "      <td>clear</td>\n",
              "      <td>12.374259</td>\n",
              "      <td>99.907949</td>\n",
              "      <td>wide curve</td>\n",
              "      <td>slope area</td>\n",
              "    </tr>\n",
              "    <tr>\n",
              "      <th>3</th>\n",
              "      <td>571924</td>\n",
              "      <td>2019-01-01</td>\n",
              "      <td>00:20:00</td>\n",
              "      <td>2019-01-02</td>\n",
              "      <td>05:12:00</td>\n",
              "      <td>Chiang Mai</td>\n",
              "      <td>department of rural roads</td>\n",
              "      <td>à¹à¸à¸·à¹à¸­à¸¡à¸à¸²à¸à¸«à¸¥à¸§à¸à¸«à¸¡à...</td>\n",
              "      <td>motorcycle</td>\n",
              "      <td>driving under the influence of alcohol</td>\n",
              "      <td>other</td>\n",
              "      <td>1</td>\n",
              "      <td>0</td>\n",
              "      <td>1</td>\n",
              "      <td>clear</td>\n",
              "      <td>18.601721</td>\n",
              "      <td>98.804204</td>\n",
              "      <td>straight road</td>\n",
              "      <td>no slope</td>\n",
              "    </tr>\n",
              "    <tr>\n",
              "      <th>4</th>\n",
              "      <td>599523</td>\n",
              "      <td>2019-01-01</td>\n",
              "      <td>00:25:00</td>\n",
              "      <td>2019-01-04</td>\n",
              "      <td>09:42:00</td>\n",
              "      <td>Nakhon Sawan</td>\n",
              "      <td>department of highways</td>\n",
              "      <td>à¹à¸à¸¢à¹à¸à¸¢ - à¸¨à¸£à¸µà¸¡à¸à¸à¸¥</td>\n",
              "      <td>private/passenger car</td>\n",
              "      <td>cutting in closely by people/vehicles/animals</td>\n",
              "      <td>rollover/fallen on straight road</td>\n",
              "      <td>1</td>\n",
              "      <td>0</td>\n",
              "      <td>0</td>\n",
              "      <td>clear</td>\n",
              "      <td>15.866389</td>\n",
              "      <td>100.590010</td>\n",
              "      <td>straight road</td>\n",
              "      <td>no slope</td>\n",
              "    </tr>\n",
              "  </tbody>\n",
              "</table>\n",
              "</div>\n",
              "    <div class=\"colab-df-buttons\">\n",
              "\n",
              "  <div class=\"colab-df-container\">\n",
              "    <button class=\"colab-df-convert\" onclick=\"convertToInteractive('df-c8a49607-1340-440d-8e88-a678928d2c35')\"\n",
              "            title=\"Convert this dataframe to an interactive table.\"\n",
              "            style=\"display:none;\">\n",
              "\n",
              "  <svg xmlns=\"http://www.w3.org/2000/svg\" height=\"24px\" viewBox=\"0 -960 960 960\">\n",
              "    <path d=\"M120-120v-720h720v720H120Zm60-500h600v-160H180v160Zm220 220h160v-160H400v160Zm0 220h160v-160H400v160ZM180-400h160v-160H180v160Zm440 0h160v-160H620v160ZM180-180h160v-160H180v160Zm440 0h160v-160H620v160Z\"/>\n",
              "  </svg>\n",
              "    </button>\n",
              "\n",
              "  <style>\n",
              "    .colab-df-container {\n",
              "      display:flex;\n",
              "      gap: 12px;\n",
              "    }\n",
              "\n",
              "    .colab-df-convert {\n",
              "      background-color: #E8F0FE;\n",
              "      border: none;\n",
              "      border-radius: 50%;\n",
              "      cursor: pointer;\n",
              "      display: none;\n",
              "      fill: #1967D2;\n",
              "      height: 32px;\n",
              "      padding: 0 0 0 0;\n",
              "      width: 32px;\n",
              "    }\n",
              "\n",
              "    .colab-df-convert:hover {\n",
              "      background-color: #E2EBFA;\n",
              "      box-shadow: 0px 1px 2px rgba(60, 64, 67, 0.3), 0px 1px 3px 1px rgba(60, 64, 67, 0.15);\n",
              "      fill: #174EA6;\n",
              "    }\n",
              "\n",
              "    .colab-df-buttons div {\n",
              "      margin-bottom: 4px;\n",
              "    }\n",
              "\n",
              "    [theme=dark] .colab-df-convert {\n",
              "      background-color: #3B4455;\n",
              "      fill: #D2E3FC;\n",
              "    }\n",
              "\n",
              "    [theme=dark] .colab-df-convert:hover {\n",
              "      background-color: #434B5C;\n",
              "      box-shadow: 0px 1px 3px 1px rgba(0, 0, 0, 0.15);\n",
              "      filter: drop-shadow(0px 1px 2px rgba(0, 0, 0, 0.3));\n",
              "      fill: #FFFFFF;\n",
              "    }\n",
              "  </style>\n",
              "\n",
              "    <script>\n",
              "      const buttonEl =\n",
              "        document.querySelector('#df-c8a49607-1340-440d-8e88-a678928d2c35 button.colab-df-convert');\n",
              "      buttonEl.style.display =\n",
              "        google.colab.kernel.accessAllowed ? 'block' : 'none';\n",
              "\n",
              "      async function convertToInteractive(key) {\n",
              "        const element = document.querySelector('#df-c8a49607-1340-440d-8e88-a678928d2c35');\n",
              "        const dataTable =\n",
              "          await google.colab.kernel.invokeFunction('convertToInteractive',\n",
              "                                                    [key], {});\n",
              "        if (!dataTable) return;\n",
              "\n",
              "        const docLinkHtml = 'Like what you see? Visit the ' +\n",
              "          '<a target=\"_blank\" href=https://colab.research.google.com/notebooks/data_table.ipynb>data table notebook</a>'\n",
              "          + ' to learn more about interactive tables.';\n",
              "        element.innerHTML = '';\n",
              "        dataTable['output_type'] = 'display_data';\n",
              "        await google.colab.output.renderOutput(dataTable, element);\n",
              "        const docLink = document.createElement('div');\n",
              "        docLink.innerHTML = docLinkHtml;\n",
              "        element.appendChild(docLink);\n",
              "      }\n",
              "    </script>\n",
              "  </div>\n",
              "\n",
              "\n",
              "<div id=\"df-e03dc8f5-0966-4425-bfc9-0f75e0b6f073\">\n",
              "  <button class=\"colab-df-quickchart\" onclick=\"quickchart('df-e03dc8f5-0966-4425-bfc9-0f75e0b6f073')\"\n",
              "            title=\"Suggest charts.\"\n",
              "            style=\"display:none;\">\n",
              "\n",
              "<svg xmlns=\"http://www.w3.org/2000/svg\" height=\"24px\"viewBox=\"0 0 24 24\"\n",
              "     width=\"24px\">\n",
              "    <g>\n",
              "        <path d=\"M19 3H5c-1.1 0-2 .9-2 2v14c0 1.1.9 2 2 2h14c1.1 0 2-.9 2-2V5c0-1.1-.9-2-2-2zM9 17H7v-7h2v7zm4 0h-2V7h2v10zm4 0h-2v-4h2v4z\"/>\n",
              "    </g>\n",
              "</svg>\n",
              "  </button>\n",
              "\n",
              "<style>\n",
              "  .colab-df-quickchart {\n",
              "      --bg-color: #E8F0FE;\n",
              "      --fill-color: #1967D2;\n",
              "      --hover-bg-color: #E2EBFA;\n",
              "      --hover-fill-color: #174EA6;\n",
              "      --disabled-fill-color: #AAA;\n",
              "      --disabled-bg-color: #DDD;\n",
              "  }\n",
              "\n",
              "  [theme=dark] .colab-df-quickchart {\n",
              "      --bg-color: #3B4455;\n",
              "      --fill-color: #D2E3FC;\n",
              "      --hover-bg-color: #434B5C;\n",
              "      --hover-fill-color: #FFFFFF;\n",
              "      --disabled-bg-color: #3B4455;\n",
              "      --disabled-fill-color: #666;\n",
              "  }\n",
              "\n",
              "  .colab-df-quickchart {\n",
              "    background-color: var(--bg-color);\n",
              "    border: none;\n",
              "    border-radius: 50%;\n",
              "    cursor: pointer;\n",
              "    display: none;\n",
              "    fill: var(--fill-color);\n",
              "    height: 32px;\n",
              "    padding: 0;\n",
              "    width: 32px;\n",
              "  }\n",
              "\n",
              "  .colab-df-quickchart:hover {\n",
              "    background-color: var(--hover-bg-color);\n",
              "    box-shadow: 0 1px 2px rgba(60, 64, 67, 0.3), 0 1px 3px 1px rgba(60, 64, 67, 0.15);\n",
              "    fill: var(--button-hover-fill-color);\n",
              "  }\n",
              "\n",
              "  .colab-df-quickchart-complete:disabled,\n",
              "  .colab-df-quickchart-complete:disabled:hover {\n",
              "    background-color: var(--disabled-bg-color);\n",
              "    fill: var(--disabled-fill-color);\n",
              "    box-shadow: none;\n",
              "  }\n",
              "\n",
              "  .colab-df-spinner {\n",
              "    border: 2px solid var(--fill-color);\n",
              "    border-color: transparent;\n",
              "    border-bottom-color: var(--fill-color);\n",
              "    animation:\n",
              "      spin 1s steps(1) infinite;\n",
              "  }\n",
              "\n",
              "  @keyframes spin {\n",
              "    0% {\n",
              "      border-color: transparent;\n",
              "      border-bottom-color: var(--fill-color);\n",
              "      border-left-color: var(--fill-color);\n",
              "    }\n",
              "    20% {\n",
              "      border-color: transparent;\n",
              "      border-left-color: var(--fill-color);\n",
              "      border-top-color: var(--fill-color);\n",
              "    }\n",
              "    30% {\n",
              "      border-color: transparent;\n",
              "      border-left-color: var(--fill-color);\n",
              "      border-top-color: var(--fill-color);\n",
              "      border-right-color: var(--fill-color);\n",
              "    }\n",
              "    40% {\n",
              "      border-color: transparent;\n",
              "      border-right-color: var(--fill-color);\n",
              "      border-top-color: var(--fill-color);\n",
              "    }\n",
              "    60% {\n",
              "      border-color: transparent;\n",
              "      border-right-color: var(--fill-color);\n",
              "    }\n",
              "    80% {\n",
              "      border-color: transparent;\n",
              "      border-right-color: var(--fill-color);\n",
              "      border-bottom-color: var(--fill-color);\n",
              "    }\n",
              "    90% {\n",
              "      border-color: transparent;\n",
              "      border-bottom-color: var(--fill-color);\n",
              "    }\n",
              "  }\n",
              "</style>\n",
              "\n",
              "  <script>\n",
              "    async function quickchart(key) {\n",
              "      const quickchartButtonEl =\n",
              "        document.querySelector('#' + key + ' button');\n",
              "      quickchartButtonEl.disabled = true;  // To prevent multiple clicks.\n",
              "      quickchartButtonEl.classList.add('colab-df-spinner');\n",
              "      try {\n",
              "        const charts = await google.colab.kernel.invokeFunction(\n",
              "            'suggestCharts', [key], {});\n",
              "      } catch (error) {\n",
              "        console.error('Error during call to suggestCharts:', error);\n",
              "      }\n",
              "      quickchartButtonEl.classList.remove('colab-df-spinner');\n",
              "      quickchartButtonEl.classList.add('colab-df-quickchart-complete');\n",
              "    }\n",
              "    (() => {\n",
              "      let quickchartButtonEl =\n",
              "        document.querySelector('#df-e03dc8f5-0966-4425-bfc9-0f75e0b6f073 button');\n",
              "      quickchartButtonEl.style.display =\n",
              "        google.colab.kernel.accessAllowed ? 'block' : 'none';\n",
              "    })();\n",
              "  </script>\n",
              "</div>\n",
              "    </div>\n",
              "  </div>\n"
            ]
          },
          "metadata": {},
          "execution_count": 326
        }
      ]
    },
    {
      "cell_type": "markdown",
      "source": [
        "### **Agency Column**"
      ],
      "metadata": {
        "id": "gyAZkQS9_Z1i"
      }
    },
    {
      "cell_type": "code",
      "source": [
        "## Getting the categories of the column\n",
        "data['agency'].unique()"
      ],
      "metadata": {
        "colab": {
          "base_uri": "https://localhost:8080/"
        },
        "id": "CWbAHCVG_l2h",
        "outputId": "7a6af755-e684-4f01-e833-262af01c954d"
      },
      "execution_count": null,
      "outputs": [
        {
          "output_type": "execute_result",
          "data": {
            "text/plain": [
              "array(['department of rural roads', 'department of highways',\n",
              "       'expressway authority of thailand'], dtype=object)"
            ]
          },
          "metadata": {},
          "execution_count": 327
        }
      ]
    },
    {
      "cell_type": "markdown",
      "source": [
        "We have three government agency involved :\n",
        "\n",
        "*   department of rural roads  \n",
        "*   department of highways\n",
        "*   expressway authority of thailand\n",
        "\n",
        "\n"
      ],
      "metadata": {
        "id": "4WNrDDoi_6C1"
      }
    },
    {
      "cell_type": "markdown",
      "source": [
        "### **Route Column**"
      ],
      "metadata": {
        "id": "RLgmMM68AmXn"
      }
    },
    {
      "cell_type": "code",
      "source": [
        "data.route.head()"
      ],
      "metadata": {
        "colab": {
          "base_uri": "https://localhost:8080/"
        },
        "id": "o6IA1Tm_AxTR",
        "outputId": "b8467f94-6f9b-4a18-bc35-4e9874affa96"
      },
      "execution_count": null,
      "outputs": [
        {
          "output_type": "execute_result",
          "data": {
            "text/plain": [
              "0    à¹à¸¢à¸à¸à¸²à¸à¸«à¸¥à¸§à¸à¸«à¸¡à¸²à¸¢à¹à...\n",
              "1    à¹à¸à¸à¸­à¸¸à¸à¸¡ - à¸­à¸¸à¸à¸¥à¸£à¸²à¸à...\n",
              "2    à¸à¸£à¸²à¸à¸à¸¸à¸£à¸µ - à¸à¸²à¸à¸à¹à¸³à...\n",
              "3    à¹à¸à¸·à¹à¸­à¸¡à¸à¸²à¸à¸«à¸¥à¸§à¸à¸«à¸¡à...\n",
              "4           à¹à¸à¸¢à¹à¸à¸¢ - à¸¨à¸£à¸µà¸¡à¸à¸à¸¥\n",
              "Name: route, dtype: object"
            ]
          },
          "metadata": {},
          "execution_count": 329
        }
      ]
    },
    {
      "cell_type": "markdown",
      "source": [
        "Also the texts in this column were not well represented so i drop/del the column"
      ],
      "metadata": {
        "id": "5r4tfkiRA2qW"
      }
    },
    {
      "cell_type": "code",
      "source": [
        "data.drop('route', axis=1, inplace=True)"
      ],
      "metadata": {
        "id": "dAW0I2P9A-Zi"
      },
      "execution_count": null,
      "outputs": []
    },
    {
      "cell_type": "code",
      "source": [
        "data.head()"
      ],
      "metadata": {
        "colab": {
          "base_uri": "https://localhost:8080/",
          "height": 399
        },
        "id": "jHpEJvenBFHw",
        "outputId": "7d9192a3-0793-40e9-b27d-8d1614316383"
      },
      "execution_count": null,
      "outputs": [
        {
          "output_type": "execute_result",
          "data": {
            "text/plain": [
              "   acc_code Incident_date Incident_time report_date report_time  \\\n",
              "0    571905    2019-01-01      00:00:00  2019-01-02    06:11:00   \n",
              "1   3790870    2019-01-01      00:03:00  2020-02-20    13:48:00   \n",
              "2    599075    2019-01-01      00:05:00  2019-01-01    10:35:00   \n",
              "3    571924    2019-01-01      00:20:00  2019-01-02    05:12:00   \n",
              "4    599523    2019-01-01      00:25:00  2019-01-04    09:42:00   \n",
              "\n",
              "           province_en                     agency           vehicle_type  \\\n",
              "0               Loburi  department of rural roads             motorcycle   \n",
              "1     Ubon Ratchathani     department of highways  private/passenger car   \n",
              "2  Prachuap Khiri Khan     department of highways             motorcycle   \n",
              "3           Chiang Mai  department of rural roads             motorcycle   \n",
              "4         Nakhon Sawan     department of highways  private/passenger car   \n",
              "\n",
              "                                  presumed_cause  \\\n",
              "0         driving under the influence of alcohol   \n",
              "1                                       speeding   \n",
              "2                                       speeding   \n",
              "3         driving under the influence of alcohol   \n",
              "4  cutting in closely by people/vehicles/animals   \n",
              "\n",
              "                        accident_type  number_of_vehicles_involved  \\\n",
              "0                               other                            1   \n",
              "1    rollover/fallen on straight road                            1   \n",
              "2  head-on collision (not overtaking)                            2   \n",
              "3                               other                            1   \n",
              "4    rollover/fallen on straight road                            1   \n",
              "\n",
              "   number_of_fatalities  number_of_injuries weather_condition   latitude  \\\n",
              "0                     0                   2             clear  14.959105   \n",
              "1                     0                   2             clear  15.210738   \n",
              "2                     1                   0             clear  12.374259   \n",
              "3                     0                   1             clear  18.601721   \n",
              "4                     0                   0             clear  15.866389   \n",
              "\n",
              "    longitude road_description slope_description  \n",
              "0  100.873463    straight road          no slope  \n",
              "1  104.862689    straight road          no slope  \n",
              "2   99.907949       wide curve        slope area  \n",
              "3   98.804204    straight road          no slope  \n",
              "4  100.590010    straight road          no slope  "
            ],
            "text/html": [
              "\n",
              "  <div id=\"df-b0a05c1f-c649-4767-9bf9-2bcb720ef963\" class=\"colab-df-container\">\n",
              "    <div>\n",
              "<style scoped>\n",
              "    .dataframe tbody tr th:only-of-type {\n",
              "        vertical-align: middle;\n",
              "    }\n",
              "\n",
              "    .dataframe tbody tr th {\n",
              "        vertical-align: top;\n",
              "    }\n",
              "\n",
              "    .dataframe thead th {\n",
              "        text-align: right;\n",
              "    }\n",
              "</style>\n",
              "<table border=\"1\" class=\"dataframe\">\n",
              "  <thead>\n",
              "    <tr style=\"text-align: right;\">\n",
              "      <th></th>\n",
              "      <th>acc_code</th>\n",
              "      <th>Incident_date</th>\n",
              "      <th>Incident_time</th>\n",
              "      <th>report_date</th>\n",
              "      <th>report_time</th>\n",
              "      <th>province_en</th>\n",
              "      <th>agency</th>\n",
              "      <th>vehicle_type</th>\n",
              "      <th>presumed_cause</th>\n",
              "      <th>accident_type</th>\n",
              "      <th>number_of_vehicles_involved</th>\n",
              "      <th>number_of_fatalities</th>\n",
              "      <th>number_of_injuries</th>\n",
              "      <th>weather_condition</th>\n",
              "      <th>latitude</th>\n",
              "      <th>longitude</th>\n",
              "      <th>road_description</th>\n",
              "      <th>slope_description</th>\n",
              "    </tr>\n",
              "  </thead>\n",
              "  <tbody>\n",
              "    <tr>\n",
              "      <th>0</th>\n",
              "      <td>571905</td>\n",
              "      <td>2019-01-01</td>\n",
              "      <td>00:00:00</td>\n",
              "      <td>2019-01-02</td>\n",
              "      <td>06:11:00</td>\n",
              "      <td>Loburi</td>\n",
              "      <td>department of rural roads</td>\n",
              "      <td>motorcycle</td>\n",
              "      <td>driving under the influence of alcohol</td>\n",
              "      <td>other</td>\n",
              "      <td>1</td>\n",
              "      <td>0</td>\n",
              "      <td>2</td>\n",
              "      <td>clear</td>\n",
              "      <td>14.959105</td>\n",
              "      <td>100.873463</td>\n",
              "      <td>straight road</td>\n",
              "      <td>no slope</td>\n",
              "    </tr>\n",
              "    <tr>\n",
              "      <th>1</th>\n",
              "      <td>3790870</td>\n",
              "      <td>2019-01-01</td>\n",
              "      <td>00:03:00</td>\n",
              "      <td>2020-02-20</td>\n",
              "      <td>13:48:00</td>\n",
              "      <td>Ubon Ratchathani</td>\n",
              "      <td>department of highways</td>\n",
              "      <td>private/passenger car</td>\n",
              "      <td>speeding</td>\n",
              "      <td>rollover/fallen on straight road</td>\n",
              "      <td>1</td>\n",
              "      <td>0</td>\n",
              "      <td>2</td>\n",
              "      <td>clear</td>\n",
              "      <td>15.210738</td>\n",
              "      <td>104.862689</td>\n",
              "      <td>straight road</td>\n",
              "      <td>no slope</td>\n",
              "    </tr>\n",
              "    <tr>\n",
              "      <th>2</th>\n",
              "      <td>599075</td>\n",
              "      <td>2019-01-01</td>\n",
              "      <td>00:05:00</td>\n",
              "      <td>2019-01-01</td>\n",
              "      <td>10:35:00</td>\n",
              "      <td>Prachuap Khiri Khan</td>\n",
              "      <td>department of highways</td>\n",
              "      <td>motorcycle</td>\n",
              "      <td>speeding</td>\n",
              "      <td>head-on collision (not overtaking)</td>\n",
              "      <td>2</td>\n",
              "      <td>1</td>\n",
              "      <td>0</td>\n",
              "      <td>clear</td>\n",
              "      <td>12.374259</td>\n",
              "      <td>99.907949</td>\n",
              "      <td>wide curve</td>\n",
              "      <td>slope area</td>\n",
              "    </tr>\n",
              "    <tr>\n",
              "      <th>3</th>\n",
              "      <td>571924</td>\n",
              "      <td>2019-01-01</td>\n",
              "      <td>00:20:00</td>\n",
              "      <td>2019-01-02</td>\n",
              "      <td>05:12:00</td>\n",
              "      <td>Chiang Mai</td>\n",
              "      <td>department of rural roads</td>\n",
              "      <td>motorcycle</td>\n",
              "      <td>driving under the influence of alcohol</td>\n",
              "      <td>other</td>\n",
              "      <td>1</td>\n",
              "      <td>0</td>\n",
              "      <td>1</td>\n",
              "      <td>clear</td>\n",
              "      <td>18.601721</td>\n",
              "      <td>98.804204</td>\n",
              "      <td>straight road</td>\n",
              "      <td>no slope</td>\n",
              "    </tr>\n",
              "    <tr>\n",
              "      <th>4</th>\n",
              "      <td>599523</td>\n",
              "      <td>2019-01-01</td>\n",
              "      <td>00:25:00</td>\n",
              "      <td>2019-01-04</td>\n",
              "      <td>09:42:00</td>\n",
              "      <td>Nakhon Sawan</td>\n",
              "      <td>department of highways</td>\n",
              "      <td>private/passenger car</td>\n",
              "      <td>cutting in closely by people/vehicles/animals</td>\n",
              "      <td>rollover/fallen on straight road</td>\n",
              "      <td>1</td>\n",
              "      <td>0</td>\n",
              "      <td>0</td>\n",
              "      <td>clear</td>\n",
              "      <td>15.866389</td>\n",
              "      <td>100.590010</td>\n",
              "      <td>straight road</td>\n",
              "      <td>no slope</td>\n",
              "    </tr>\n",
              "  </tbody>\n",
              "</table>\n",
              "</div>\n",
              "    <div class=\"colab-df-buttons\">\n",
              "\n",
              "  <div class=\"colab-df-container\">\n",
              "    <button class=\"colab-df-convert\" onclick=\"convertToInteractive('df-b0a05c1f-c649-4767-9bf9-2bcb720ef963')\"\n",
              "            title=\"Convert this dataframe to an interactive table.\"\n",
              "            style=\"display:none;\">\n",
              "\n",
              "  <svg xmlns=\"http://www.w3.org/2000/svg\" height=\"24px\" viewBox=\"0 -960 960 960\">\n",
              "    <path d=\"M120-120v-720h720v720H120Zm60-500h600v-160H180v160Zm220 220h160v-160H400v160Zm0 220h160v-160H400v160ZM180-400h160v-160H180v160Zm440 0h160v-160H620v160ZM180-180h160v-160H180v160Zm440 0h160v-160H620v160Z\"/>\n",
              "  </svg>\n",
              "    </button>\n",
              "\n",
              "  <style>\n",
              "    .colab-df-container {\n",
              "      display:flex;\n",
              "      gap: 12px;\n",
              "    }\n",
              "\n",
              "    .colab-df-convert {\n",
              "      background-color: #E8F0FE;\n",
              "      border: none;\n",
              "      border-radius: 50%;\n",
              "      cursor: pointer;\n",
              "      display: none;\n",
              "      fill: #1967D2;\n",
              "      height: 32px;\n",
              "      padding: 0 0 0 0;\n",
              "      width: 32px;\n",
              "    }\n",
              "\n",
              "    .colab-df-convert:hover {\n",
              "      background-color: #E2EBFA;\n",
              "      box-shadow: 0px 1px 2px rgba(60, 64, 67, 0.3), 0px 1px 3px 1px rgba(60, 64, 67, 0.15);\n",
              "      fill: #174EA6;\n",
              "    }\n",
              "\n",
              "    .colab-df-buttons div {\n",
              "      margin-bottom: 4px;\n",
              "    }\n",
              "\n",
              "    [theme=dark] .colab-df-convert {\n",
              "      background-color: #3B4455;\n",
              "      fill: #D2E3FC;\n",
              "    }\n",
              "\n",
              "    [theme=dark] .colab-df-convert:hover {\n",
              "      background-color: #434B5C;\n",
              "      box-shadow: 0px 1px 3px 1px rgba(0, 0, 0, 0.15);\n",
              "      filter: drop-shadow(0px 1px 2px rgba(0, 0, 0, 0.3));\n",
              "      fill: #FFFFFF;\n",
              "    }\n",
              "  </style>\n",
              "\n",
              "    <script>\n",
              "      const buttonEl =\n",
              "        document.querySelector('#df-b0a05c1f-c649-4767-9bf9-2bcb720ef963 button.colab-df-convert');\n",
              "      buttonEl.style.display =\n",
              "        google.colab.kernel.accessAllowed ? 'block' : 'none';\n",
              "\n",
              "      async function convertToInteractive(key) {\n",
              "        const element = document.querySelector('#df-b0a05c1f-c649-4767-9bf9-2bcb720ef963');\n",
              "        const dataTable =\n",
              "          await google.colab.kernel.invokeFunction('convertToInteractive',\n",
              "                                                    [key], {});\n",
              "        if (!dataTable) return;\n",
              "\n",
              "        const docLinkHtml = 'Like what you see? Visit the ' +\n",
              "          '<a target=\"_blank\" href=https://colab.research.google.com/notebooks/data_table.ipynb>data table notebook</a>'\n",
              "          + ' to learn more about interactive tables.';\n",
              "        element.innerHTML = '';\n",
              "        dataTable['output_type'] = 'display_data';\n",
              "        await google.colab.output.renderOutput(dataTable, element);\n",
              "        const docLink = document.createElement('div');\n",
              "        docLink.innerHTML = docLinkHtml;\n",
              "        element.appendChild(docLink);\n",
              "      }\n",
              "    </script>\n",
              "  </div>\n",
              "\n",
              "\n",
              "<div id=\"df-98b97065-d10b-4dea-8c0f-c0cf849bb3ef\">\n",
              "  <button class=\"colab-df-quickchart\" onclick=\"quickchart('df-98b97065-d10b-4dea-8c0f-c0cf849bb3ef')\"\n",
              "            title=\"Suggest charts.\"\n",
              "            style=\"display:none;\">\n",
              "\n",
              "<svg xmlns=\"http://www.w3.org/2000/svg\" height=\"24px\"viewBox=\"0 0 24 24\"\n",
              "     width=\"24px\">\n",
              "    <g>\n",
              "        <path d=\"M19 3H5c-1.1 0-2 .9-2 2v14c0 1.1.9 2 2 2h14c1.1 0 2-.9 2-2V5c0-1.1-.9-2-2-2zM9 17H7v-7h2v7zm4 0h-2V7h2v10zm4 0h-2v-4h2v4z\"/>\n",
              "    </g>\n",
              "</svg>\n",
              "  </button>\n",
              "\n",
              "<style>\n",
              "  .colab-df-quickchart {\n",
              "      --bg-color: #E8F0FE;\n",
              "      --fill-color: #1967D2;\n",
              "      --hover-bg-color: #E2EBFA;\n",
              "      --hover-fill-color: #174EA6;\n",
              "      --disabled-fill-color: #AAA;\n",
              "      --disabled-bg-color: #DDD;\n",
              "  }\n",
              "\n",
              "  [theme=dark] .colab-df-quickchart {\n",
              "      --bg-color: #3B4455;\n",
              "      --fill-color: #D2E3FC;\n",
              "      --hover-bg-color: #434B5C;\n",
              "      --hover-fill-color: #FFFFFF;\n",
              "      --disabled-bg-color: #3B4455;\n",
              "      --disabled-fill-color: #666;\n",
              "  }\n",
              "\n",
              "  .colab-df-quickchart {\n",
              "    background-color: var(--bg-color);\n",
              "    border: none;\n",
              "    border-radius: 50%;\n",
              "    cursor: pointer;\n",
              "    display: none;\n",
              "    fill: var(--fill-color);\n",
              "    height: 32px;\n",
              "    padding: 0;\n",
              "    width: 32px;\n",
              "  }\n",
              "\n",
              "  .colab-df-quickchart:hover {\n",
              "    background-color: var(--hover-bg-color);\n",
              "    box-shadow: 0 1px 2px rgba(60, 64, 67, 0.3), 0 1px 3px 1px rgba(60, 64, 67, 0.15);\n",
              "    fill: var(--button-hover-fill-color);\n",
              "  }\n",
              "\n",
              "  .colab-df-quickchart-complete:disabled,\n",
              "  .colab-df-quickchart-complete:disabled:hover {\n",
              "    background-color: var(--disabled-bg-color);\n",
              "    fill: var(--disabled-fill-color);\n",
              "    box-shadow: none;\n",
              "  }\n",
              "\n",
              "  .colab-df-spinner {\n",
              "    border: 2px solid var(--fill-color);\n",
              "    border-color: transparent;\n",
              "    border-bottom-color: var(--fill-color);\n",
              "    animation:\n",
              "      spin 1s steps(1) infinite;\n",
              "  }\n",
              "\n",
              "  @keyframes spin {\n",
              "    0% {\n",
              "      border-color: transparent;\n",
              "      border-bottom-color: var(--fill-color);\n",
              "      border-left-color: var(--fill-color);\n",
              "    }\n",
              "    20% {\n",
              "      border-color: transparent;\n",
              "      border-left-color: var(--fill-color);\n",
              "      border-top-color: var(--fill-color);\n",
              "    }\n",
              "    30% {\n",
              "      border-color: transparent;\n",
              "      border-left-color: var(--fill-color);\n",
              "      border-top-color: var(--fill-color);\n",
              "      border-right-color: var(--fill-color);\n",
              "    }\n",
              "    40% {\n",
              "      border-color: transparent;\n",
              "      border-right-color: var(--fill-color);\n",
              "      border-top-color: var(--fill-color);\n",
              "    }\n",
              "    60% {\n",
              "      border-color: transparent;\n",
              "      border-right-color: var(--fill-color);\n",
              "    }\n",
              "    80% {\n",
              "      border-color: transparent;\n",
              "      border-right-color: var(--fill-color);\n",
              "      border-bottom-color: var(--fill-color);\n",
              "    }\n",
              "    90% {\n",
              "      border-color: transparent;\n",
              "      border-bottom-color: var(--fill-color);\n",
              "    }\n",
              "  }\n",
              "</style>\n",
              "\n",
              "  <script>\n",
              "    async function quickchart(key) {\n",
              "      const quickchartButtonEl =\n",
              "        document.querySelector('#' + key + ' button');\n",
              "      quickchartButtonEl.disabled = true;  // To prevent multiple clicks.\n",
              "      quickchartButtonEl.classList.add('colab-df-spinner');\n",
              "      try {\n",
              "        const charts = await google.colab.kernel.invokeFunction(\n",
              "            'suggestCharts', [key], {});\n",
              "      } catch (error) {\n",
              "        console.error('Error during call to suggestCharts:', error);\n",
              "      }\n",
              "      quickchartButtonEl.classList.remove('colab-df-spinner');\n",
              "      quickchartButtonEl.classList.add('colab-df-quickchart-complete');\n",
              "    }\n",
              "    (() => {\n",
              "      let quickchartButtonEl =\n",
              "        document.querySelector('#df-98b97065-d10b-4dea-8c0f-c0cf849bb3ef button');\n",
              "      quickchartButtonEl.style.display =\n",
              "        google.colab.kernel.accessAllowed ? 'block' : 'none';\n",
              "    })();\n",
              "  </script>\n",
              "</div>\n",
              "    </div>\n",
              "  </div>\n"
            ]
          },
          "metadata": {},
          "execution_count": 331
        }
      ]
    },
    {
      "cell_type": "markdown",
      "source": [
        "### **Vehicle Type Column**"
      ],
      "metadata": {
        "id": "CwyiLDWnBKug"
      }
    },
    {
      "cell_type": "code",
      "source": [
        "data['vehicle_type'].head()"
      ],
      "metadata": {
        "colab": {
          "base_uri": "https://localhost:8080/"
        },
        "id": "W1SAIQTrBhJa",
        "outputId": "d1bb6b9d-8c49-4762-ba78-7c8f1db5bf4b"
      },
      "execution_count": null,
      "outputs": [
        {
          "output_type": "execute_result",
          "data": {
            "text/plain": [
              "0               motorcycle\n",
              "1    private/passenger car\n",
              "2               motorcycle\n",
              "3               motorcycle\n",
              "4    private/passenger car\n",
              "Name: vehicle_type, dtype: object"
            ]
          },
          "metadata": {},
          "execution_count": 334
        }
      ]
    },
    {
      "cell_type": "code",
      "source": [
        "## checking if there is no null value\n",
        "data['vehicle_type'].isnull().sum()"
      ],
      "metadata": {
        "colab": {
          "base_uri": "https://localhost:8080/"
        },
        "id": "vQ1kkY18BlwK",
        "outputId": "32cf3855-a680-48ba-e0d7-9aed04b3ca45"
      },
      "execution_count": null,
      "outputs": [
        {
          "output_type": "execute_result",
          "data": {
            "text/plain": [
              "0"
            ]
          },
          "metadata": {},
          "execution_count": 337
        }
      ]
    },
    {
      "cell_type": "markdown",
      "source": [
        "we have no null values"
      ],
      "metadata": {
        "id": "vokIdomVBwft"
      }
    },
    {
      "cell_type": "markdown",
      "source": [
        "### **Presumed Cause Column**"
      ],
      "metadata": {
        "id": "SbSy2kKVB3K9"
      }
    },
    {
      "cell_type": "code",
      "source": [
        "data['presumed_cause'].head()"
      ],
      "metadata": {
        "colab": {
          "base_uri": "https://localhost:8080/"
        },
        "id": "SZArPlIxCB88",
        "outputId": "5670a6d3-db17-409e-d6d3-638a58f809a1"
      },
      "execution_count": null,
      "outputs": [
        {
          "output_type": "execute_result",
          "data": {
            "text/plain": [
              "0           driving under the influence of alcohol\n",
              "1                                         speeding\n",
              "2                                         speeding\n",
              "3           driving under the influence of alcohol\n",
              "4    cutting in closely by people/vehicles/animals\n",
              "Name: presumed_cause, dtype: object"
            ]
          },
          "metadata": {},
          "execution_count": 339
        }
      ]
    },
    {
      "cell_type": "markdown",
      "source": [
        "## **DATA ANALYSIS AND EXPLORATION**\n",
        "\n"
      ],
      "metadata": {
        "id": "TVvQUhPS7s73"
      }
    },
    {
      "cell_type": "code",
      "source": [],
      "metadata": {
        "id": "_VUO6ab699oo"
      },
      "execution_count": null,
      "outputs": []
    },
    {
      "cell_type": "code",
      "source": [],
      "metadata": {
        "id": "Hnl_lYok9-7O"
      },
      "execution_count": null,
      "outputs": []
    },
    {
      "cell_type": "code",
      "source": [],
      "metadata": {
        "id": "-ch934jv9_78"
      },
      "execution_count": null,
      "outputs": []
    },
    {
      "cell_type": "code",
      "source": [],
      "metadata": {
        "id": "HcsPLQto-ASz"
      },
      "execution_count": null,
      "outputs": []
    },
    {
      "cell_type": "code",
      "source": [],
      "metadata": {
        "id": "FhyylrPM-AdD"
      },
      "execution_count": null,
      "outputs": []
    },
    {
      "cell_type": "code",
      "source": [],
      "metadata": {
        "id": "5z0aCAtc-AmB"
      },
      "execution_count": null,
      "outputs": []
    },
    {
      "cell_type": "code",
      "source": [],
      "metadata": {
        "id": "3gswdV7o-AtA"
      },
      "execution_count": null,
      "outputs": []
    },
    {
      "cell_type": "code",
      "source": [],
      "metadata": {
        "id": "5ZbKlThm-A0R"
      },
      "execution_count": null,
      "outputs": []
    },
    {
      "cell_type": "markdown",
      "source": [
        "## **DATA VISUALIZATION**"
      ],
      "metadata": {
        "id": "3CR001YF-64b"
      }
    }
  ]
}